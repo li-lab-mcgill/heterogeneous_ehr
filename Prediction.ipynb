{
 "cells": [
  {
   "cell_type": "markdown",
   "metadata": {},
   "source": [
    "# Using notes' topic mixtures as features to develop models for predicting length of MV"
   ]
  },
  {
   "cell_type": "code",
   "execution_count": 111,
   "metadata": {},
   "outputs": [],
   "source": [
    "import pandas as pd\n",
    "import numpy as np"
   ]
  },
  {
   "cell_type": "markdown",
   "metadata": {},
   "source": [
    "## Read data"
   ]
  },
  {
   "cell_type": "code",
   "execution_count": 112,
   "metadata": {},
   "outputs": [],
   "source": [
    "train_mixture_filename = r'/home/mcb/li_lab/zwen8/data/mimic/d2_phy_nurse_48/infer/train_topics.csv'\n",
    "train_duration_filename = r'/home/mcb/li_lab/zwen8/data/mimic/d2_phy_nurse_48/train_vent.txt'\n",
    "valid_mixture_filename = r'/home/mcb/li_lab/zwen8/data/mimic/d2_phy_nurse_48/infer/validation_topics.csv'\n",
    "valid_duration_filename = r'/home/mcb/li_lab/zwen8/data/mimic/d2_phy_nurse_48/validation_vent.txt'\n",
    "test_mixture_filename = r'/home/mcb/li_lab/zwen8/data/mimic/d2_phy_nurse_48/infer/test_topics.csv'\n",
    "test_duration_filename = r'/home/mcb/li_lab/zwen8/data/mimic/d2_phy_nurse_48/test_vent.txt'"
   ]
  },
  {
   "cell_type": "code",
   "execution_count": 113,
   "metadata": {},
   "outputs": [],
   "source": [
    "train_mixtures = pd.read_csv(train_mixture_filename, header=None)\n",
    "train_duration = pd.read_csv(train_duration_filename, header=None, sep=' ')\n",
    "train_duration = train_duration[1].astype(np.float64)\n",
    "valid_mixtures = pd.read_csv(valid_mixture_filename, header=None)\n",
    "valid_duration = pd.read_csv(valid_duration_filename, header=None, sep=' ')\n",
    "valid_duration = valid_duration[1].astype(np.float64)\n",
    "test_mixtures = pd.read_csv(test_mixture_filename, header=None)\n",
    "test_duration = pd.read_csv(test_duration_filename, header=None, sep=' ')\n",
    "test_duration = test_duration[1].astype(np.float64)"
   ]
  },
  {
   "cell_type": "code",
   "execution_count": 114,
   "metadata": {},
   "outputs": [
    {
     "data": {
      "text/plain": [
       "(5831, 50)"
      ]
     },
     "execution_count": 114,
     "metadata": {},
     "output_type": "execute_result"
    }
   ],
   "source": [
    "train_mixtures.shape"
   ]
  },
  {
   "cell_type": "code",
   "execution_count": 115,
   "metadata": {},
   "outputs": [
    {
     "data": {
      "text/plain": [
       "(5831,)"
      ]
     },
     "execution_count": 115,
     "metadata": {},
     "output_type": "execute_result"
    }
   ],
   "source": [
    "train_duration.shape"
   ]
  },
  {
   "cell_type": "markdown",
   "metadata": {},
   "source": [
    "## Convert to binarized duration"
   ]
  },
  {
   "cell_type": "code",
   "execution_count": 116,
   "metadata": {},
   "outputs": [],
   "source": [
    "bi_train_duration = (train_duration > 7 * 24).astype(int)\n",
    "bi_valid_duration = (valid_duration > 7 * 24).astype(int)\n",
    "bi_test_duration = (test_duration > 7 * 24).astype(int)"
   ]
  },
  {
   "cell_type": "markdown",
   "metadata": {},
   "source": [
    "## Logistic regression"
   ]
  },
  {
   "cell_type": "code",
   "execution_count": 278,
   "metadata": {},
   "outputs": [],
   "source": [
    "from sklearn.linear_model import LogisticRegression\n",
    "from sklearn.metrics import roc_auc_score, classification_report, roc_curve"
   ]
  },
  {
   "cell_type": "code",
   "execution_count": 118,
   "metadata": {},
   "outputs": [],
   "source": [
    "lr = LogisticRegression(solver='liblinear',  max_iter=200)"
   ]
  },
  {
   "cell_type": "code",
   "execution_count": 119,
   "metadata": {},
   "outputs": [
    {
     "data": {
      "text/plain": [
       "LogisticRegression(C=1.0, class_weight=None, dual=False, fit_intercept=True,\n",
       "                   intercept_scaling=1, l1_ratio=None, max_iter=200,\n",
       "                   multi_class='warn', n_jobs=None, penalty='l2',\n",
       "                   random_state=None, solver='liblinear', tol=0.0001, verbose=0,\n",
       "                   warm_start=False)"
      ]
     },
     "execution_count": 119,
     "metadata": {},
     "output_type": "execute_result"
    }
   ],
   "source": [
    "lr.fit(train_mixtures, bi_train_duration)"
   ]
  },
  {
   "cell_type": "code",
   "execution_count": 120,
   "metadata": {},
   "outputs": [],
   "source": [
    "valid_predictions_lr = lr.predict(valid_mixtures)"
   ]
  },
  {
   "cell_type": "code",
   "execution_count": 121,
   "metadata": {},
   "outputs": [
    {
     "name": "stdout",
     "output_type": "stream",
     "text": [
      "0.6956092916984006\n",
      "              precision    recall  f1-score   support\n",
      "\n",
      "           0       0.70      0.86      0.77       404\n",
      "           1       0.75      0.53      0.62       325\n",
      "\n",
      "    accuracy                           0.71       729\n",
      "   macro avg       0.72      0.70      0.70       729\n",
      "weighted avg       0.72      0.71      0.70       729\n",
      "\n"
     ]
    }
   ],
   "source": [
    "print(roc_auc_score(bi_valid_duration, valid_predictions_lr))\n",
    "print(classification_report(bi_valid_duration, valid_predictions_lr))"
   ]
  },
  {
   "cell_type": "markdown",
   "metadata": {},
   "source": [
    "## Naive Bayes"
   ]
  },
  {
   "cell_type": "code",
   "execution_count": 122,
   "metadata": {},
   "outputs": [],
   "source": [
    "from sklearn.naive_bayes import GaussianNB"
   ]
  },
  {
   "cell_type": "code",
   "execution_count": 123,
   "metadata": {},
   "outputs": [],
   "source": [
    "GNB = GaussianNB()"
   ]
  },
  {
   "cell_type": "code",
   "execution_count": 124,
   "metadata": {},
   "outputs": [
    {
     "data": {
      "text/plain": [
       "GaussianNB(priors=None, var_smoothing=1e-09)"
      ]
     },
     "execution_count": 124,
     "metadata": {},
     "output_type": "execute_result"
    }
   ],
   "source": [
    "GNB.fit(train_mixtures, bi_train_duration)"
   ]
  },
  {
   "cell_type": "code",
   "execution_count": 125,
   "metadata": {},
   "outputs": [],
   "source": [
    "valid_predictions_GNB = GNB.predict(valid_mixtures)"
   ]
  },
  {
   "cell_type": "code",
   "execution_count": 126,
   "metadata": {},
   "outputs": [
    {
     "name": "stdout",
     "output_type": "stream",
     "text": [
      "0.5877532368621479\n",
      "              precision    recall  f1-score   support\n",
      "\n",
      "           0       0.61      0.91      0.73       404\n",
      "           1       0.70      0.26      0.38       325\n",
      "\n",
      "    accuracy                           0.62       729\n",
      "   macro avg       0.66      0.59      0.56       729\n",
      "weighted avg       0.65      0.62      0.57       729\n",
      "\n"
     ]
    }
   ],
   "source": [
    "print(roc_auc_score(bi_valid_duration, valid_predictions_GNB))\n",
    "print(classification_report(bi_valid_duration, valid_predictions_GNB))"
   ]
  },
  {
   "cell_type": "markdown",
   "metadata": {},
   "source": [
    "## SVM"
   ]
  },
  {
   "cell_type": "markdown",
   "metadata": {},
   "source": [
    "### Linear SVM"
   ]
  },
  {
   "cell_type": "code",
   "execution_count": 127,
   "metadata": {},
   "outputs": [],
   "source": [
    "from sklearn.svm import LinearSVC"
   ]
  },
  {
   "cell_type": "code",
   "execution_count": 128,
   "metadata": {},
   "outputs": [],
   "source": [
    "lsvm = LinearSVC()"
   ]
  },
  {
   "cell_type": "code",
   "execution_count": 129,
   "metadata": {},
   "outputs": [
    {
     "name": "stderr",
     "output_type": "stream",
     "text": [
      "/home/mcb/li_lab/zwen8/miniconda3/lib/python3.7/site-packages/sklearn/svm/base.py:929: ConvergenceWarning: Liblinear failed to converge, increase the number of iterations.\n",
      "  \"the number of iterations.\", ConvergenceWarning)\n"
     ]
    },
    {
     "data": {
      "text/plain": [
       "LinearSVC(C=1.0, class_weight=None, dual=True, fit_intercept=True,\n",
       "          intercept_scaling=1, loss='squared_hinge', max_iter=1000,\n",
       "          multi_class='ovr', penalty='l2', random_state=None, tol=0.0001,\n",
       "          verbose=0)"
      ]
     },
     "execution_count": 129,
     "metadata": {},
     "output_type": "execute_result"
    }
   ],
   "source": [
    "lsvm.fit(train_mixtures, bi_train_duration)"
   ]
  },
  {
   "cell_type": "code",
   "execution_count": 130,
   "metadata": {},
   "outputs": [],
   "source": [
    "valid_predictions_lsvm = GNB.predict(valid_mixtures)"
   ]
  },
  {
   "cell_type": "code",
   "execution_count": 131,
   "metadata": {},
   "outputs": [
    {
     "name": "stdout",
     "output_type": "stream",
     "text": [
      "0.5877532368621479\n",
      "              precision    recall  f1-score   support\n",
      "\n",
      "           0       0.61      0.91      0.73       404\n",
      "           1       0.70      0.26      0.38       325\n",
      "\n",
      "    accuracy                           0.62       729\n",
      "   macro avg       0.66      0.59      0.56       729\n",
      "weighted avg       0.65      0.62      0.57       729\n",
      "\n"
     ]
    }
   ],
   "source": [
    "print(roc_auc_score(bi_valid_duration, valid_predictions_lsvm))\n",
    "print(classification_report(bi_valid_duration, valid_predictions_lsvm))"
   ]
  },
  {
   "cell_type": "markdown",
   "metadata": {},
   "source": [
    "### Non-linear SVM"
   ]
  },
  {
   "cell_type": "code",
   "execution_count": 132,
   "metadata": {},
   "outputs": [],
   "source": [
    "from sklearn.svm import SVC"
   ]
  },
  {
   "cell_type": "code",
   "execution_count": 133,
   "metadata": {},
   "outputs": [],
   "source": [
    "svm = SVC()"
   ]
  },
  {
   "cell_type": "code",
   "execution_count": 134,
   "metadata": {},
   "outputs": [
    {
     "name": "stderr",
     "output_type": "stream",
     "text": [
      "/home/mcb/li_lab/zwen8/miniconda3/lib/python3.7/site-packages/sklearn/svm/base.py:193: FutureWarning: The default value of gamma will change from 'auto' to 'scale' in version 0.22 to account better for unscaled features. Set gamma explicitly to 'auto' or 'scale' to avoid this warning.\n",
      "  \"avoid this warning.\", FutureWarning)\n"
     ]
    },
    {
     "data": {
      "text/plain": [
       "SVC(C=1.0, cache_size=200, class_weight=None, coef0=0.0,\n",
       "    decision_function_shape='ovr', degree=3, gamma='auto_deprecated',\n",
       "    kernel='rbf', max_iter=-1, probability=False, random_state=None,\n",
       "    shrinking=True, tol=0.001, verbose=False)"
      ]
     },
     "execution_count": 134,
     "metadata": {},
     "output_type": "execute_result"
    }
   ],
   "source": [
    "svm.fit(train_mixtures, bi_train_duration)"
   ]
  },
  {
   "cell_type": "code",
   "execution_count": 135,
   "metadata": {},
   "outputs": [],
   "source": [
    "valid_predictions_svm = GNB.predict(valid_mixtures)"
   ]
  },
  {
   "cell_type": "code",
   "execution_count": 136,
   "metadata": {},
   "outputs": [
    {
     "name": "stdout",
     "output_type": "stream",
     "text": [
      "0.5877532368621479\n",
      "              precision    recall  f1-score   support\n",
      "\n",
      "           0       0.61      0.91      0.73       404\n",
      "           1       0.70      0.26      0.38       325\n",
      "\n",
      "    accuracy                           0.62       729\n",
      "   macro avg       0.66      0.59      0.56       729\n",
      "weighted avg       0.65      0.62      0.57       729\n",
      "\n"
     ]
    }
   ],
   "source": [
    "print(roc_auc_score(bi_valid_duration, valid_predictions_lsvm))\n",
    "print(classification_report(bi_valid_duration, valid_predictions_lsvm))"
   ]
  },
  {
   "cell_type": "markdown",
   "metadata": {},
   "source": [
    "## Do Lasso regression"
   ]
  },
  {
   "cell_type": "code",
   "execution_count": 137,
   "metadata": {},
   "outputs": [],
   "source": [
    "from sklearn.linear_model import Lasso\n",
    "from sklearn.metrics import mean_squared_error"
   ]
  },
  {
   "cell_type": "code",
   "execution_count": 138,
   "metadata": {},
   "outputs": [],
   "source": [
    "lasso = Lasso()"
   ]
  },
  {
   "cell_type": "code",
   "execution_count": 139,
   "metadata": {},
   "outputs": [
    {
     "data": {
      "text/plain": [
       "Lasso(alpha=1.0, copy_X=True, fit_intercept=True, max_iter=1000,\n",
       "      normalize=False, positive=False, precompute=False, random_state=None,\n",
       "      selection='cyclic', tol=0.0001, warm_start=False)"
      ]
     },
     "execution_count": 139,
     "metadata": {},
     "output_type": "execute_result"
    }
   ],
   "source": [
    "lasso.fit(train_mixtures, train_duration)"
   ]
  },
  {
   "cell_type": "code",
   "execution_count": 140,
   "metadata": {},
   "outputs": [],
   "source": [
    "valid_predictions_lasso = lasso.predict(valid_mixtures)"
   ]
  },
  {
   "cell_type": "code",
   "execution_count": 141,
   "metadata": {},
   "outputs": [
    {
     "name": "stdout",
     "output_type": "stream",
     "text": [
      "41810.96397345644\n"
     ]
    }
   ],
   "source": [
    "print(mean_squared_error(valid_duration, valid_predictions_lasso))"
   ]
  },
  {
   "cell_type": "code",
   "execution_count": 142,
   "metadata": {},
   "outputs": [
    {
     "data": {
      "text/plain": [
       "array([191.45907561, 198.95308671, 141.98132046, 154.46365004,\n",
       "       222.04591674])"
      ]
     },
     "execution_count": 142,
     "metadata": {},
     "output_type": "execute_result"
    }
   ],
   "source": [
    "valid_predictions_lasso[0:5]"
   ]
  },
  {
   "cell_type": "code",
   "execution_count": 143,
   "metadata": {},
   "outputs": [
    {
     "data": {
      "text/plain": [
       "0     68.016667\n",
       "1    113.550000\n",
       "2     80.450000\n",
       "3    281.000000\n",
       "4    161.000000\n",
       "Name: 1, dtype: float64"
      ]
     },
     "execution_count": 143,
     "metadata": {},
     "output_type": "execute_result"
    }
   ],
   "source": [
    "valid_duration.head()"
   ]
  },
  {
   "cell_type": "markdown",
   "metadata": {},
   "source": [
    "## Grid Search LR\n",
    "Logistic regression seems to be the best classifier. See how good it can be."
   ]
  },
  {
   "cell_type": "code",
   "execution_count": 199,
   "metadata": {},
   "outputs": [],
   "source": [
    "from sklearn.model_selection import GridSearchCV"
   ]
  },
  {
   "cell_type": "code",
   "execution_count": 200,
   "metadata": {},
   "outputs": [],
   "source": [
    "estimator = LogisticRegression(solver='liblinear')"
   ]
  },
  {
   "cell_type": "code",
   "execution_count": 201,
   "metadata": {},
   "outputs": [],
   "source": [
    "hyperparams = {\n",
    "    'C': np.arange(1.0, 1.6, step=0.01),\n",
    "    'max_iter': [100, 200, 300]\n",
    "              }"
   ]
  },
  {
   "cell_type": "code",
   "execution_count": 202,
   "metadata": {},
   "outputs": [],
   "source": [
    "searcher = GridSearchCV(estimator=estimator, n_jobs=12, param_grid=hyperparams, scoring='roc_auc', cv=5)"
   ]
  },
  {
   "cell_type": "code",
   "execution_count": 203,
   "metadata": {},
   "outputs": [
    {
     "data": {
      "text/plain": [
       "GridSearchCV(cv=5, error_score='raise-deprecating',\n",
       "             estimator=LogisticRegression(C=1.0, class_weight=None, dual=False,\n",
       "                                          fit_intercept=True,\n",
       "                                          intercept_scaling=1, l1_ratio=None,\n",
       "                                          max_iter=100, multi_class='warn',\n",
       "                                          n_jobs=None, penalty='l2',\n",
       "                                          random_state=None, solver='liblinear',\n",
       "                                          tol=0.0001, verbose=0,\n",
       "                                          warm_start=False),\n",
       "             iid='warn', n_jobs=12,\n",
       "             param_grid={'C': array([1.  , 1.0...\n",
       "       1.11, 1.12, 1.13, 1.14, 1.15, 1.16, 1.17, 1.18, 1.19, 1.2 , 1.21,\n",
       "       1.22, 1.23, 1.24, 1.25, 1.26, 1.27, 1.28, 1.29, 1.3 , 1.31, 1.32,\n",
       "       1.33, 1.34, 1.35, 1.36, 1.37, 1.38, 1.39, 1.4 , 1.41, 1.42, 1.43,\n",
       "       1.44, 1.45, 1.46, 1.47, 1.48, 1.49, 1.5 , 1.51, 1.52, 1.53, 1.54,\n",
       "       1.55, 1.56, 1.57, 1.58, 1.59, 1.6 ]),\n",
       "                         'max_iter': [100, 200, 300]},\n",
       "             pre_dispatch='2*n_jobs', refit=True, return_train_score=False,\n",
       "             scoring='roc_auc', verbose=0)"
      ]
     },
     "execution_count": 203,
     "metadata": {},
     "output_type": "execute_result"
    }
   ],
   "source": [
    "searcher.fit(train_mixtures, bi_train_duration)"
   ]
  },
  {
   "cell_type": "code",
   "execution_count": 204,
   "metadata": {},
   "outputs": [
    {
     "name": "stdout",
     "output_type": "stream",
     "text": [
      "{'C': 1.08, 'max_iter': 100}\n"
     ]
    }
   ],
   "source": [
    "print(searcher.best_params_)"
   ]
  },
  {
   "cell_type": "code",
   "execution_count": 205,
   "metadata": {},
   "outputs": [
    {
     "name": "stdout",
     "output_type": "stream",
     "text": [
      "0.7509739988131034\n"
     ]
    }
   ],
   "source": [
    "print(searcher.best_score_)"
   ]
  },
  {
   "cell_type": "code",
   "execution_count": 206,
   "metadata": {},
   "outputs": [],
   "source": [
    "valid_predictions_lrbest = searcher.best_estimator_.predict(valid_mixtures)"
   ]
  },
  {
   "cell_type": "code",
   "execution_count": 207,
   "metadata": {},
   "outputs": [
    {
     "name": "stdout",
     "output_type": "stream",
     "text": [
      "0.6956092916984006\n",
      "              precision    recall  f1-score   support\n",
      "\n",
      "           0       0.70      0.86      0.77       404\n",
      "           1       0.75      0.53      0.62       325\n",
      "\n",
      "    accuracy                           0.71       729\n",
      "   macro avg       0.72      0.70      0.70       729\n",
      "weighted avg       0.72      0.71      0.70       729\n",
      "\n"
     ]
    }
   ],
   "source": [
    "print(roc_auc_score(bi_valid_duration, valid_predictions_lrbest))\n",
    "print(classification_report(bi_valid_duration, valid_predictions_lrbest))"
   ]
  },
  {
   "cell_type": "code",
   "execution_count": 297,
   "metadata": {},
   "outputs": [],
   "source": [
    "valid_proba_lrbest = searcher.best_estimator_.predict_proba(valid_mixtures)[:, 1]\n",
    "fpr, tpr, _ = roc_curve(bi_valid_duration, valid_proba_lrbest, pos_label=1, drop_intermediate=False)"
   ]
  },
  {
   "cell_type": "code",
   "execution_count": 285,
   "metadata": {},
   "outputs": [],
   "source": [
    "import matplotlib.pyplot as plt"
   ]
  },
  {
   "cell_type": "code",
   "execution_count": 298,
   "metadata": {},
   "outputs": [
    {
     "data": {
      "image/png": "[encoded data removed]",
      "text/plain": [
       "<Figure size 432x288 with 1 Axes>"
      ]
     },
     "metadata": {
      "needs_background": "light"
     },
     "output_type": "display_data"
    }
   ],
   "source": [
    "plt.plot(fpr, tpr)\n",
    "plt.xlabel('true positive rate')\n",
    "plt.ylabel('false positive rate')\n",
    "plt.grid()"
   ]
  },
  {
   "cell_type": "markdown",
   "metadata": {},
   "source": [
    "## Try AdaBoost"
   ]
  },
  {
   "cell_type": "code",
   "execution_count": 210,
   "metadata": {},
   "outputs": [],
   "source": [
    "from sklearn.ensemble import AdaBoostClassifier"
   ]
  },
  {
   "cell_type": "code",
   "execution_count": 274,
   "metadata": {},
   "outputs": [],
   "source": [
    "ada = AdaBoostClassifier(base_estimator=LogisticRegression(solver='liblinear', C=1.08, max_iter=100), random_state=1)"
   ]
  },
  {
   "cell_type": "code",
   "execution_count": 275,
   "metadata": {},
   "outputs": [
    {
     "data": {
      "text/plain": [
       "AdaBoostClassifier(algorithm='SAMME.R',\n",
       "                   base_estimator=LogisticRegression(C=1.08, class_weight=None,\n",
       "                                                     dual=False,\n",
       "                                                     fit_intercept=True,\n",
       "                                                     intercept_scaling=1,\n",
       "                                                     l1_ratio=None,\n",
       "                                                     max_iter=100,\n",
       "                                                     multi_class='warn',\n",
       "                                                     n_jobs=None, penalty='l2',\n",
       "                                                     random_state=None,\n",
       "                                                     solver='liblinear',\n",
       "                                                     tol=0.0001, verbose=0,\n",
       "                                                     warm_start=False),\n",
       "                   learning_rate=1.0, n_estimators=50, random_state=1)"
      ]
     },
     "execution_count": 275,
     "metadata": {},
     "output_type": "execute_result"
    }
   ],
   "source": [
    "ada.fit(train_mixtures, bi_train_duration)"
   ]
  },
  {
   "cell_type": "code",
   "execution_count": 276,
   "metadata": {},
   "outputs": [],
   "source": [
    "valid_predictions_ada = ada.predict(valid_mixtures)"
   ]
  },
  {
   "cell_type": "code",
   "execution_count": 277,
   "metadata": {},
   "outputs": [
    {
     "name": "stdout",
     "output_type": "stream",
     "text": [
      "0.6962795125666412\n",
      "              precision    recall  f1-score   support\n",
      "\n",
      "           0       0.69      0.88      0.77       404\n",
      "           1       0.77      0.51      0.62       325\n",
      "\n",
      "    accuracy                           0.72       729\n",
      "   macro avg       0.73      0.70      0.70       729\n",
      "weighted avg       0.73      0.72      0.70       729\n",
      "\n"
     ]
    }
   ],
   "source": [
    "print(roc_auc_score(bi_valid_duration, valid_predictions_ada))\n",
    "print(classification_report(bi_valid_duration, valid_predictions_ada))"
   ]
  },
  {
   "cell_type": "markdown",
   "metadata": {},
   "source": [
    "## Try MLP (non-linear classifier)"
   ]
  },
  {
   "cell_type": "code",
   "execution_count": 208,
   "metadata": {},
   "outputs": [],
   "source": [
    "from sklearn.neural_network import MLPClassifier"
   ]
  },
  {
   "cell_type": "code",
   "execution_count": 265,
   "metadata": {},
   "outputs": [],
   "source": [
    "mlp = MLPClassifier(hidden_layer_sizes=(40, 30),\n",
    "                   activation='logistic',\n",
    "                   solver='lbfgs',\n",
    "                   early_stopping=True,\n",
    "                   max_iter=300,\n",
    "                   random_state=1,\n",
    "                   n_iter_no_change=20)"
   ]
  },
  {
   "cell_type": "code",
   "execution_count": 266,
   "metadata": {},
   "outputs": [
    {
     "data": {
      "text/plain": [
       "MLPClassifier(activation='logistic', alpha=0.0001, batch_size='auto',\n",
       "              beta_1=0.9, beta_2=0.999, early_stopping=True, epsilon=1e-08,\n",
       "              hidden_layer_sizes=(40, 30), learning_rate='constant',\n",
       "              learning_rate_init=0.001, max_iter=300, momentum=0.9,\n",
       "              n_iter_no_change=20, nesterovs_momentum=True, power_t=0.5,\n",
       "              random_state=1, shuffle=True, solver='lbfgs', tol=0.0001,\n",
       "              validation_fraction=0.1, verbose=False, warm_start=False)"
      ]
     },
     "execution_count": 266,
     "metadata": {},
     "output_type": "execute_result"
    }
   ],
   "source": [
    "mlp.fit(train_mixtures, bi_train_duration)"
   ]
  },
  {
   "cell_type": "code",
   "execution_count": 267,
   "metadata": {},
   "outputs": [
    {
     "data": {
      "text/plain": [
       "302"
      ]
     },
     "execution_count": 267,
     "metadata": {},
     "output_type": "execute_result"
    }
   ],
   "source": [
    "mlp.n_iter_"
   ]
  },
  {
   "cell_type": "code",
   "execution_count": 268,
   "metadata": {},
   "outputs": [],
   "source": [
    "valid_predictions_mlp = mlp.predict(valid_mixtures)"
   ]
  },
  {
   "cell_type": "code",
   "execution_count": 269,
   "metadata": {},
   "outputs": [
    {
     "name": "stdout",
     "output_type": "stream",
     "text": [
      "0.5814813404417365\n",
      "              precision    recall  f1-score   support\n",
      "\n",
      "           0       0.62      0.65      0.64       404\n",
      "           1       0.54      0.52      0.53       325\n",
      "\n",
      "    accuracy                           0.59       729\n",
      "   macro avg       0.58      0.58      0.58       729\n",
      "weighted avg       0.59      0.59      0.59       729\n",
      "\n"
     ]
    }
   ],
   "source": [
    "print(roc_auc_score(bi_valid_duration, valid_predictions_mlp))\n",
    "print(classification_report(bi_valid_duration, valid_predictions_mlp))"
   ]
  }
 ],
 "metadata": {
  "kernelspec": {
   "display_name": "Python 3",
   "language": "python",
   "name": "python3"
  },
  "language_info": {
   "codemirror_mode": {
    "name": "ipython",
    "version": 3
   },
   "file_extension": ".py",
   "mimetype": "text/x-python",
   "name": "python",
   "nbconvert_exporter": "python",
   "pygments_lexer": "ipython3",
   "version": "3.7.3"
  }
 },
 "nbformat": 4,
 "nbformat_minor": 4
}
