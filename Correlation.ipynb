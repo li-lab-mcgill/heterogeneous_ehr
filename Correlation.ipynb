{
 "cells": [
  {
   "cell_type": "markdown",
   "metadata": {},
   "source": [
    "# Correlate topic mixtures from MixEHR with ventilation duration"
   ]
  },
  {
   "cell_type": "code",
   "execution_count": 1,
   "metadata": {},
   "outputs": [],
   "source": [
    "import pandas as pd\n",
    "import numpy as np\n",
    "import matplotlib.pyplot as plt\n",
    "from sklearn.preprocessing import normalize\n",
    "import seaborn as sns\n",
    "%matplotlib inline"
   ]
  },
  {
   "cell_type": "markdown",
   "metadata": {},
   "source": [
    "## Read data"
   ]
  },
  {
   "cell_type": "code",
   "execution_count": 2,
   "metadata": {},
   "outputs": [],
   "source": [
    "mixtures = pd.read_csv('/home/mcb/li_lab/zwen8/data/mimic/d2_phy_nurse_48/infer/infer_result.csv', header=None)\n",
    "duration = pd.read_csv('/home/mcb/li_lab/zwen8/data/mimic/d2_phy_nurse_48/vent.txt', header=None, sep=' ')\n",
    "duration = duration[1].astype(np.float64)"
   ]
  },
  {
   "cell_type": "code",
   "execution_count": 3,
   "metadata": {},
   "outputs": [
    {
     "name": "stdout",
     "output_type": "stream",
     "text": [
      "(4728,)\n",
      "(4728, 50)\n"
     ]
    }
   ],
   "source": [
    "print(duration.shape)\n",
    "print(mixtures.shape)"
   ]
  },
  {
   "cell_type": "code",
   "execution_count": 4,
   "metadata": {},
   "outputs": [
    {
     "data": {
      "text/html": [
       "<div>\n",
       "<style scoped>\n",
       "    .dataframe tbody tr th:only-of-type {\n",
       "        vertical-align: middle;\n",
       "    }\n",
       "\n",
       "    .dataframe tbody tr th {\n",
       "        vertical-align: top;\n",
       "    }\n",
       "\n",
       "    .dataframe thead th {\n",
       "        text-align: right;\n",
       "    }\n",
       "</style>\n",
       "<table border=\"1\" class=\"dataframe\">\n",
       "  <thead>\n",
       "    <tr style=\"text-align: right;\">\n",
       "      <th></th>\n",
       "      <th>0</th>\n",
       "      <th>1</th>\n",
       "      <th>2</th>\n",
       "      <th>3</th>\n",
       "      <th>4</th>\n",
       "      <th>5</th>\n",
       "      <th>6</th>\n",
       "      <th>7</th>\n",
       "      <th>8</th>\n",
       "      <th>9</th>\n",
       "      <th>...</th>\n",
       "      <th>40</th>\n",
       "      <th>41</th>\n",
       "      <th>42</th>\n",
       "      <th>43</th>\n",
       "      <th>44</th>\n",
       "      <th>45</th>\n",
       "      <th>46</th>\n",
       "      <th>47</th>\n",
       "      <th>48</th>\n",
       "      <th>49</th>\n",
       "    </tr>\n",
       "  </thead>\n",
       "  <tbody>\n",
       "    <tr>\n",
       "      <td>0</td>\n",
       "      <td>1.004113</td>\n",
       "      <td>0.993497</td>\n",
       "      <td>53.778068</td>\n",
       "      <td>92.739699</td>\n",
       "      <td>2.084227</td>\n",
       "      <td>55.262255</td>\n",
       "      <td>3.265762</td>\n",
       "      <td>127.114917</td>\n",
       "      <td>8.285883</td>\n",
       "      <td>42.947465</td>\n",
       "      <td>...</td>\n",
       "      <td>3.215692</td>\n",
       "      <td>0.778578</td>\n",
       "      <td>12.490008</td>\n",
       "      <td>4.982168</td>\n",
       "      <td>10.079525</td>\n",
       "      <td>3.227927</td>\n",
       "      <td>142.467938</td>\n",
       "      <td>5.921330</td>\n",
       "      <td>112.739102</td>\n",
       "      <td>127.943595</td>\n",
       "    </tr>\n",
       "    <tr>\n",
       "      <td>1</td>\n",
       "      <td>1.252700</td>\n",
       "      <td>3.047232</td>\n",
       "      <td>14.721221</td>\n",
       "      <td>15.688285</td>\n",
       "      <td>2.924715</td>\n",
       "      <td>53.197254</td>\n",
       "      <td>1.906736</td>\n",
       "      <td>17.913858</td>\n",
       "      <td>1.040189</td>\n",
       "      <td>70.917125</td>\n",
       "      <td>...</td>\n",
       "      <td>0.350375</td>\n",
       "      <td>1.107019</td>\n",
       "      <td>1.615780</td>\n",
       "      <td>0.791014</td>\n",
       "      <td>4.179296</td>\n",
       "      <td>0.826678</td>\n",
       "      <td>48.429811</td>\n",
       "      <td>14.599893</td>\n",
       "      <td>1.896193</td>\n",
       "      <td>244.183915</td>\n",
       "    </tr>\n",
       "    <tr>\n",
       "      <td>2</td>\n",
       "      <td>0.534748</td>\n",
       "      <td>0.930048</td>\n",
       "      <td>38.649539</td>\n",
       "      <td>2.823574</td>\n",
       "      <td>0.401094</td>\n",
       "      <td>15.344179</td>\n",
       "      <td>1.602273</td>\n",
       "      <td>44.824453</td>\n",
       "      <td>0.599308</td>\n",
       "      <td>371.707537</td>\n",
       "      <td>...</td>\n",
       "      <td>0.496951</td>\n",
       "      <td>0.643946</td>\n",
       "      <td>0.333555</td>\n",
       "      <td>0.383255</td>\n",
       "      <td>1.081912</td>\n",
       "      <td>0.394330</td>\n",
       "      <td>14.452990</td>\n",
       "      <td>4.090531</td>\n",
       "      <td>23.939253</td>\n",
       "      <td>24.206990</td>\n",
       "    </tr>\n",
       "    <tr>\n",
       "      <td>3</td>\n",
       "      <td>0.352494</td>\n",
       "      <td>0.793097</td>\n",
       "      <td>32.445131</td>\n",
       "      <td>10.331763</td>\n",
       "      <td>0.549328</td>\n",
       "      <td>67.307436</td>\n",
       "      <td>0.865146</td>\n",
       "      <td>46.170676</td>\n",
       "      <td>0.648309</td>\n",
       "      <td>30.181887</td>\n",
       "      <td>...</td>\n",
       "      <td>0.366266</td>\n",
       "      <td>0.700678</td>\n",
       "      <td>0.620353</td>\n",
       "      <td>0.540657</td>\n",
       "      <td>0.949045</td>\n",
       "      <td>0.520401</td>\n",
       "      <td>203.727477</td>\n",
       "      <td>2.250761</td>\n",
       "      <td>3.526607</td>\n",
       "      <td>71.015511</td>\n",
       "    </tr>\n",
       "    <tr>\n",
       "      <td>4</td>\n",
       "      <td>0.597239</td>\n",
       "      <td>0.709514</td>\n",
       "      <td>38.843553</td>\n",
       "      <td>49.953473</td>\n",
       "      <td>1.315904</td>\n",
       "      <td>40.232045</td>\n",
       "      <td>49.813754</td>\n",
       "      <td>112.421580</td>\n",
       "      <td>1.037370</td>\n",
       "      <td>36.946529</td>\n",
       "      <td>...</td>\n",
       "      <td>3.910892</td>\n",
       "      <td>7.313523</td>\n",
       "      <td>0.817121</td>\n",
       "      <td>3.109757</td>\n",
       "      <td>2.107193</td>\n",
       "      <td>2.914996</td>\n",
       "      <td>386.747226</td>\n",
       "      <td>4.983144</td>\n",
       "      <td>18.794002</td>\n",
       "      <td>218.690311</td>\n",
       "    </tr>\n",
       "  </tbody>\n",
       "</table>\n",
       "<p>5 rows × 50 columns</p>\n",
       "</div>"
      ],
      "text/plain": [
       "         0         1          2          3         4          5          6   \\\n",
       "0  1.004113  0.993497  53.778068  92.739699  2.084227  55.262255   3.265762   \n",
       "1  1.252700  3.047232  14.721221  15.688285  2.924715  53.197254   1.906736   \n",
       "2  0.534748  0.930048  38.649539   2.823574  0.401094  15.344179   1.602273   \n",
       "3  0.352494  0.793097  32.445131  10.331763  0.549328  67.307436   0.865146   \n",
       "4  0.597239  0.709514  38.843553  49.953473  1.315904  40.232045  49.813754   \n",
       "\n",
       "           7         8           9   ...        40        41         42  \\\n",
       "0  127.114917  8.285883   42.947465  ...  3.215692  0.778578  12.490008   \n",
       "1   17.913858  1.040189   70.917125  ...  0.350375  1.107019   1.615780   \n",
       "2   44.824453  0.599308  371.707537  ...  0.496951  0.643946   0.333555   \n",
       "3   46.170676  0.648309   30.181887  ...  0.366266  0.700678   0.620353   \n",
       "4  112.421580  1.037370   36.946529  ...  3.910892  7.313523   0.817121   \n",
       "\n",
       "         43         44        45          46         47          48  \\\n",
       "0  4.982168  10.079525  3.227927  142.467938   5.921330  112.739102   \n",
       "1  0.791014   4.179296  0.826678   48.429811  14.599893    1.896193   \n",
       "2  0.383255   1.081912  0.394330   14.452990   4.090531   23.939253   \n",
       "3  0.540657   0.949045  0.520401  203.727477   2.250761    3.526607   \n",
       "4  3.109757   2.107193  2.914996  386.747226   4.983144   18.794002   \n",
       "\n",
       "           49  \n",
       "0  127.943595  \n",
       "1  244.183915  \n",
       "2   24.206990  \n",
       "3   71.015511  \n",
       "4  218.690311  \n",
       "\n",
       "[5 rows x 50 columns]"
      ]
     },
     "execution_count": 4,
     "metadata": {},
     "output_type": "execute_result"
    }
   ],
   "source": [
    "mixtures.head()"
   ]
  },
  {
   "cell_type": "code",
   "execution_count": 5,
   "metadata": {},
   "outputs": [
    {
     "data": {
      "text/plain": [
       "0     83.733333\n",
       "1    118.333333\n",
       "2     82.666667\n",
       "3    166.000000\n",
       "4     69.000000\n",
       "Name: 1, dtype: float64"
      ]
     },
     "execution_count": 5,
     "metadata": {},
     "output_type": "execute_result"
    }
   ],
   "source": [
    "duration.head()"
   ]
  },
  {
   "cell_type": "markdown",
   "metadata": {},
   "source": [
    "## Normalize"
   ]
  },
  {
   "cell_type": "code",
   "execution_count": 6,
   "metadata": {},
   "outputs": [],
   "source": [
    "normed_mixtures = pd.DataFrame(normalize(mixtures.iloc[:,2:51], norm='l1', axis=1))"
   ]
  },
  {
   "cell_type": "code",
   "execution_count": 7,
   "metadata": {},
   "outputs": [
    {
     "data": {
      "text/plain": [
       "0        1169.0\n",
       "1         868.0\n",
       "2         677.0\n",
       "3         918.0\n",
       "4        1890.0\n",
       "         ...   \n",
       "4723    18362.0\n",
       "4724     5134.0\n",
       "4725     1981.0\n",
       "4726    10245.0\n",
       "4727     9172.0\n",
       "Length: 4728, dtype: float64"
      ]
     },
     "execution_count": 7,
     "metadata": {},
     "output_type": "execute_result"
    }
   ],
   "source": [
    "mixtures.sum(axis=1)"
   ]
  },
  {
   "cell_type": "markdown",
   "metadata": {},
   "source": [
    "## See if mixture's rows sum up to 1"
   ]
  },
  {
   "cell_type": "code",
   "execution_count": 8,
   "metadata": {},
   "outputs": [
    {
     "data": {
      "text/plain": [
       "0       1.0\n",
       "1       1.0\n",
       "2       1.0\n",
       "3       1.0\n",
       "4       1.0\n",
       "       ... \n",
       "4723    1.0\n",
       "4724    1.0\n",
       "4725    1.0\n",
       "4726    1.0\n",
       "4727    1.0\n",
       "Length: 4728, dtype: float64"
      ]
     },
     "execution_count": 8,
     "metadata": {},
     "output_type": "execute_result"
    }
   ],
   "source": [
    "normed_mixtures.sum(axis=1)"
   ]
  },
  {
   "cell_type": "markdown",
   "metadata": {},
   "source": [
    "## Heatmap"
   ]
  },
  {
   "cell_type": "code",
   "execution_count": 9,
   "metadata": {},
   "outputs": [
    {
     "data": {
      "text/html": [
       "<div>\n",
       "<style scoped>\n",
       "    .dataframe tbody tr th:only-of-type {\n",
       "        vertical-align: middle;\n",
       "    }\n",
       "\n",
       "    .dataframe tbody tr th {\n",
       "        vertical-align: top;\n",
       "    }\n",
       "\n",
       "    .dataframe thead th {\n",
       "        text-align: right;\n",
       "    }\n",
       "</style>\n",
       "<table border=\"1\" class=\"dataframe\">\n",
       "  <thead>\n",
       "    <tr style=\"text-align: right;\">\n",
       "      <th></th>\n",
       "      <th>0</th>\n",
       "      <th>1</th>\n",
       "      <th>2</th>\n",
       "      <th>3</th>\n",
       "      <th>4</th>\n",
       "      <th>5</th>\n",
       "      <th>6</th>\n",
       "      <th>7</th>\n",
       "      <th>8</th>\n",
       "      <th>9</th>\n",
       "      <th>...</th>\n",
       "      <th>38</th>\n",
       "      <th>39</th>\n",
       "      <th>40</th>\n",
       "      <th>41</th>\n",
       "      <th>42</th>\n",
       "      <th>43</th>\n",
       "      <th>44</th>\n",
       "      <th>45</th>\n",
       "      <th>46</th>\n",
       "      <th>47</th>\n",
       "    </tr>\n",
       "  </thead>\n",
       "  <tbody>\n",
       "    <tr>\n",
       "      <td>0</td>\n",
       "      <td>0.046082</td>\n",
       "      <td>0.079468</td>\n",
       "      <td>0.001786</td>\n",
       "      <td>0.047354</td>\n",
       "      <td>0.002798</td>\n",
       "      <td>0.108924</td>\n",
       "      <td>0.007100</td>\n",
       "      <td>0.036802</td>\n",
       "      <td>0.000561</td>\n",
       "      <td>0.001818</td>\n",
       "      <td>...</td>\n",
       "      <td>0.002756</td>\n",
       "      <td>0.000667</td>\n",
       "      <td>0.010703</td>\n",
       "      <td>0.004269</td>\n",
       "      <td>0.008637</td>\n",
       "      <td>0.002766</td>\n",
       "      <td>0.122080</td>\n",
       "      <td>0.005074</td>\n",
       "      <td>0.096606</td>\n",
       "      <td>0.109634</td>\n",
       "    </tr>\n",
       "    <tr>\n",
       "      <td>1</td>\n",
       "      <td>0.017044</td>\n",
       "      <td>0.018164</td>\n",
       "      <td>0.003386</td>\n",
       "      <td>0.061592</td>\n",
       "      <td>0.002208</td>\n",
       "      <td>0.020741</td>\n",
       "      <td>0.001204</td>\n",
       "      <td>0.082109</td>\n",
       "      <td>0.000620</td>\n",
       "      <td>0.002427</td>\n",
       "      <td>...</td>\n",
       "      <td>0.000406</td>\n",
       "      <td>0.001282</td>\n",
       "      <td>0.001871</td>\n",
       "      <td>0.000916</td>\n",
       "      <td>0.004839</td>\n",
       "      <td>0.000957</td>\n",
       "      <td>0.056072</td>\n",
       "      <td>0.016904</td>\n",
       "      <td>0.002195</td>\n",
       "      <td>0.282718</td>\n",
       "    </tr>\n",
       "    <tr>\n",
       "      <td>2</td>\n",
       "      <td>0.057213</td>\n",
       "      <td>0.004180</td>\n",
       "      <td>0.000594</td>\n",
       "      <td>0.022714</td>\n",
       "      <td>0.002372</td>\n",
       "      <td>0.066354</td>\n",
       "      <td>0.000887</td>\n",
       "      <td>0.550242</td>\n",
       "      <td>0.001213</td>\n",
       "      <td>0.000842</td>\n",
       "      <td>...</td>\n",
       "      <td>0.000736</td>\n",
       "      <td>0.000953</td>\n",
       "      <td>0.000494</td>\n",
       "      <td>0.000567</td>\n",
       "      <td>0.001602</td>\n",
       "      <td>0.000584</td>\n",
       "      <td>0.021395</td>\n",
       "      <td>0.006055</td>\n",
       "      <td>0.035437</td>\n",
       "      <td>0.035834</td>\n",
       "    </tr>\n",
       "    <tr>\n",
       "      <td>3</td>\n",
       "      <td>0.035387</td>\n",
       "      <td>0.011269</td>\n",
       "      <td>0.000599</td>\n",
       "      <td>0.073411</td>\n",
       "      <td>0.000944</td>\n",
       "      <td>0.050358</td>\n",
       "      <td>0.000707</td>\n",
       "      <td>0.032919</td>\n",
       "      <td>0.000351</td>\n",
       "      <td>0.087014</td>\n",
       "      <td>...</td>\n",
       "      <td>0.000399</td>\n",
       "      <td>0.000764</td>\n",
       "      <td>0.000677</td>\n",
       "      <td>0.000590</td>\n",
       "      <td>0.001035</td>\n",
       "      <td>0.000568</td>\n",
       "      <td>0.222203</td>\n",
       "      <td>0.002455</td>\n",
       "      <td>0.003846</td>\n",
       "      <td>0.077456</td>\n",
       "    </tr>\n",
       "    <tr>\n",
       "      <td>4</td>\n",
       "      <td>0.020566</td>\n",
       "      <td>0.026449</td>\n",
       "      <td>0.000697</td>\n",
       "      <td>0.021302</td>\n",
       "      <td>0.026375</td>\n",
       "      <td>0.059523</td>\n",
       "      <td>0.000549</td>\n",
       "      <td>0.019562</td>\n",
       "      <td>0.000448</td>\n",
       "      <td>0.001117</td>\n",
       "      <td>...</td>\n",
       "      <td>0.002071</td>\n",
       "      <td>0.003872</td>\n",
       "      <td>0.000433</td>\n",
       "      <td>0.001647</td>\n",
       "      <td>0.001116</td>\n",
       "      <td>0.001543</td>\n",
       "      <td>0.204770</td>\n",
       "      <td>0.002638</td>\n",
       "      <td>0.009951</td>\n",
       "      <td>0.115789</td>\n",
       "    </tr>\n",
       "  </tbody>\n",
       "</table>\n",
       "<p>5 rows × 48 columns</p>\n",
       "</div>"
      ],
      "text/plain": [
       "         0         1         2         3         4         5         6   \\\n",
       "0  0.046082  0.079468  0.001786  0.047354  0.002798  0.108924  0.007100   \n",
       "1  0.017044  0.018164  0.003386  0.061592  0.002208  0.020741  0.001204   \n",
       "2  0.057213  0.004180  0.000594  0.022714  0.002372  0.066354  0.000887   \n",
       "3  0.035387  0.011269  0.000599  0.073411  0.000944  0.050358  0.000707   \n",
       "4  0.020566  0.026449  0.000697  0.021302  0.026375  0.059523  0.000549   \n",
       "\n",
       "         7         8         9   ...        38        39        40        41  \\\n",
       "0  0.036802  0.000561  0.001818  ...  0.002756  0.000667  0.010703  0.004269   \n",
       "1  0.082109  0.000620  0.002427  ...  0.000406  0.001282  0.001871  0.000916   \n",
       "2  0.550242  0.001213  0.000842  ...  0.000736  0.000953  0.000494  0.000567   \n",
       "3  0.032919  0.000351  0.087014  ...  0.000399  0.000764  0.000677  0.000590   \n",
       "4  0.019562  0.000448  0.001117  ...  0.002071  0.003872  0.000433  0.001647   \n",
       "\n",
       "         42        43        44        45        46        47  \n",
       "0  0.008637  0.002766  0.122080  0.005074  0.096606  0.109634  \n",
       "1  0.004839  0.000957  0.056072  0.016904  0.002195  0.282718  \n",
       "2  0.001602  0.000584  0.021395  0.006055  0.035437  0.035834  \n",
       "3  0.001035  0.000568  0.222203  0.002455  0.003846  0.077456  \n",
       "4  0.001116  0.001543  0.204770  0.002638  0.009951  0.115789  \n",
       "\n",
       "[5 rows x 48 columns]"
      ]
     },
     "execution_count": 9,
     "metadata": {},
     "output_type": "execute_result"
    }
   ],
   "source": [
    "normed_mixtures.head()"
   ]
  },
  {
   "cell_type": "code",
   "execution_count": 10,
   "metadata": {},
   "outputs": [],
   "source": [
    "sorted_normed_mixtures = normed_mixtures.sort_values(by=normed_mixtures.columns[17], ascending=False)"
   ]
  },
  {
   "cell_type": "code",
   "execution_count": 11,
   "metadata": {},
   "outputs": [
    {
     "data": {
      "text/plain": [
       "<matplotlib.axes._subplots.AxesSubplot at 0x7f3829494400>"
      ]
     },
     "execution_count": 11,
     "metadata": {},
     "output_type": "execute_result"
    },
    {
     "data": {
      "image/png": "[encoded data removed]",
      "text/plain": [
       "<Figure size 432x288 with 2 Axes>"
      ]
     },
     "metadata": {},
     "output_type": "display_data"
    }
   ],
   "source": [
    "sns.set()\n",
    "sns.heatmap(sorted_normed_mixtures.head(50))"
   ]
  },
  {
   "cell_type": "code",
   "execution_count": 12,
   "metadata": {},
   "outputs": [
    {
     "data": {
      "text/plain": [
       "<matplotlib.axes._subplots.AxesSubplot at 0x7f381f97e2b0>"
      ]
     },
     "execution_count": 12,
     "metadata": {},
     "output_type": "execute_result"
    },
    {
     "data": {
      "image/png": "[encoded data removed]",
      "text/plain": [
       "<Figure size 432x288 with 2 Axes>"
      ]
     },
     "metadata": {},
     "output_type": "display_data"
    }
   ],
   "source": [
    "sns.heatmap(normed_mixtures)"
   ]
  },
  {
   "cell_type": "markdown",
   "metadata": {},
   "source": [
    "## Compute correlation"
   ]
  },
  {
   "cell_type": "code",
   "execution_count": 13,
   "metadata": {},
   "outputs": [],
   "source": [
    "corr = normed_mixtures.apply(lambda mixture: mixture.corr(duration, method='pearson'))"
   ]
  },
  {
   "cell_type": "code",
   "execution_count": 14,
   "metadata": {},
   "outputs": [],
   "source": [
    "corr_sorted = corr.sort_values(ascending=False)"
   ]
  },
  {
   "cell_type": "code",
   "execution_count": 15,
   "metadata": {},
   "outputs": [
    {
     "data": {
      "text/plain": [
       "Text(0, 0.5, 'Pearson Correlation')"
      ]
     },
     "execution_count": 15,
     "metadata": {},
     "output_type": "execute_result"
    },
    {
     "data": {
      "image/png": "[encoded data removed]",
      "text/plain": [
       "<Figure size 1008x576 with 1 Axes>"
      ]
     },
     "metadata": {},
     "output_type": "display_data"
    }
   ],
   "source": [
    "plt.figure(figsize=(14, 8))\n",
    "plt.bar(x=range(len(corr)), height=corr_sorted)\n",
    "plt.title('Correlation between topics and continuous duration')\n",
    "plt.xlabel('Topic #')\n",
    "plt.xticks(range(len(corr)), corr_sorted.index)\n",
    "plt.ylabel('Pearson Correlation')"
   ]
  },
  {
   "cell_type": "markdown",
   "metadata": {},
   "source": [
    "## Select most correlated topics and map back to words"
   ]
  },
  {
   "cell_type": "code",
   "execution_count": 16,
   "metadata": {},
   "outputs": [],
   "source": [
    "def find_max_n(numbers, n=3):\n",
    "    sorted_numbers = sorted(numbers, reverse=True)\n",
    "    return [numbers.index(number) for number in sorted_numbers[0:n]]"
   ]
  },
  {
   "cell_type": "code",
   "execution_count": 17,
   "metadata": {},
   "outputs": [],
   "source": [
    "top_pos = find_max_n(list(corr), 3)\n",
    "top_neg = find_max_n(list(-corr), 3)"
   ]
  },
  {
   "cell_type": "code",
   "execution_count": 18,
   "metadata": {},
   "outputs": [
    {
     "data": {
      "text/plain": [
       "[17, 3, 16]"
      ]
     },
     "execution_count": 18,
     "metadata": {},
     "output_type": "execute_result"
    }
   ],
   "source": [
    "top_neg"
   ]
  },
  {
   "cell_type": "code",
   "execution_count": 19,
   "metadata": {},
   "outputs": [
    {
     "data": {
      "text/plain": [
       "[31, 21, 0, 17, 3, 16]"
      ]
     },
     "execution_count": 19,
     "metadata": {},
     "output_type": "execute_result"
    }
   ],
   "source": [
    "top_topics = top_pos + top_neg\n",
    "top_topics"
   ]
  },
  {
   "cell_type": "markdown",
   "metadata": {},
   "source": [
    "## Extract top words in those top topics"
   ]
  },
  {
   "cell_type": "code",
   "execution_count": 20,
   "metadata": {},
   "outputs": [],
   "source": [
    "phis_df = pd.read_csv(r'/home/mcb/li_lab/zwen8/data/mimic/d2_phy_nurse_48/data_JCVB0_nmar_K50_iter1000_phi_normalized.csv', header=None)"
   ]
  },
  {
   "cell_type": "code",
   "execution_count": 21,
   "metadata": {},
   "outputs": [],
   "source": [
    "phis_df.columns = ['PLACE_HOLD', 'WORD_ID'] + [str(idx) for idx in range(50)]"
   ]
  },
  {
   "cell_type": "code",
   "execution_count": 22,
   "metadata": {},
   "outputs": [
    {
     "data": {
      "text/html": [
       "<div>\n",
       "<style scoped>\n",
       "    .dataframe tbody tr th:only-of-type {\n",
       "        vertical-align: middle;\n",
       "    }\n",
       "\n",
       "    .dataframe tbody tr th {\n",
       "        vertical-align: top;\n",
       "    }\n",
       "\n",
       "    .dataframe thead th {\n",
       "        text-align: right;\n",
       "    }\n",
       "</style>\n",
       "<table border=\"1\" class=\"dataframe\">\n",
       "  <thead>\n",
       "    <tr style=\"text-align: right;\">\n",
       "      <th></th>\n",
       "      <th>PLACE_HOLD</th>\n",
       "      <th>WORD_ID</th>\n",
       "      <th>0</th>\n",
       "      <th>1</th>\n",
       "      <th>2</th>\n",
       "      <th>3</th>\n",
       "      <th>4</th>\n",
       "      <th>5</th>\n",
       "      <th>6</th>\n",
       "      <th>7</th>\n",
       "      <th>...</th>\n",
       "      <th>40</th>\n",
       "      <th>41</th>\n",
       "      <th>42</th>\n",
       "      <th>43</th>\n",
       "      <th>44</th>\n",
       "      <th>45</th>\n",
       "      <th>46</th>\n",
       "      <th>47</th>\n",
       "      <th>48</th>\n",
       "      <th>49</th>\n",
       "    </tr>\n",
       "  </thead>\n",
       "  <tbody>\n",
       "    <tr>\n",
       "      <td>0</td>\n",
       "      <td>1</td>\n",
       "      <td>0</td>\n",
       "      <td>6.227000e-06</td>\n",
       "      <td>8.190800e-07</td>\n",
       "      <td>1.642660e-06</td>\n",
       "      <td>1.565500e-06</td>\n",
       "      <td>1.947860e-07</td>\n",
       "      <td>1.402910e-05</td>\n",
       "      <td>9.500110e-07</td>\n",
       "      <td>6.337020e-07</td>\n",
       "      <td>...</td>\n",
       "      <td>2.210210e-05</td>\n",
       "      <td>4.806440e-05</td>\n",
       "      <td>2.523380e-07</td>\n",
       "      <td>3.667550e-07</td>\n",
       "      <td>9.022500e-07</td>\n",
       "      <td>6.062650e-07</td>\n",
       "      <td>7.473740e-05</td>\n",
       "      <td>9.717530e-07</td>\n",
       "      <td>1.129810e-06</td>\n",
       "      <td>4.267790e-05</td>\n",
       "    </tr>\n",
       "    <tr>\n",
       "      <td>1</td>\n",
       "      <td>1</td>\n",
       "      <td>1</td>\n",
       "      <td>4.216700e-07</td>\n",
       "      <td>6.282880e-07</td>\n",
       "      <td>8.920000e-04</td>\n",
       "      <td>6.227720e-07</td>\n",
       "      <td>2.269270e-05</td>\n",
       "      <td>2.478860e-05</td>\n",
       "      <td>3.047540e-05</td>\n",
       "      <td>5.744630e-07</td>\n",
       "      <td>...</td>\n",
       "      <td>8.705140e-04</td>\n",
       "      <td>5.576730e-07</td>\n",
       "      <td>2.171270e-07</td>\n",
       "      <td>3.432570e-07</td>\n",
       "      <td>5.305200e-07</td>\n",
       "      <td>5.251830e-07</td>\n",
       "      <td>3.578520e-06</td>\n",
       "      <td>5.573500e-07</td>\n",
       "      <td>3.809600e-05</td>\n",
       "      <td>2.229480e-07</td>\n",
       "    </tr>\n",
       "    <tr>\n",
       "      <td>2</td>\n",
       "      <td>1</td>\n",
       "      <td>2</td>\n",
       "      <td>5.209370e-08</td>\n",
       "      <td>9.874610e-08</td>\n",
       "      <td>3.870830e-05</td>\n",
       "      <td>3.463720e-08</td>\n",
       "      <td>2.714170e-08</td>\n",
       "      <td>2.662010e-08</td>\n",
       "      <td>7.510970e-08</td>\n",
       "      <td>2.987910e-08</td>\n",
       "      <td>...</td>\n",
       "      <td>3.244300e-08</td>\n",
       "      <td>3.611700e-08</td>\n",
       "      <td>3.340010e-08</td>\n",
       "      <td>3.647870e-08</td>\n",
       "      <td>5.485930e-08</td>\n",
       "      <td>7.637390e-08</td>\n",
       "      <td>3.475910e-08</td>\n",
       "      <td>8.532920e-08</td>\n",
       "      <td>5.613010e-08</td>\n",
       "      <td>3.573830e-08</td>\n",
       "    </tr>\n",
       "    <tr>\n",
       "      <td>3</td>\n",
       "      <td>1</td>\n",
       "      <td>3</td>\n",
       "      <td>2.922080e-07</td>\n",
       "      <td>2.524410e-07</td>\n",
       "      <td>1.691440e-06</td>\n",
       "      <td>7.140430e-08</td>\n",
       "      <td>8.152900e-08</td>\n",
       "      <td>5.738040e-08</td>\n",
       "      <td>1.497230e-07</td>\n",
       "      <td>5.723820e-08</td>\n",
       "      <td>...</td>\n",
       "      <td>6.535750e-08</td>\n",
       "      <td>7.697470e-08</td>\n",
       "      <td>6.721550e-08</td>\n",
       "      <td>1.730820e-07</td>\n",
       "      <td>1.108120e-07</td>\n",
       "      <td>1.522560e-07</td>\n",
       "      <td>8.205830e-08</td>\n",
       "      <td>4.454530e-07</td>\n",
       "      <td>8.195960e-08</td>\n",
       "      <td>4.443170e-08</td>\n",
       "    </tr>\n",
       "    <tr>\n",
       "      <td>4</td>\n",
       "      <td>1</td>\n",
       "      <td>4</td>\n",
       "      <td>3.382800e-08</td>\n",
       "      <td>6.838750e-08</td>\n",
       "      <td>2.612960e-08</td>\n",
       "      <td>2.795600e-08</td>\n",
       "      <td>1.880380e-08</td>\n",
       "      <td>1.714540e-08</td>\n",
       "      <td>5.171580e-08</td>\n",
       "      <td>2.648990e-08</td>\n",
       "      <td>...</td>\n",
       "      <td>2.237400e-05</td>\n",
       "      <td>2.502380e-08</td>\n",
       "      <td>2.321070e-08</td>\n",
       "      <td>2.535900e-08</td>\n",
       "      <td>3.994570e-08</td>\n",
       "      <td>5.212230e-08</td>\n",
       "      <td>2.138670e-08</td>\n",
       "      <td>4.348760e-08</td>\n",
       "      <td>2.894190e-08</td>\n",
       "      <td>1.385950e-08</td>\n",
       "    </tr>\n",
       "  </tbody>\n",
       "</table>\n",
       "<p>5 rows × 52 columns</p>\n",
       "</div>"
      ],
      "text/plain": [
       "   PLACE_HOLD  WORD_ID             0             1             2  \\\n",
       "0           1        0  6.227000e-06  8.190800e-07  1.642660e-06   \n",
       "1           1        1  4.216700e-07  6.282880e-07  8.920000e-04   \n",
       "2           1        2  5.209370e-08  9.874610e-08  3.870830e-05   \n",
       "3           1        3  2.922080e-07  2.524410e-07  1.691440e-06   \n",
       "4           1        4  3.382800e-08  6.838750e-08  2.612960e-08   \n",
       "\n",
       "              3             4             5             6             7  ...  \\\n",
       "0  1.565500e-06  1.947860e-07  1.402910e-05  9.500110e-07  6.337020e-07  ...   \n",
       "1  6.227720e-07  2.269270e-05  2.478860e-05  3.047540e-05  5.744630e-07  ...   \n",
       "2  3.463720e-08  2.714170e-08  2.662010e-08  7.510970e-08  2.987910e-08  ...   \n",
       "3  7.140430e-08  8.152900e-08  5.738040e-08  1.497230e-07  5.723820e-08  ...   \n",
       "4  2.795600e-08  1.880380e-08  1.714540e-08  5.171580e-08  2.648990e-08  ...   \n",
       "\n",
       "             40            41            42            43            44  \\\n",
       "0  2.210210e-05  4.806440e-05  2.523380e-07  3.667550e-07  9.022500e-07   \n",
       "1  8.705140e-04  5.576730e-07  2.171270e-07  3.432570e-07  5.305200e-07   \n",
       "2  3.244300e-08  3.611700e-08  3.340010e-08  3.647870e-08  5.485930e-08   \n",
       "3  6.535750e-08  7.697470e-08  6.721550e-08  1.730820e-07  1.108120e-07   \n",
       "4  2.237400e-05  2.502380e-08  2.321070e-08  2.535900e-08  3.994570e-08   \n",
       "\n",
       "             45            46            47            48            49  \n",
       "0  6.062650e-07  7.473740e-05  9.717530e-07  1.129810e-06  4.267790e-05  \n",
       "1  5.251830e-07  3.578520e-06  5.573500e-07  3.809600e-05  2.229480e-07  \n",
       "2  7.637390e-08  3.475910e-08  8.532920e-08  5.613010e-08  3.573830e-08  \n",
       "3  1.522560e-07  8.205830e-08  4.454530e-07  8.195960e-08  4.443170e-08  \n",
       "4  5.212230e-08  2.138670e-08  4.348760e-08  2.894190e-08  1.385950e-08  \n",
       "\n",
       "[5 rows x 52 columns]"
      ]
     },
     "execution_count": 22,
     "metadata": {},
     "output_type": "execute_result"
    }
   ],
   "source": [
    "phis_df.head()"
   ]
  },
  {
   "cell_type": "code",
   "execution_count": 23,
   "metadata": {},
   "outputs": [],
   "source": [
    "cols = ['WORD_ID'] + [str(value) for value in top_topics]"
   ]
  },
  {
   "cell_type": "code",
   "execution_count": 24,
   "metadata": {},
   "outputs": [],
   "source": [
    "top_phis_df = phis_df[cols]"
   ]
  },
  {
   "cell_type": "code",
   "execution_count": 25,
   "metadata": {},
   "outputs": [
    {
     "data": {
      "text/html": [
       "<div>\n",
       "<style scoped>\n",
       "    .dataframe tbody tr th:only-of-type {\n",
       "        vertical-align: middle;\n",
       "    }\n",
       "\n",
       "    .dataframe tbody tr th {\n",
       "        vertical-align: top;\n",
       "    }\n",
       "\n",
       "    .dataframe thead th {\n",
       "        text-align: right;\n",
       "    }\n",
       "</style>\n",
       "<table border=\"1\" class=\"dataframe\">\n",
       "  <thead>\n",
       "    <tr style=\"text-align: right;\">\n",
       "      <th></th>\n",
       "      <th>WORD_ID</th>\n",
       "      <th>31</th>\n",
       "      <th>21</th>\n",
       "      <th>0</th>\n",
       "      <th>17</th>\n",
       "      <th>3</th>\n",
       "      <th>16</th>\n",
       "    </tr>\n",
       "  </thead>\n",
       "  <tbody>\n",
       "    <tr>\n",
       "      <td>0</td>\n",
       "      <td>0</td>\n",
       "      <td>4.315510e-07</td>\n",
       "      <td>8.646460e-07</td>\n",
       "      <td>6.227000e-06</td>\n",
       "      <td>3.682990e-07</td>\n",
       "      <td>1.565500e-06</td>\n",
       "      <td>8.437180e-07</td>\n",
       "    </tr>\n",
       "    <tr>\n",
       "      <td>1</td>\n",
       "      <td>1</td>\n",
       "      <td>6.125380e-04</td>\n",
       "      <td>7.934250e-07</td>\n",
       "      <td>4.216700e-07</td>\n",
       "      <td>2.111250e-07</td>\n",
       "      <td>6.227720e-07</td>\n",
       "      <td>7.757760e-07</td>\n",
       "    </tr>\n",
       "    <tr>\n",
       "      <td>2</td>\n",
       "      <td>2</td>\n",
       "      <td>3.263720e-08</td>\n",
       "      <td>4.076160e-08</td>\n",
       "      <td>5.209370e-08</td>\n",
       "      <td>3.393250e-08</td>\n",
       "      <td>3.463720e-08</td>\n",
       "      <td>6.230420e-08</td>\n",
       "    </tr>\n",
       "    <tr>\n",
       "      <td>3</td>\n",
       "      <td>3</td>\n",
       "      <td>6.563210e-08</td>\n",
       "      <td>8.267160e-08</td>\n",
       "      <td>2.922080e-07</td>\n",
       "      <td>6.680470e-08</td>\n",
       "      <td>7.140430e-08</td>\n",
       "      <td>1.197910e-07</td>\n",
       "    </tr>\n",
       "    <tr>\n",
       "      <td>4</td>\n",
       "      <td>4</td>\n",
       "      <td>2.260760e-08</td>\n",
       "      <td>3.615220e-08</td>\n",
       "      <td>3.382800e-08</td>\n",
       "      <td>2.309350e-08</td>\n",
       "      <td>2.795600e-08</td>\n",
       "      <td>4.166540e-08</td>\n",
       "    </tr>\n",
       "  </tbody>\n",
       "</table>\n",
       "</div>"
      ],
      "text/plain": [
       "   WORD_ID            31            21             0            17  \\\n",
       "0        0  4.315510e-07  8.646460e-07  6.227000e-06  3.682990e-07   \n",
       "1        1  6.125380e-04  7.934250e-07  4.216700e-07  2.111250e-07   \n",
       "2        2  3.263720e-08  4.076160e-08  5.209370e-08  3.393250e-08   \n",
       "3        3  6.563210e-08  8.267160e-08  2.922080e-07  6.680470e-08   \n",
       "4        4  2.260760e-08  3.615220e-08  3.382800e-08  2.309350e-08   \n",
       "\n",
       "              3            16  \n",
       "0  1.565500e-06  8.437180e-07  \n",
       "1  6.227720e-07  7.757760e-07  \n",
       "2  3.463720e-08  6.230420e-08  \n",
       "3  7.140430e-08  1.197910e-07  \n",
       "4  2.795600e-08  4.166540e-08  "
      ]
     },
     "execution_count": 25,
     "metadata": {},
     "output_type": "execute_result"
    }
   ],
   "source": [
    "top_phis_df.head()"
   ]
  },
  {
   "cell_type": "code",
   "execution_count": 26,
   "metadata": {},
   "outputs": [
    {
     "data": {
      "text/html": [
       "<div>\n",
       "<style scoped>\n",
       "    .dataframe tbody tr th:only-of-type {\n",
       "        vertical-align: middle;\n",
       "    }\n",
       "\n",
       "    .dataframe tbody tr th {\n",
       "        vertical-align: top;\n",
       "    }\n",
       "\n",
       "    .dataframe thead th {\n",
       "        text-align: right;\n",
       "    }\n",
       "</style>\n",
       "<table border=\"1\" class=\"dataframe\">\n",
       "  <thead>\n",
       "    <tr style=\"text-align: right;\">\n",
       "      <th></th>\n",
       "      <th>WORD_ID</th>\n",
       "      <th>31</th>\n",
       "      <th>21</th>\n",
       "      <th>0</th>\n",
       "      <th>17</th>\n",
       "      <th>3</th>\n",
       "      <th>16</th>\n",
       "    </tr>\n",
       "  </thead>\n",
       "  <tbody>\n",
       "    <tr>\n",
       "      <td>9779</td>\n",
       "      <td>9779</td>\n",
       "      <td>1.964560e-02</td>\n",
       "      <td>7.643000e-03</td>\n",
       "      <td>1.099710e-02</td>\n",
       "      <td>1.454020e-02</td>\n",
       "      <td>1.237580e-06</td>\n",
       "      <td>5.363010e-03</td>\n",
       "    </tr>\n",
       "    <tr>\n",
       "      <td>8954</td>\n",
       "      <td>8954</td>\n",
       "      <td>1.168990e-04</td>\n",
       "      <td>3.264390e-04</td>\n",
       "      <td>5.353400e-07</td>\n",
       "      <td>1.423080e-02</td>\n",
       "      <td>6.451830e-07</td>\n",
       "      <td>8.408680e-04</td>\n",
       "    </tr>\n",
       "    <tr>\n",
       "      <td>8596</td>\n",
       "      <td>8596</td>\n",
       "      <td>1.849130e-07</td>\n",
       "      <td>2.584770e-07</td>\n",
       "      <td>2.453400e-07</td>\n",
       "      <td>1.064390e-02</td>\n",
       "      <td>2.586800e-07</td>\n",
       "      <td>1.228930e-04</td>\n",
       "    </tr>\n",
       "    <tr>\n",
       "      <td>2820</td>\n",
       "      <td>2820</td>\n",
       "      <td>5.546130e-07</td>\n",
       "      <td>9.757250e-08</td>\n",
       "      <td>1.192110e-07</td>\n",
       "      <td>9.863150e-03</td>\n",
       "      <td>8.496850e-08</td>\n",
       "      <td>6.757890e-05</td>\n",
       "    </tr>\n",
       "    <tr>\n",
       "      <td>12638</td>\n",
       "      <td>12638</td>\n",
       "      <td>4.840290e-03</td>\n",
       "      <td>1.119940e-02</td>\n",
       "      <td>1.674060e-02</td>\n",
       "      <td>9.031820e-03</td>\n",
       "      <td>2.419160e-02</td>\n",
       "      <td>1.351940e-02</td>\n",
       "    </tr>\n",
       "    <tr>\n",
       "      <td>...</td>\n",
       "      <td>...</td>\n",
       "      <td>...</td>\n",
       "      <td>...</td>\n",
       "      <td>...</td>\n",
       "      <td>...</td>\n",
       "      <td>...</td>\n",
       "      <td>...</td>\n",
       "    </tr>\n",
       "    <tr>\n",
       "      <td>4328</td>\n",
       "      <td>4328</td>\n",
       "      <td>1.214510e-08</td>\n",
       "      <td>1.516220e-08</td>\n",
       "      <td>1.814250e-08</td>\n",
       "      <td>1.237790e-08</td>\n",
       "      <td>1.279040e-08</td>\n",
       "      <td>2.208060e-08</td>\n",
       "    </tr>\n",
       "    <tr>\n",
       "      <td>2803</td>\n",
       "      <td>2803</td>\n",
       "      <td>1.159540e-08</td>\n",
       "      <td>1.451980e-08</td>\n",
       "      <td>1.729010e-08</td>\n",
       "      <td>1.181730e-08</td>\n",
       "      <td>1.221020e-08</td>\n",
       "      <td>2.107460e-08</td>\n",
       "    </tr>\n",
       "    <tr>\n",
       "      <td>15980</td>\n",
       "      <td>15980</td>\n",
       "      <td>1.106120e-08</td>\n",
       "      <td>1.380860e-08</td>\n",
       "      <td>1.649390e-08</td>\n",
       "      <td>1.127390e-08</td>\n",
       "      <td>1.164860e-08</td>\n",
       "      <td>2.010500e-08</td>\n",
       "    </tr>\n",
       "    <tr>\n",
       "      <td>5558</td>\n",
       "      <td>5558</td>\n",
       "      <td>1.079530e-08</td>\n",
       "      <td>1.423410e-08</td>\n",
       "      <td>1.596340e-08</td>\n",
       "      <td>1.091260e-08</td>\n",
       "      <td>1.126520e-08</td>\n",
       "      <td>1.944220e-08</td>\n",
       "    </tr>\n",
       "    <tr>\n",
       "      <td>2487</td>\n",
       "      <td>2487</td>\n",
       "      <td>1.021120e-08</td>\n",
       "      <td>1.276060e-08</td>\n",
       "      <td>1.517840e-08</td>\n",
       "      <td>1.040800e-08</td>\n",
       "      <td>1.060810e-04</td>\n",
       "      <td>1.861780e-08</td>\n",
       "    </tr>\n",
       "  </tbody>\n",
       "</table>\n",
       "<p>18407 rows × 7 columns</p>\n",
       "</div>"
      ],
      "text/plain": [
       "       WORD_ID            31            21             0            17  \\\n",
       "9779      9779  1.964560e-02  7.643000e-03  1.099710e-02  1.454020e-02   \n",
       "8954      8954  1.168990e-04  3.264390e-04  5.353400e-07  1.423080e-02   \n",
       "8596      8596  1.849130e-07  2.584770e-07  2.453400e-07  1.064390e-02   \n",
       "2820      2820  5.546130e-07  9.757250e-08  1.192110e-07  9.863150e-03   \n",
       "12638    12638  4.840290e-03  1.119940e-02  1.674060e-02  9.031820e-03   \n",
       "...        ...           ...           ...           ...           ...   \n",
       "4328      4328  1.214510e-08  1.516220e-08  1.814250e-08  1.237790e-08   \n",
       "2803      2803  1.159540e-08  1.451980e-08  1.729010e-08  1.181730e-08   \n",
       "15980    15980  1.106120e-08  1.380860e-08  1.649390e-08  1.127390e-08   \n",
       "5558      5558  1.079530e-08  1.423410e-08  1.596340e-08  1.091260e-08   \n",
       "2487      2487  1.021120e-08  1.276060e-08  1.517840e-08  1.040800e-08   \n",
       "\n",
       "                  3            16  \n",
       "9779   1.237580e-06  5.363010e-03  \n",
       "8954   6.451830e-07  8.408680e-04  \n",
       "8596   2.586800e-07  1.228930e-04  \n",
       "2820   8.496850e-08  6.757890e-05  \n",
       "12638  2.419160e-02  1.351940e-02  \n",
       "...             ...           ...  \n",
       "4328   1.279040e-08  2.208060e-08  \n",
       "2803   1.221020e-08  2.107460e-08  \n",
       "15980  1.164860e-08  2.010500e-08  \n",
       "5558   1.126520e-08  1.944220e-08  \n",
       "2487   1.060810e-04  1.861780e-08  \n",
       "\n",
       "[18407 rows x 7 columns]"
      ]
     },
     "execution_count": 26,
     "metadata": {},
     "output_type": "execute_result"
    }
   ],
   "source": [
    "top_phis_df.sort_values(by='17', ascending=False)"
   ]
  },
  {
   "cell_type": "code",
   "execution_count": 27,
   "metadata": {},
   "outputs": [],
   "source": [
    "vocab_df = pd.read_csv(r'/home/mcb/li_lab/zwen8/data/mimic/d2_phy_nurse_48/vocab.txt', header=None)"
   ]
  },
  {
   "cell_type": "code",
   "execution_count": 28,
   "metadata": {},
   "outputs": [],
   "source": [
    "vocab_df.columns = ['WORD', 'WORD_ID']"
   ]
  },
  {
   "cell_type": "code",
   "execution_count": 29,
   "metadata": {},
   "outputs": [
    {
     "data": {
      "text/html": [
       "<div>\n",
       "<style scoped>\n",
       "    .dataframe tbody tr th:only-of-type {\n",
       "        vertical-align: middle;\n",
       "    }\n",
       "\n",
       "    .dataframe tbody tr th {\n",
       "        vertical-align: top;\n",
       "    }\n",
       "\n",
       "    .dataframe thead th {\n",
       "        text-align: right;\n",
       "    }\n",
       "</style>\n",
       "<table border=\"1\" class=\"dataframe\">\n",
       "  <thead>\n",
       "    <tr style=\"text-align: right;\">\n",
       "      <th></th>\n",
       "      <th>WORD</th>\n",
       "      <th>WORD_ID</th>\n",
       "    </tr>\n",
       "  </thead>\n",
       "  <tbody>\n",
       "    <tr>\n",
       "      <td>0</td>\n",
       "      <td>aa</td>\n",
       "      <td>0</td>\n",
       "    </tr>\n",
       "    <tr>\n",
       "      <td>1</td>\n",
       "      <td>aaa</td>\n",
       "      <td>1</td>\n",
       "    </tr>\n",
       "    <tr>\n",
       "      <td>2</td>\n",
       "      <td>aacute</td>\n",
       "      <td>2</td>\n",
       "    </tr>\n",
       "    <tr>\n",
       "      <td>3</td>\n",
       "      <td>aado</td>\n",
       "      <td>3</td>\n",
       "    </tr>\n",
       "    <tr>\n",
       "      <td>4</td>\n",
       "      <td>aai</td>\n",
       "      <td>4</td>\n",
       "    </tr>\n",
       "  </tbody>\n",
       "</table>\n",
       "</div>"
      ],
      "text/plain": [
       "     WORD  WORD_ID\n",
       "0      aa        0\n",
       "1     aaa        1\n",
       "2  aacute        2\n",
       "3    aado        3\n",
       "4     aai        4"
      ]
     },
     "execution_count": 29,
     "metadata": {},
     "output_type": "execute_result"
    }
   ],
   "source": [
    "vocab_df.head()"
   ]
  },
  {
   "cell_type": "code",
   "execution_count": 30,
   "metadata": {},
   "outputs": [],
   "source": [
    "top_words_bytopic = [top_phis_df.sort_values(by=str(topic), ascending=False)['WORD_ID'][0:10] for topic in top_topics]\n",
    "top_words = []\n",
    "for sublist in top_words_bytopic:\n",
    "    for word in sublist:\n",
    "        top_words.append(word)"
   ]
  },
  {
   "cell_type": "code",
   "execution_count": 31,
   "metadata": {},
   "outputs": [],
   "source": [
    "word_topic_matrix = top_phis_df.iloc[[word_id for word_id in top_words]]"
   ]
  },
  {
   "cell_type": "code",
   "execution_count": 32,
   "metadata": {},
   "outputs": [
    {
     "data": {
      "text/html": [
       "<div>\n",
       "<style scoped>\n",
       "    .dataframe tbody tr th:only-of-type {\n",
       "        vertical-align: middle;\n",
       "    }\n",
       "\n",
       "    .dataframe tbody tr th {\n",
       "        vertical-align: top;\n",
       "    }\n",
       "\n",
       "    .dataframe thead th {\n",
       "        text-align: right;\n",
       "    }\n",
       "</style>\n",
       "<table border=\"1\" class=\"dataframe\">\n",
       "  <thead>\n",
       "    <tr style=\"text-align: right;\">\n",
       "      <th></th>\n",
       "      <th>WORD_ID</th>\n",
       "      <th>31</th>\n",
       "      <th>21</th>\n",
       "      <th>0</th>\n",
       "      <th>17</th>\n",
       "      <th>3</th>\n",
       "      <th>16</th>\n",
       "    </tr>\n",
       "  </thead>\n",
       "  <tbody>\n",
       "    <tr>\n",
       "      <td>9779</td>\n",
       "      <td>9779</td>\n",
       "      <td>0.019646</td>\n",
       "      <td>0.007643</td>\n",
       "      <td>0.010997</td>\n",
       "      <td>0.014540</td>\n",
       "      <td>0.000001</td>\n",
       "      <td>0.005363</td>\n",
       "    </tr>\n",
       "    <tr>\n",
       "      <td>1211</td>\n",
       "      <td>1211</td>\n",
       "      <td>0.013082</td>\n",
       "      <td>0.004459</td>\n",
       "      <td>0.006145</td>\n",
       "      <td>0.006472</td>\n",
       "      <td>0.000002</td>\n",
       "      <td>0.004206</td>\n",
       "    </tr>\n",
       "    <tr>\n",
       "      <td>11980</td>\n",
       "      <td>11980</td>\n",
       "      <td>0.012307</td>\n",
       "      <td>0.007564</td>\n",
       "      <td>0.003579</td>\n",
       "      <td>0.008759</td>\n",
       "      <td>0.003584</td>\n",
       "      <td>0.007156</td>\n",
       "    </tr>\n",
       "    <tr>\n",
       "      <td>11893</td>\n",
       "      <td>11893</td>\n",
       "      <td>0.011567</td>\n",
       "      <td>0.005494</td>\n",
       "      <td>0.007250</td>\n",
       "      <td>0.006854</td>\n",
       "      <td>0.001775</td>\n",
       "      <td>0.006755</td>\n",
       "    </tr>\n",
       "    <tr>\n",
       "      <td>11250</td>\n",
       "      <td>11250</td>\n",
       "      <td>0.010630</td>\n",
       "      <td>0.002306</td>\n",
       "      <td>0.002455</td>\n",
       "      <td>0.002880</td>\n",
       "      <td>0.000770</td>\n",
       "      <td>0.004468</td>\n",
       "    </tr>\n",
       "  </tbody>\n",
       "</table>\n",
       "</div>"
      ],
      "text/plain": [
       "       WORD_ID        31        21         0        17         3        16\n",
       "9779      9779  0.019646  0.007643  0.010997  0.014540  0.000001  0.005363\n",
       "1211      1211  0.013082  0.004459  0.006145  0.006472  0.000002  0.004206\n",
       "11980    11980  0.012307  0.007564  0.003579  0.008759  0.003584  0.007156\n",
       "11893    11893  0.011567  0.005494  0.007250  0.006854  0.001775  0.006755\n",
       "11250    11250  0.010630  0.002306  0.002455  0.002880  0.000770  0.004468"
      ]
     },
     "execution_count": 32,
     "metadata": {},
     "output_type": "execute_result"
    }
   ],
   "source": [
    "word_topic_matrix.head()"
   ]
  },
  {
   "cell_type": "code",
   "execution_count": 33,
   "metadata": {},
   "outputs": [],
   "source": [
    "yticklabels = [vocab_df[vocab_df['WORD_ID'] == word_id]['WORD'].values[0] for word_id in top_words]\n",
    "# xticklabels = ['23(pos)', '8(pos)', '36(pos)', '42(neg)', '17(neg)', '16(neg)']\n",
    "xticklabels = [str(topic) + '(pos)' for topic in top_topics[0:3]] + [str(topic) + '(neg)' for topic in top_topics[3:]]"
   ]
  },
  {
   "cell_type": "code",
   "execution_count": 34,
   "metadata": {},
   "outputs": [
    {
     "data": {
      "text/plain": [
       "Text(0.5, 1, 'top words heatmap, pearson correlation with continuous duration')"
      ]
     },
     "execution_count": 34,
     "metadata": {},
     "output_type": "execute_result"
    },
    {
     "data": {
      "image/png": "[encoded data removed]",
      "text/plain": [
       "<Figure size 720x720 with 2 Axes>"
      ]
     },
     "metadata": {},
     "output_type": "display_data"
    }
   ],
   "source": [
    "plt.figure(figsize=(10,10))\n",
    "sns.heatmap(word_topic_matrix.iloc[:, 1:], yticklabels=yticklabels, xticklabels=xticklabels, cmap='Reds')\n",
    "plt.title('top words heatmap, pearson correlation with continuous duration')"
   ]
  },
  {
   "cell_type": "code",
   "execution_count": 35,
   "metadata": {},
   "outputs": [
    {
     "data": {
      "text/plain": [
       "<seaborn.matrix.ClusterGrid at 0x7f381dcf13c8>"
      ]
     },
     "execution_count": 35,
     "metadata": {},
     "output_type": "execute_result"
    },
    {
     "data": {
      "image/png": "[encoded data removed]",
      "text/plain": [
       "<Figure size 720x720 with 4 Axes>"
      ]
     },
     "metadata": {},
     "output_type": "display_data"
    }
   ],
   "source": [
    "sns.set()\n",
    "sns.clustermap(word_topic_matrix.iloc[:, 1:], yticklabels=yticklabels, xticklabels=xticklabels)"
   ]
  },
  {
   "cell_type": "markdown",
   "metadata": {},
   "source": [
    "## Binary duration\n",
    "Threshold at 7 day"
   ]
  },
  {
   "cell_type": "code",
   "execution_count": 36,
   "metadata": {},
   "outputs": [],
   "source": [
    "binary_duration = (duration > 7 * 24).astype(int)"
   ]
  },
  {
   "cell_type": "code",
   "execution_count": 37,
   "metadata": {},
   "outputs": [],
   "source": [
    "bi_corr = normed_mixtures.apply(lambda mixture: mixture.corr(binary_duration, method='pearson'))"
   ]
  },
  {
   "cell_type": "code",
   "execution_count": 38,
   "metadata": {},
   "outputs": [],
   "source": [
    "bi_corr_sorted = bi_corr.sort_values(ascending=False)"
   ]
  },
  {
   "cell_type": "code",
   "execution_count": 39,
   "metadata": {},
   "outputs": [
    {
     "data": {
      "text/plain": [
       "Text(0, 0.5, 'Pearson Correlation')"
      ]
     },
     "execution_count": 39,
     "metadata": {},
     "output_type": "execute_result"
    },
    {
     "data": {
      "image/png": "[encoded data removed]",
      "text/plain": [
       "<Figure size 1008x576 with 1 Axes>"
      ]
     },
     "metadata": {},
     "output_type": "display_data"
    }
   ],
   "source": [
    "plt.figure(figsize=(14,8))\n",
    "plt.bar(x=range(len(bi_corr)), height=bi_corr_sorted)\n",
    "plt.title('Correlation between topics and binary duration')\n",
    "plt.xlabel('Topic #')\n",
    "plt.xticks(range(len(bi_corr)), bi_corr_sorted.index)\n",
    "plt.ylabel('Pearson Correlation')"
   ]
  },
  {
   "cell_type": "markdown",
   "metadata": {},
   "source": [
    "## Select most correlated topics and map back to words"
   ]
  },
  {
   "cell_type": "code",
   "execution_count": 40,
   "metadata": {},
   "outputs": [],
   "source": [
    "bi_top_topics = find_max_n(list(np.abs(bi_corr)), 6)"
   ]
  },
  {
   "cell_type": "code",
   "execution_count": 41,
   "metadata": {},
   "outputs": [],
   "source": [
    "bi_top_pos = find_max_n(list(bi_corr), 3)\n",
    "bi_top_neg = find_max_n(list(-bi_corr), 3)"
   ]
  },
  {
   "cell_type": "code",
   "execution_count": 42,
   "metadata": {},
   "outputs": [
    {
     "data": {
      "text/plain": [
       "[0, 5, 44, 17, 16, 9]"
      ]
     },
     "execution_count": 42,
     "metadata": {},
     "output_type": "execute_result"
    }
   ],
   "source": [
    "bi_top_topics = bi_top_pos + bi_top_neg\n",
    "bi_top_topics"
   ]
  },
  {
   "cell_type": "markdown",
   "metadata": {},
   "source": [
    "## Extract top words in those top topics"
   ]
  },
  {
   "cell_type": "code",
   "execution_count": 43,
   "metadata": {},
   "outputs": [],
   "source": [
    "bi_cols = ['WORD_ID'] + [str(value) for value in bi_top_topics]"
   ]
  },
  {
   "cell_type": "code",
   "execution_count": 44,
   "metadata": {},
   "outputs": [],
   "source": [
    "bi_top_phis_df = phis_df[bi_cols]"
   ]
  },
  {
   "cell_type": "code",
   "execution_count": 45,
   "metadata": {},
   "outputs": [
    {
     "data": {
      "text/html": [
       "<div>\n",
       "<style scoped>\n",
       "    .dataframe tbody tr th:only-of-type {\n",
       "        vertical-align: middle;\n",
       "    }\n",
       "\n",
       "    .dataframe tbody tr th {\n",
       "        vertical-align: top;\n",
       "    }\n",
       "\n",
       "    .dataframe thead th {\n",
       "        text-align: right;\n",
       "    }\n",
       "</style>\n",
       "<table border=\"1\" class=\"dataframe\">\n",
       "  <thead>\n",
       "    <tr style=\"text-align: right;\">\n",
       "      <th></th>\n",
       "      <th>WORD_ID</th>\n",
       "      <th>0</th>\n",
       "      <th>5</th>\n",
       "      <th>44</th>\n",
       "      <th>17</th>\n",
       "      <th>16</th>\n",
       "      <th>9</th>\n",
       "    </tr>\n",
       "  </thead>\n",
       "  <tbody>\n",
       "    <tr>\n",
       "      <td>0</td>\n",
       "      <td>0</td>\n",
       "      <td>6.227000e-06</td>\n",
       "      <td>1.402910e-05</td>\n",
       "      <td>9.022500e-07</td>\n",
       "      <td>3.682990e-07</td>\n",
       "      <td>8.437180e-07</td>\n",
       "      <td>3.969080e-07</td>\n",
       "    </tr>\n",
       "    <tr>\n",
       "      <td>1</td>\n",
       "      <td>1</td>\n",
       "      <td>4.216700e-07</td>\n",
       "      <td>2.478860e-05</td>\n",
       "      <td>5.305200e-07</td>\n",
       "      <td>2.111250e-07</td>\n",
       "      <td>7.757760e-07</td>\n",
       "      <td>1.041360e-06</td>\n",
       "    </tr>\n",
       "    <tr>\n",
       "      <td>2</td>\n",
       "      <td>2</td>\n",
       "      <td>5.209370e-08</td>\n",
       "      <td>2.662010e-08</td>\n",
       "      <td>5.485930e-08</td>\n",
       "      <td>3.393250e-08</td>\n",
       "      <td>6.230420e-08</td>\n",
       "      <td>2.570350e-08</td>\n",
       "    </tr>\n",
       "    <tr>\n",
       "      <td>3</td>\n",
       "      <td>3</td>\n",
       "      <td>2.922080e-07</td>\n",
       "      <td>5.738040e-08</td>\n",
       "      <td>1.108120e-07</td>\n",
       "      <td>6.680470e-08</td>\n",
       "      <td>1.197910e-07</td>\n",
       "      <td>5.494440e-08</td>\n",
       "    </tr>\n",
       "    <tr>\n",
       "      <td>4</td>\n",
       "      <td>4</td>\n",
       "      <td>3.382800e-08</td>\n",
       "      <td>1.714540e-08</td>\n",
       "      <td>3.994570e-08</td>\n",
       "      <td>2.309350e-08</td>\n",
       "      <td>4.166540e-08</td>\n",
       "      <td>1.723250e-08</td>\n",
       "    </tr>\n",
       "  </tbody>\n",
       "</table>\n",
       "</div>"
      ],
      "text/plain": [
       "   WORD_ID             0             5            44            17  \\\n",
       "0        0  6.227000e-06  1.402910e-05  9.022500e-07  3.682990e-07   \n",
       "1        1  4.216700e-07  2.478860e-05  5.305200e-07  2.111250e-07   \n",
       "2        2  5.209370e-08  2.662010e-08  5.485930e-08  3.393250e-08   \n",
       "3        3  2.922080e-07  5.738040e-08  1.108120e-07  6.680470e-08   \n",
       "4        4  3.382800e-08  1.714540e-08  3.994570e-08  2.309350e-08   \n",
       "\n",
       "             16             9  \n",
       "0  8.437180e-07  3.969080e-07  \n",
       "1  7.757760e-07  1.041360e-06  \n",
       "2  6.230420e-08  2.570350e-08  \n",
       "3  1.197910e-07  5.494440e-08  \n",
       "4  4.166540e-08  1.723250e-08  "
      ]
     },
     "execution_count": 45,
     "metadata": {},
     "output_type": "execute_result"
    }
   ],
   "source": [
    "bi_top_phis_df.head()"
   ]
  },
  {
   "cell_type": "code",
   "execution_count": 46,
   "metadata": {},
   "outputs": [
    {
     "data": {
      "text/html": [
       "<div>\n",
       "<style scoped>\n",
       "    .dataframe tbody tr th:only-of-type {\n",
       "        vertical-align: middle;\n",
       "    }\n",
       "\n",
       "    .dataframe tbody tr th {\n",
       "        vertical-align: top;\n",
       "    }\n",
       "\n",
       "    .dataframe thead th {\n",
       "        text-align: right;\n",
       "    }\n",
       "</style>\n",
       "<table border=\"1\" class=\"dataframe\">\n",
       "  <thead>\n",
       "    <tr style=\"text-align: right;\">\n",
       "      <th></th>\n",
       "      <th>WORD_ID</th>\n",
       "      <th>0</th>\n",
       "      <th>5</th>\n",
       "      <th>44</th>\n",
       "      <th>17</th>\n",
       "      <th>16</th>\n",
       "      <th>9</th>\n",
       "    </tr>\n",
       "  </thead>\n",
       "  <tbody>\n",
       "    <tr>\n",
       "      <td>12638</td>\n",
       "      <td>12638</td>\n",
       "      <td>1.674060e-02</td>\n",
       "      <td>3.347590e-02</td>\n",
       "      <td>1.259440e-02</td>\n",
       "      <td>9.031820e-03</td>\n",
       "      <td>1.351940e-02</td>\n",
       "      <td>2.045900e-02</td>\n",
       "    </tr>\n",
       "    <tr>\n",
       "      <td>8637</td>\n",
       "      <td>8637</td>\n",
       "      <td>1.662460e-02</td>\n",
       "      <td>1.065840e-03</td>\n",
       "      <td>3.716490e-04</td>\n",
       "      <td>1.332700e-03</td>\n",
       "      <td>1.354410e-06</td>\n",
       "      <td>5.262910e-04</td>\n",
       "    </tr>\n",
       "    <tr>\n",
       "      <td>9779</td>\n",
       "      <td>9779</td>\n",
       "      <td>1.099710e-02</td>\n",
       "      <td>1.206020e-06</td>\n",
       "      <td>4.056100e-03</td>\n",
       "      <td>1.454020e-02</td>\n",
       "      <td>5.363010e-03</td>\n",
       "      <td>1.107990e-06</td>\n",
       "    </tr>\n",
       "    <tr>\n",
       "      <td>5797</td>\n",
       "      <td>5797</td>\n",
       "      <td>9.690820e-03</td>\n",
       "      <td>1.531210e-04</td>\n",
       "      <td>1.197240e-02</td>\n",
       "      <td>4.724230e-03</td>\n",
       "      <td>4.279970e-03</td>\n",
       "      <td>1.644100e-06</td>\n",
       "    </tr>\n",
       "    <tr>\n",
       "      <td>1781</td>\n",
       "      <td>1781</td>\n",
       "      <td>9.085530e-03</td>\n",
       "      <td>3.143980e-07</td>\n",
       "      <td>6.340390e-05</td>\n",
       "      <td>2.681640e-04</td>\n",
       "      <td>1.548840e-06</td>\n",
       "      <td>1.741170e-07</td>\n",
       "    </tr>\n",
       "    <tr>\n",
       "      <td>...</td>\n",
       "      <td>...</td>\n",
       "      <td>...</td>\n",
       "      <td>...</td>\n",
       "      <td>...</td>\n",
       "      <td>...</td>\n",
       "      <td>...</td>\n",
       "      <td>...</td>\n",
       "    </tr>\n",
       "    <tr>\n",
       "      <td>4328</td>\n",
       "      <td>4328</td>\n",
       "      <td>1.814250e-08</td>\n",
       "      <td>9.228170e-09</td>\n",
       "      <td>2.041500e-08</td>\n",
       "      <td>1.237790e-08</td>\n",
       "      <td>2.208060e-08</td>\n",
       "      <td>8.404730e-09</td>\n",
       "    </tr>\n",
       "    <tr>\n",
       "      <td>2803</td>\n",
       "      <td>2803</td>\n",
       "      <td>1.729010e-08</td>\n",
       "      <td>8.790090e-09</td>\n",
       "      <td>1.956500e-08</td>\n",
       "      <td>1.181730e-08</td>\n",
       "      <td>2.107460e-08</td>\n",
       "      <td>8.018250e-09</td>\n",
       "    </tr>\n",
       "    <tr>\n",
       "      <td>15980</td>\n",
       "      <td>15980</td>\n",
       "      <td>1.649390e-08</td>\n",
       "      <td>8.376270e-09</td>\n",
       "      <td>1.853160e-08</td>\n",
       "      <td>1.127390e-08</td>\n",
       "      <td>2.010500e-08</td>\n",
       "      <td>7.648850e-09</td>\n",
       "    </tr>\n",
       "    <tr>\n",
       "      <td>5558</td>\n",
       "      <td>5558</td>\n",
       "      <td>1.596340e-08</td>\n",
       "      <td>8.070490e-09</td>\n",
       "      <td>1.787940e-08</td>\n",
       "      <td>1.091260e-08</td>\n",
       "      <td>1.944220e-08</td>\n",
       "      <td>7.398290e-09</td>\n",
       "    </tr>\n",
       "    <tr>\n",
       "      <td>2487</td>\n",
       "      <td>2487</td>\n",
       "      <td>1.517840e-08</td>\n",
       "      <td>7.710010e-09</td>\n",
       "      <td>1.707870e-08</td>\n",
       "      <td>1.040800e-08</td>\n",
       "      <td>1.861780e-08</td>\n",
       "      <td>7.084090e-09</td>\n",
       "    </tr>\n",
       "  </tbody>\n",
       "</table>\n",
       "<p>18407 rows × 7 columns</p>\n",
       "</div>"
      ],
      "text/plain": [
       "       WORD_ID             0             5            44            17  \\\n",
       "12638    12638  1.674060e-02  3.347590e-02  1.259440e-02  9.031820e-03   \n",
       "8637      8637  1.662460e-02  1.065840e-03  3.716490e-04  1.332700e-03   \n",
       "9779      9779  1.099710e-02  1.206020e-06  4.056100e-03  1.454020e-02   \n",
       "5797      5797  9.690820e-03  1.531210e-04  1.197240e-02  4.724230e-03   \n",
       "1781      1781  9.085530e-03  3.143980e-07  6.340390e-05  2.681640e-04   \n",
       "...        ...           ...           ...           ...           ...   \n",
       "4328      4328  1.814250e-08  9.228170e-09  2.041500e-08  1.237790e-08   \n",
       "2803      2803  1.729010e-08  8.790090e-09  1.956500e-08  1.181730e-08   \n",
       "15980    15980  1.649390e-08  8.376270e-09  1.853160e-08  1.127390e-08   \n",
       "5558      5558  1.596340e-08  8.070490e-09  1.787940e-08  1.091260e-08   \n",
       "2487      2487  1.517840e-08  7.710010e-09  1.707870e-08  1.040800e-08   \n",
       "\n",
       "                 16             9  \n",
       "12638  1.351940e-02  2.045900e-02  \n",
       "8637   1.354410e-06  5.262910e-04  \n",
       "9779   5.363010e-03  1.107990e-06  \n",
       "5797   4.279970e-03  1.644100e-06  \n",
       "1781   1.548840e-06  1.741170e-07  \n",
       "...             ...           ...  \n",
       "4328   2.208060e-08  8.404730e-09  \n",
       "2803   2.107460e-08  8.018250e-09  \n",
       "15980  2.010500e-08  7.648850e-09  \n",
       "5558   1.944220e-08  7.398290e-09  \n",
       "2487   1.861780e-08  7.084090e-09  \n",
       "\n",
       "[18407 rows x 7 columns]"
      ]
     },
     "execution_count": 46,
     "metadata": {},
     "output_type": "execute_result"
    }
   ],
   "source": [
    "bi_top_phis_df.sort_values(by='0', ascending=False)"
   ]
  },
  {
   "cell_type": "code",
   "execution_count": 47,
   "metadata": {},
   "outputs": [],
   "source": [
    "vocab_df = pd.read_csv(r'/home/mcb/li_lab/zwen8/data/mimic/d2_phy_nurse_48/vocab.txt', header=None)"
   ]
  },
  {
   "cell_type": "code",
   "execution_count": 48,
   "metadata": {},
   "outputs": [],
   "source": [
    "vocab_df.columns = ['WORD', 'WORD_ID']"
   ]
  },
  {
   "cell_type": "code",
   "execution_count": 49,
   "metadata": {},
   "outputs": [
    {
     "data": {
      "text/html": [
       "<div>\n",
       "<style scoped>\n",
       "    .dataframe tbody tr th:only-of-type {\n",
       "        vertical-align: middle;\n",
       "    }\n",
       "\n",
       "    .dataframe tbody tr th {\n",
       "        vertical-align: top;\n",
       "    }\n",
       "\n",
       "    .dataframe thead th {\n",
       "        text-align: right;\n",
       "    }\n",
       "</style>\n",
       "<table border=\"1\" class=\"dataframe\">\n",
       "  <thead>\n",
       "    <tr style=\"text-align: right;\">\n",
       "      <th></th>\n",
       "      <th>WORD</th>\n",
       "      <th>WORD_ID</th>\n",
       "    </tr>\n",
       "  </thead>\n",
       "  <tbody>\n",
       "    <tr>\n",
       "      <td>0</td>\n",
       "      <td>aa</td>\n",
       "      <td>0</td>\n",
       "    </tr>\n",
       "    <tr>\n",
       "      <td>1</td>\n",
       "      <td>aaa</td>\n",
       "      <td>1</td>\n",
       "    </tr>\n",
       "    <tr>\n",
       "      <td>2</td>\n",
       "      <td>aacute</td>\n",
       "      <td>2</td>\n",
       "    </tr>\n",
       "    <tr>\n",
       "      <td>3</td>\n",
       "      <td>aado</td>\n",
       "      <td>3</td>\n",
       "    </tr>\n",
       "    <tr>\n",
       "      <td>4</td>\n",
       "      <td>aai</td>\n",
       "      <td>4</td>\n",
       "    </tr>\n",
       "  </tbody>\n",
       "</table>\n",
       "</div>"
      ],
      "text/plain": [
       "     WORD  WORD_ID\n",
       "0      aa        0\n",
       "1     aaa        1\n",
       "2  aacute        2\n",
       "3    aado        3\n",
       "4     aai        4"
      ]
     },
     "execution_count": 49,
     "metadata": {},
     "output_type": "execute_result"
    }
   ],
   "source": [
    "vocab_df.head()"
   ]
  },
  {
   "cell_type": "code",
   "execution_count": 50,
   "metadata": {},
   "outputs": [],
   "source": [
    "bi_top_words_bytopic = [bi_top_phis_df.sort_values(by=str(topic), ascending=False)['WORD_ID'][0:10] for topic in bi_top_topics]\n",
    "bi_top_words = []\n",
    "for sublist in bi_top_words_bytopic:\n",
    "    for word in sublist:\n",
    "        bi_top_words.append(word)"
   ]
  },
  {
   "cell_type": "code",
   "execution_count": 51,
   "metadata": {},
   "outputs": [],
   "source": [
    "bi_word_topic_matrix = bi_top_phis_df.iloc[[word_id for word_id in bi_top_words]]"
   ]
  },
  {
   "cell_type": "code",
   "execution_count": 52,
   "metadata": {},
   "outputs": [
    {
     "data": {
      "text/html": [
       "<div>\n",
       "<style scoped>\n",
       "    .dataframe tbody tr th:only-of-type {\n",
       "        vertical-align: middle;\n",
       "    }\n",
       "\n",
       "    .dataframe tbody tr th {\n",
       "        vertical-align: top;\n",
       "    }\n",
       "\n",
       "    .dataframe thead th {\n",
       "        text-align: right;\n",
       "    }\n",
       "</style>\n",
       "<table border=\"1\" class=\"dataframe\">\n",
       "  <thead>\n",
       "    <tr style=\"text-align: right;\">\n",
       "      <th></th>\n",
       "      <th>WORD_ID</th>\n",
       "      <th>0</th>\n",
       "      <th>5</th>\n",
       "      <th>44</th>\n",
       "      <th>17</th>\n",
       "      <th>16</th>\n",
       "      <th>9</th>\n",
       "    </tr>\n",
       "  </thead>\n",
       "  <tbody>\n",
       "    <tr>\n",
       "      <td>12638</td>\n",
       "      <td>12638</td>\n",
       "      <td>0.016741</td>\n",
       "      <td>3.347590e-02</td>\n",
       "      <td>0.012594</td>\n",
       "      <td>0.009032</td>\n",
       "      <td>0.013519</td>\n",
       "      <td>2.045900e-02</td>\n",
       "    </tr>\n",
       "    <tr>\n",
       "      <td>8637</td>\n",
       "      <td>8637</td>\n",
       "      <td>0.016625</td>\n",
       "      <td>1.065840e-03</td>\n",
       "      <td>0.000372</td>\n",
       "      <td>0.001333</td>\n",
       "      <td>0.000001</td>\n",
       "      <td>5.262910e-04</td>\n",
       "    </tr>\n",
       "    <tr>\n",
       "      <td>9779</td>\n",
       "      <td>9779</td>\n",
       "      <td>0.010997</td>\n",
       "      <td>1.206020e-06</td>\n",
       "      <td>0.004056</td>\n",
       "      <td>0.014540</td>\n",
       "      <td>0.005363</td>\n",
       "      <td>1.107990e-06</td>\n",
       "    </tr>\n",
       "    <tr>\n",
       "      <td>5797</td>\n",
       "      <td>5797</td>\n",
       "      <td>0.009691</td>\n",
       "      <td>1.531210e-04</td>\n",
       "      <td>0.011972</td>\n",
       "      <td>0.004724</td>\n",
       "      <td>0.004280</td>\n",
       "      <td>1.644100e-06</td>\n",
       "    </tr>\n",
       "    <tr>\n",
       "      <td>1781</td>\n",
       "      <td>1781</td>\n",
       "      <td>0.009086</td>\n",
       "      <td>3.143980e-07</td>\n",
       "      <td>0.000063</td>\n",
       "      <td>0.000268</td>\n",
       "      <td>0.000002</td>\n",
       "      <td>1.741170e-07</td>\n",
       "    </tr>\n",
       "  </tbody>\n",
       "</table>\n",
       "</div>"
      ],
      "text/plain": [
       "       WORD_ID         0             5        44        17        16  \\\n",
       "12638    12638  0.016741  3.347590e-02  0.012594  0.009032  0.013519   \n",
       "8637      8637  0.016625  1.065840e-03  0.000372  0.001333  0.000001   \n",
       "9779      9779  0.010997  1.206020e-06  0.004056  0.014540  0.005363   \n",
       "5797      5797  0.009691  1.531210e-04  0.011972  0.004724  0.004280   \n",
       "1781      1781  0.009086  3.143980e-07  0.000063  0.000268  0.000002   \n",
       "\n",
       "                  9  \n",
       "12638  2.045900e-02  \n",
       "8637   5.262910e-04  \n",
       "9779   1.107990e-06  \n",
       "5797   1.644100e-06  \n",
       "1781   1.741170e-07  "
      ]
     },
     "execution_count": 52,
     "metadata": {},
     "output_type": "execute_result"
    }
   ],
   "source": [
    "bi_word_topic_matrix.head()"
   ]
  },
  {
   "cell_type": "code",
   "execution_count": 53,
   "metadata": {},
   "outputs": [
    {
     "data": {
      "text/plain": [
       "(18407, 2)"
      ]
     },
     "execution_count": 53,
     "metadata": {},
     "output_type": "execute_result"
    }
   ],
   "source": [
    "vocab_df.shape"
   ]
  },
  {
   "cell_type": "code",
   "execution_count": 54,
   "metadata": {},
   "outputs": [],
   "source": [
    "bi_yticklabels = [vocab_df[vocab_df['WORD_ID'] == word_id]['WORD'].values[0] for word_id in bi_top_words]\n",
    "bi_xticklabels = [str(topic) + '(pos)' for topic in bi_top_topics[0:3]] + [str(topic) + '(neg)' for topic in bi_top_topics[3:]]"
   ]
  },
  {
   "cell_type": "code",
   "execution_count": 55,
   "metadata": {},
   "outputs": [
    {
     "data": {
      "text/plain": [
       "Text(0.5, 1, 'top words heatmap, pearson correlation with binarized duration')"
      ]
     },
     "execution_count": 55,
     "metadata": {},
     "output_type": "execute_result"
    },
    {
     "data": {
      "image/png": "[encoded data removed]",
      "text/plain": [
       "<Figure size 720x720 with 2 Axes>"
      ]
     },
     "metadata": {},
     "output_type": "display_data"
    }
   ],
   "source": [
    "plt.figure(figsize=(10,10))\n",
    "sns.heatmap(bi_word_topic_matrix.iloc[:, 1:], yticklabels=bi_yticklabels, xticklabels=bi_xticklabels, cmap='Reds')\n",
    "plt.title('top words heatmap, pearson correlation with binarized duration')"
   ]
  },
  {
   "cell_type": "code",
   "execution_count": 56,
   "metadata": {},
   "outputs": [
    {
     "data": {
      "text/plain": [
       "<seaborn.matrix.ClusterGrid at 0x7f381d8b7c88>"
      ]
     },
     "execution_count": 56,
     "metadata": {},
     "output_type": "execute_result"
    },
    {
     "data": {
      "image/png": "[encoded data removed]",
      "text/plain": [
       "<Figure size 720x720 with 4 Axes>"
      ]
     },
     "metadata": {},
     "output_type": "display_data"
    }
   ],
   "source": [
    "sns.set()\n",
    "sns.clustermap(bi_word_topic_matrix.iloc[:, 1:], yticklabels=bi_yticklabels, xticklabels=bi_xticklabels)"
   ]
  },
  {
   "cell_type": "markdown",
   "metadata": {},
   "source": [
    "## Try using cosine similarity instead of Pearson correlation\n",
    "Because the correlation might not be linear"
   ]
  },
  {
   "cell_type": "code",
   "execution_count": 57,
   "metadata": {},
   "outputs": [],
   "source": [
    "def inner_prod(series_1, series_2):\n",
    "    return np.dot(series_1, series_2) / (np.linalg.norm(series_1, ord=2) * np.linalg.norm(series_2, ord=2))"
   ]
  },
  {
   "cell_type": "code",
   "execution_count": 58,
   "metadata": {},
   "outputs": [],
   "source": [
    "cos = normed_mixtures.apply(lambda mixture: mixture.corr(duration, method=inner_prod))"
   ]
  },
  {
   "cell_type": "code",
   "execution_count": 59,
   "metadata": {},
   "outputs": [],
   "source": [
    "cos_sorted = cos.sort_values(ascending=False)"
   ]
  },
  {
   "cell_type": "code",
   "execution_count": 60,
   "metadata": {},
   "outputs": [
    {
     "data": {
      "text/plain": [
       "Text(0, 0.5, 'Cosine Similarity')"
      ]
     },
     "execution_count": 60,
     "metadata": {},
     "output_type": "execute_result"
    },
    {
     "data": {
      "image/png": "[encoded data removed]",
      "text/plain": [
       "<Figure size 1008x576 with 1 Axes>"
      ]
     },
     "metadata": {},
     "output_type": "display_data"
    }
   ],
   "source": [
    "plt.figure(figsize=(14, 8))\n",
    "plt.bar(x=range(len(cos_sorted)), height=cos_sorted)\n",
    "plt.title('Cosine similarity between topics and continuous duration')\n",
    "plt.xlabel('Topic #')\n",
    "plt.xticks(range(len(cos_sorted)), cos_sorted.index)\n",
    "plt.ylabel('Cosine Similarity')"
   ]
  },
  {
   "cell_type": "markdown",
   "metadata": {},
   "source": [
    "## Select most correlated topics and map back to words"
   ]
  },
  {
   "cell_type": "code",
   "execution_count": 61,
   "metadata": {},
   "outputs": [],
   "source": [
    "def find_max_n(numbers, n=3):\n",
    "    sorted_numbers = sorted(numbers, reverse=True)\n",
    "    return [numbers.index(number) for number in sorted_numbers[0:n]]"
   ]
  },
  {
   "cell_type": "code",
   "execution_count": 62,
   "metadata": {},
   "outputs": [],
   "source": [
    "cos_top_topics = find_max_n(list(cos), 6)"
   ]
  },
  {
   "cell_type": "markdown",
   "metadata": {},
   "source": [
    "## Extract top words in those top topics"
   ]
  },
  {
   "cell_type": "code",
   "execution_count": 63,
   "metadata": {},
   "outputs": [],
   "source": [
    "cos_cols = ['WORD_ID'] + [str(value) for value in cos_top_topics]"
   ]
  },
  {
   "cell_type": "code",
   "execution_count": 64,
   "metadata": {},
   "outputs": [],
   "source": [
    "cos_top_phis_df = phis_df[cos_cols]"
   ]
  },
  {
   "cell_type": "code",
   "execution_count": 65,
   "metadata": {},
   "outputs": [
    {
     "data": {
      "text/html": [
       "<div>\n",
       "<style scoped>\n",
       "    .dataframe tbody tr th:only-of-type {\n",
       "        vertical-align: middle;\n",
       "    }\n",
       "\n",
       "    .dataframe tbody tr th {\n",
       "        vertical-align: top;\n",
       "    }\n",
       "\n",
       "    .dataframe thead th {\n",
       "        text-align: right;\n",
       "    }\n",
       "</style>\n",
       "<table border=\"1\" class=\"dataframe\">\n",
       "  <thead>\n",
       "    <tr style=\"text-align: right;\">\n",
       "      <th></th>\n",
       "      <th>WORD_ID</th>\n",
       "      <th>21</th>\n",
       "      <th>47</th>\n",
       "      <th>7</th>\n",
       "      <th>44</th>\n",
       "      <th>5</th>\n",
       "      <th>31</th>\n",
       "    </tr>\n",
       "  </thead>\n",
       "  <tbody>\n",
       "    <tr>\n",
       "      <td>0</td>\n",
       "      <td>0</td>\n",
       "      <td>8.646460e-07</td>\n",
       "      <td>9.717530e-07</td>\n",
       "      <td>6.337020e-07</td>\n",
       "      <td>9.022500e-07</td>\n",
       "      <td>1.402910e-05</td>\n",
       "      <td>4.315510e-07</td>\n",
       "    </tr>\n",
       "    <tr>\n",
       "      <td>1</td>\n",
       "      <td>1</td>\n",
       "      <td>7.934250e-07</td>\n",
       "      <td>5.573500e-07</td>\n",
       "      <td>5.744630e-07</td>\n",
       "      <td>5.305200e-07</td>\n",
       "      <td>2.478860e-05</td>\n",
       "      <td>6.125380e-04</td>\n",
       "    </tr>\n",
       "    <tr>\n",
       "      <td>2</td>\n",
       "      <td>2</td>\n",
       "      <td>4.076160e-08</td>\n",
       "      <td>8.532920e-08</td>\n",
       "      <td>2.987910e-08</td>\n",
       "      <td>5.485930e-08</td>\n",
       "      <td>2.662010e-08</td>\n",
       "      <td>3.263720e-08</td>\n",
       "    </tr>\n",
       "    <tr>\n",
       "      <td>3</td>\n",
       "      <td>3</td>\n",
       "      <td>8.267160e-08</td>\n",
       "      <td>4.454530e-07</td>\n",
       "      <td>5.723820e-08</td>\n",
       "      <td>1.108120e-07</td>\n",
       "      <td>5.738040e-08</td>\n",
       "      <td>6.563210e-08</td>\n",
       "    </tr>\n",
       "    <tr>\n",
       "      <td>4</td>\n",
       "      <td>4</td>\n",
       "      <td>3.615220e-08</td>\n",
       "      <td>4.348760e-08</td>\n",
       "      <td>2.648990e-08</td>\n",
       "      <td>3.994570e-08</td>\n",
       "      <td>1.714540e-08</td>\n",
       "      <td>2.260760e-08</td>\n",
       "    </tr>\n",
       "  </tbody>\n",
       "</table>\n",
       "</div>"
      ],
      "text/plain": [
       "   WORD_ID            21            47             7            44  \\\n",
       "0        0  8.646460e-07  9.717530e-07  6.337020e-07  9.022500e-07   \n",
       "1        1  7.934250e-07  5.573500e-07  5.744630e-07  5.305200e-07   \n",
       "2        2  4.076160e-08  8.532920e-08  2.987910e-08  5.485930e-08   \n",
       "3        3  8.267160e-08  4.454530e-07  5.723820e-08  1.108120e-07   \n",
       "4        4  3.615220e-08  4.348760e-08  2.648990e-08  3.994570e-08   \n",
       "\n",
       "              5            31  \n",
       "0  1.402910e-05  4.315510e-07  \n",
       "1  2.478860e-05  6.125380e-04  \n",
       "2  2.662010e-08  3.263720e-08  \n",
       "3  5.738040e-08  6.563210e-08  \n",
       "4  1.714540e-08  2.260760e-08  "
      ]
     },
     "execution_count": 65,
     "metadata": {},
     "output_type": "execute_result"
    }
   ],
   "source": [
    "cos_top_phis_df.head()"
   ]
  },
  {
   "cell_type": "code",
   "execution_count": 66,
   "metadata": {},
   "outputs": [
    {
     "data": {
      "text/html": [
       "<div>\n",
       "<style scoped>\n",
       "    .dataframe tbody tr th:only-of-type {\n",
       "        vertical-align: middle;\n",
       "    }\n",
       "\n",
       "    .dataframe tbody tr th {\n",
       "        vertical-align: top;\n",
       "    }\n",
       "\n",
       "    .dataframe thead th {\n",
       "        text-align: right;\n",
       "    }\n",
       "</style>\n",
       "<table border=\"1\" class=\"dataframe\">\n",
       "  <thead>\n",
       "    <tr style=\"text-align: right;\">\n",
       "      <th></th>\n",
       "      <th>WORD_ID</th>\n",
       "      <th>21</th>\n",
       "      <th>47</th>\n",
       "      <th>7</th>\n",
       "      <th>44</th>\n",
       "      <th>5</th>\n",
       "      <th>31</th>\n",
       "    </tr>\n",
       "  </thead>\n",
       "  <tbody>\n",
       "    <tr>\n",
       "      <td>12638</td>\n",
       "      <td>12638</td>\n",
       "      <td>1.119940e-02</td>\n",
       "      <td>1.736150e-02</td>\n",
       "      <td>3.019060e-02</td>\n",
       "      <td>1.259440e-02</td>\n",
       "      <td>3.347590e-02</td>\n",
       "      <td>4.840290e-03</td>\n",
       "    </tr>\n",
       "    <tr>\n",
       "      <td>2476</td>\n",
       "      <td>2476</td>\n",
       "      <td>7.986150e-03</td>\n",
       "      <td>3.521560e-04</td>\n",
       "      <td>1.023300e-04</td>\n",
       "      <td>6.469470e-04</td>\n",
       "      <td>1.173420e-03</td>\n",
       "      <td>6.148770e-07</td>\n",
       "    </tr>\n",
       "    <tr>\n",
       "      <td>9779</td>\n",
       "      <td>9779</td>\n",
       "      <td>7.643000e-03</td>\n",
       "      <td>2.772110e-06</td>\n",
       "      <td>2.093880e-06</td>\n",
       "      <td>4.056100e-03</td>\n",
       "      <td>1.206020e-06</td>\n",
       "      <td>1.964560e-02</td>\n",
       "    </tr>\n",
       "    <tr>\n",
       "      <td>11980</td>\n",
       "      <td>11980</td>\n",
       "      <td>7.564040e-03</td>\n",
       "      <td>1.211950e-03</td>\n",
       "      <td>2.463690e-05</td>\n",
       "      <td>2.716800e-03</td>\n",
       "      <td>8.812870e-06</td>\n",
       "      <td>1.230690e-02</td>\n",
       "    </tr>\n",
       "    <tr>\n",
       "      <td>6829</td>\n",
       "      <td>6829</td>\n",
       "      <td>6.985790e-03</td>\n",
       "      <td>8.675770e-04</td>\n",
       "      <td>2.047670e-02</td>\n",
       "      <td>9.468170e-03</td>\n",
       "      <td>3.273480e-03</td>\n",
       "      <td>4.191160e-03</td>\n",
       "    </tr>\n",
       "    <tr>\n",
       "      <td>...</td>\n",
       "      <td>...</td>\n",
       "      <td>...</td>\n",
       "      <td>...</td>\n",
       "      <td>...</td>\n",
       "      <td>...</td>\n",
       "      <td>...</td>\n",
       "      <td>...</td>\n",
       "    </tr>\n",
       "    <tr>\n",
       "      <td>4328</td>\n",
       "      <td>4328</td>\n",
       "      <td>1.516220e-08</td>\n",
       "      <td>2.319690e-08</td>\n",
       "      <td>1.005390e-08</td>\n",
       "      <td>2.041500e-08</td>\n",
       "      <td>9.228170e-09</td>\n",
       "      <td>1.214510e-08</td>\n",
       "    </tr>\n",
       "    <tr>\n",
       "      <td>2803</td>\n",
       "      <td>2803</td>\n",
       "      <td>1.451980e-08</td>\n",
       "      <td>2.213650e-08</td>\n",
       "      <td>9.601020e-09</td>\n",
       "      <td>1.956500e-08</td>\n",
       "      <td>8.790090e-09</td>\n",
       "      <td>1.159540e-08</td>\n",
       "    </tr>\n",
       "    <tr>\n",
       "      <td>5558</td>\n",
       "      <td>5558</td>\n",
       "      <td>1.423410e-08</td>\n",
       "      <td>2.041800e-08</td>\n",
       "      <td>8.890280e-09</td>\n",
       "      <td>1.787940e-08</td>\n",
       "      <td>8.070490e-09</td>\n",
       "      <td>1.079530e-08</td>\n",
       "    </tr>\n",
       "    <tr>\n",
       "      <td>15980</td>\n",
       "      <td>15980</td>\n",
       "      <td>1.380860e-08</td>\n",
       "      <td>2.111770e-08</td>\n",
       "      <td>9.126960e-09</td>\n",
       "      <td>1.853160e-08</td>\n",
       "      <td>8.376270e-09</td>\n",
       "      <td>1.106120e-08</td>\n",
       "    </tr>\n",
       "    <tr>\n",
       "      <td>2487</td>\n",
       "      <td>2487</td>\n",
       "      <td>1.276060e-08</td>\n",
       "      <td>1.949890e-08</td>\n",
       "      <td>8.486260e-09</td>\n",
       "      <td>1.707870e-08</td>\n",
       "      <td>7.710010e-09</td>\n",
       "      <td>1.021120e-08</td>\n",
       "    </tr>\n",
       "  </tbody>\n",
       "</table>\n",
       "<p>18407 rows × 7 columns</p>\n",
       "</div>"
      ],
      "text/plain": [
       "       WORD_ID            21            47             7            44  \\\n",
       "12638    12638  1.119940e-02  1.736150e-02  3.019060e-02  1.259440e-02   \n",
       "2476      2476  7.986150e-03  3.521560e-04  1.023300e-04  6.469470e-04   \n",
       "9779      9779  7.643000e-03  2.772110e-06  2.093880e-06  4.056100e-03   \n",
       "11980    11980  7.564040e-03  1.211950e-03  2.463690e-05  2.716800e-03   \n",
       "6829      6829  6.985790e-03  8.675770e-04  2.047670e-02  9.468170e-03   \n",
       "...        ...           ...           ...           ...           ...   \n",
       "4328      4328  1.516220e-08  2.319690e-08  1.005390e-08  2.041500e-08   \n",
       "2803      2803  1.451980e-08  2.213650e-08  9.601020e-09  1.956500e-08   \n",
       "5558      5558  1.423410e-08  2.041800e-08  8.890280e-09  1.787940e-08   \n",
       "15980    15980  1.380860e-08  2.111770e-08  9.126960e-09  1.853160e-08   \n",
       "2487      2487  1.276060e-08  1.949890e-08  8.486260e-09  1.707870e-08   \n",
       "\n",
       "                  5            31  \n",
       "12638  3.347590e-02  4.840290e-03  \n",
       "2476   1.173420e-03  6.148770e-07  \n",
       "9779   1.206020e-06  1.964560e-02  \n",
       "11980  8.812870e-06  1.230690e-02  \n",
       "6829   3.273480e-03  4.191160e-03  \n",
       "...             ...           ...  \n",
       "4328   9.228170e-09  1.214510e-08  \n",
       "2803   8.790090e-09  1.159540e-08  \n",
       "5558   8.070490e-09  1.079530e-08  \n",
       "15980  8.376270e-09  1.106120e-08  \n",
       "2487   7.710010e-09  1.021120e-08  \n",
       "\n",
       "[18407 rows x 7 columns]"
      ]
     },
     "execution_count": 66,
     "metadata": {},
     "output_type": "execute_result"
    }
   ],
   "source": [
    "cos_top_phis_df.sort_values(by='21', ascending=False)"
   ]
  },
  {
   "cell_type": "code",
   "execution_count": 67,
   "metadata": {},
   "outputs": [],
   "source": [
    "cos_top_words_bytopic = [cos_top_phis_df.sort_values(by=str(topic), ascending=False)['WORD_ID'][0:10] for topic in cos_top_topics]\n",
    "cos_top_words = []\n",
    "for sublist in cos_top_words_bytopic:\n",
    "    for word in sublist:\n",
    "        cos_top_words.append(word)"
   ]
  },
  {
   "cell_type": "code",
   "execution_count": 68,
   "metadata": {},
   "outputs": [],
   "source": [
    "cos_word_topic_matrix = cos_top_phis_df.iloc[[word_id for word_id in cos_top_words]]"
   ]
  },
  {
   "cell_type": "code",
   "execution_count": 69,
   "metadata": {},
   "outputs": [
    {
     "data": {
      "text/html": [
       "<div>\n",
       "<style scoped>\n",
       "    .dataframe tbody tr th:only-of-type {\n",
       "        vertical-align: middle;\n",
       "    }\n",
       "\n",
       "    .dataframe tbody tr th {\n",
       "        vertical-align: top;\n",
       "    }\n",
       "\n",
       "    .dataframe thead th {\n",
       "        text-align: right;\n",
       "    }\n",
       "</style>\n",
       "<table border=\"1\" class=\"dataframe\">\n",
       "  <thead>\n",
       "    <tr style=\"text-align: right;\">\n",
       "      <th></th>\n",
       "      <th>WORD_ID</th>\n",
       "      <th>21</th>\n",
       "      <th>47</th>\n",
       "      <th>7</th>\n",
       "      <th>44</th>\n",
       "      <th>5</th>\n",
       "      <th>31</th>\n",
       "    </tr>\n",
       "  </thead>\n",
       "  <tbody>\n",
       "    <tr>\n",
       "      <td>12638</td>\n",
       "      <td>12638</td>\n",
       "      <td>0.011199</td>\n",
       "      <td>0.017362</td>\n",
       "      <td>0.030191</td>\n",
       "      <td>0.012594</td>\n",
       "      <td>0.033476</td>\n",
       "      <td>4.840290e-03</td>\n",
       "    </tr>\n",
       "    <tr>\n",
       "      <td>2476</td>\n",
       "      <td>2476</td>\n",
       "      <td>0.007986</td>\n",
       "      <td>0.000352</td>\n",
       "      <td>0.000102</td>\n",
       "      <td>0.000647</td>\n",
       "      <td>0.001173</td>\n",
       "      <td>6.148770e-07</td>\n",
       "    </tr>\n",
       "    <tr>\n",
       "      <td>9779</td>\n",
       "      <td>9779</td>\n",
       "      <td>0.007643</td>\n",
       "      <td>0.000003</td>\n",
       "      <td>0.000002</td>\n",
       "      <td>0.004056</td>\n",
       "      <td>0.000001</td>\n",
       "      <td>1.964560e-02</td>\n",
       "    </tr>\n",
       "    <tr>\n",
       "      <td>11980</td>\n",
       "      <td>11980</td>\n",
       "      <td>0.007564</td>\n",
       "      <td>0.001212</td>\n",
       "      <td>0.000025</td>\n",
       "      <td>0.002717</td>\n",
       "      <td>0.000009</td>\n",
       "      <td>1.230690e-02</td>\n",
       "    </tr>\n",
       "    <tr>\n",
       "      <td>6829</td>\n",
       "      <td>6829</td>\n",
       "      <td>0.006986</td>\n",
       "      <td>0.000868</td>\n",
       "      <td>0.020477</td>\n",
       "      <td>0.009468</td>\n",
       "      <td>0.003273</td>\n",
       "      <td>4.191160e-03</td>\n",
       "    </tr>\n",
       "  </tbody>\n",
       "</table>\n",
       "</div>"
      ],
      "text/plain": [
       "       WORD_ID        21        47         7        44         5            31\n",
       "12638    12638  0.011199  0.017362  0.030191  0.012594  0.033476  4.840290e-03\n",
       "2476      2476  0.007986  0.000352  0.000102  0.000647  0.001173  6.148770e-07\n",
       "9779      9779  0.007643  0.000003  0.000002  0.004056  0.000001  1.964560e-02\n",
       "11980    11980  0.007564  0.001212  0.000025  0.002717  0.000009  1.230690e-02\n",
       "6829      6829  0.006986  0.000868  0.020477  0.009468  0.003273  4.191160e-03"
      ]
     },
     "execution_count": 69,
     "metadata": {},
     "output_type": "execute_result"
    }
   ],
   "source": [
    "cos_word_topic_matrix.head()"
   ]
  },
  {
   "cell_type": "code",
   "execution_count": 70,
   "metadata": {},
   "outputs": [],
   "source": [
    "cos_yticklabels = [vocab_df[vocab_df['WORD_ID'] == word_id]['WORD'].values[0] for word_id in cos_top_words]\n",
    "cos_xticklabels = [str(topic) for topic in cos_top_topics]"
   ]
  },
  {
   "cell_type": "code",
   "execution_count": 71,
   "metadata": {},
   "outputs": [
    {
     "data": {
      "text/plain": [
       "Text(0.5, 1, 'top words heatmap, cosine similarity with continuous duration')"
      ]
     },
     "execution_count": 71,
     "metadata": {},
     "output_type": "execute_result"
    },
    {
     "data": {
      "image/png": "[encoded data removed]",
      "text/plain": [
       "<Figure size 720x720 with 2 Axes>"
      ]
     },
     "metadata": {},
     "output_type": "display_data"
    }
   ],
   "source": [
    "plt.figure(figsize=(10,10))\n",
    "sns.heatmap(cos_word_topic_matrix.iloc[:, 1:], yticklabels=cos_yticklabels, xticklabels=cos_xticklabels, cmap='Reds')\n",
    "plt.title('top words heatmap, cosine similarity with continuous duration')"
   ]
  },
  {
   "cell_type": "code",
   "execution_count": 72,
   "metadata": {},
   "outputs": [
    {
     "data": {
      "text/plain": [
       "<seaborn.matrix.ClusterGrid at 0x7f381d4d4b70>"
      ]
     },
     "execution_count": 72,
     "metadata": {},
     "output_type": "execute_result"
    },
    {
     "data": {
      "image/png": "[encoded data removed]",
      "text/plain": [
       "<Figure size 720x720 with 4 Axes>"
      ]
     },
     "metadata": {},
     "output_type": "display_data"
    }
   ],
   "source": [
    "sns.set()\n",
    "sns.clustermap(cos_word_topic_matrix.iloc[:, 1:], yticklabels=cos_yticklabels, xticklabels=cos_xticklabels)"
   ]
  },
  {
   "cell_type": "markdown",
   "metadata": {},
   "source": [
    "### Try binarized"
   ]
  },
  {
   "cell_type": "code",
   "execution_count": 73,
   "metadata": {},
   "outputs": [],
   "source": [
    "bi_cos = normed_mixtures.apply(lambda mixture: mixture.corr(binary_duration, method=inner_prod))"
   ]
  },
  {
   "cell_type": "code",
   "execution_count": 74,
   "metadata": {},
   "outputs": [],
   "source": [
    "bi_cos_sorted = bi_cos.sort_values(ascending=False)"
   ]
  },
  {
   "cell_type": "code",
   "execution_count": 75,
   "metadata": {},
   "outputs": [
    {
     "data": {
      "text/plain": [
       "Text(0, 0.5, 'Cosine Similarity')"
      ]
     },
     "execution_count": 75,
     "metadata": {},
     "output_type": "execute_result"
    },
    {
     "data": {
      "image/png": "[encoded data removed]",
      "text/plain": [
       "<Figure size 1008x576 with 1 Axes>"
      ]
     },
     "metadata": {},
     "output_type": "display_data"
    }
   ],
   "source": [
    "plt.figure(figsize=(14, 8))\n",
    "plt.bar(x=range(len(bi_cos_sorted)), height=bi_cos_sorted)\n",
    "plt.title('Correlation between topics and binarized duration')\n",
    "plt.xlabel('Topic #')\n",
    "plt.xticks(range(len(bi_cos_sorted)), bi_cos_sorted.index)\n",
    "plt.ylabel('Cosine Similarity')"
   ]
  },
  {
   "cell_type": "markdown",
   "metadata": {},
   "source": [
    "## Select most correlated topics and map back to words"
   ]
  },
  {
   "cell_type": "code",
   "execution_count": 76,
   "metadata": {},
   "outputs": [],
   "source": [
    "bi_cos_top_topics = find_max_n(list(bi_cos), 6)"
   ]
  },
  {
   "cell_type": "markdown",
   "metadata": {},
   "source": [
    "## Extract top words in those top topics"
   ]
  },
  {
   "cell_type": "code",
   "execution_count": 77,
   "metadata": {},
   "outputs": [],
   "source": [
    "bi_cos_cols = ['WORD_ID'] + [str(value) for value in bi_cos_top_topics]"
   ]
  },
  {
   "cell_type": "code",
   "execution_count": 78,
   "metadata": {},
   "outputs": [],
   "source": [
    "bi_cos_top_phis_df = phis_df[bi_cos_cols]"
   ]
  },
  {
   "cell_type": "code",
   "execution_count": 79,
   "metadata": {},
   "outputs": [
    {
     "data": {
      "text/html": [
       "<div>\n",
       "<style scoped>\n",
       "    .dataframe tbody tr th:only-of-type {\n",
       "        vertical-align: middle;\n",
       "    }\n",
       "\n",
       "    .dataframe tbody tr th {\n",
       "        vertical-align: top;\n",
       "    }\n",
       "\n",
       "    .dataframe thead th {\n",
       "        text-align: right;\n",
       "    }\n",
       "</style>\n",
       "<table border=\"1\" class=\"dataframe\">\n",
       "  <thead>\n",
       "    <tr style=\"text-align: right;\">\n",
       "      <th></th>\n",
       "      <th>WORD_ID</th>\n",
       "      <th>47</th>\n",
       "      <th>21</th>\n",
       "      <th>5</th>\n",
       "      <th>44</th>\n",
       "      <th>7</th>\n",
       "      <th>3</th>\n",
       "    </tr>\n",
       "  </thead>\n",
       "  <tbody>\n",
       "    <tr>\n",
       "      <td>0</td>\n",
       "      <td>0</td>\n",
       "      <td>9.717530e-07</td>\n",
       "      <td>8.646460e-07</td>\n",
       "      <td>1.402910e-05</td>\n",
       "      <td>9.022500e-07</td>\n",
       "      <td>6.337020e-07</td>\n",
       "      <td>1.565500e-06</td>\n",
       "    </tr>\n",
       "    <tr>\n",
       "      <td>1</td>\n",
       "      <td>1</td>\n",
       "      <td>5.573500e-07</td>\n",
       "      <td>7.934250e-07</td>\n",
       "      <td>2.478860e-05</td>\n",
       "      <td>5.305200e-07</td>\n",
       "      <td>5.744630e-07</td>\n",
       "      <td>6.227720e-07</td>\n",
       "    </tr>\n",
       "    <tr>\n",
       "      <td>2</td>\n",
       "      <td>2</td>\n",
       "      <td>8.532920e-08</td>\n",
       "      <td>4.076160e-08</td>\n",
       "      <td>2.662010e-08</td>\n",
       "      <td>5.485930e-08</td>\n",
       "      <td>2.987910e-08</td>\n",
       "      <td>3.463720e-08</td>\n",
       "    </tr>\n",
       "    <tr>\n",
       "      <td>3</td>\n",
       "      <td>3</td>\n",
       "      <td>4.454530e-07</td>\n",
       "      <td>8.267160e-08</td>\n",
       "      <td>5.738040e-08</td>\n",
       "      <td>1.108120e-07</td>\n",
       "      <td>5.723820e-08</td>\n",
       "      <td>7.140430e-08</td>\n",
       "    </tr>\n",
       "    <tr>\n",
       "      <td>4</td>\n",
       "      <td>4</td>\n",
       "      <td>4.348760e-08</td>\n",
       "      <td>3.615220e-08</td>\n",
       "      <td>1.714540e-08</td>\n",
       "      <td>3.994570e-08</td>\n",
       "      <td>2.648990e-08</td>\n",
       "      <td>2.795600e-08</td>\n",
       "    </tr>\n",
       "  </tbody>\n",
       "</table>\n",
       "</div>"
      ],
      "text/plain": [
       "   WORD_ID            47            21             5            44  \\\n",
       "0        0  9.717530e-07  8.646460e-07  1.402910e-05  9.022500e-07   \n",
       "1        1  5.573500e-07  7.934250e-07  2.478860e-05  5.305200e-07   \n",
       "2        2  8.532920e-08  4.076160e-08  2.662010e-08  5.485930e-08   \n",
       "3        3  4.454530e-07  8.267160e-08  5.738040e-08  1.108120e-07   \n",
       "4        4  4.348760e-08  3.615220e-08  1.714540e-08  3.994570e-08   \n",
       "\n",
       "              7             3  \n",
       "0  6.337020e-07  1.565500e-06  \n",
       "1  5.744630e-07  6.227720e-07  \n",
       "2  2.987910e-08  3.463720e-08  \n",
       "3  5.723820e-08  7.140430e-08  \n",
       "4  2.648990e-08  2.795600e-08  "
      ]
     },
     "execution_count": 79,
     "metadata": {},
     "output_type": "execute_result"
    }
   ],
   "source": [
    "bi_cos_top_phis_df.head()"
   ]
  },
  {
   "cell_type": "code",
   "execution_count": 80,
   "metadata": {},
   "outputs": [],
   "source": [
    "# bi_cos_top_phis_df.sort_values(by='21', ascending=False)"
   ]
  },
  {
   "cell_type": "code",
   "execution_count": 81,
   "metadata": {},
   "outputs": [],
   "source": [
    "bi_cos_top_words_bytopic = [bi_cos_top_phis_df.sort_values(by=str(topic), ascending=False)['WORD_ID'][0:10] for topic in bi_cos_top_topics]\n",
    "bi_cos_top_words = []\n",
    "for sublist in bi_cos_top_words_bytopic:\n",
    "    for word in sublist:\n",
    "        bi_cos_top_words.append(word)"
   ]
  },
  {
   "cell_type": "code",
   "execution_count": 82,
   "metadata": {},
   "outputs": [],
   "source": [
    "bi_cos_word_topic_matrix = bi_cos_top_phis_df.iloc[[word_id for word_id in bi_cos_top_words]]"
   ]
  },
  {
   "cell_type": "code",
   "execution_count": 83,
   "metadata": {},
   "outputs": [
    {
     "data": {
      "text/html": [
       "<div>\n",
       "<style scoped>\n",
       "    .dataframe tbody tr th:only-of-type {\n",
       "        vertical-align: middle;\n",
       "    }\n",
       "\n",
       "    .dataframe tbody tr th {\n",
       "        vertical-align: top;\n",
       "    }\n",
       "\n",
       "    .dataframe thead th {\n",
       "        text-align: right;\n",
       "    }\n",
       "</style>\n",
       "<table border=\"1\" class=\"dataframe\">\n",
       "  <thead>\n",
       "    <tr style=\"text-align: right;\">\n",
       "      <th></th>\n",
       "      <th>WORD_ID</th>\n",
       "      <th>47</th>\n",
       "      <th>21</th>\n",
       "      <th>5</th>\n",
       "      <th>44</th>\n",
       "      <th>7</th>\n",
       "      <th>3</th>\n",
       "    </tr>\n",
       "  </thead>\n",
       "  <tbody>\n",
       "    <tr>\n",
       "      <td>12638</td>\n",
       "      <td>12638</td>\n",
       "      <td>0.017362</td>\n",
       "      <td>0.011199</td>\n",
       "      <td>3.347590e-02</td>\n",
       "      <td>1.259440e-02</td>\n",
       "      <td>3.019060e-02</td>\n",
       "      <td>0.024192</td>\n",
       "    </tr>\n",
       "    <tr>\n",
       "      <td>11250</td>\n",
       "      <td>11250</td>\n",
       "      <td>0.010099</td>\n",
       "      <td>0.002306</td>\n",
       "      <td>2.367720e-03</td>\n",
       "      <td>4.746630e-04</td>\n",
       "      <td>1.016410e-05</td>\n",
       "      <td>0.000770</td>\n",
       "    </tr>\n",
       "    <tr>\n",
       "      <td>6451</td>\n",
       "      <td>6451</td>\n",
       "      <td>0.009440</td>\n",
       "      <td>0.000115</td>\n",
       "      <td>3.372700e-07</td>\n",
       "      <td>4.434050e-07</td>\n",
       "      <td>4.079120e-07</td>\n",
       "      <td>0.000283</td>\n",
       "    </tr>\n",
       "    <tr>\n",
       "      <td>13880</td>\n",
       "      <td>13880</td>\n",
       "      <td>0.008339</td>\n",
       "      <td>0.003210</td>\n",
       "      <td>1.101010e-03</td>\n",
       "      <td>3.390760e-03</td>\n",
       "      <td>1.607170e-03</td>\n",
       "      <td>0.001729</td>\n",
       "    </tr>\n",
       "    <tr>\n",
       "      <td>11893</td>\n",
       "      <td>11893</td>\n",
       "      <td>0.006623</td>\n",
       "      <td>0.005494</td>\n",
       "      <td>6.303690e-03</td>\n",
       "      <td>1.127150e-02</td>\n",
       "      <td>4.723870e-03</td>\n",
       "      <td>0.001775</td>\n",
       "    </tr>\n",
       "  </tbody>\n",
       "</table>\n",
       "</div>"
      ],
      "text/plain": [
       "       WORD_ID        47        21             5            44             7  \\\n",
       "12638    12638  0.017362  0.011199  3.347590e-02  1.259440e-02  3.019060e-02   \n",
       "11250    11250  0.010099  0.002306  2.367720e-03  4.746630e-04  1.016410e-05   \n",
       "6451      6451  0.009440  0.000115  3.372700e-07  4.434050e-07  4.079120e-07   \n",
       "13880    13880  0.008339  0.003210  1.101010e-03  3.390760e-03  1.607170e-03   \n",
       "11893    11893  0.006623  0.005494  6.303690e-03  1.127150e-02  4.723870e-03   \n",
       "\n",
       "              3  \n",
       "12638  0.024192  \n",
       "11250  0.000770  \n",
       "6451   0.000283  \n",
       "13880  0.001729  \n",
       "11893  0.001775  "
      ]
     },
     "execution_count": 83,
     "metadata": {},
     "output_type": "execute_result"
    }
   ],
   "source": [
    "bi_cos_word_topic_matrix.head()"
   ]
  },
  {
   "cell_type": "code",
   "execution_count": 84,
   "metadata": {},
   "outputs": [],
   "source": [
    "bi_cos_yticklabels = [vocab_df[vocab_df['WORD_ID'] == word_id]['WORD'].values[0] for word_id in bi_cos_top_words]\n",
    "bi_cos_xticklabels = [str(topic) for topic in bi_cos_top_topics]"
   ]
  },
  {
   "cell_type": "code",
   "execution_count": 85,
   "metadata": {},
   "outputs": [
    {
     "data": {
      "text/plain": [
       "Text(0.5, 1, 'top words heatmap, cosine similarity with binarized duration')"
      ]
     },
     "execution_count": 85,
     "metadata": {},
     "output_type": "execute_result"
    },
    {
     "data": {
      "image/png": "[encoded data removed]",
      "text/plain": [
       "<Figure size 720x720 with 2 Axes>"
      ]
     },
     "metadata": {},
     "output_type": "display_data"
    }
   ],
   "source": [
    "plt.figure(figsize=(10,10))\n",
    "sns.heatmap(cos_word_topic_matrix.iloc[:, 1:], yticklabels=bi_cos_yticklabels, xticklabels=bi_cos_xticklabels, cmap='Reds')\n",
    "plt.title('top words heatmap, cosine similarity with binarized duration')"
   ]
  },
  {
   "cell_type": "code",
   "execution_count": 86,
   "metadata": {},
   "outputs": [
    {
     "data": {
      "text/plain": [
       "<seaborn.matrix.ClusterGrid at 0x7f381d111b38>"
      ]
     },
     "execution_count": 86,
     "metadata": {},
     "output_type": "execute_result"
    },
    {
     "data": {
      "image/png": "[encoded data removed]",
      "text/plain": [
       "<Figure size 720x720 with 4 Axes>"
      ]
     },
     "metadata": {},
     "output_type": "display_data"
    }
   ],
   "source": [
    "sns.set()\n",
    "sns.clustermap(bi_cos_word_topic_matrix.iloc[:, 1:], yticklabels=bi_cos_yticklabels, xticklabels=bi_cos_xticklabels)"
   ]
  }
 ],
 "metadata": {
  "kernelspec": {
   "display_name": "Python 3",
   "language": "python",
   "name": "python3"
  },
  "language_info": {
   "codemirror_mode": {
    "name": "ipython",
    "version": 3
   },
   "file_extension": ".py",
   "mimetype": "text/x-python",
   "name": "python",
   "nbconvert_exporter": "python",
   "pygments_lexer": "ipython3",
   "version": "3.7.3"
  }
 },
 "nbformat": 4,
 "nbformat_minor": 4
}
