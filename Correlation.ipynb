{
 "cells": [
  {
   "cell_type": "markdown",
   "metadata": {},
   "source": [
    "# Correlate topic mixtures from MixEHR with ventilation duration"
   ]
  },
  {
   "cell_type": "code",
   "execution_count": 1,
   "metadata": {},
   "outputs": [],
   "source": [
    "import pandas as pd\n",
    "import numpy as np\n",
    "import matplotlib.pyplot as plt\n",
    "from sklearn.preprocessing import normalize\n",
    "import seaborn as sns\n",
    "%matplotlib inline"
   ]
  },
  {
   "cell_type": "markdown",
   "metadata": {},
   "source": [
    "## Read data"
   ]
  },
  {
   "cell_type": "code",
   "execution_count": 2,
   "metadata": {},
   "outputs": [],
   "source": [
    "mixtures = pd.read_csv('/home/mcb/li_lab/zwen8/data/mimic/d2_phy_48/infer/infer_result.csv', header=None)\n",
    "duration = pd.read_csv('/home/mcb/li_lab/zwen8/data/mimic/d2_phy_48/vent.txt', header=None, sep=' ')\n",
    "duration = duration[1].astype(np.float64)"
   ]
  },
  {
   "cell_type": "code",
   "execution_count": 3,
   "metadata": {},
   "outputs": [
    {
     "name": "stdout",
     "output_type": "stream",
     "text": [
      "(826,)\n",
      "(826, 50)\n"
     ]
    }
   ],
   "source": [
    "print(duration.shape)\n",
    "print(mixtures.shape)"
   ]
  },
  {
   "cell_type": "code",
   "execution_count": 4,
   "metadata": {},
   "outputs": [
    {
     "data": {
      "text/html": [
       "<div>\n",
       "<style scoped>\n",
       "    .dataframe tbody tr th:only-of-type {\n",
       "        vertical-align: middle;\n",
       "    }\n",
       "\n",
       "    .dataframe tbody tr th {\n",
       "        vertical-align: top;\n",
       "    }\n",
       "\n",
       "    .dataframe thead th {\n",
       "        text-align: right;\n",
       "    }\n",
       "</style>\n",
       "<table border=\"1\" class=\"dataframe\">\n",
       "  <thead>\n",
       "    <tr style=\"text-align: right;\">\n",
       "      <th></th>\n",
       "      <th>0</th>\n",
       "      <th>1</th>\n",
       "      <th>2</th>\n",
       "      <th>3</th>\n",
       "      <th>4</th>\n",
       "      <th>5</th>\n",
       "      <th>6</th>\n",
       "      <th>7</th>\n",
       "      <th>8</th>\n",
       "      <th>9</th>\n",
       "      <th>...</th>\n",
       "      <th>40</th>\n",
       "      <th>41</th>\n",
       "      <th>42</th>\n",
       "      <th>43</th>\n",
       "      <th>44</th>\n",
       "      <th>45</th>\n",
       "      <th>46</th>\n",
       "      <th>47</th>\n",
       "      <th>48</th>\n",
       "      <th>49</th>\n",
       "    </tr>\n",
       "  </thead>\n",
       "  <tbody>\n",
       "    <tr>\n",
       "      <td>0</td>\n",
       "      <td>7.896194</td>\n",
       "      <td>25.325450</td>\n",
       "      <td>49.062370</td>\n",
       "      <td>28.171612</td>\n",
       "      <td>55.381585</td>\n",
       "      <td>114.641129</td>\n",
       "      <td>37.378997</td>\n",
       "      <td>1934.125272</td>\n",
       "      <td>75.154744</td>\n",
       "      <td>73.177982</td>\n",
       "      <td>...</td>\n",
       "      <td>10.458306</td>\n",
       "      <td>149.109897</td>\n",
       "      <td>12.816846</td>\n",
       "      <td>190.311150</td>\n",
       "      <td>26.287383</td>\n",
       "      <td>40.354918</td>\n",
       "      <td>48.288355</td>\n",
       "      <td>163.427479</td>\n",
       "      <td>187.641330</td>\n",
       "      <td>11.737734</td>\n",
       "    </tr>\n",
       "    <tr>\n",
       "      <td>1</td>\n",
       "      <td>38.230583</td>\n",
       "      <td>196.820229</td>\n",
       "      <td>103.804354</td>\n",
       "      <td>65.892508</td>\n",
       "      <td>259.870081</td>\n",
       "      <td>886.393740</td>\n",
       "      <td>24.742874</td>\n",
       "      <td>71.344213</td>\n",
       "      <td>98.922396</td>\n",
       "      <td>60.653703</td>\n",
       "      <td>...</td>\n",
       "      <td>1088.942482</td>\n",
       "      <td>234.231949</td>\n",
       "      <td>37.400009</td>\n",
       "      <td>60.909099</td>\n",
       "      <td>51.658664</td>\n",
       "      <td>22.300754</td>\n",
       "      <td>292.772476</td>\n",
       "      <td>80.515870</td>\n",
       "      <td>136.517124</td>\n",
       "      <td>31.439172</td>\n",
       "    </tr>\n",
       "    <tr>\n",
       "      <td>2</td>\n",
       "      <td>62.163860</td>\n",
       "      <td>58.745870</td>\n",
       "      <td>439.974392</td>\n",
       "      <td>198.471346</td>\n",
       "      <td>301.264318</td>\n",
       "      <td>847.679501</td>\n",
       "      <td>81.333169</td>\n",
       "      <td>1035.293702</td>\n",
       "      <td>99.049412</td>\n",
       "      <td>41.114422</td>\n",
       "      <td>...</td>\n",
       "      <td>3615.070685</td>\n",
       "      <td>339.046697</td>\n",
       "      <td>161.024697</td>\n",
       "      <td>25.143479</td>\n",
       "      <td>164.492117</td>\n",
       "      <td>55.010944</td>\n",
       "      <td>26.108099</td>\n",
       "      <td>189.442940</td>\n",
       "      <td>789.575027</td>\n",
       "      <td>163.864721</td>\n",
       "    </tr>\n",
       "    <tr>\n",
       "      <td>3</td>\n",
       "      <td>99.007686</td>\n",
       "      <td>27.412282</td>\n",
       "      <td>339.389259</td>\n",
       "      <td>51.412101</td>\n",
       "      <td>100.552610</td>\n",
       "      <td>3657.669255</td>\n",
       "      <td>63.729114</td>\n",
       "      <td>287.753919</td>\n",
       "      <td>29.219758</td>\n",
       "      <td>59.254103</td>\n",
       "      <td>...</td>\n",
       "      <td>255.407597</td>\n",
       "      <td>52.793254</td>\n",
       "      <td>105.320171</td>\n",
       "      <td>17.593607</td>\n",
       "      <td>173.344737</td>\n",
       "      <td>450.786723</td>\n",
       "      <td>86.008467</td>\n",
       "      <td>834.267468</td>\n",
       "      <td>32.730664</td>\n",
       "      <td>78.062163</td>\n",
       "    </tr>\n",
       "    <tr>\n",
       "      <td>4</td>\n",
       "      <td>117.847127</td>\n",
       "      <td>56.519920</td>\n",
       "      <td>49.636287</td>\n",
       "      <td>163.464343</td>\n",
       "      <td>49.717566</td>\n",
       "      <td>637.006501</td>\n",
       "      <td>14.690521</td>\n",
       "      <td>406.929284</td>\n",
       "      <td>284.505057</td>\n",
       "      <td>156.599912</td>\n",
       "      <td>...</td>\n",
       "      <td>151.828683</td>\n",
       "      <td>36.009044</td>\n",
       "      <td>108.958213</td>\n",
       "      <td>159.454871</td>\n",
       "      <td>14.756316</td>\n",
       "      <td>66.113372</td>\n",
       "      <td>141.814496</td>\n",
       "      <td>208.343489</td>\n",
       "      <td>78.076893</td>\n",
       "      <td>106.165659</td>\n",
       "    </tr>\n",
       "  </tbody>\n",
       "</table>\n",
       "<p>5 rows × 50 columns</p>\n",
       "</div>"
      ],
      "text/plain": [
       "           0           1           2           3           4            5   \\\n",
       "0    7.896194   25.325450   49.062370   28.171612   55.381585   114.641129   \n",
       "1   38.230583  196.820229  103.804354   65.892508  259.870081   886.393740   \n",
       "2   62.163860   58.745870  439.974392  198.471346  301.264318   847.679501   \n",
       "3   99.007686   27.412282  339.389259   51.412101  100.552610  3657.669255   \n",
       "4  117.847127   56.519920   49.636287  163.464343   49.717566   637.006501   \n",
       "\n",
       "          6            7           8           9   ...           40  \\\n",
       "0  37.378997  1934.125272   75.154744   73.177982  ...    10.458306   \n",
       "1  24.742874    71.344213   98.922396   60.653703  ...  1088.942482   \n",
       "2  81.333169  1035.293702   99.049412   41.114422  ...  3615.070685   \n",
       "3  63.729114   287.753919   29.219758   59.254103  ...   255.407597   \n",
       "4  14.690521   406.929284  284.505057  156.599912  ...   151.828683   \n",
       "\n",
       "           41          42          43          44          45          46  \\\n",
       "0  149.109897   12.816846  190.311150   26.287383   40.354918   48.288355   \n",
       "1  234.231949   37.400009   60.909099   51.658664   22.300754  292.772476   \n",
       "2  339.046697  161.024697   25.143479  164.492117   55.010944   26.108099   \n",
       "3   52.793254  105.320171   17.593607  173.344737  450.786723   86.008467   \n",
       "4   36.009044  108.958213  159.454871   14.756316   66.113372  141.814496   \n",
       "\n",
       "           47          48          49  \n",
       "0  163.427479  187.641330   11.737734  \n",
       "1   80.515870  136.517124   31.439172  \n",
       "2  189.442940  789.575027  163.864721  \n",
       "3  834.267468   32.730664   78.062163  \n",
       "4  208.343489   78.076893  106.165659  \n",
       "\n",
       "[5 rows x 50 columns]"
      ]
     },
     "execution_count": 4,
     "metadata": {},
     "output_type": "execute_result"
    }
   ],
   "source": [
    "mixtures.head()"
   ]
  },
  {
   "cell_type": "code",
   "execution_count": 5,
   "metadata": {},
   "outputs": [
    {
     "data": {
      "text/plain": [
       "0    542.000000\n",
       "1     42.000000\n",
       "2    182.383333\n",
       "3    402.250000\n",
       "4    253.816667\n",
       "Name: 1, dtype: float64"
      ]
     },
     "execution_count": 5,
     "metadata": {},
     "output_type": "execute_result"
    }
   ],
   "source": [
    "duration.head()"
   ]
  },
  {
   "cell_type": "markdown",
   "metadata": {},
   "source": [
    "## Normalize"
   ]
  },
  {
   "cell_type": "code",
   "execution_count": 6,
   "metadata": {},
   "outputs": [],
   "source": [
    "normed_mixtures = pd.DataFrame(normalize(mixtures.iloc[:,2:51], norm='l1', axis=1))"
   ]
  },
  {
   "cell_type": "code",
   "execution_count": 7,
   "metadata": {},
   "outputs": [
    {
     "data": {
      "text/plain": [
       "0      12116.0\n",
       "1       8750.0\n",
       "2      13776.0\n",
       "3      24708.0\n",
       "4      10887.0\n",
       "        ...   \n",
       "821    18292.0\n",
       "822     5089.0\n",
       "823     1968.0\n",
       "824    10198.0\n",
       "825     9156.0\n",
       "Length: 826, dtype: float64"
      ]
     },
     "execution_count": 7,
     "metadata": {},
     "output_type": "execute_result"
    }
   ],
   "source": [
    "mixtures.sum(axis=1)"
   ]
  },
  {
   "cell_type": "markdown",
   "metadata": {},
   "source": [
    "## See if mixture's rows sum up to 1"
   ]
  },
  {
   "cell_type": "code",
   "execution_count": 8,
   "metadata": {},
   "outputs": [
    {
     "data": {
      "text/plain": [
       "0      1.0\n",
       "1      1.0\n",
       "2      1.0\n",
       "3      1.0\n",
       "4      1.0\n",
       "      ... \n",
       "821    1.0\n",
       "822    1.0\n",
       "823    1.0\n",
       "824    1.0\n",
       "825    1.0\n",
       "Length: 826, dtype: float64"
      ]
     },
     "execution_count": 8,
     "metadata": {},
     "output_type": "execute_result"
    }
   ],
   "source": [
    "normed_mixtures.sum(axis=1)"
   ]
  },
  {
   "cell_type": "markdown",
   "metadata": {},
   "source": [
    "## Heatmap"
   ]
  },
  {
   "cell_type": "code",
   "execution_count": 9,
   "metadata": {},
   "outputs": [
    {
     "data": {
      "text/html": [
       "<div>\n",
       "<style scoped>\n",
       "    .dataframe tbody tr th:only-of-type {\n",
       "        vertical-align: middle;\n",
       "    }\n",
       "\n",
       "    .dataframe tbody tr th {\n",
       "        vertical-align: top;\n",
       "    }\n",
       "\n",
       "    .dataframe thead th {\n",
       "        text-align: right;\n",
       "    }\n",
       "</style>\n",
       "<table border=\"1\" class=\"dataframe\">\n",
       "  <thead>\n",
       "    <tr style=\"text-align: right;\">\n",
       "      <th></th>\n",
       "      <th>0</th>\n",
       "      <th>1</th>\n",
       "      <th>2</th>\n",
       "      <th>3</th>\n",
       "      <th>4</th>\n",
       "      <th>5</th>\n",
       "      <th>6</th>\n",
       "      <th>7</th>\n",
       "      <th>8</th>\n",
       "      <th>9</th>\n",
       "      <th>...</th>\n",
       "      <th>38</th>\n",
       "      <th>39</th>\n",
       "      <th>40</th>\n",
       "      <th>41</th>\n",
       "      <th>42</th>\n",
       "      <th>43</th>\n",
       "      <th>44</th>\n",
       "      <th>45</th>\n",
       "      <th>46</th>\n",
       "      <th>47</th>\n",
       "    </tr>\n",
       "  </thead>\n",
       "  <tbody>\n",
       "    <tr>\n",
       "      <td>0</td>\n",
       "      <td>0.004061</td>\n",
       "      <td>0.002332</td>\n",
       "      <td>0.004584</td>\n",
       "      <td>0.009488</td>\n",
       "      <td>0.003094</td>\n",
       "      <td>0.160073</td>\n",
       "      <td>0.006220</td>\n",
       "      <td>0.006056</td>\n",
       "      <td>0.043022</td>\n",
       "      <td>0.002808</td>\n",
       "      <td>...</td>\n",
       "      <td>0.000866</td>\n",
       "      <td>0.012341</td>\n",
       "      <td>0.001061</td>\n",
       "      <td>0.015751</td>\n",
       "      <td>0.002176</td>\n",
       "      <td>0.003340</td>\n",
       "      <td>0.003996</td>\n",
       "      <td>0.013526</td>\n",
       "      <td>0.015530</td>\n",
       "      <td>0.000971</td>\n",
       "    </tr>\n",
       "    <tr>\n",
       "      <td>1</td>\n",
       "      <td>0.012191</td>\n",
       "      <td>0.007738</td>\n",
       "      <td>0.030519</td>\n",
       "      <td>0.104099</td>\n",
       "      <td>0.002906</td>\n",
       "      <td>0.008379</td>\n",
       "      <td>0.011617</td>\n",
       "      <td>0.007123</td>\n",
       "      <td>0.002254</td>\n",
       "      <td>0.014656</td>\n",
       "      <td>...</td>\n",
       "      <td>0.127886</td>\n",
       "      <td>0.027508</td>\n",
       "      <td>0.004392</td>\n",
       "      <td>0.007153</td>\n",
       "      <td>0.006067</td>\n",
       "      <td>0.002619</td>\n",
       "      <td>0.034383</td>\n",
       "      <td>0.009456</td>\n",
       "      <td>0.016033</td>\n",
       "      <td>0.003692</td>\n",
       "    </tr>\n",
       "    <tr>\n",
       "      <td>2</td>\n",
       "      <td>0.032221</td>\n",
       "      <td>0.014535</td>\n",
       "      <td>0.022062</td>\n",
       "      <td>0.062078</td>\n",
       "      <td>0.005956</td>\n",
       "      <td>0.075817</td>\n",
       "      <td>0.007254</td>\n",
       "      <td>0.003011</td>\n",
       "      <td>0.045787</td>\n",
       "      <td>0.008582</td>\n",
       "      <td>...</td>\n",
       "      <td>0.264742</td>\n",
       "      <td>0.024829</td>\n",
       "      <td>0.011792</td>\n",
       "      <td>0.001841</td>\n",
       "      <td>0.012046</td>\n",
       "      <td>0.004029</td>\n",
       "      <td>0.001912</td>\n",
       "      <td>0.013873</td>\n",
       "      <td>0.057823</td>\n",
       "      <td>0.012000</td>\n",
       "    </tr>\n",
       "    <tr>\n",
       "      <td>3</td>\n",
       "      <td>0.013807</td>\n",
       "      <td>0.002091</td>\n",
       "      <td>0.004091</td>\n",
       "      <td>0.148797</td>\n",
       "      <td>0.002593</td>\n",
       "      <td>0.011706</td>\n",
       "      <td>0.001189</td>\n",
       "      <td>0.002411</td>\n",
       "      <td>0.004274</td>\n",
       "      <td>0.005175</td>\n",
       "      <td>...</td>\n",
       "      <td>0.010390</td>\n",
       "      <td>0.002148</td>\n",
       "      <td>0.004285</td>\n",
       "      <td>0.000716</td>\n",
       "      <td>0.007052</td>\n",
       "      <td>0.018338</td>\n",
       "      <td>0.003499</td>\n",
       "      <td>0.033939</td>\n",
       "      <td>0.001332</td>\n",
       "      <td>0.003176</td>\n",
       "    </tr>\n",
       "    <tr>\n",
       "      <td>4</td>\n",
       "      <td>0.004633</td>\n",
       "      <td>0.015259</td>\n",
       "      <td>0.004641</td>\n",
       "      <td>0.059463</td>\n",
       "      <td>0.001371</td>\n",
       "      <td>0.037986</td>\n",
       "      <td>0.026558</td>\n",
       "      <td>0.014618</td>\n",
       "      <td>0.007134</td>\n",
       "      <td>0.059994</td>\n",
       "      <td>...</td>\n",
       "      <td>0.014173</td>\n",
       "      <td>0.003361</td>\n",
       "      <td>0.010171</td>\n",
       "      <td>0.014885</td>\n",
       "      <td>0.001377</td>\n",
       "      <td>0.006172</td>\n",
       "      <td>0.013238</td>\n",
       "      <td>0.019448</td>\n",
       "      <td>0.007288</td>\n",
       "      <td>0.009910</td>\n",
       "    </tr>\n",
       "  </tbody>\n",
       "</table>\n",
       "<p>5 rows × 48 columns</p>\n",
       "</div>"
      ],
      "text/plain": [
       "         0         1         2         3         4         5         6   \\\n",
       "0  0.004061  0.002332  0.004584  0.009488  0.003094  0.160073  0.006220   \n",
       "1  0.012191  0.007738  0.030519  0.104099  0.002906  0.008379  0.011617   \n",
       "2  0.032221  0.014535  0.022062  0.062078  0.005956  0.075817  0.007254   \n",
       "3  0.013807  0.002091  0.004091  0.148797  0.002593  0.011706  0.001189   \n",
       "4  0.004633  0.015259  0.004641  0.059463  0.001371  0.037986  0.026558   \n",
       "\n",
       "         7         8         9   ...        38        39        40        41  \\\n",
       "0  0.006056  0.043022  0.002808  ...  0.000866  0.012341  0.001061  0.015751   \n",
       "1  0.007123  0.002254  0.014656  ...  0.127886  0.027508  0.004392  0.007153   \n",
       "2  0.003011  0.045787  0.008582  ...  0.264742  0.024829  0.011792  0.001841   \n",
       "3  0.002411  0.004274  0.005175  ...  0.010390  0.002148  0.004285  0.000716   \n",
       "4  0.014618  0.007134  0.059994  ...  0.014173  0.003361  0.010171  0.014885   \n",
       "\n",
       "         42        43        44        45        46        47  \n",
       "0  0.002176  0.003340  0.003996  0.013526  0.015530  0.000971  \n",
       "1  0.006067  0.002619  0.034383  0.009456  0.016033  0.003692  \n",
       "2  0.012046  0.004029  0.001912  0.013873  0.057823  0.012000  \n",
       "3  0.007052  0.018338  0.003499  0.033939  0.001332  0.003176  \n",
       "4  0.001377  0.006172  0.013238  0.019448  0.007288  0.009910  \n",
       "\n",
       "[5 rows x 48 columns]"
      ]
     },
     "execution_count": 9,
     "metadata": {},
     "output_type": "execute_result"
    }
   ],
   "source": [
    "normed_mixtures.head()"
   ]
  },
  {
   "cell_type": "code",
   "execution_count": 65,
   "metadata": {},
   "outputs": [],
   "source": [
    "sorted_normed_mixtures = normed_mixtures.sort_values(by=normed_mixtures.columns[17], ascending=False)"
   ]
  },
  {
   "cell_type": "code",
   "execution_count": 66,
   "metadata": {},
   "outputs": [
    {
     "data": {
      "text/plain": [
       "<matplotlib.axes._subplots.AxesSubplot at 0x7f9a51164828>"
      ]
     },
     "execution_count": 66,
     "metadata": {},
     "output_type": "execute_result"
    },
    {
     "data": {
      "image/png": "[encoded data removed]",
      "text/plain": [
       "<Figure size 432x288 with 2 Axes>"
      ]
     },
     "metadata": {},
     "output_type": "display_data"
    }
   ],
   "source": [
    "sns.set()\n",
    "sns.heatmap(sorted_normed_mixtures.head(50))"
   ]
  },
  {
   "cell_type": "code",
   "execution_count": 12,
   "metadata": {},
   "outputs": [
    {
     "data": {
      "text/plain": [
       "<matplotlib.axes._subplots.AxesSubplot at 0x7f9a52a5e940>"
      ]
     },
     "execution_count": 12,
     "metadata": {},
     "output_type": "execute_result"
    },
    {
     "data": {
      "image/png": "[encoded data removed]",
      "text/plain": [
       "<Figure size 432x288 with 2 Axes>"
      ]
     },
     "metadata": {},
     "output_type": "display_data"
    }
   ],
   "source": [
    "sns.heatmap(normed_mixtures)"
   ]
  },
  {
   "cell_type": "markdown",
   "metadata": {},
   "source": [
    "## Compute correlation"
   ]
  },
  {
   "cell_type": "code",
   "execution_count": 13,
   "metadata": {},
   "outputs": [],
   "source": [
    "corr = normed_mixtures.apply(lambda mixture: mixture.corr(duration, method='pearson'))"
   ]
  },
  {
   "cell_type": "code",
   "execution_count": 14,
   "metadata": {},
   "outputs": [],
   "source": [
    "corr_sorted = corr.sort_values(ascending=False)"
   ]
  },
  {
   "cell_type": "code",
   "execution_count": 15,
   "metadata": {},
   "outputs": [
    {
     "data": {
      "text/plain": [
       "Text(0, 0.5, 'Pearson Correlation')"
      ]
     },
     "execution_count": 15,
     "metadata": {},
     "output_type": "execute_result"
    },
    {
     "data": {
      "image/png": "[encoded data removed]",
      "text/plain": [
       "<Figure size 1008x576 with 1 Axes>"
      ]
     },
     "metadata": {},
     "output_type": "display_data"
    }
   ],
   "source": [
    "plt.figure(figsize=(14, 8))\n",
    "plt.bar(x=range(len(corr)), height=corr_sorted)\n",
    "plt.title('Correlation between topics and continuous duration')\n",
    "plt.xlabel('Topic #')\n",
    "plt.xticks(range(len(corr)), corr_sorted.index)\n",
    "plt.ylabel('Pearson Correlation')"
   ]
  },
  {
   "cell_type": "markdown",
   "metadata": {},
   "source": [
    "## Select most correlated topics and map back to words"
   ]
  },
  {
   "cell_type": "code",
   "execution_count": 16,
   "metadata": {},
   "outputs": [],
   "source": [
    "def find_max_n(numbers, n=3):\n",
    "    sorted_numbers = sorted(numbers, reverse=True)\n",
    "    return [numbers.index(number) for number in sorted_numbers[0:n]]"
   ]
  },
  {
   "cell_type": "code",
   "execution_count": 17,
   "metadata": {},
   "outputs": [],
   "source": [
    "top_pos = find_max_n(list(corr), 3)\n",
    "top_neg = find_max_n(list(-corr), 3)"
   ]
  },
  {
   "cell_type": "code",
   "execution_count": 18,
   "metadata": {},
   "outputs": [
    {
     "data": {
      "text/plain": [
       "[42, 17, 16]"
      ]
     },
     "execution_count": 18,
     "metadata": {},
     "output_type": "execute_result"
    }
   ],
   "source": [
    "top_neg"
   ]
  },
  {
   "cell_type": "code",
   "execution_count": 19,
   "metadata": {},
   "outputs": [
    {
     "data": {
      "text/plain": [
       "[23, 8, 36, 42, 17, 16]"
      ]
     },
     "execution_count": 19,
     "metadata": {},
     "output_type": "execute_result"
    }
   ],
   "source": [
    "top_topics = top_pos + top_neg\n",
    "top_topics"
   ]
  },
  {
   "cell_type": "markdown",
   "metadata": {},
   "source": [
    "## Extract top words in those top topics"
   ]
  },
  {
   "cell_type": "code",
   "execution_count": 20,
   "metadata": {},
   "outputs": [],
   "source": [
    "phis_df = pd.read_csv(r'/home/mcb/li_lab/zwen8/data/mimic/d2_phy_48/data_JCVB0_nmar_K50_iter762_phi_normalized.csv', header=None)"
   ]
  },
  {
   "cell_type": "code",
   "execution_count": 21,
   "metadata": {},
   "outputs": [],
   "source": [
    "phis_df.columns = ['PLACE_HOLD', 'WORD_ID'] + [str(idx) for idx in range(50)]"
   ]
  },
  {
   "cell_type": "code",
   "execution_count": 22,
   "metadata": {},
   "outputs": [
    {
     "data": {
      "text/html": [
       "<div>\n",
       "<style scoped>\n",
       "    .dataframe tbody tr th:only-of-type {\n",
       "        vertical-align: middle;\n",
       "    }\n",
       "\n",
       "    .dataframe tbody tr th {\n",
       "        vertical-align: top;\n",
       "    }\n",
       "\n",
       "    .dataframe thead th {\n",
       "        text-align: right;\n",
       "    }\n",
       "</style>\n",
       "<table border=\"1\" class=\"dataframe\">\n",
       "  <thead>\n",
       "    <tr style=\"text-align: right;\">\n",
       "      <th></th>\n",
       "      <th>PLACE_HOLD</th>\n",
       "      <th>WORD_ID</th>\n",
       "      <th>0</th>\n",
       "      <th>1</th>\n",
       "      <th>2</th>\n",
       "      <th>3</th>\n",
       "      <th>4</th>\n",
       "      <th>5</th>\n",
       "      <th>6</th>\n",
       "      <th>7</th>\n",
       "      <th>...</th>\n",
       "      <th>40</th>\n",
       "      <th>41</th>\n",
       "      <th>42</th>\n",
       "      <th>43</th>\n",
       "      <th>44</th>\n",
       "      <th>45</th>\n",
       "      <th>46</th>\n",
       "      <th>47</th>\n",
       "      <th>48</th>\n",
       "      <th>49</th>\n",
       "    </tr>\n",
       "  </thead>\n",
       "  <tbody>\n",
       "    <tr>\n",
       "      <td>0</td>\n",
       "      <td>1</td>\n",
       "      <td>0</td>\n",
       "      <td>2.495740e-05</td>\n",
       "      <td>5.367500e-07</td>\n",
       "      <td>1.631660e-04</td>\n",
       "      <td>8.010700e-07</td>\n",
       "      <td>4.317350e-07</td>\n",
       "      <td>2.695230e-07</td>\n",
       "      <td>4.307860e-07</td>\n",
       "      <td>3.416060e-07</td>\n",
       "      <td>...</td>\n",
       "      <td>1.035560e-05</td>\n",
       "      <td>7.148990e-07</td>\n",
       "      <td>1.819990e-04</td>\n",
       "      <td>7.783400e-07</td>\n",
       "      <td>2.024530e-04</td>\n",
       "      <td>7.559230e-07</td>\n",
       "      <td>9.668140e-05</td>\n",
       "      <td>1.560030e-04</td>\n",
       "      <td>4.475260e-07</td>\n",
       "      <td>3.270350e-05</td>\n",
       "    </tr>\n",
       "    <tr>\n",
       "      <td>1</td>\n",
       "      <td>1</td>\n",
       "      <td>1</td>\n",
       "      <td>4.250630e-07</td>\n",
       "      <td>2.751060e-07</td>\n",
       "      <td>6.674120e-05</td>\n",
       "      <td>4.014040e-07</td>\n",
       "      <td>3.398690e-04</td>\n",
       "      <td>2.373540e-07</td>\n",
       "      <td>7.068540e-07</td>\n",
       "      <td>8.593120e-07</td>\n",
       "      <td>...</td>\n",
       "      <td>2.771160e-07</td>\n",
       "      <td>6.607280e-07</td>\n",
       "      <td>2.970230e-07</td>\n",
       "      <td>1.256600e-06</td>\n",
       "      <td>3.947990e-04</td>\n",
       "      <td>4.080130e-07</td>\n",
       "      <td>3.117150e-07</td>\n",
       "      <td>4.536600e-07</td>\n",
       "      <td>3.838520e-07</td>\n",
       "      <td>2.793640e-04</td>\n",
       "    </tr>\n",
       "    <tr>\n",
       "      <td>2</td>\n",
       "      <td>1</td>\n",
       "      <td>2</td>\n",
       "      <td>1.821320e-05</td>\n",
       "      <td>9.676480e-08</td>\n",
       "      <td>8.726380e-08</td>\n",
       "      <td>1.346290e-07</td>\n",
       "      <td>1.172210e-07</td>\n",
       "      <td>4.924340e-08</td>\n",
       "      <td>8.651790e-08</td>\n",
       "      <td>8.387930e-08</td>\n",
       "      <td>...</td>\n",
       "      <td>1.692270e-07</td>\n",
       "      <td>1.791780e-07</td>\n",
       "      <td>1.760510e-07</td>\n",
       "      <td>1.641630e-07</td>\n",
       "      <td>8.323600e-08</td>\n",
       "      <td>1.436630e-07</td>\n",
       "      <td>2.659740e-07</td>\n",
       "      <td>1.841260e-07</td>\n",
       "      <td>1.145240e-07</td>\n",
       "      <td>1.549770e-07</td>\n",
       "    </tr>\n",
       "    <tr>\n",
       "      <td>3</td>\n",
       "      <td>1</td>\n",
       "      <td>3</td>\n",
       "      <td>1.336370e-07</td>\n",
       "      <td>8.779000e-08</td>\n",
       "      <td>5.204740e-08</td>\n",
       "      <td>1.442400e-07</td>\n",
       "      <td>6.255220e-08</td>\n",
       "      <td>3.212690e-08</td>\n",
       "      <td>7.999480e-08</td>\n",
       "      <td>1.124300e-07</td>\n",
       "      <td>...</td>\n",
       "      <td>5.936830e-06</td>\n",
       "      <td>1.696280e-07</td>\n",
       "      <td>9.687940e-08</td>\n",
       "      <td>1.037640e-07</td>\n",
       "      <td>7.736650e-08</td>\n",
       "      <td>1.114230e-07</td>\n",
       "      <td>1.053540e-07</td>\n",
       "      <td>1.486810e-07</td>\n",
       "      <td>1.059410e-07</td>\n",
       "      <td>1.354020e-07</td>\n",
       "    </tr>\n",
       "    <tr>\n",
       "      <td>4</td>\n",
       "      <td>1</td>\n",
       "      <td>4</td>\n",
       "      <td>2.669620e-05</td>\n",
       "      <td>1.649320e-05</td>\n",
       "      <td>8.342460e-06</td>\n",
       "      <td>1.827940e-06</td>\n",
       "      <td>2.345000e-05</td>\n",
       "      <td>4.413430e-07</td>\n",
       "      <td>2.541670e-07</td>\n",
       "      <td>3.043600e-07</td>\n",
       "      <td>...</td>\n",
       "      <td>5.117680e-06</td>\n",
       "      <td>1.615920e-04</td>\n",
       "      <td>3.359840e-07</td>\n",
       "      <td>6.977320e-06</td>\n",
       "      <td>2.759580e-07</td>\n",
       "      <td>3.733270e-07</td>\n",
       "      <td>1.499520e-06</td>\n",
       "      <td>4.324750e-07</td>\n",
       "      <td>3.092930e-07</td>\n",
       "      <td>4.145940e-07</td>\n",
       "    </tr>\n",
       "  </tbody>\n",
       "</table>\n",
       "<p>5 rows × 52 columns</p>\n",
       "</div>"
      ],
      "text/plain": [
       "   PLACE_HOLD  WORD_ID             0             1             2  \\\n",
       "0           1        0  2.495740e-05  5.367500e-07  1.631660e-04   \n",
       "1           1        1  4.250630e-07  2.751060e-07  6.674120e-05   \n",
       "2           1        2  1.821320e-05  9.676480e-08  8.726380e-08   \n",
       "3           1        3  1.336370e-07  8.779000e-08  5.204740e-08   \n",
       "4           1        4  2.669620e-05  1.649320e-05  8.342460e-06   \n",
       "\n",
       "              3             4             5             6             7  ...  \\\n",
       "0  8.010700e-07  4.317350e-07  2.695230e-07  4.307860e-07  3.416060e-07  ...   \n",
       "1  4.014040e-07  3.398690e-04  2.373540e-07  7.068540e-07  8.593120e-07  ...   \n",
       "2  1.346290e-07  1.172210e-07  4.924340e-08  8.651790e-08  8.387930e-08  ...   \n",
       "3  1.442400e-07  6.255220e-08  3.212690e-08  7.999480e-08  1.124300e-07  ...   \n",
       "4  1.827940e-06  2.345000e-05  4.413430e-07  2.541670e-07  3.043600e-07  ...   \n",
       "\n",
       "             40            41            42            43            44  \\\n",
       "0  1.035560e-05  7.148990e-07  1.819990e-04  7.783400e-07  2.024530e-04   \n",
       "1  2.771160e-07  6.607280e-07  2.970230e-07  1.256600e-06  3.947990e-04   \n",
       "2  1.692270e-07  1.791780e-07  1.760510e-07  1.641630e-07  8.323600e-08   \n",
       "3  5.936830e-06  1.696280e-07  9.687940e-08  1.037640e-07  7.736650e-08   \n",
       "4  5.117680e-06  1.615920e-04  3.359840e-07  6.977320e-06  2.759580e-07   \n",
       "\n",
       "             45            46            47            48            49  \n",
       "0  7.559230e-07  9.668140e-05  1.560030e-04  4.475260e-07  3.270350e-05  \n",
       "1  4.080130e-07  3.117150e-07  4.536600e-07  3.838520e-07  2.793640e-04  \n",
       "2  1.436630e-07  2.659740e-07  1.841260e-07  1.145240e-07  1.549770e-07  \n",
       "3  1.114230e-07  1.053540e-07  1.486810e-07  1.059410e-07  1.354020e-07  \n",
       "4  3.733270e-07  1.499520e-06  4.324750e-07  3.092930e-07  4.145940e-07  \n",
       "\n",
       "[5 rows x 52 columns]"
      ]
     },
     "execution_count": 22,
     "metadata": {},
     "output_type": "execute_result"
    }
   ],
   "source": [
    "phis_df.head()"
   ]
  },
  {
   "cell_type": "code",
   "execution_count": 23,
   "metadata": {},
   "outputs": [],
   "source": [
    "cols = ['WORD_ID'] + [str(value) for value in top_topics]"
   ]
  },
  {
   "cell_type": "code",
   "execution_count": 24,
   "metadata": {},
   "outputs": [],
   "source": [
    "top_phis_df = phis_df[cols]"
   ]
  },
  {
   "cell_type": "code",
   "execution_count": 25,
   "metadata": {},
   "outputs": [
    {
     "data": {
      "text/html": [
       "<div>\n",
       "<style scoped>\n",
       "    .dataframe tbody tr th:only-of-type {\n",
       "        vertical-align: middle;\n",
       "    }\n",
       "\n",
       "    .dataframe tbody tr th {\n",
       "        vertical-align: top;\n",
       "    }\n",
       "\n",
       "    .dataframe thead th {\n",
       "        text-align: right;\n",
       "    }\n",
       "</style>\n",
       "<table border=\"1\" class=\"dataframe\">\n",
       "  <thead>\n",
       "    <tr style=\"text-align: right;\">\n",
       "      <th></th>\n",
       "      <th>WORD_ID</th>\n",
       "      <th>23</th>\n",
       "      <th>8</th>\n",
       "      <th>36</th>\n",
       "      <th>42</th>\n",
       "      <th>17</th>\n",
       "      <th>16</th>\n",
       "    </tr>\n",
       "  </thead>\n",
       "  <tbody>\n",
       "    <tr>\n",
       "      <td>0</td>\n",
       "      <td>0</td>\n",
       "      <td>5.510780e-07</td>\n",
       "      <td>6.622670e-07</td>\n",
       "      <td>2.926420e-05</td>\n",
       "      <td>1.819990e-04</td>\n",
       "      <td>5.097210e-07</td>\n",
       "      <td>1.779240e-04</td>\n",
       "    </tr>\n",
       "    <tr>\n",
       "      <td>1</td>\n",
       "      <td>1</td>\n",
       "      <td>5.169000e-07</td>\n",
       "      <td>6.174380e-07</td>\n",
       "      <td>6.984560e-04</td>\n",
       "      <td>2.970230e-07</td>\n",
       "      <td>7.214040e-07</td>\n",
       "      <td>4.316400e-07</td>\n",
       "    </tr>\n",
       "    <tr>\n",
       "      <td>2</td>\n",
       "      <td>2</td>\n",
       "      <td>2.116680e-07</td>\n",
       "      <td>2.392710e-07</td>\n",
       "      <td>6.086930e-08</td>\n",
       "      <td>1.760510e-07</td>\n",
       "      <td>1.736850e-07</td>\n",
       "      <td>2.467360e-07</td>\n",
       "    </tr>\n",
       "    <tr>\n",
       "      <td>3</td>\n",
       "      <td>3</td>\n",
       "      <td>1.566050e-07</td>\n",
       "      <td>1.850430e-07</td>\n",
       "      <td>5.627170e-08</td>\n",
       "      <td>9.687940e-08</td>\n",
       "      <td>1.470040e-07</td>\n",
       "      <td>1.099550e-07</td>\n",
       "    </tr>\n",
       "    <tr>\n",
       "      <td>4</td>\n",
       "      <td>4</td>\n",
       "      <td>4.747570e-07</td>\n",
       "      <td>5.433380e-07</td>\n",
       "      <td>1.503940e-07</td>\n",
       "      <td>3.359840e-07</td>\n",
       "      <td>4.642650e-07</td>\n",
       "      <td>4.744520e-07</td>\n",
       "    </tr>\n",
       "  </tbody>\n",
       "</table>\n",
       "</div>"
      ],
      "text/plain": [
       "   WORD_ID            23             8            36            42  \\\n",
       "0        0  5.510780e-07  6.622670e-07  2.926420e-05  1.819990e-04   \n",
       "1        1  5.169000e-07  6.174380e-07  6.984560e-04  2.970230e-07   \n",
       "2        2  2.116680e-07  2.392710e-07  6.086930e-08  1.760510e-07   \n",
       "3        3  1.566050e-07  1.850430e-07  5.627170e-08  9.687940e-08   \n",
       "4        4  4.747570e-07  5.433380e-07  1.503940e-07  3.359840e-07   \n",
       "\n",
       "             17            16  \n",
       "0  5.097210e-07  1.779240e-04  \n",
       "1  7.214040e-07  4.316400e-07  \n",
       "2  1.736850e-07  2.467360e-07  \n",
       "3  1.470040e-07  1.099550e-07  \n",
       "4  4.642650e-07  4.744520e-07  "
      ]
     },
     "execution_count": 25,
     "metadata": {},
     "output_type": "execute_result"
    }
   ],
   "source": [
    "top_phis_df.head()"
   ]
  },
  {
   "cell_type": "code",
   "execution_count": 64,
   "metadata": {},
   "outputs": [
    {
     "data": {
      "text/html": [
       "<div>\n",
       "<style scoped>\n",
       "    .dataframe tbody tr th:only-of-type {\n",
       "        vertical-align: middle;\n",
       "    }\n",
       "\n",
       "    .dataframe tbody tr th {\n",
       "        vertical-align: top;\n",
       "    }\n",
       "\n",
       "    .dataframe thead th {\n",
       "        text-align: right;\n",
       "    }\n",
       "</style>\n",
       "<table border=\"1\" class=\"dataframe\">\n",
       "  <thead>\n",
       "    <tr style=\"text-align: right;\">\n",
       "      <th></th>\n",
       "      <th>WORD_ID</th>\n",
       "      <th>23</th>\n",
       "      <th>8</th>\n",
       "      <th>36</th>\n",
       "      <th>42</th>\n",
       "      <th>17</th>\n",
       "      <th>16</th>\n",
       "    </tr>\n",
       "  </thead>\n",
       "  <tbody>\n",
       "    <tr>\n",
       "      <td>6790</td>\n",
       "      <td>6790</td>\n",
       "      <td>8.074340e-03</td>\n",
       "      <td>4.840780e-03</td>\n",
       "      <td>2.122830e-02</td>\n",
       "      <td>1.125170e-02</td>\n",
       "      <td>1.129550e-02</td>\n",
       "      <td>4.150290e-03</td>\n",
       "    </tr>\n",
       "    <tr>\n",
       "      <td>5571</td>\n",
       "      <td>5571</td>\n",
       "      <td>1.391090e-02</td>\n",
       "      <td>1.851770e-02</td>\n",
       "      <td>2.351420e-02</td>\n",
       "      <td>1.265570e-02</td>\n",
       "      <td>9.693500e-03</td>\n",
       "      <td>9.588760e-03</td>\n",
       "    </tr>\n",
       "    <tr>\n",
       "      <td>3923</td>\n",
       "      <td>3923</td>\n",
       "      <td>9.474870e-07</td>\n",
       "      <td>9.567250e-04</td>\n",
       "      <td>1.120950e-03</td>\n",
       "      <td>8.988170e-07</td>\n",
       "      <td>9.489880e-03</td>\n",
       "      <td>1.195760e-06</td>\n",
       "    </tr>\n",
       "    <tr>\n",
       "      <td>7179</td>\n",
       "      <td>7179</td>\n",
       "      <td>7.190000e-03</td>\n",
       "      <td>6.323880e-03</td>\n",
       "      <td>8.828430e-03</td>\n",
       "      <td>6.355660e-03</td>\n",
       "      <td>8.002770e-03</td>\n",
       "      <td>1.195630e-02</td>\n",
       "    </tr>\n",
       "    <tr>\n",
       "      <td>5028</td>\n",
       "      <td>5028</td>\n",
       "      <td>1.680070e-03</td>\n",
       "      <td>1.021340e-03</td>\n",
       "      <td>4.433570e-03</td>\n",
       "      <td>2.845320e-03</td>\n",
       "      <td>6.371220e-03</td>\n",
       "      <td>9.229180e-04</td>\n",
       "    </tr>\n",
       "    <tr>\n",
       "      <td>...</td>\n",
       "      <td>...</td>\n",
       "      <td>...</td>\n",
       "      <td>...</td>\n",
       "      <td>...</td>\n",
       "      <td>...</td>\n",
       "      <td>...</td>\n",
       "      <td>...</td>\n",
       "    </tr>\n",
       "    <tr>\n",
       "      <td>4734</td>\n",
       "      <td>4734</td>\n",
       "      <td>3.770950e-08</td>\n",
       "      <td>4.414370e-08</td>\n",
       "      <td>1.378850e-08</td>\n",
       "      <td>2.386780e-08</td>\n",
       "      <td>3.617050e-08</td>\n",
       "      <td>2.746230e-08</td>\n",
       "    </tr>\n",
       "    <tr>\n",
       "      <td>1537</td>\n",
       "      <td>1537</td>\n",
       "      <td>3.647770e-08</td>\n",
       "      <td>4.263250e-08</td>\n",
       "      <td>1.334960e-08</td>\n",
       "      <td>2.330200e-08</td>\n",
       "      <td>3.501550e-08</td>\n",
       "      <td>2.646310e-08</td>\n",
       "    </tr>\n",
       "    <tr>\n",
       "      <td>8958</td>\n",
       "      <td>8958</td>\n",
       "      <td>3.531590e-08</td>\n",
       "      <td>4.128980e-08</td>\n",
       "      <td>1.288300e-08</td>\n",
       "      <td>2.257440e-08</td>\n",
       "      <td>3.391910e-08</td>\n",
       "      <td>2.563590e-08</td>\n",
       "    </tr>\n",
       "    <tr>\n",
       "      <td>3123</td>\n",
       "      <td>3123</td>\n",
       "      <td>3.414610e-08</td>\n",
       "      <td>3.994020e-08</td>\n",
       "      <td>1.498700e-04</td>\n",
       "      <td>2.144610e-08</td>\n",
       "      <td>3.253030e-08</td>\n",
       "      <td>2.430520e-08</td>\n",
       "    </tr>\n",
       "    <tr>\n",
       "      <td>5936</td>\n",
       "      <td>5936</td>\n",
       "      <td>3.319880e-08</td>\n",
       "      <td>3.885000e-08</td>\n",
       "      <td>1.216620e-08</td>\n",
       "      <td>2.086630e-08</td>\n",
       "      <td>3.164800e-08</td>\n",
       "      <td>2.364970e-08</td>\n",
       "    </tr>\n",
       "  </tbody>\n",
       "</table>\n",
       "<p>10240 rows × 7 columns</p>\n",
       "</div>"
      ],
      "text/plain": [
       "      WORD_ID            23             8            36            42  \\\n",
       "6790     6790  8.074340e-03  4.840780e-03  2.122830e-02  1.125170e-02   \n",
       "5571     5571  1.391090e-02  1.851770e-02  2.351420e-02  1.265570e-02   \n",
       "3923     3923  9.474870e-07  9.567250e-04  1.120950e-03  8.988170e-07   \n",
       "7179     7179  7.190000e-03  6.323880e-03  8.828430e-03  6.355660e-03   \n",
       "5028     5028  1.680070e-03  1.021340e-03  4.433570e-03  2.845320e-03   \n",
       "...       ...           ...           ...           ...           ...   \n",
       "4734     4734  3.770950e-08  4.414370e-08  1.378850e-08  2.386780e-08   \n",
       "1537     1537  3.647770e-08  4.263250e-08  1.334960e-08  2.330200e-08   \n",
       "8958     8958  3.531590e-08  4.128980e-08  1.288300e-08  2.257440e-08   \n",
       "3123     3123  3.414610e-08  3.994020e-08  1.498700e-04  2.144610e-08   \n",
       "5936     5936  3.319880e-08  3.885000e-08  1.216620e-08  2.086630e-08   \n",
       "\n",
       "                17            16  \n",
       "6790  1.129550e-02  4.150290e-03  \n",
       "5571  9.693500e-03  9.588760e-03  \n",
       "3923  9.489880e-03  1.195760e-06  \n",
       "7179  8.002770e-03  1.195630e-02  \n",
       "5028  6.371220e-03  9.229180e-04  \n",
       "...            ...           ...  \n",
       "4734  3.617050e-08  2.746230e-08  \n",
       "1537  3.501550e-08  2.646310e-08  \n",
       "8958  3.391910e-08  2.563590e-08  \n",
       "3123  3.253030e-08  2.430520e-08  \n",
       "5936  3.164800e-08  2.364970e-08  \n",
       "\n",
       "[10240 rows x 7 columns]"
      ]
     },
     "execution_count": 64,
     "metadata": {},
     "output_type": "execute_result"
    }
   ],
   "source": [
    "top_phis_df.sort_values(by='17', ascending=False)"
   ]
  },
  {
   "cell_type": "code",
   "execution_count": 27,
   "metadata": {},
   "outputs": [],
   "source": [
    "vocab_df = pd.read_csv(r'/home/mcb/li_lab/zwen8/data/mimic/d2_phy_48/vocab.txt', header=None)"
   ]
  },
  {
   "cell_type": "code",
   "execution_count": 28,
   "metadata": {},
   "outputs": [],
   "source": [
    "vocab_df.columns = ['WORD', 'WORD_ID']"
   ]
  },
  {
   "cell_type": "code",
   "execution_count": 29,
   "metadata": {},
   "outputs": [
    {
     "data": {
      "text/html": [
       "<div>\n",
       "<style scoped>\n",
       "    .dataframe tbody tr th:only-of-type {\n",
       "        vertical-align: middle;\n",
       "    }\n",
       "\n",
       "    .dataframe tbody tr th {\n",
       "        vertical-align: top;\n",
       "    }\n",
       "\n",
       "    .dataframe thead th {\n",
       "        text-align: right;\n",
       "    }\n",
       "</style>\n",
       "<table border=\"1\" class=\"dataframe\">\n",
       "  <thead>\n",
       "    <tr style=\"text-align: right;\">\n",
       "      <th></th>\n",
       "      <th>WORD</th>\n",
       "      <th>WORD_ID</th>\n",
       "    </tr>\n",
       "  </thead>\n",
       "  <tbody>\n",
       "    <tr>\n",
       "      <td>0</td>\n",
       "      <td>aa</td>\n",
       "      <td>0</td>\n",
       "    </tr>\n",
       "    <tr>\n",
       "      <td>1</td>\n",
       "      <td>aaa</td>\n",
       "      <td>1</td>\n",
       "    </tr>\n",
       "    <tr>\n",
       "      <td>2</td>\n",
       "      <td>aado</td>\n",
       "      <td>2</td>\n",
       "    </tr>\n",
       "    <tr>\n",
       "      <td>3</td>\n",
       "      <td>aao</td>\n",
       "      <td>3</td>\n",
       "    </tr>\n",
       "    <tr>\n",
       "      <td>4</td>\n",
       "      <td>aaox</td>\n",
       "      <td>4</td>\n",
       "    </tr>\n",
       "  </tbody>\n",
       "</table>\n",
       "</div>"
      ],
      "text/plain": [
       "   WORD  WORD_ID\n",
       "0    aa        0\n",
       "1   aaa        1\n",
       "2  aado        2\n",
       "3   aao        3\n",
       "4  aaox        4"
      ]
     },
     "execution_count": 29,
     "metadata": {},
     "output_type": "execute_result"
    }
   ],
   "source": [
    "vocab_df.head()"
   ]
  },
  {
   "cell_type": "code",
   "execution_count": 30,
   "metadata": {},
   "outputs": [],
   "source": [
    "top_words_bytopic = [top_phis_df.sort_values(by=str(topic), ascending=False)['WORD_ID'][0:10] for topic in top_topics]\n",
    "top_words = []\n",
    "for sublist in top_words_bytopic:\n",
    "    for word in sublist:\n",
    "        top_words.append(word)"
   ]
  },
  {
   "cell_type": "code",
   "execution_count": 31,
   "metadata": {},
   "outputs": [],
   "source": [
    "word_topic_matrix = top_phis_df.iloc[[word_id for word_id in top_words]]"
   ]
  },
  {
   "cell_type": "code",
   "execution_count": 32,
   "metadata": {},
   "outputs": [
    {
     "data": {
      "text/html": [
       "<div>\n",
       "<style scoped>\n",
       "    .dataframe tbody tr th:only-of-type {\n",
       "        vertical-align: middle;\n",
       "    }\n",
       "\n",
       "    .dataframe tbody tr th {\n",
       "        vertical-align: top;\n",
       "    }\n",
       "\n",
       "    .dataframe thead th {\n",
       "        text-align: right;\n",
       "    }\n",
       "</style>\n",
       "<table border=\"1\" class=\"dataframe\">\n",
       "  <thead>\n",
       "    <tr style=\"text-align: right;\">\n",
       "      <th></th>\n",
       "      <th>WORD_ID</th>\n",
       "      <th>23</th>\n",
       "      <th>8</th>\n",
       "      <th>36</th>\n",
       "      <th>42</th>\n",
       "      <th>17</th>\n",
       "      <th>16</th>\n",
       "    </tr>\n",
       "  </thead>\n",
       "  <tbody>\n",
       "    <tr>\n",
       "      <td>5571</td>\n",
       "      <td>5571</td>\n",
       "      <td>0.013911</td>\n",
       "      <td>0.018518</td>\n",
       "      <td>0.023514</td>\n",
       "      <td>0.012656</td>\n",
       "      <td>0.009694</td>\n",
       "      <td>0.009589</td>\n",
       "    </tr>\n",
       "    <tr>\n",
       "      <td>5467</td>\n",
       "      <td>5467</td>\n",
       "      <td>0.008315</td>\n",
       "      <td>0.008109</td>\n",
       "      <td>0.008646</td>\n",
       "      <td>0.007066</td>\n",
       "      <td>0.005549</td>\n",
       "      <td>0.002981</td>\n",
       "    </tr>\n",
       "    <tr>\n",
       "      <td>7730</td>\n",
       "      <td>7730</td>\n",
       "      <td>0.008280</td>\n",
       "      <td>0.002866</td>\n",
       "      <td>0.002783</td>\n",
       "      <td>0.007311</td>\n",
       "      <td>0.004107</td>\n",
       "      <td>0.003292</td>\n",
       "    </tr>\n",
       "    <tr>\n",
       "      <td>6790</td>\n",
       "      <td>6790</td>\n",
       "      <td>0.008074</td>\n",
       "      <td>0.004841</td>\n",
       "      <td>0.021228</td>\n",
       "      <td>0.011252</td>\n",
       "      <td>0.011295</td>\n",
       "      <td>0.004150</td>\n",
       "    </tr>\n",
       "    <tr>\n",
       "      <td>5845</td>\n",
       "      <td>5845</td>\n",
       "      <td>0.007802</td>\n",
       "      <td>0.001047</td>\n",
       "      <td>0.000140</td>\n",
       "      <td>0.000834</td>\n",
       "      <td>0.002744</td>\n",
       "      <td>0.002475</td>\n",
       "    </tr>\n",
       "  </tbody>\n",
       "</table>\n",
       "</div>"
      ],
      "text/plain": [
       "      WORD_ID        23         8        36        42        17        16\n",
       "5571     5571  0.013911  0.018518  0.023514  0.012656  0.009694  0.009589\n",
       "5467     5467  0.008315  0.008109  0.008646  0.007066  0.005549  0.002981\n",
       "7730     7730  0.008280  0.002866  0.002783  0.007311  0.004107  0.003292\n",
       "6790     6790  0.008074  0.004841  0.021228  0.011252  0.011295  0.004150\n",
       "5845     5845  0.007802  0.001047  0.000140  0.000834  0.002744  0.002475"
      ]
     },
     "execution_count": 32,
     "metadata": {},
     "output_type": "execute_result"
    }
   ],
   "source": [
    "word_topic_matrix.head()"
   ]
  },
  {
   "cell_type": "code",
   "execution_count": 33,
   "metadata": {},
   "outputs": [],
   "source": [
    "yticklabels = [vocab_df[vocab_df['WORD_ID'] == word_id]['WORD'].values[0] for word_id in top_words]\n",
    "xticklabels = ['23(pos)', '8(pos)', '36(pos)', '42(neg)', '17(neg)', '16(neg)']"
   ]
  },
  {
   "cell_type": "code",
   "execution_count": 34,
   "metadata": {},
   "outputs": [
    {
     "data": {
      "text/plain": [
       "<matplotlib.axes._subplots.AxesSubplot at 0x7f9a52145438>"
      ]
     },
     "execution_count": 34,
     "metadata": {},
     "output_type": "execute_result"
    },
    {
     "data": {
      "image/png": "[encoded data removed]",
      "text/plain": [
       "<Figure size 720x720 with 2 Axes>"
      ]
     },
     "metadata": {},
     "output_type": "display_data"
    }
   ],
   "source": [
    "plt.figure(figsize=(10,10))\n",
    "sns.heatmap(word_topic_matrix.iloc[:, 1:], yticklabels=yticklabels, xticklabels=xticklabels, cmap='Reds')"
   ]
  },
  {
   "cell_type": "code",
   "execution_count": 35,
   "metadata": {},
   "outputs": [
    {
     "data": {
      "text/plain": [
       "<seaborn.matrix.ClusterGrid at 0x7f9a52040a90>"
      ]
     },
     "execution_count": 35,
     "metadata": {},
     "output_type": "execute_result"
    },
    {
     "data": {
      "image/png": "[encoded data removed]",
      "text/plain": [
       "<Figure size 720x720 with 4 Axes>"
      ]
     },
     "metadata": {},
     "output_type": "display_data"
    }
   ],
   "source": [
    "sns.set()\n",
    "sns.clustermap(word_topic_matrix.iloc[:, 1:], yticklabels=yticklabels, xticklabels=xticklabels)"
   ]
  },
  {
   "cell_type": "markdown",
   "metadata": {},
   "source": [
    "## Binary duration\n",
    "Threshold at 7 day"
   ]
  },
  {
   "cell_type": "code",
   "execution_count": 36,
   "metadata": {},
   "outputs": [],
   "source": [
    "binary_duration = (duration > 7 * 24).astype(int)"
   ]
  },
  {
   "cell_type": "code",
   "execution_count": 37,
   "metadata": {},
   "outputs": [],
   "source": [
    "bi_corr = normed_mixtures.apply(lambda mixture: mixture.corr(binary_duration, method='pearson'))"
   ]
  },
  {
   "cell_type": "code",
   "execution_count": 38,
   "metadata": {},
   "outputs": [],
   "source": [
    "bi_corr_sorted = bi_corr.sort_values(ascending=False)"
   ]
  },
  {
   "cell_type": "code",
   "execution_count": 39,
   "metadata": {},
   "outputs": [
    {
     "data": {
      "text/plain": [
       "Text(0, 0.5, 'Pearson Correlation')"
      ]
     },
     "execution_count": 39,
     "metadata": {},
     "output_type": "execute_result"
    },
    {
     "data": {
      "image/png": "[encoded data removed]",
      "text/plain": [
       "<Figure size 1008x576 with 1 Axes>"
      ]
     },
     "metadata": {},
     "output_type": "display_data"
    }
   ],
   "source": [
    "plt.figure(figsize=(14,8))\n",
    "plt.bar(x=range(len(bi_corr)), height=bi_corr_sorted)\n",
    "plt.title('Correlation between topics and binary duration')\n",
    "plt.xlabel('Topic #')\n",
    "plt.xticks(range(len(bi_corr)), bi_corr_sorted.index)\n",
    "plt.ylabel('Pearson Correlation')"
   ]
  },
  {
   "cell_type": "markdown",
   "metadata": {},
   "source": [
    "## Select most correlated topics and map back to words"
   ]
  },
  {
   "cell_type": "code",
   "execution_count": 44,
   "metadata": {},
   "outputs": [],
   "source": [
    "bi_top_topics = find_max_n(list(np.abs(bi_corr)), 6)"
   ]
  },
  {
   "cell_type": "code",
   "execution_count": 45,
   "metadata": {},
   "outputs": [],
   "source": [
    "bi_top_pos = find_max_n(list(bi_corr), 3)\n",
    "bi_top_neg = find_max_n(list(-bi_corr), 3)"
   ]
  },
  {
   "cell_type": "code",
   "execution_count": 46,
   "metadata": {},
   "outputs": [
    {
     "data": {
      "text/plain": [
       "[26, 31, 11, 42, 12, 38]"
      ]
     },
     "execution_count": 46,
     "metadata": {},
     "output_type": "execute_result"
    }
   ],
   "source": [
    "bi_top_topics = bi_top_pos + bi_top_neg\n",
    "bi_top_topics"
   ]
  },
  {
   "cell_type": "markdown",
   "metadata": {},
   "source": [
    "## Extract top words in those top topics"
   ]
  },
  {
   "cell_type": "code",
   "execution_count": 47,
   "metadata": {},
   "outputs": [],
   "source": [
    "bi_cols = ['WORD_ID'] + [str(value) for value in bi_top_topics]"
   ]
  },
  {
   "cell_type": "code",
   "execution_count": 48,
   "metadata": {},
   "outputs": [],
   "source": [
    "bi_top_phis_df = phis_df[bi_cols]"
   ]
  },
  {
   "cell_type": "code",
   "execution_count": 49,
   "metadata": {},
   "outputs": [
    {
     "data": {
      "text/html": [
       "<div>\n",
       "<style scoped>\n",
       "    .dataframe tbody tr th:only-of-type {\n",
       "        vertical-align: middle;\n",
       "    }\n",
       "\n",
       "    .dataframe tbody tr th {\n",
       "        vertical-align: top;\n",
       "    }\n",
       "\n",
       "    .dataframe thead th {\n",
       "        text-align: right;\n",
       "    }\n",
       "</style>\n",
       "<table border=\"1\" class=\"dataframe\">\n",
       "  <thead>\n",
       "    <tr style=\"text-align: right;\">\n",
       "      <th></th>\n",
       "      <th>WORD_ID</th>\n",
       "      <th>26</th>\n",
       "      <th>31</th>\n",
       "      <th>11</th>\n",
       "      <th>42</th>\n",
       "      <th>12</th>\n",
       "      <th>38</th>\n",
       "    </tr>\n",
       "  </thead>\n",
       "  <tbody>\n",
       "    <tr>\n",
       "      <td>0</td>\n",
       "      <td>0</td>\n",
       "      <td>2.339180e-07</td>\n",
       "      <td>4.166600e-07</td>\n",
       "      <td>5.106030e-07</td>\n",
       "      <td>1.819990e-04</td>\n",
       "      <td>8.773500e-06</td>\n",
       "      <td>1.125730e-06</td>\n",
       "    </tr>\n",
       "    <tr>\n",
       "      <td>1</td>\n",
       "      <td>1</td>\n",
       "      <td>9.495510e-04</td>\n",
       "      <td>4.600920e-07</td>\n",
       "      <td>2.235610e-06</td>\n",
       "      <td>2.970230e-07</td>\n",
       "      <td>2.331800e-04</td>\n",
       "      <td>5.118780e-07</td>\n",
       "    </tr>\n",
       "    <tr>\n",
       "      <td>2</td>\n",
       "      <td>2</td>\n",
       "      <td>6.622110e-08</td>\n",
       "      <td>1.440460e-07</td>\n",
       "      <td>1.845550e-07</td>\n",
       "      <td>1.760510e-07</td>\n",
       "      <td>8.702190e-08</td>\n",
       "      <td>1.201630e-07</td>\n",
       "    </tr>\n",
       "    <tr>\n",
       "      <td>3</td>\n",
       "      <td>3</td>\n",
       "      <td>6.130570e-08</td>\n",
       "      <td>1.324670e-07</td>\n",
       "      <td>1.067650e-07</td>\n",
       "      <td>9.687940e-08</td>\n",
       "      <td>2.645050e-07</td>\n",
       "      <td>1.112870e-07</td>\n",
       "    </tr>\n",
       "    <tr>\n",
       "      <td>4</td>\n",
       "      <td>4</td>\n",
       "      <td>3.844010e-07</td>\n",
       "      <td>4.508960e-07</td>\n",
       "      <td>3.564020e-07</td>\n",
       "      <td>3.359840e-07</td>\n",
       "      <td>5.159650e-07</td>\n",
       "      <td>3.388840e-07</td>\n",
       "    </tr>\n",
       "  </tbody>\n",
       "</table>\n",
       "</div>"
      ],
      "text/plain": [
       "   WORD_ID            26            31            11            42  \\\n",
       "0        0  2.339180e-07  4.166600e-07  5.106030e-07  1.819990e-04   \n",
       "1        1  9.495510e-04  4.600920e-07  2.235610e-06  2.970230e-07   \n",
       "2        2  6.622110e-08  1.440460e-07  1.845550e-07  1.760510e-07   \n",
       "3        3  6.130570e-08  1.324670e-07  1.067650e-07  9.687940e-08   \n",
       "4        4  3.844010e-07  4.508960e-07  3.564020e-07  3.359840e-07   \n",
       "\n",
       "             12            38  \n",
       "0  8.773500e-06  1.125730e-06  \n",
       "1  2.331800e-04  5.118780e-07  \n",
       "2  8.702190e-08  1.201630e-07  \n",
       "3  2.645050e-07  1.112870e-07  \n",
       "4  5.159650e-07  3.388840e-07  "
      ]
     },
     "execution_count": 49,
     "metadata": {},
     "output_type": "execute_result"
    }
   ],
   "source": [
    "bi_top_phis_df.head()"
   ]
  },
  {
   "cell_type": "code",
   "execution_count": 50,
   "metadata": {},
   "outputs": [
    {
     "data": {
      "text/html": [
       "<div>\n",
       "<style scoped>\n",
       "    .dataframe tbody tr th:only-of-type {\n",
       "        vertical-align: middle;\n",
       "    }\n",
       "\n",
       "    .dataframe tbody tr th {\n",
       "        vertical-align: top;\n",
       "    }\n",
       "\n",
       "    .dataframe thead th {\n",
       "        text-align: right;\n",
       "    }\n",
       "</style>\n",
       "<table border=\"1\" class=\"dataframe\">\n",
       "  <thead>\n",
       "    <tr style=\"text-align: right;\">\n",
       "      <th></th>\n",
       "      <th>WORD_ID</th>\n",
       "      <th>26</th>\n",
       "      <th>31</th>\n",
       "      <th>11</th>\n",
       "      <th>42</th>\n",
       "      <th>12</th>\n",
       "      <th>38</th>\n",
       "    </tr>\n",
       "  </thead>\n",
       "  <tbody>\n",
       "    <tr>\n",
       "      <td>5571</td>\n",
       "      <td>5571</td>\n",
       "      <td>1.869260e-02</td>\n",
       "      <td>5.433650e-03</td>\n",
       "      <td>1.121880e-02</td>\n",
       "      <td>1.265570e-02</td>\n",
       "      <td>5.969130e-03</td>\n",
       "      <td>9.823390e-03</td>\n",
       "    </tr>\n",
       "    <tr>\n",
       "      <td>6296</td>\n",
       "      <td>6296</td>\n",
       "      <td>1.041940e-06</td>\n",
       "      <td>2.191560e-03</td>\n",
       "      <td>9.563720e-03</td>\n",
       "      <td>4.942250e-03</td>\n",
       "      <td>5.818610e-04</td>\n",
       "      <td>1.094690e-06</td>\n",
       "    </tr>\n",
       "    <tr>\n",
       "      <td>6790</td>\n",
       "      <td>6790</td>\n",
       "      <td>1.098670e-02</td>\n",
       "      <td>5.718580e-03</td>\n",
       "      <td>8.539860e-03</td>\n",
       "      <td>1.125170e-02</td>\n",
       "      <td>5.092380e-03</td>\n",
       "      <td>4.550920e-03</td>\n",
       "    </tr>\n",
       "    <tr>\n",
       "      <td>5782</td>\n",
       "      <td>5782</td>\n",
       "      <td>6.230220e-03</td>\n",
       "      <td>8.027730e-03</td>\n",
       "      <td>7.591770e-03</td>\n",
       "      <td>3.701900e-03</td>\n",
       "      <td>6.171790e-03</td>\n",
       "      <td>6.499640e-03</td>\n",
       "    </tr>\n",
       "    <tr>\n",
       "      <td>7179</td>\n",
       "      <td>7179</td>\n",
       "      <td>1.051750e-02</td>\n",
       "      <td>1.915530e-02</td>\n",
       "      <td>6.949570e-03</td>\n",
       "      <td>6.355660e-03</td>\n",
       "      <td>1.630220e-02</td>\n",
       "      <td>8.504990e-03</td>\n",
       "    </tr>\n",
       "    <tr>\n",
       "      <td>...</td>\n",
       "      <td>...</td>\n",
       "      <td>...</td>\n",
       "      <td>...</td>\n",
       "      <td>...</td>\n",
       "      <td>...</td>\n",
       "      <td>...</td>\n",
       "      <td>...</td>\n",
       "    </tr>\n",
       "    <tr>\n",
       "      <td>4734</td>\n",
       "      <td>4734</td>\n",
       "      <td>1.525860e-08</td>\n",
       "      <td>3.257680e-08</td>\n",
       "      <td>2.612800e-08</td>\n",
       "      <td>2.386780e-08</td>\n",
       "      <td>1.990490e-08</td>\n",
       "      <td>2.739440e-08</td>\n",
       "    </tr>\n",
       "    <tr>\n",
       "      <td>1537</td>\n",
       "      <td>1537</td>\n",
       "      <td>1.447390e-08</td>\n",
       "      <td>3.123720e-08</td>\n",
       "      <td>2.539460e-08</td>\n",
       "      <td>2.330200e-08</td>\n",
       "      <td>1.906970e-08</td>\n",
       "      <td>2.634230e-08</td>\n",
       "    </tr>\n",
       "    <tr>\n",
       "      <td>8958</td>\n",
       "      <td>8958</td>\n",
       "      <td>1.401360e-08</td>\n",
       "      <td>3.025370e-08</td>\n",
       "      <td>2.459310e-08</td>\n",
       "      <td>2.257440e-08</td>\n",
       "      <td>1.847010e-08</td>\n",
       "      <td>2.551260e-08</td>\n",
       "    </tr>\n",
       "    <tr>\n",
       "      <td>3123</td>\n",
       "      <td>3123</td>\n",
       "      <td>1.375990e-08</td>\n",
       "      <td>2.927320e-08</td>\n",
       "      <td>2.364300e-08</td>\n",
       "      <td>2.144610e-08</td>\n",
       "      <td>1.786830e-08</td>\n",
       "      <td>2.465560e-08</td>\n",
       "    </tr>\n",
       "    <tr>\n",
       "      <td>5936</td>\n",
       "      <td>5936</td>\n",
       "      <td>1.320610e-08</td>\n",
       "      <td>2.848020e-08</td>\n",
       "      <td>2.308910e-08</td>\n",
       "      <td>2.086630e-08</td>\n",
       "      <td>1.742100e-08</td>\n",
       "      <td>2.398620e-08</td>\n",
       "    </tr>\n",
       "  </tbody>\n",
       "</table>\n",
       "<p>10240 rows × 7 columns</p>\n",
       "</div>"
      ],
      "text/plain": [
       "      WORD_ID            26            31            11            42  \\\n",
       "5571     5571  1.869260e-02  5.433650e-03  1.121880e-02  1.265570e-02   \n",
       "6296     6296  1.041940e-06  2.191560e-03  9.563720e-03  4.942250e-03   \n",
       "6790     6790  1.098670e-02  5.718580e-03  8.539860e-03  1.125170e-02   \n",
       "5782     5782  6.230220e-03  8.027730e-03  7.591770e-03  3.701900e-03   \n",
       "7179     7179  1.051750e-02  1.915530e-02  6.949570e-03  6.355660e-03   \n",
       "...       ...           ...           ...           ...           ...   \n",
       "4734     4734  1.525860e-08  3.257680e-08  2.612800e-08  2.386780e-08   \n",
       "1537     1537  1.447390e-08  3.123720e-08  2.539460e-08  2.330200e-08   \n",
       "8958     8958  1.401360e-08  3.025370e-08  2.459310e-08  2.257440e-08   \n",
       "3123     3123  1.375990e-08  2.927320e-08  2.364300e-08  2.144610e-08   \n",
       "5936     5936  1.320610e-08  2.848020e-08  2.308910e-08  2.086630e-08   \n",
       "\n",
       "                12            38  \n",
       "5571  5.969130e-03  9.823390e-03  \n",
       "6296  5.818610e-04  1.094690e-06  \n",
       "6790  5.092380e-03  4.550920e-03  \n",
       "5782  6.171790e-03  6.499640e-03  \n",
       "7179  1.630220e-02  8.504990e-03  \n",
       "...            ...           ...  \n",
       "4734  1.990490e-08  2.739440e-08  \n",
       "1537  1.906970e-08  2.634230e-08  \n",
       "8958  1.847010e-08  2.551260e-08  \n",
       "3123  1.786830e-08  2.465560e-08  \n",
       "5936  1.742100e-08  2.398620e-08  \n",
       "\n",
       "[10240 rows x 7 columns]"
      ]
     },
     "execution_count": 50,
     "metadata": {},
     "output_type": "execute_result"
    }
   ],
   "source": [
    "bi_top_phis_df.sort_values(by='11', ascending=False)"
   ]
  },
  {
   "cell_type": "code",
   "execution_count": 51,
   "metadata": {},
   "outputs": [],
   "source": [
    "vocab_df = pd.read_csv(r'/home/mcb/li_lab/zwen8/data/mimic/d2_phy_48/vocab.txt', header=None)"
   ]
  },
  {
   "cell_type": "code",
   "execution_count": 52,
   "metadata": {},
   "outputs": [],
   "source": [
    "vocab_df.columns = ['WORD', 'WORD_ID']"
   ]
  },
  {
   "cell_type": "code",
   "execution_count": 53,
   "metadata": {},
   "outputs": [
    {
     "data": {
      "text/html": [
       "<div>\n",
       "<style scoped>\n",
       "    .dataframe tbody tr th:only-of-type {\n",
       "        vertical-align: middle;\n",
       "    }\n",
       "\n",
       "    .dataframe tbody tr th {\n",
       "        vertical-align: top;\n",
       "    }\n",
       "\n",
       "    .dataframe thead th {\n",
       "        text-align: right;\n",
       "    }\n",
       "</style>\n",
       "<table border=\"1\" class=\"dataframe\">\n",
       "  <thead>\n",
       "    <tr style=\"text-align: right;\">\n",
       "      <th></th>\n",
       "      <th>WORD</th>\n",
       "      <th>WORD_ID</th>\n",
       "    </tr>\n",
       "  </thead>\n",
       "  <tbody>\n",
       "    <tr>\n",
       "      <td>0</td>\n",
       "      <td>aa</td>\n",
       "      <td>0</td>\n",
       "    </tr>\n",
       "    <tr>\n",
       "      <td>1</td>\n",
       "      <td>aaa</td>\n",
       "      <td>1</td>\n",
       "    </tr>\n",
       "    <tr>\n",
       "      <td>2</td>\n",
       "      <td>aado</td>\n",
       "      <td>2</td>\n",
       "    </tr>\n",
       "    <tr>\n",
       "      <td>3</td>\n",
       "      <td>aao</td>\n",
       "      <td>3</td>\n",
       "    </tr>\n",
       "    <tr>\n",
       "      <td>4</td>\n",
       "      <td>aaox</td>\n",
       "      <td>4</td>\n",
       "    </tr>\n",
       "  </tbody>\n",
       "</table>\n",
       "</div>"
      ],
      "text/plain": [
       "   WORD  WORD_ID\n",
       "0    aa        0\n",
       "1   aaa        1\n",
       "2  aado        2\n",
       "3   aao        3\n",
       "4  aaox        4"
      ]
     },
     "execution_count": 53,
     "metadata": {},
     "output_type": "execute_result"
    }
   ],
   "source": [
    "vocab_df.head()"
   ]
  },
  {
   "cell_type": "code",
   "execution_count": 54,
   "metadata": {},
   "outputs": [],
   "source": [
    "bi_top_words_bytopic = [bi_top_phis_df.sort_values(by=str(topic), ascending=False)['WORD_ID'][0:10] for topic in bi_top_topics]\n",
    "bi_top_words = []\n",
    "for sublist in bi_top_words_bytopic:\n",
    "    for word in sublist:\n",
    "        bi_top_words.append(word)"
   ]
  },
  {
   "cell_type": "code",
   "execution_count": 55,
   "metadata": {},
   "outputs": [],
   "source": [
    "bi_word_topic_matrix = bi_top_phis_df.iloc[[word_id for word_id in bi_top_words]]"
   ]
  },
  {
   "cell_type": "code",
   "execution_count": 56,
   "metadata": {},
   "outputs": [
    {
     "data": {
      "text/html": [
       "<div>\n",
       "<style scoped>\n",
       "    .dataframe tbody tr th:only-of-type {\n",
       "        vertical-align: middle;\n",
       "    }\n",
       "\n",
       "    .dataframe tbody tr th {\n",
       "        vertical-align: top;\n",
       "    }\n",
       "\n",
       "    .dataframe thead th {\n",
       "        text-align: right;\n",
       "    }\n",
       "</style>\n",
       "<table border=\"1\" class=\"dataframe\">\n",
       "  <thead>\n",
       "    <tr style=\"text-align: right;\">\n",
       "      <th></th>\n",
       "      <th>WORD_ID</th>\n",
       "      <th>26</th>\n",
       "      <th>31</th>\n",
       "      <th>11</th>\n",
       "      <th>42</th>\n",
       "      <th>12</th>\n",
       "      <th>38</th>\n",
       "    </tr>\n",
       "  </thead>\n",
       "  <tbody>\n",
       "    <tr>\n",
       "      <td>5571</td>\n",
       "      <td>5571</td>\n",
       "      <td>0.018693</td>\n",
       "      <td>0.005434</td>\n",
       "      <td>0.011219</td>\n",
       "      <td>0.012656</td>\n",
       "      <td>0.005969</td>\n",
       "      <td>0.009823</td>\n",
       "    </tr>\n",
       "    <tr>\n",
       "      <td>6747</td>\n",
       "      <td>6747</td>\n",
       "      <td>0.011162</td>\n",
       "      <td>0.007880</td>\n",
       "      <td>0.005249</td>\n",
       "      <td>0.004329</td>\n",
       "      <td>0.008287</td>\n",
       "      <td>0.009149</td>\n",
       "    </tr>\n",
       "    <tr>\n",
       "      <td>6790</td>\n",
       "      <td>6790</td>\n",
       "      <td>0.010987</td>\n",
       "      <td>0.005719</td>\n",
       "      <td>0.008540</td>\n",
       "      <td>0.011252</td>\n",
       "      <td>0.005092</td>\n",
       "      <td>0.004551</td>\n",
       "    </tr>\n",
       "    <tr>\n",
       "      <td>670</td>\n",
       "      <td>670</td>\n",
       "      <td>0.010769</td>\n",
       "      <td>0.007153</td>\n",
       "      <td>0.004421</td>\n",
       "      <td>0.004073</td>\n",
       "      <td>0.007224</td>\n",
       "      <td>0.008226</td>\n",
       "    </tr>\n",
       "    <tr>\n",
       "      <td>7179</td>\n",
       "      <td>7179</td>\n",
       "      <td>0.010517</td>\n",
       "      <td>0.019155</td>\n",
       "      <td>0.006950</td>\n",
       "      <td>0.006356</td>\n",
       "      <td>0.016302</td>\n",
       "      <td>0.008505</td>\n",
       "    </tr>\n",
       "  </tbody>\n",
       "</table>\n",
       "</div>"
      ],
      "text/plain": [
       "      WORD_ID        26        31        11        42        12        38\n",
       "5571     5571  0.018693  0.005434  0.011219  0.012656  0.005969  0.009823\n",
       "6747     6747  0.011162  0.007880  0.005249  0.004329  0.008287  0.009149\n",
       "6790     6790  0.010987  0.005719  0.008540  0.011252  0.005092  0.004551\n",
       "670       670  0.010769  0.007153  0.004421  0.004073  0.007224  0.008226\n",
       "7179     7179  0.010517  0.019155  0.006950  0.006356  0.016302  0.008505"
      ]
     },
     "execution_count": 56,
     "metadata": {},
     "output_type": "execute_result"
    }
   ],
   "source": [
    "bi_word_topic_matrix.head()"
   ]
  },
  {
   "cell_type": "code",
   "execution_count": 57,
   "metadata": {},
   "outputs": [],
   "source": [
    "bi_yticklabels = [vocab_df[vocab_df['WORD_ID'] == word_id]['WORD'].values[0] for word_id in bi_top_words]\n",
    "bi_xticklabels = ['26(pos)', '31(pos)', '11(pos)', '42(neg)', '12(neg)', '38(neg)']"
   ]
  },
  {
   "cell_type": "code",
   "execution_count": 58,
   "metadata": {},
   "outputs": [
    {
     "data": {
      "text/plain": [
       "<matplotlib.axes._subplots.AxesSubplot at 0x7f9a514f16a0>"
      ]
     },
     "execution_count": 58,
     "metadata": {},
     "output_type": "execute_result"
    },
    {
     "data": {
      "image/png": "[encoded data removed]",
      "text/plain": [
       "<Figure size 720x720 with 2 Axes>"
      ]
     },
     "metadata": {},
     "output_type": "display_data"
    }
   ],
   "source": [
    "plt.figure(figsize=(10,10))\n",
    "sns.heatmap(bi_word_topic_matrix.iloc[:, 1:], yticklabels=bi_yticklabels, xticklabels=bi_xticklabels, cmap='Reds')"
   ]
  },
  {
   "cell_type": "code",
   "execution_count": 59,
   "metadata": {},
   "outputs": [
    {
     "data": {
      "text/plain": [
       "<seaborn.matrix.ClusterGrid at 0x7f9a514edb38>"
      ]
     },
     "execution_count": 59,
     "metadata": {},
     "output_type": "execute_result"
    },
    {
     "data": {
      "image/png": "[encoded data removed]",
      "text/plain": [
       "<Figure size 720x720 with 4 Axes>"
      ]
     },
     "metadata": {},
     "output_type": "display_data"
    }
   ],
   "source": [
    "sns.set()\n",
    "sns.clustermap(bi_word_topic_matrix.iloc[:, 1:], yticklabels=bi_yticklabels, xticklabels=bi_xticklabels)"
   ]
  }
 ],
 "metadata": {
  "kernelspec": {
   "display_name": "Python 3",
   "language": "python",
   "name": "python3"
  },
  "language_info": {
   "codemirror_mode": {
    "name": "ipython",
    "version": 3
   },
   "file_extension": ".py",
   "mimetype": "text/x-python",
   "name": "python",
   "nbconvert_exporter": "python",
   "pygments_lexer": "ipython3",
   "version": "3.7.3"
  }
 },
 "nbformat": 4,
 "nbformat_minor": 4
}
