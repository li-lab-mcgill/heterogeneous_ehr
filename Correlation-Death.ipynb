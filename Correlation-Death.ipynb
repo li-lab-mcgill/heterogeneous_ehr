{
 "cells": [
  {
   "cell_type": "code",
   "execution_count": 16,
   "metadata": {},
   "outputs": [],
   "source": [
    "import pandas as pd\n",
    "import os\n",
    "from sklearn.preprocessing import normalize\n",
    "import matplotlib.pyplot as plt\n",
    "import numpy as np\n",
    "%matplotlib inline"
   ]
  },
  {
   "cell_type": "markdown",
   "metadata": {},
   "source": [
    "# Correlation for death"
   ]
  },
  {
   "cell_type": "markdown",
   "metadata": {},
   "source": [
    "## Read raw notes and extract death"
   ]
  },
  {
   "cell_type": "code",
   "execution_count": 2,
   "metadata": {},
   "outputs": [],
   "source": [
    "data_path = r'/home/mcb/users/pnair6/mimic/data/data_files_14Nov'"
   ]
  },
  {
   "cell_type": "code",
   "execution_count": 3,
   "metadata": {},
   "outputs": [],
   "source": [
    "fold_note_dfs = [pd.read_csv(os.path.join(data_path, 'fold' + str(idx), 'train.csv')) for idx in range(1, 6)]"
   ]
  },
  {
   "cell_type": "code",
   "execution_count": 4,
   "metadata": {},
   "outputs": [],
   "source": [
    "fold_note_df = pd.concat(fold_note_dfs, ignore_index=True)"
   ]
  },
  {
   "cell_type": "code",
   "execution_count": 5,
   "metadata": {},
   "outputs": [
    {
     "data": {
      "text/html": [
       "<div>\n",
       "<style scoped>\n",
       "    .dataframe tbody tr th:only-of-type {\n",
       "        vertical-align: middle;\n",
       "    }\n",
       "\n",
       "    .dataframe tbody tr th {\n",
       "        vertical-align: top;\n",
       "    }\n",
       "\n",
       "    .dataframe thead th {\n",
       "        text-align: right;\n",
       "    }\n",
       "</style>\n",
       "<table border=\"1\" class=\"dataframe\">\n",
       "  <thead>\n",
       "    <tr style=\"text-align: right;\">\n",
       "      <th></th>\n",
       "      <th>Unnamed: 0</th>\n",
       "      <th>HADM_ID</th>\n",
       "      <th>CHARTTIME</th>\n",
       "      <th>TEXT</th>\n",
       "      <th>CATEGORY</th>\n",
       "      <th>ICUSTAY_ID</th>\n",
       "      <th>ADMITTIME</th>\n",
       "      <th>DISCHTIME</th>\n",
       "      <th>FIRST_VENT_STARTTIME</th>\n",
       "      <th>DOD</th>\n",
       "      <th>COHORT</th>\n",
       "      <th>DAYS_UNTIL_DEATH</th>\n",
       "      <th>DEATH</th>\n",
       "      <th>DEATH_90</th>\n",
       "      <th>Label</th>\n",
       "      <th># of tokens</th>\n",
       "    </tr>\n",
       "  </thead>\n",
       "  <tbody>\n",
       "    <tr>\n",
       "      <td>0</td>\n",
       "      <td>0</td>\n",
       "      <td>132663.0</td>\n",
       "      <td>2138-09-12 16:09:00</td>\n",
       "      <td>chief complaint: respiratory failure i saw and...</td>\n",
       "      <td>Physician</td>\n",
       "      <td>249584</td>\n",
       "      <td>2138-08-25 17:58:00</td>\n",
       "      <td>2138-10-03 13:27:00</td>\n",
       "      <td>2138-09-12 11:00:00</td>\n",
       "      <td>2138-10-03 00:00:00</td>\n",
       "      <td>0</td>\n",
       "      <td>20.541667</td>\n",
       "      <td>0</td>\n",
       "      <td>1</td>\n",
       "      <td>0</td>\n",
       "      <td>992</td>\n",
       "    </tr>\n",
       "    <tr>\n",
       "      <td>1</td>\n",
       "      <td>1</td>\n",
       "      <td>132663.0</td>\n",
       "      <td>2138-09-12 16:13:00</td>\n",
       "      <td>chief complaint: respiratory distress hpi: yea...</td>\n",
       "      <td>Physician</td>\n",
       "      <td>249584</td>\n",
       "      <td>2138-08-25 17:58:00</td>\n",
       "      <td>2138-10-03 13:27:00</td>\n",
       "      <td>2138-09-12 11:00:00</td>\n",
       "      <td>2138-10-03 00:00:00</td>\n",
       "      <td>0</td>\n",
       "      <td>20.541667</td>\n",
       "      <td>0</td>\n",
       "      <td>1</td>\n",
       "      <td>0</td>\n",
       "      <td>1520</td>\n",
       "    </tr>\n",
       "    <tr>\n",
       "      <td>2</td>\n",
       "      <td>2</td>\n",
       "      <td>132663.0</td>\n",
       "      <td>2138-09-13 04:53:00</td>\n",
       "      <td>demographics day of intubation: day of mechani...</td>\n",
       "      <td>Respiratory</td>\n",
       "      <td>249584</td>\n",
       "      <td>2138-08-25 17:58:00</td>\n",
       "      <td>2138-10-03 13:27:00</td>\n",
       "      <td>2138-09-12 11:00:00</td>\n",
       "      <td>2138-10-03 00:00:00</td>\n",
       "      <td>0</td>\n",
       "      <td>20.541667</td>\n",
       "      <td>0</td>\n",
       "      <td>1</td>\n",
       "      <td>0</td>\n",
       "      <td>231</td>\n",
       "    </tr>\n",
       "    <tr>\n",
       "      <td>3</td>\n",
       "      <td>3</td>\n",
       "      <td>132663.0</td>\n",
       "      <td>2138-09-13 03:14:00</td>\n",
       "      <td>year-old female with hypertension admitted wit...</td>\n",
       "      <td>Nursing</td>\n",
       "      <td>249584</td>\n",
       "      <td>2138-08-25 17:58:00</td>\n",
       "      <td>2138-10-03 13:27:00</td>\n",
       "      <td>2138-09-12 11:00:00</td>\n",
       "      <td>2138-10-03 00:00:00</td>\n",
       "      <td>0</td>\n",
       "      <td>20.541667</td>\n",
       "      <td>0</td>\n",
       "      <td>1</td>\n",
       "      <td>0</td>\n",
       "      <td>164</td>\n",
       "    </tr>\n",
       "    <tr>\n",
       "      <td>4</td>\n",
       "      <td>4</td>\n",
       "      <td>132663.0</td>\n",
       "      <td>2138-09-13 03:14:00</td>\n",
       "      <td>year-old female with hypertension admitted wit...</td>\n",
       "      <td>Nursing</td>\n",
       "      <td>249584</td>\n",
       "      <td>2138-08-25 17:58:00</td>\n",
       "      <td>2138-10-03 13:27:00</td>\n",
       "      <td>2138-09-12 11:00:00</td>\n",
       "      <td>2138-10-03 00:00:00</td>\n",
       "      <td>0</td>\n",
       "      <td>20.541667</td>\n",
       "      <td>0</td>\n",
       "      <td>1</td>\n",
       "      <td>0</td>\n",
       "      <td>279</td>\n",
       "    </tr>\n",
       "  </tbody>\n",
       "</table>\n",
       "</div>"
      ],
      "text/plain": [
       "   Unnamed: 0   HADM_ID            CHARTTIME  \\\n",
       "0           0  132663.0  2138-09-12 16:09:00   \n",
       "1           1  132663.0  2138-09-12 16:13:00   \n",
       "2           2  132663.0  2138-09-13 04:53:00   \n",
       "3           3  132663.0  2138-09-13 03:14:00   \n",
       "4           4  132663.0  2138-09-13 03:14:00   \n",
       "\n",
       "                                                TEXT      CATEGORY  \\\n",
       "0  chief complaint: respiratory failure i saw and...    Physician    \n",
       "1  chief complaint: respiratory distress hpi: yea...    Physician    \n",
       "2  demographics day of intubation: day of mechani...  Respiratory    \n",
       "3  year-old female with hypertension admitted wit...       Nursing   \n",
       "4  year-old female with hypertension admitted wit...       Nursing   \n",
       "\n",
       "   ICUSTAY_ID            ADMITTIME            DISCHTIME FIRST_VENT_STARTTIME  \\\n",
       "0      249584  2138-08-25 17:58:00  2138-10-03 13:27:00  2138-09-12 11:00:00   \n",
       "1      249584  2138-08-25 17:58:00  2138-10-03 13:27:00  2138-09-12 11:00:00   \n",
       "2      249584  2138-08-25 17:58:00  2138-10-03 13:27:00  2138-09-12 11:00:00   \n",
       "3      249584  2138-08-25 17:58:00  2138-10-03 13:27:00  2138-09-12 11:00:00   \n",
       "4      249584  2138-08-25 17:58:00  2138-10-03 13:27:00  2138-09-12 11:00:00   \n",
       "\n",
       "                   DOD  COHORT  DAYS_UNTIL_DEATH  DEATH  DEATH_90  Label  \\\n",
       "0  2138-10-03 00:00:00       0         20.541667      0         1      0   \n",
       "1  2138-10-03 00:00:00       0         20.541667      0         1      0   \n",
       "2  2138-10-03 00:00:00       0         20.541667      0         1      0   \n",
       "3  2138-10-03 00:00:00       0         20.541667      0         1      0   \n",
       "4  2138-10-03 00:00:00       0         20.541667      0         1      0   \n",
       "\n",
       "   # of tokens  \n",
       "0          992  \n",
       "1         1520  \n",
       "2          231  \n",
       "3          164  \n",
       "4          279  "
      ]
     },
     "execution_count": 5,
     "metadata": {},
     "output_type": "execute_result"
    }
   ],
   "source": [
    "fold_note_df.head()"
   ]
  },
  {
   "cell_type": "code",
   "execution_count": 6,
   "metadata": {},
   "outputs": [],
   "source": [
    "death_df = fold_note_df[['HADM_ID', 'DEATH']].drop_duplicates().reset_index(drop=True)\n",
    "death = death_df['DEATH'].astype(int)"
   ]
  },
  {
   "cell_type": "code",
   "execution_count": 7,
   "metadata": {},
   "outputs": [
    {
     "data": {
      "text/html": [
       "<div>\n",
       "<style scoped>\n",
       "    .dataframe tbody tr th:only-of-type {\n",
       "        vertical-align: middle;\n",
       "    }\n",
       "\n",
       "    .dataframe tbody tr th {\n",
       "        vertical-align: top;\n",
       "    }\n",
       "\n",
       "    .dataframe thead th {\n",
       "        text-align: right;\n",
       "    }\n",
       "</style>\n",
       "<table border=\"1\" class=\"dataframe\">\n",
       "  <thead>\n",
       "    <tr style=\"text-align: right;\">\n",
       "      <th></th>\n",
       "      <th>HADM_ID</th>\n",
       "      <th>DEATH</th>\n",
       "    </tr>\n",
       "  </thead>\n",
       "  <tbody>\n",
       "    <tr>\n",
       "      <td>0</td>\n",
       "      <td>132663.0</td>\n",
       "      <td>0</td>\n",
       "    </tr>\n",
       "    <tr>\n",
       "      <td>1</td>\n",
       "      <td>178961.0</td>\n",
       "      <td>0</td>\n",
       "    </tr>\n",
       "    <tr>\n",
       "      <td>2</td>\n",
       "      <td>170269.0</td>\n",
       "      <td>0</td>\n",
       "    </tr>\n",
       "    <tr>\n",
       "      <td>3</td>\n",
       "      <td>148625.0</td>\n",
       "      <td>0</td>\n",
       "    </tr>\n",
       "    <tr>\n",
       "      <td>4</td>\n",
       "      <td>135916.0</td>\n",
       "      <td>0</td>\n",
       "    </tr>\n",
       "    <tr>\n",
       "      <td>...</td>\n",
       "      <td>...</td>\n",
       "      <td>...</td>\n",
       "    </tr>\n",
       "    <tr>\n",
       "      <td>1386</td>\n",
       "      <td>115993.0</td>\n",
       "      <td>1</td>\n",
       "    </tr>\n",
       "    <tr>\n",
       "      <td>1387</td>\n",
       "      <td>182849.0</td>\n",
       "      <td>1</td>\n",
       "    </tr>\n",
       "    <tr>\n",
       "      <td>1388</td>\n",
       "      <td>130887.0</td>\n",
       "      <td>0</td>\n",
       "    </tr>\n",
       "    <tr>\n",
       "      <td>1389</td>\n",
       "      <td>194269.0</td>\n",
       "      <td>0</td>\n",
       "    </tr>\n",
       "    <tr>\n",
       "      <td>1390</td>\n",
       "      <td>105582.0</td>\n",
       "      <td>0</td>\n",
       "    </tr>\n",
       "  </tbody>\n",
       "</table>\n",
       "<p>1391 rows × 2 columns</p>\n",
       "</div>"
      ],
      "text/plain": [
       "       HADM_ID  DEATH\n",
       "0     132663.0      0\n",
       "1     178961.0      0\n",
       "2     170269.0      0\n",
       "3     148625.0      0\n",
       "4     135916.0      0\n",
       "...        ...    ...\n",
       "1386  115993.0      1\n",
       "1387  182849.0      1\n",
       "1388  130887.0      0\n",
       "1389  194269.0      0\n",
       "1390  105582.0      0\n",
       "\n",
       "[1391 rows x 2 columns]"
      ]
     },
     "execution_count": 7,
     "metadata": {},
     "output_type": "execute_result"
    }
   ],
   "source": [
    "death_df"
   ]
  },
  {
   "cell_type": "markdown",
   "metadata": {},
   "source": [
    "## Read mixtures"
   ]
  },
  {
   "cell_type": "code",
   "execution_count": 71,
   "metadata": {},
   "outputs": [],
   "source": [
    "# for cross validation datasets\n",
    "data_path = r'/home/mcb/li_lab/zwen8/data/mimic/multi_datatypes_res_15_thre_d2_cv'\n",
    "fold_dfs = [pd.read_csv(os.path.join(data_path, 'infer', 'f' + str(idx) + '.csv'), header=None) for idx in range(1, 6)]\n",
    "fold_dfs = [pd.DataFrame(normalize(fold_df.iloc[:,0:51], norm='l1', axis=1)) for fold_df in fold_dfs]\n",
    "bi_durations = [pd.read_csv(os.path.join(data_path, 'f' + str(idx) + '_bi_vent.txt') , header=None, sep=' ') for idx in range(1, 6)] \n",
    "bi_durations = [binary_duration[1].astype(int) for binary_duration in bi_durations]\n",
    "mixtures = pd.concat(fold_dfs, ignore_index=True)\n",
    "binary_duration = pd.concat(bi_durations, ignore_index=True)"
   ]
  },
  {
   "cell_type": "code",
   "execution_count": 72,
   "metadata": {},
   "outputs": [
    {
     "data": {
      "text/plain": [
       "(1391, 50)"
      ]
     },
     "execution_count": 72,
     "metadata": {},
     "output_type": "execute_result"
    }
   ],
   "source": [
    "mixtures.columns = [str(idx) for idx in range(50)]\n",
    "normed_mixtures = mixtures.copy()\n",
    "mixtures.shape"
   ]
  },
  {
   "cell_type": "code",
   "execution_count": 73,
   "metadata": {},
   "outputs": [
    {
     "data": {
      "text/plain": [
       "(1391,)"
      ]
     },
     "execution_count": 73,
     "metadata": {},
     "output_type": "execute_result"
    }
   ],
   "source": [
    "binary_duration.shape"
   ]
  },
  {
   "cell_type": "code",
   "execution_count": 114,
   "metadata": {},
   "outputs": [
    {
     "data": {
      "text/plain": [
       "<matplotlib.legend.Legend at 0x7f65018d7eb8>"
      ]
     },
     "execution_count": 114,
     "metadata": {},
     "output_type": "execute_result"
    },
    {
     "data": {
      "image/png": "[encoded data removed]",
      "text/plain": [
       "<Figure size 432x288 with 1 Axes>"
      ]
     },
     "metadata": {
      "needs_background": "light"
     },
     "output_type": "display_data"
    }
   ],
   "source": [
    "topic_index = '21'\n",
    "plt.hist(normed_mixtures[topic_index][death == 1], bins=40, density=True, histtype='step', label='1')\n",
    "plt.hist(normed_mixtures[topic_index][death == 0], bins=40, density=True, histtype='step', label='0')\n",
    "plt.legend()"
   ]
  },
  {
   "cell_type": "code",
   "execution_count": 112,
   "metadata": {},
   "outputs": [],
   "source": [
    "mean_diff_sqs = normed_mixtures.apply(lambda mixture: np.abs(mixture[death == 1].mean() - mixture[death == 0].mean()))\n",
    "# [np.square(normed_mixtures[topic_index][death == 1].mean() - normed_mixtures[topic_index][death == 0].mean()) for topic_index in normed_mixtures.columns]"
   ]
  },
  {
   "cell_type": "code",
   "execution_count": 138,
   "metadata": {},
   "outputs": [
    {
     "data": {
      "image/png": "[encoded data removed]",
      "text/plain": [
       "<Figure size 1008x576 with 1 Axes>"
      ]
     },
     "metadata": {
      "needs_background": "light"
     },
     "output_type": "display_data"
    }
   ],
   "source": [
    "plt.figure(figsize=(14, 8))\n",
    "plt.bar(normed_mixtures.columns, mean_diff_sqs)\n",
    "plt.grid()"
   ]
  },
  {
   "cell_type": "markdown",
   "metadata": {},
   "source": [
    "### Correlation"
   ]
  },
  {
   "cell_type": "code",
   "execution_count": 142,
   "metadata": {},
   "outputs": [],
   "source": [
    "death_corr = normed_mixtures.apply(lambda mixture: mixture.corr(death, method='pearson'))"
   ]
  },
  {
   "cell_type": "code",
   "execution_count": 143,
   "metadata": {},
   "outputs": [],
   "source": [
    "death_corr_sorted = death_corr.sort_values(ascending=False)"
   ]
  },
  {
   "cell_type": "code",
   "execution_count": 144,
   "metadata": {},
   "outputs": [
    {
     "name": "stderr",
     "output_type": "stream",
     "text": [
      "/home/mcb/li_lab/zwen8/miniconda3/lib/python3.7/site-packages/ipykernel_launcher.py:2: UserWarning: In Matplotlib 3.3 individual lines on a stem plot will be added as a LineCollection instead of individual lines. This significantly improves the performance of a stem plot. To remove this warning and switch to the new behaviour, set the \"use_line_collection\" keyword argument to True.\n",
      "  \n"
     ]
    },
    {
     "data": {
      "text/plain": [
       "<matplotlib.legend.Legend at 0x7f64fffaea90>"
      ]
     },
     "execution_count": 144,
     "metadata": {},
     "output_type": "execute_result"
    },
    {
     "data": {
      "image/png": "[encoded data removed]",
      "text/plain": [
       "<Figure size 1008x576 with 1 Axes>"
      ]
     },
     "metadata": {
      "needs_background": "light"
     },
     "output_type": "display_data"
    }
   ],
   "source": [
    "plt.figure(figsize=(14, 8))\n",
    "plt.stem(normed_mixtures['21'][100:201].index, normed_mixtures['21'][100:201] / max(normed_mixtures['21'][100:201]), label='probabilities, normalized')\n",
    "plt.scatter(death[100:201].index, death[100:201], c='r', label='mortality indicator')\n",
    "plt.grid()\n",
    "plt.xlabel('samples')\n",
    "plt.legend(loc='upper center', bbox_to_anchor=(1, 1.1))"
   ]
  },
  {
   "cell_type": "code",
   "execution_count": 145,
   "metadata": {},
   "outputs": [
    {
     "data": {
      "image/png": "[encoded data removed]",
      "text/plain": [
       "<Figure size 1008x576 with 1 Axes>"
      ]
     },
     "metadata": {
      "needs_background": "light"
     },
     "output_type": "display_data"
    }
   ],
   "source": [
    "plt.figure(figsize=(14, 8))\n",
    "plt.bar(x=range(len(death_corr)), height=death_corr, label='correlation with death')\n",
    "plt.title('Correlation between topics and whether patients died in 7 days')\n",
    "plt.xlabel('Topic #')\n",
    "plt.xticks(range(len(death_corr)), death_corr.index)\n",
    "plt.ylabel('Spearman Correlation')\n",
    "plt.grid()"
   ]
  },
  {
   "cell_type": "markdown",
   "metadata": {},
   "source": [
    "### cosine"
   ]
  },
  {
   "cell_type": "code",
   "execution_count": 17,
   "metadata": {},
   "outputs": [],
   "source": [
    "def cosine(series_1, series_2):\n",
    "    return np.dot(series_1, series_2) / (np.linalg.norm(series_1, ord=2) * np.linalg.norm(series_2, ord=2))"
   ]
  },
  {
   "cell_type": "code",
   "execution_count": 18,
   "metadata": {},
   "outputs": [],
   "source": [
    "cos_death_corr = normed_mixtures.apply(lambda mixture: mixture.corr(death, method=cosine))"
   ]
  },
  {
   "cell_type": "code",
   "execution_count": 19,
   "metadata": {},
   "outputs": [],
   "source": [
    "cos_death_corr_sorted = cos_death_corr.sort_values(ascending=False)"
   ]
  },
  {
   "cell_type": "code",
   "execution_count": 45,
   "metadata": {},
   "outputs": [
    {
     "data": {
      "image/png": "[encoded data removed]",
      "text/plain": [
       "<Figure size 1008x576 with 1 Axes>"
      ]
     },
     "metadata": {
      "needs_background": "light"
     },
     "output_type": "display_data"
    }
   ],
   "source": [
    "plt.figure(figsize=(14, 8))\n",
    "plt.bar(x=range(len(cos_death_corr)), height=cos_death_corr, label='correlation with death')\n",
    "plt.title('Correlation between topics and whether patients died in 7 days')\n",
    "plt.xlabel('Topic #')\n",
    "plt.xticks(range(len(cos_death_corr)), cos_death_corr.index)\n",
    "plt.ylabel('Cosine Similarity')\n",
    "plt.grid()"
   ]
  },
  {
   "cell_type": "markdown",
   "metadata": {},
   "source": [
    "### get top patients associated with death"
   ]
  },
  {
   "cell_type": "code",
   "execution_count": 22,
   "metadata": {},
   "outputs": [
    {
     "data": {
      "text/plain": [
       "Int64Index([21, 23,  8, 36, 35,  1,  6, 49, 17, 20, 25, 19,  9, 39, 44, 18, 26,\n",
       "            33,  3, 34, 47, 42, 15,  4, 45,  2, 46,  5, 13, 14, 40, 22, 28, 10,\n",
       "            29,  7, 37, 27, 30, 32,  0, 24, 38, 43, 12, 16, 48, 31, 41, 11],\n",
       "           dtype='int64')"
      ]
     },
     "execution_count": 22,
     "metadata": {},
     "output_type": "execute_result"
    }
   ],
   "source": [
    "cos_death_corr_sorted.index"
   ]
  },
  {
   "cell_type": "code",
   "execution_count": 23,
   "metadata": {},
   "outputs": [
    {
     "data": {
      "text/plain": [
       "Int64Index([21, 23,  1,  6, 17,  8, 36,  3, 26, 47, 15, 34, 35, 49, 19, 18, 46,\n",
       "            20,  4, 39, 13, 33,  7, 25, 37, 45, 10,  9, 22, 14,  5, 44, 16, 40,\n",
       "            29, 30, 28, 38, 11, 24,  2, 42,  0, 48, 12, 41, 32, 27, 31, 43],\n",
       "           dtype='int64')"
      ]
     },
     "execution_count": 23,
     "metadata": {},
     "output_type": "execute_result"
    }
   ],
   "source": [
    "death_corr_sorted.index"
   ]
  },
  {
   "cell_type": "code",
   "execution_count": 26,
   "metadata": {},
   "outputs": [
    {
     "data": {
      "text/html": [
       "<div>\n",
       "<style scoped>\n",
       "    .dataframe tbody tr th:only-of-type {\n",
       "        vertical-align: middle;\n",
       "    }\n",
       "\n",
       "    .dataframe tbody tr th {\n",
       "        vertical-align: top;\n",
       "    }\n",
       "\n",
       "    .dataframe thead th {\n",
       "        text-align: right;\n",
       "    }\n",
       "</style>\n",
       "<table border=\"1\" class=\"dataframe\">\n",
       "  <thead>\n",
       "    <tr style=\"text-align: right;\">\n",
       "      <th></th>\n",
       "      <th>0</th>\n",
       "      <th>1</th>\n",
       "      <th>2</th>\n",
       "      <th>3</th>\n",
       "      <th>4</th>\n",
       "      <th>5</th>\n",
       "      <th>6</th>\n",
       "      <th>7</th>\n",
       "      <th>8</th>\n",
       "      <th>9</th>\n",
       "      <th>...</th>\n",
       "      <th>40</th>\n",
       "      <th>41</th>\n",
       "      <th>42</th>\n",
       "      <th>43</th>\n",
       "      <th>44</th>\n",
       "      <th>45</th>\n",
       "      <th>46</th>\n",
       "      <th>47</th>\n",
       "      <th>48</th>\n",
       "      <th>49</th>\n",
       "    </tr>\n",
       "  </thead>\n",
       "  <tbody>\n",
       "    <tr>\n",
       "      <td>748</td>\n",
       "      <td>0.000460</td>\n",
       "      <td>0.017590</td>\n",
       "      <td>0.000387</td>\n",
       "      <td>0.000460</td>\n",
       "      <td>0.000074</td>\n",
       "      <td>0.006489</td>\n",
       "      <td>0.000504</td>\n",
       "      <td>0.073648</td>\n",
       "      <td>0.003194</td>\n",
       "      <td>0.000233</td>\n",
       "      <td>...</td>\n",
       "      <td>0.000221</td>\n",
       "      <td>0.001790</td>\n",
       "      <td>0.007556</td>\n",
       "      <td>0.000083</td>\n",
       "      <td>0.000172</td>\n",
       "      <td>0.006007</td>\n",
       "      <td>0.000091</td>\n",
       "      <td>0.001619</td>\n",
       "      <td>0.000355</td>\n",
       "      <td>0.008964</td>\n",
       "    </tr>\n",
       "    <tr>\n",
       "      <td>1120</td>\n",
       "      <td>0.000979</td>\n",
       "      <td>0.013111</td>\n",
       "      <td>0.002655</td>\n",
       "      <td>0.000221</td>\n",
       "      <td>0.005519</td>\n",
       "      <td>0.010457</td>\n",
       "      <td>0.003438</td>\n",
       "      <td>0.005407</td>\n",
       "      <td>0.205165</td>\n",
       "      <td>0.002008</td>\n",
       "      <td>...</td>\n",
       "      <td>0.029401</td>\n",
       "      <td>0.000210</td>\n",
       "      <td>0.046553</td>\n",
       "      <td>0.000153</td>\n",
       "      <td>0.008544</td>\n",
       "      <td>0.015348</td>\n",
       "      <td>0.017616</td>\n",
       "      <td>0.008802</td>\n",
       "      <td>0.001053</td>\n",
       "      <td>0.002331</td>\n",
       "    </tr>\n",
       "    <tr>\n",
       "      <td>273</td>\n",
       "      <td>0.000858</td>\n",
       "      <td>0.005965</td>\n",
       "      <td>0.001512</td>\n",
       "      <td>0.003298</td>\n",
       "      <td>0.002313</td>\n",
       "      <td>0.000315</td>\n",
       "      <td>0.000113</td>\n",
       "      <td>0.177154</td>\n",
       "      <td>0.013795</td>\n",
       "      <td>0.004569</td>\n",
       "      <td>...</td>\n",
       "      <td>0.000439</td>\n",
       "      <td>0.000064</td>\n",
       "      <td>0.018429</td>\n",
       "      <td>0.000838</td>\n",
       "      <td>0.002303</td>\n",
       "      <td>0.089713</td>\n",
       "      <td>0.000077</td>\n",
       "      <td>0.002231</td>\n",
       "      <td>0.000055</td>\n",
       "      <td>0.000067</td>\n",
       "    </tr>\n",
       "    <tr>\n",
       "      <td>1238</td>\n",
       "      <td>0.001374</td>\n",
       "      <td>0.016907</td>\n",
       "      <td>0.023209</td>\n",
       "      <td>0.023687</td>\n",
       "      <td>0.000773</td>\n",
       "      <td>0.000312</td>\n",
       "      <td>0.002281</td>\n",
       "      <td>0.012904</td>\n",
       "      <td>0.033034</td>\n",
       "      <td>0.011788</td>\n",
       "      <td>...</td>\n",
       "      <td>0.000129</td>\n",
       "      <td>0.000133</td>\n",
       "      <td>0.018816</td>\n",
       "      <td>0.012928</td>\n",
       "      <td>0.001059</td>\n",
       "      <td>0.021204</td>\n",
       "      <td>0.000375</td>\n",
       "      <td>0.000447</td>\n",
       "      <td>0.000531</td>\n",
       "      <td>0.016439</td>\n",
       "    </tr>\n",
       "    <tr>\n",
       "      <td>215</td>\n",
       "      <td>0.000933</td>\n",
       "      <td>0.036865</td>\n",
       "      <td>0.006524</td>\n",
       "      <td>0.008488</td>\n",
       "      <td>0.000269</td>\n",
       "      <td>0.009988</td>\n",
       "      <td>0.000447</td>\n",
       "      <td>0.002811</td>\n",
       "      <td>0.084123</td>\n",
       "      <td>0.010020</td>\n",
       "      <td>...</td>\n",
       "      <td>0.000489</td>\n",
       "      <td>0.000522</td>\n",
       "      <td>0.016273</td>\n",
       "      <td>0.022317</td>\n",
       "      <td>0.000285</td>\n",
       "      <td>0.011172</td>\n",
       "      <td>0.002797</td>\n",
       "      <td>0.000805</td>\n",
       "      <td>0.000442</td>\n",
       "      <td>0.022533</td>\n",
       "    </tr>\n",
       "  </tbody>\n",
       "</table>\n",
       "<p>5 rows × 50 columns</p>\n",
       "</div>"
      ],
      "text/plain": [
       "             0         1         2         3         4         5         6  \\\n",
       "748   0.000460  0.017590  0.000387  0.000460  0.000074  0.006489  0.000504   \n",
       "1120  0.000979  0.013111  0.002655  0.000221  0.005519  0.010457  0.003438   \n",
       "273   0.000858  0.005965  0.001512  0.003298  0.002313  0.000315  0.000113   \n",
       "1238  0.001374  0.016907  0.023209  0.023687  0.000773  0.000312  0.002281   \n",
       "215   0.000933  0.036865  0.006524  0.008488  0.000269  0.009988  0.000447   \n",
       "\n",
       "             7         8         9  ...        40        41        42  \\\n",
       "748   0.073648  0.003194  0.000233  ...  0.000221  0.001790  0.007556   \n",
       "1120  0.005407  0.205165  0.002008  ...  0.029401  0.000210  0.046553   \n",
       "273   0.177154  0.013795  0.004569  ...  0.000439  0.000064  0.018429   \n",
       "1238  0.012904  0.033034  0.011788  ...  0.000129  0.000133  0.018816   \n",
       "215   0.002811  0.084123  0.010020  ...  0.000489  0.000522  0.016273   \n",
       "\n",
       "            43        44        45        46        47        48        49  \n",
       "748   0.000083  0.000172  0.006007  0.000091  0.001619  0.000355  0.008964  \n",
       "1120  0.000153  0.008544  0.015348  0.017616  0.008802  0.001053  0.002331  \n",
       "273   0.000838  0.002303  0.089713  0.000077  0.002231  0.000055  0.000067  \n",
       "1238  0.012928  0.001059  0.021204  0.000375  0.000447  0.000531  0.016439  \n",
       "215   0.022317  0.000285  0.011172  0.002797  0.000805  0.000442  0.022533  \n",
       "\n",
       "[5 rows x 50 columns]"
      ]
     },
     "execution_count": 26,
     "metadata": {},
     "output_type": "execute_result"
    }
   ],
   "source": [
    "normed_mixtures.sort_values(by='21', ascending=False).head()"
   ]
  },
  {
   "cell_type": "markdown",
   "metadata": {},
   "source": [
    "## Map to patients"
   ]
  },
  {
   "cell_type": "code",
   "execution_count": 27,
   "metadata": {},
   "outputs": [],
   "source": [
    "notes_data_path = r'/home/mcb/users/pnair6/mimic/data/data_files_14Nov'"
   ]
  },
  {
   "cell_type": "code",
   "execution_count": 28,
   "metadata": {},
   "outputs": [],
   "source": [
    "fold_note_dfs = [pd.read_csv(os.path.join(notes_data_path, 'fold' + str(idx), 'train.csv')) for idx in range(1, 6)]"
   ]
  },
  {
   "cell_type": "code",
   "execution_count": 31,
   "metadata": {},
   "outputs": [],
   "source": [
    "fold_note_df = pd.concat(fold_note_dfs, ignore_index=True)"
   ]
  },
  {
   "cell_type": "code",
   "execution_count": 33,
   "metadata": {},
   "outputs": [
    {
     "data": {
      "text/html": [
       "<div>\n",
       "<style scoped>\n",
       "    .dataframe tbody tr th:only-of-type {\n",
       "        vertical-align: middle;\n",
       "    }\n",
       "\n",
       "    .dataframe tbody tr th {\n",
       "        vertical-align: top;\n",
       "    }\n",
       "\n",
       "    .dataframe thead th {\n",
       "        text-align: right;\n",
       "    }\n",
       "</style>\n",
       "<table border=\"1\" class=\"dataframe\">\n",
       "  <thead>\n",
       "    <tr style=\"text-align: right;\">\n",
       "      <th></th>\n",
       "      <th>Unnamed: 0</th>\n",
       "      <th>HADM_ID</th>\n",
       "      <th>CHARTTIME</th>\n",
       "      <th>TEXT</th>\n",
       "      <th>CATEGORY</th>\n",
       "      <th>ICUSTAY_ID</th>\n",
       "      <th>ADMITTIME</th>\n",
       "      <th>DISCHTIME</th>\n",
       "      <th>FIRST_VENT_STARTTIME</th>\n",
       "      <th>DOD</th>\n",
       "      <th>COHORT</th>\n",
       "      <th>DAYS_UNTIL_DEATH</th>\n",
       "      <th>DEATH</th>\n",
       "      <th>DEATH_90</th>\n",
       "      <th>Label</th>\n",
       "      <th># of tokens</th>\n",
       "    </tr>\n",
       "  </thead>\n",
       "  <tbody>\n",
       "    <tr>\n",
       "      <td>0</td>\n",
       "      <td>0</td>\n",
       "      <td>132663.0</td>\n",
       "      <td>2138-09-12 16:09:00</td>\n",
       "      <td>chief complaint: respiratory failure i saw and...</td>\n",
       "      <td>Physician</td>\n",
       "      <td>249584</td>\n",
       "      <td>2138-08-25 17:58:00</td>\n",
       "      <td>2138-10-03 13:27:00</td>\n",
       "      <td>2138-09-12 11:00:00</td>\n",
       "      <td>2138-10-03 00:00:00</td>\n",
       "      <td>0</td>\n",
       "      <td>20.541667</td>\n",
       "      <td>0</td>\n",
       "      <td>1</td>\n",
       "      <td>0</td>\n",
       "      <td>992</td>\n",
       "    </tr>\n",
       "    <tr>\n",
       "      <td>1</td>\n",
       "      <td>1</td>\n",
       "      <td>132663.0</td>\n",
       "      <td>2138-09-12 16:13:00</td>\n",
       "      <td>chief complaint: respiratory distress hpi: yea...</td>\n",
       "      <td>Physician</td>\n",
       "      <td>249584</td>\n",
       "      <td>2138-08-25 17:58:00</td>\n",
       "      <td>2138-10-03 13:27:00</td>\n",
       "      <td>2138-09-12 11:00:00</td>\n",
       "      <td>2138-10-03 00:00:00</td>\n",
       "      <td>0</td>\n",
       "      <td>20.541667</td>\n",
       "      <td>0</td>\n",
       "      <td>1</td>\n",
       "      <td>0</td>\n",
       "      <td>1520</td>\n",
       "    </tr>\n",
       "    <tr>\n",
       "      <td>2</td>\n",
       "      <td>2</td>\n",
       "      <td>132663.0</td>\n",
       "      <td>2138-09-13 04:53:00</td>\n",
       "      <td>demographics day of intubation: day of mechani...</td>\n",
       "      <td>Respiratory</td>\n",
       "      <td>249584</td>\n",
       "      <td>2138-08-25 17:58:00</td>\n",
       "      <td>2138-10-03 13:27:00</td>\n",
       "      <td>2138-09-12 11:00:00</td>\n",
       "      <td>2138-10-03 00:00:00</td>\n",
       "      <td>0</td>\n",
       "      <td>20.541667</td>\n",
       "      <td>0</td>\n",
       "      <td>1</td>\n",
       "      <td>0</td>\n",
       "      <td>231</td>\n",
       "    </tr>\n",
       "    <tr>\n",
       "      <td>3</td>\n",
       "      <td>3</td>\n",
       "      <td>132663.0</td>\n",
       "      <td>2138-09-13 03:14:00</td>\n",
       "      <td>year-old female with hypertension admitted wit...</td>\n",
       "      <td>Nursing</td>\n",
       "      <td>249584</td>\n",
       "      <td>2138-08-25 17:58:00</td>\n",
       "      <td>2138-10-03 13:27:00</td>\n",
       "      <td>2138-09-12 11:00:00</td>\n",
       "      <td>2138-10-03 00:00:00</td>\n",
       "      <td>0</td>\n",
       "      <td>20.541667</td>\n",
       "      <td>0</td>\n",
       "      <td>1</td>\n",
       "      <td>0</td>\n",
       "      <td>164</td>\n",
       "    </tr>\n",
       "    <tr>\n",
       "      <td>4</td>\n",
       "      <td>4</td>\n",
       "      <td>132663.0</td>\n",
       "      <td>2138-09-13 03:14:00</td>\n",
       "      <td>year-old female with hypertension admitted wit...</td>\n",
       "      <td>Nursing</td>\n",
       "      <td>249584</td>\n",
       "      <td>2138-08-25 17:58:00</td>\n",
       "      <td>2138-10-03 13:27:00</td>\n",
       "      <td>2138-09-12 11:00:00</td>\n",
       "      <td>2138-10-03 00:00:00</td>\n",
       "      <td>0</td>\n",
       "      <td>20.541667</td>\n",
       "      <td>0</td>\n",
       "      <td>1</td>\n",
       "      <td>0</td>\n",
       "      <td>279</td>\n",
       "    </tr>\n",
       "  </tbody>\n",
       "</table>\n",
       "</div>"
      ],
      "text/plain": [
       "   Unnamed: 0   HADM_ID            CHARTTIME  \\\n",
       "0           0  132663.0  2138-09-12 16:09:00   \n",
       "1           1  132663.0  2138-09-12 16:13:00   \n",
       "2           2  132663.0  2138-09-13 04:53:00   \n",
       "3           3  132663.0  2138-09-13 03:14:00   \n",
       "4           4  132663.0  2138-09-13 03:14:00   \n",
       "\n",
       "                                                TEXT      CATEGORY  \\\n",
       "0  chief complaint: respiratory failure i saw and...    Physician    \n",
       "1  chief complaint: respiratory distress hpi: yea...    Physician    \n",
       "2  demographics day of intubation: day of mechani...  Respiratory    \n",
       "3  year-old female with hypertension admitted wit...       Nursing   \n",
       "4  year-old female with hypertension admitted wit...       Nursing   \n",
       "\n",
       "   ICUSTAY_ID            ADMITTIME            DISCHTIME FIRST_VENT_STARTTIME  \\\n",
       "0      249584  2138-08-25 17:58:00  2138-10-03 13:27:00  2138-09-12 11:00:00   \n",
       "1      249584  2138-08-25 17:58:00  2138-10-03 13:27:00  2138-09-12 11:00:00   \n",
       "2      249584  2138-08-25 17:58:00  2138-10-03 13:27:00  2138-09-12 11:00:00   \n",
       "3      249584  2138-08-25 17:58:00  2138-10-03 13:27:00  2138-09-12 11:00:00   \n",
       "4      249584  2138-08-25 17:58:00  2138-10-03 13:27:00  2138-09-12 11:00:00   \n",
       "\n",
       "                   DOD  COHORT  DAYS_UNTIL_DEATH  DEATH  DEATH_90  Label  \\\n",
       "0  2138-10-03 00:00:00       0         20.541667      0         1      0   \n",
       "1  2138-10-03 00:00:00       0         20.541667      0         1      0   \n",
       "2  2138-10-03 00:00:00       0         20.541667      0         1      0   \n",
       "3  2138-10-03 00:00:00       0         20.541667      0         1      0   \n",
       "4  2138-10-03 00:00:00       0         20.541667      0         1      0   \n",
       "\n",
       "   # of tokens  \n",
       "0          992  \n",
       "1         1520  \n",
       "2          231  \n",
       "3          164  \n",
       "4          279  "
      ]
     },
     "execution_count": 33,
     "metadata": {},
     "output_type": "execute_result"
    }
   ],
   "source": [
    "fold_note_df.head()"
   ]
  },
  {
   "cell_type": "code",
   "execution_count": 34,
   "metadata": {},
   "outputs": [],
   "source": [
    "death_df_reset = fold_note_df[['HADM_ID', 'DEATH']].reset_index(drop=True)"
   ]
  },
  {
   "cell_type": "code",
   "execution_count": 35,
   "metadata": {},
   "outputs": [
    {
     "data": {
      "text/html": [
       "<div>\n",
       "<style scoped>\n",
       "    .dataframe tbody tr th:only-of-type {\n",
       "        vertical-align: middle;\n",
       "    }\n",
       "\n",
       "    .dataframe tbody tr th {\n",
       "        vertical-align: top;\n",
       "    }\n",
       "\n",
       "    .dataframe thead th {\n",
       "        text-align: right;\n",
       "    }\n",
       "</style>\n",
       "<table border=\"1\" class=\"dataframe\">\n",
       "  <thead>\n",
       "    <tr style=\"text-align: right;\">\n",
       "      <th></th>\n",
       "      <th>HADM_ID</th>\n",
       "      <th>DEATH</th>\n",
       "    </tr>\n",
       "  </thead>\n",
       "  <tbody>\n",
       "    <tr>\n",
       "      <td>0</td>\n",
       "      <td>132663.0</td>\n",
       "      <td>0</td>\n",
       "    </tr>\n",
       "    <tr>\n",
       "      <td>1</td>\n",
       "      <td>132663.0</td>\n",
       "      <td>0</td>\n",
       "    </tr>\n",
       "    <tr>\n",
       "      <td>2</td>\n",
       "      <td>132663.0</td>\n",
       "      <td>0</td>\n",
       "    </tr>\n",
       "    <tr>\n",
       "      <td>3</td>\n",
       "      <td>132663.0</td>\n",
       "      <td>0</td>\n",
       "    </tr>\n",
       "    <tr>\n",
       "      <td>4</td>\n",
       "      <td>132663.0</td>\n",
       "      <td>0</td>\n",
       "    </tr>\n",
       "  </tbody>\n",
       "</table>\n",
       "</div>"
      ],
      "text/plain": [
       "    HADM_ID  DEATH\n",
       "0  132663.0      0\n",
       "1  132663.0      0\n",
       "2  132663.0      0\n",
       "3  132663.0      0\n",
       "4  132663.0      0"
      ]
     },
     "execution_count": 35,
     "metadata": {},
     "output_type": "execute_result"
    }
   ],
   "source": [
    "death_df_reset.head()"
   ]
  },
  {
   "cell_type": "code",
   "execution_count": 36,
   "metadata": {},
   "outputs": [],
   "source": [
    "top_hadm_ids = death_df_reset.iloc[normed_mixtures.sort_values(by='21', ascending=False).head().index]['HADM_ID']"
   ]
  },
  {
   "cell_type": "code",
   "execution_count": 37,
   "metadata": {},
   "outputs": [
    {
     "data": {
      "text/plain": [
       "748     163205.0\n",
       "1120    126791.0\n",
       "273     105911.0\n",
       "1238    154794.0\n",
       "215     135595.0\n",
       "Name: HADM_ID, dtype: float64"
      ]
     },
     "execution_count": 37,
     "metadata": {},
     "output_type": "execute_result"
    }
   ],
   "source": [
    "top_hadm_ids"
   ]
  },
  {
   "cell_type": "code",
   "execution_count": 38,
   "metadata": {},
   "outputs": [
    {
     "data": {
      "text/html": [
       "<div>\n",
       "<style scoped>\n",
       "    .dataframe tbody tr th:only-of-type {\n",
       "        vertical-align: middle;\n",
       "    }\n",
       "\n",
       "    .dataframe tbody tr th {\n",
       "        vertical-align: top;\n",
       "    }\n",
       "\n",
       "    .dataframe thead th {\n",
       "        text-align: right;\n",
       "    }\n",
       "</style>\n",
       "<table border=\"1\" class=\"dataframe\">\n",
       "  <thead>\n",
       "    <tr style=\"text-align: right;\">\n",
       "      <th></th>\n",
       "      <th>HADM_ID</th>\n",
       "      <th>DEATH</th>\n",
       "    </tr>\n",
       "  </thead>\n",
       "  <tbody>\n",
       "    <tr>\n",
       "      <td>7</td>\n",
       "      <td>135595.0</td>\n",
       "      <td>0</td>\n",
       "    </tr>\n",
       "    <tr>\n",
       "      <td>9</td>\n",
       "      <td>105911.0</td>\n",
       "      <td>0</td>\n",
       "    </tr>\n",
       "    <tr>\n",
       "      <td>29</td>\n",
       "      <td>163205.0</td>\n",
       "      <td>0</td>\n",
       "    </tr>\n",
       "    <tr>\n",
       "      <td>42</td>\n",
       "      <td>126791.0</td>\n",
       "      <td>0</td>\n",
       "    </tr>\n",
       "    <tr>\n",
       "      <td>46</td>\n",
       "      <td>154794.0</td>\n",
       "      <td>0</td>\n",
       "    </tr>\n",
       "  </tbody>\n",
       "</table>\n",
       "</div>"
      ],
      "text/plain": [
       "     HADM_ID  DEATH\n",
       "7   135595.0      0\n",
       "9   105911.0      0\n",
       "29  163205.0      0\n",
       "42  126791.0      0\n",
       "46  154794.0      0"
      ]
     },
     "execution_count": 38,
     "metadata": {},
     "output_type": "execute_result"
    }
   ],
   "source": [
    "death_df[death_df['HADM_ID'].isin(top_hadm_ids)]"
   ]
  }
 ],
 "metadata": {
  "kernelspec": {
   "display_name": "Python 3",
   "language": "python",
   "name": "python3"
  },
  "language_info": {
   "codemirror_mode": {
    "name": "ipython",
    "version": 3
   },
   "file_extension": ".py",
   "mimetype": "text/x-python",
   "name": "python",
   "nbconvert_exporter": "python",
   "pygments_lexer": "ipython3",
   "version": "3.7.3"
  }
 },
 "nbformat": 4,
 "nbformat_minor": 4
}
