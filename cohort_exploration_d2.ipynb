{
 "cells": [
  {
   "cell_type": "code",
   "execution_count": 1,
   "metadata": {},
   "outputs": [],
   "source": [
    "import pandas as pd\n",
    "import numpy as np"
   ]
  },
  {
   "cell_type": "markdown",
   "metadata": {},
   "source": [
    "## Reading in the data files"
   ]
  },
  {
   "cell_type": "code",
   "execution_count": 2,
   "metadata": {},
   "outputs": [],
   "source": [
    "cohort_data_file = \"../data/d2_mechvent_cohort08Oct19.csv\""
   ]
  },
  {
   "cell_type": "code",
   "execution_count": 3,
   "metadata": {},
   "outputs": [
    {
     "data": {
      "text/plain": [
       "(20124, 47)"
      ]
     },
     "execution_count": 3,
     "metadata": {},
     "output_type": "execute_result"
    }
   ],
   "source": [
    "d2_cohort = pd.read_csv(cohort_data_file)\n",
    "d2_cohort.shape"
   ]
  },
  {
   "cell_type": "code",
   "execution_count": 4,
   "metadata": {},
   "outputs": [
    {
     "name": "stderr",
     "output_type": "stream",
     "text": [
      "/home/mcb/li_lab/pnair6/venv/mcb36/lib/python3.6/site-packages/IPython/core/interactiveshell.py:3058: DtypeWarning: Columns (4,5) have mixed types. Specify dtype option on import or set low_memory=False.\n",
      "  interactivity=interactivity, compiler=compiler, result=result)\n"
     ]
    }
   ],
   "source": [
    "notes_file = \"../data/NOTEEVENTS.csv\"\n",
    "notes_df = pd.read_csv(notes_file)"
   ]
  },
  {
   "cell_type": "code",
   "execution_count": 5,
   "metadata": {},
   "outputs": [
    {
     "name": "stdout",
     "output_type": "stream",
     "text": [
      "(2083180, 11)\n"
     ]
    },
    {
     "data": {
      "text/html": [
       "<div>\n",
       "<style scoped>\n",
       "    .dataframe tbody tr th:only-of-type {\n",
       "        vertical-align: middle;\n",
       "    }\n",
       "\n",
       "    .dataframe tbody tr th {\n",
       "        vertical-align: top;\n",
       "    }\n",
       "\n",
       "    .dataframe thead th {\n",
       "        text-align: right;\n",
       "    }\n",
       "</style>\n",
       "<table border=\"1\" class=\"dataframe\">\n",
       "  <thead>\n",
       "    <tr style=\"text-align: right;\">\n",
       "      <th></th>\n",
       "      <th>ROW_ID</th>\n",
       "      <th>SUBJECT_ID</th>\n",
       "      <th>HADM_ID</th>\n",
       "      <th>CHARTDATE</th>\n",
       "      <th>CHARTTIME</th>\n",
       "      <th>STORETIME</th>\n",
       "      <th>CATEGORY</th>\n",
       "      <th>DESCRIPTION</th>\n",
       "      <th>CGID</th>\n",
       "      <th>ISERROR</th>\n",
       "      <th>TEXT</th>\n",
       "    </tr>\n",
       "  </thead>\n",
       "  <tbody>\n",
       "    <tr>\n",
       "      <td>0</td>\n",
       "      <td>174</td>\n",
       "      <td>22532</td>\n",
       "      <td>167853.0</td>\n",
       "      <td>2151-08-04</td>\n",
       "      <td>NaN</td>\n",
       "      <td>NaN</td>\n",
       "      <td>Discharge summary</td>\n",
       "      <td>Report</td>\n",
       "      <td>NaN</td>\n",
       "      <td>NaN</td>\n",
       "      <td>Admission Date:  [**2151-7-16**]       Dischar...</td>\n",
       "    </tr>\n",
       "    <tr>\n",
       "      <td>1</td>\n",
       "      <td>175</td>\n",
       "      <td>13702</td>\n",
       "      <td>107527.0</td>\n",
       "      <td>2118-06-14</td>\n",
       "      <td>NaN</td>\n",
       "      <td>NaN</td>\n",
       "      <td>Discharge summary</td>\n",
       "      <td>Report</td>\n",
       "      <td>NaN</td>\n",
       "      <td>NaN</td>\n",
       "      <td>Admission Date:  [**2118-6-2**]       Discharg...</td>\n",
       "    </tr>\n",
       "    <tr>\n",
       "      <td>2</td>\n",
       "      <td>176</td>\n",
       "      <td>13702</td>\n",
       "      <td>167118.0</td>\n",
       "      <td>2119-05-25</td>\n",
       "      <td>NaN</td>\n",
       "      <td>NaN</td>\n",
       "      <td>Discharge summary</td>\n",
       "      <td>Report</td>\n",
       "      <td>NaN</td>\n",
       "      <td>NaN</td>\n",
       "      <td>Admission Date:  [**2119-5-4**]              D...</td>\n",
       "    </tr>\n",
       "    <tr>\n",
       "      <td>3</td>\n",
       "      <td>177</td>\n",
       "      <td>13702</td>\n",
       "      <td>196489.0</td>\n",
       "      <td>2124-08-18</td>\n",
       "      <td>NaN</td>\n",
       "      <td>NaN</td>\n",
       "      <td>Discharge summary</td>\n",
       "      <td>Report</td>\n",
       "      <td>NaN</td>\n",
       "      <td>NaN</td>\n",
       "      <td>Admission Date:  [**2124-7-21**]              ...</td>\n",
       "    </tr>\n",
       "    <tr>\n",
       "      <td>4</td>\n",
       "      <td>178</td>\n",
       "      <td>26880</td>\n",
       "      <td>135453.0</td>\n",
       "      <td>2162-03-25</td>\n",
       "      <td>NaN</td>\n",
       "      <td>NaN</td>\n",
       "      <td>Discharge summary</td>\n",
       "      <td>Report</td>\n",
       "      <td>NaN</td>\n",
       "      <td>NaN</td>\n",
       "      <td>Admission Date:  [**2162-3-3**]              D...</td>\n",
       "    </tr>\n",
       "  </tbody>\n",
       "</table>\n",
       "</div>"
      ],
      "text/plain": [
       "   ROW_ID  SUBJECT_ID   HADM_ID   CHARTDATE CHARTTIME STORETIME  \\\n",
       "0     174       22532  167853.0  2151-08-04       NaN       NaN   \n",
       "1     175       13702  107527.0  2118-06-14       NaN       NaN   \n",
       "2     176       13702  167118.0  2119-05-25       NaN       NaN   \n",
       "3     177       13702  196489.0  2124-08-18       NaN       NaN   \n",
       "4     178       26880  135453.0  2162-03-25       NaN       NaN   \n",
       "\n",
       "            CATEGORY DESCRIPTION  CGID  ISERROR  \\\n",
       "0  Discharge summary      Report   NaN      NaN   \n",
       "1  Discharge summary      Report   NaN      NaN   \n",
       "2  Discharge summary      Report   NaN      NaN   \n",
       "3  Discharge summary      Report   NaN      NaN   \n",
       "4  Discharge summary      Report   NaN      NaN   \n",
       "\n",
       "                                                TEXT  \n",
       "0  Admission Date:  [**2151-7-16**]       Dischar...  \n",
       "1  Admission Date:  [**2118-6-2**]       Discharg...  \n",
       "2  Admission Date:  [**2119-5-4**]              D...  \n",
       "3  Admission Date:  [**2124-7-21**]              ...  \n",
       "4  Admission Date:  [**2162-3-3**]              D...  "
      ]
     },
     "execution_count": 5,
     "metadata": {},
     "output_type": "execute_result"
    }
   ],
   "source": [
    "print(notes_df.shape)\n",
    "notes_df.head()"
   ]
  },
  {
   "cell_type": "code",
   "execution_count": 6,
   "metadata": {},
   "outputs": [
    {
     "data": {
      "text/html": [
       "<div>\n",
       "<style scoped>\n",
       "    .dataframe tbody tr th:only-of-type {\n",
       "        vertical-align: middle;\n",
       "    }\n",
       "\n",
       "    .dataframe tbody tr th {\n",
       "        vertical-align: top;\n",
       "    }\n",
       "\n",
       "    .dataframe thead th {\n",
       "        text-align: right;\n",
       "    }\n",
       "</style>\n",
       "<table border=\"1\" class=\"dataframe\">\n",
       "  <thead>\n",
       "    <tr style=\"text-align: right;\">\n",
       "      <th></th>\n",
       "      <th>ICUSTAY_ID</th>\n",
       "      <th>SUBJECT_ID</th>\n",
       "      <th>HADM_ID</th>\n",
       "      <th>ADMITTIME</th>\n",
       "      <th>DISCHTIME</th>\n",
       "      <th>ADMISSION_TYPE</th>\n",
       "      <th>ETHNICITY</th>\n",
       "      <th>HOSPITAL_EXPIRE_FLAG</th>\n",
       "      <th>GENDER</th>\n",
       "      <th>DOD</th>\n",
       "      <th>...</th>\n",
       "      <th>LOS_ICU</th>\n",
       "      <th>ICUSTAY_SEQ</th>\n",
       "      <th>FIRST_ICU_STAY</th>\n",
       "      <th>VENTNUM</th>\n",
       "      <th>STARTTIME</th>\n",
       "      <th>ENDTIME</th>\n",
       "      <th>DURATION_HOURS</th>\n",
       "      <th>DAYS_UNTIL_DEATH</th>\n",
       "      <th>FIRST_VENT_STARTTIME</th>\n",
       "      <th>COHORT</th>\n",
       "    </tr>\n",
       "  </thead>\n",
       "  <tbody>\n",
       "    <tr>\n",
       "      <td>0</td>\n",
       "      <td>211552</td>\n",
       "      <td>3</td>\n",
       "      <td>145834</td>\n",
       "      <td>2101-10-20 19:08:00</td>\n",
       "      <td>2101-10-31 13:58:00</td>\n",
       "      <td>EMERGENCY</td>\n",
       "      <td>WHITE</td>\n",
       "      <td>0</td>\n",
       "      <td>M</td>\n",
       "      <td>2102-06-14</td>\n",
       "      <td>...</td>\n",
       "      <td>6.0646</td>\n",
       "      <td>1</td>\n",
       "      <td>t</td>\n",
       "      <td>1</td>\n",
       "      <td>2101-10-20 20:00:00</td>\n",
       "      <td>2101-10-24 07:44:00</td>\n",
       "      <td>83.733333</td>\n",
       "      <td>236.202778</td>\n",
       "      <td>2101-10-20 20:00:00</td>\n",
       "      <td>d2</td>\n",
       "    </tr>\n",
       "    <tr>\n",
       "      <td>1</td>\n",
       "      <td>220597</td>\n",
       "      <td>9</td>\n",
       "      <td>150750</td>\n",
       "      <td>2149-11-09 13:06:00</td>\n",
       "      <td>2149-11-14 10:15:00</td>\n",
       "      <td>EMERGENCY</td>\n",
       "      <td>UNKNOWN/NOT SPECIFIED</td>\n",
       "      <td>1</td>\n",
       "      <td>M</td>\n",
       "      <td>2149-11-14</td>\n",
       "      <td>...</td>\n",
       "      <td>5.3231</td>\n",
       "      <td>1</td>\n",
       "      <td>t</td>\n",
       "      <td>1</td>\n",
       "      <td>2149-11-09 13:40:00</td>\n",
       "      <td>2149-11-14 12:00:00</td>\n",
       "      <td>118.333333</td>\n",
       "      <td>4.454167</td>\n",
       "      <td>2149-11-09 13:40:00</td>\n",
       "      <td>d2</td>\n",
       "    </tr>\n",
       "    <tr>\n",
       "      <td>2</td>\n",
       "      <td>232669</td>\n",
       "      <td>12</td>\n",
       "      <td>112213</td>\n",
       "      <td>2104-08-07 10:15:00</td>\n",
       "      <td>2104-08-20 02:57:00</td>\n",
       "      <td>ELECTIVE</td>\n",
       "      <td>WHITE</td>\n",
       "      <td>1</td>\n",
       "      <td>M</td>\n",
       "      <td>2104-08-20</td>\n",
       "      <td>...</td>\n",
       "      <td>7.6348</td>\n",
       "      <td>1</td>\n",
       "      <td>t</td>\n",
       "      <td>1</td>\n",
       "      <td>2104-08-08 04:20:00</td>\n",
       "      <td>2104-08-11 15:00:00</td>\n",
       "      <td>82.666667</td>\n",
       "      <td>12.572917</td>\n",
       "      <td>2104-08-08 04:20:00</td>\n",
       "      <td>d2</td>\n",
       "    </tr>\n",
       "    <tr>\n",
       "      <td>3</td>\n",
       "      <td>254478</td>\n",
       "      <td>31</td>\n",
       "      <td>128652</td>\n",
       "      <td>2108-08-22 23:27:00</td>\n",
       "      <td>2108-08-30 15:00:00</td>\n",
       "      <td>EMERGENCY</td>\n",
       "      <td>WHITE</td>\n",
       "      <td>1</td>\n",
       "      <td>M</td>\n",
       "      <td>2108-08-30</td>\n",
       "      <td>...</td>\n",
       "      <td>7.9379</td>\n",
       "      <td>1</td>\n",
       "      <td>t</td>\n",
       "      <td>1</td>\n",
       "      <td>2108-08-23 15:00:00</td>\n",
       "      <td>2108-08-30 13:00:00</td>\n",
       "      <td>166.000000</td>\n",
       "      <td>7.022917</td>\n",
       "      <td>2108-08-23 15:00:00</td>\n",
       "      <td>d2</td>\n",
       "    </tr>\n",
       "    <tr>\n",
       "      <td>4</td>\n",
       "      <td>282039</td>\n",
       "      <td>35</td>\n",
       "      <td>166707</td>\n",
       "      <td>2122-02-10 11:15:00</td>\n",
       "      <td>2122-02-20 15:30:00</td>\n",
       "      <td>ELECTIVE</td>\n",
       "      <td>WHITE</td>\n",
       "      <td>0</td>\n",
       "      <td>F</td>\n",
       "      <td>NaN</td>\n",
       "      <td>...</td>\n",
       "      <td>5.3757</td>\n",
       "      <td>1</td>\n",
       "      <td>t</td>\n",
       "      <td>1</td>\n",
       "      <td>2122-02-10 13:00:00</td>\n",
       "      <td>2122-02-10 20:40:00</td>\n",
       "      <td>7.666667</td>\n",
       "      <td>NaN</td>\n",
       "      <td>2122-02-10 13:00:00</td>\n",
       "      <td>d2</td>\n",
       "    </tr>\n",
       "  </tbody>\n",
       "</table>\n",
       "<p>5 rows × 47 columns</p>\n",
       "</div>"
      ],
      "text/plain": [
       "   ICUSTAY_ID  SUBJECT_ID  HADM_ID            ADMITTIME            DISCHTIME  \\\n",
       "0      211552           3   145834  2101-10-20 19:08:00  2101-10-31 13:58:00   \n",
       "1      220597           9   150750  2149-11-09 13:06:00  2149-11-14 10:15:00   \n",
       "2      232669          12   112213  2104-08-07 10:15:00  2104-08-20 02:57:00   \n",
       "3      254478          31   128652  2108-08-22 23:27:00  2108-08-30 15:00:00   \n",
       "4      282039          35   166707  2122-02-10 11:15:00  2122-02-20 15:30:00   \n",
       "\n",
       "  ADMISSION_TYPE              ETHNICITY  HOSPITAL_EXPIRE_FLAG GENDER  \\\n",
       "0      EMERGENCY                  WHITE                     0      M   \n",
       "1      EMERGENCY  UNKNOWN/NOT SPECIFIED                     1      M   \n",
       "2       ELECTIVE                  WHITE                     1      M   \n",
       "3      EMERGENCY                  WHITE                     1      M   \n",
       "4       ELECTIVE                  WHITE                     0      F   \n",
       "\n",
       "          DOD  ... LOS_ICU ICUSTAY_SEQ FIRST_ICU_STAY VENTNUM  \\\n",
       "0  2102-06-14  ...  6.0646           1              t       1   \n",
       "1  2149-11-14  ...  5.3231           1              t       1   \n",
       "2  2104-08-20  ...  7.6348           1              t       1   \n",
       "3  2108-08-30  ...  7.9379           1              t       1   \n",
       "4         NaN  ...  5.3757           1              t       1   \n",
       "\n",
       "             STARTTIME              ENDTIME DURATION_HOURS DAYS_UNTIL_DEATH  \\\n",
       "0  2101-10-20 20:00:00  2101-10-24 07:44:00      83.733333       236.202778   \n",
       "1  2149-11-09 13:40:00  2149-11-14 12:00:00     118.333333         4.454167   \n",
       "2  2104-08-08 04:20:00  2104-08-11 15:00:00      82.666667        12.572917   \n",
       "3  2108-08-23 15:00:00  2108-08-30 13:00:00     166.000000         7.022917   \n",
       "4  2122-02-10 13:00:00  2122-02-10 20:40:00       7.666667              NaN   \n",
       "\n",
       "  FIRST_VENT_STARTTIME COHORT  \n",
       "0  2101-10-20 20:00:00     d2  \n",
       "1  2149-11-09 13:40:00     d2  \n",
       "2  2104-08-08 04:20:00     d2  \n",
       "3  2108-08-23 15:00:00     d2  \n",
       "4  2122-02-10 13:00:00     d2  \n",
       "\n",
       "[5 rows x 47 columns]"
      ]
     },
     "execution_count": 6,
     "metadata": {},
     "output_type": "execute_result"
    }
   ],
   "source": [
    "d2_cohort.head()"
   ]
  },
  {
   "cell_type": "markdown",
   "metadata": {},
   "source": [
    "### Number of rows which correspond to the first ICU stay of SUBJECT_ID"
   ]
  },
  {
   "cell_type": "code",
   "execution_count": 8,
   "metadata": {},
   "outputs": [
    {
     "data": {
      "text/plain": [
       "t    15273\n",
       "f     4851\n",
       "Name: FIRST_HOSP_STAY, dtype: int64"
      ]
     },
     "execution_count": 8,
     "metadata": {},
     "output_type": "execute_result"
    }
   ],
   "source": [
    "d2_cohort.FIRST_HOSP_STAY.value_counts()"
   ]
  },
  {
   "cell_type": "markdown",
   "metadata": {},
   "source": [
    "### Retaining only those admissions in the first ICU stay"
   ]
  },
  {
   "cell_type": "code",
   "execution_count": 65,
   "metadata": {},
   "outputs": [
    {
     "name": "stdout",
     "output_type": "stream",
     "text": [
      "(15273, 47)\n"
     ]
    }
   ],
   "source": [
    "d2_first_icu_stay = d2_cohort[d2_cohort.FIRST_HOSP_STAY == 't']\n",
    "print(d2_first_icu_stay.shape)\n",
    "#d2_first_icu_stay.head()\n",
    "# This result is different from what Stone gets! "
   ]
  },
  {
   "cell_type": "markdown",
   "metadata": {},
   "source": [
    "### Cleaning notes by removing NULL records of CHARTTIME and HADM_ID"
   ]
  },
  {
   "cell_type": "code",
   "execution_count": null,
   "metadata": {},
   "outputs": [],
   "source": [
    "notes_df_filtered = notes_df[notes_df.CHARTTIME.notnull() & notes_df.HADM_ID.notnull()]"
   ]
  },
  {
   "cell_type": "code",
   "execution_count": 45,
   "metadata": {},
   "outputs": [],
   "source": [
    "# Just wrote these lines of code to compare results with Stone's implementation. However results do not match!\n",
    "#merge_stone = pd.merge(notes_df_filtered, d2_first_icu_stay[['HADM_ID','FIRST_VENT_STARTTIME']], on = 'HADM_ID', how='left')\n",
    "#merge_stone = merge_stone[merge_stone.FIRST_VENT_STARTTIME.notnull()]\n",
    "#merge_stone.drop_duplicates(subset='ROW_ID',keep='first',inplace=True)\n",
    "#merge_stone.shape"
   ]
  },
  {
   "cell_type": "markdown",
   "metadata": {},
   "source": [
    "#### Joining (left) the d2 cohort with the notes table on the HADM_ID\n",
    "##### Removed those records whose FIRST_VENT_STARTTIME is NULL and removed duplicate  ROW_IDs"
   ]
  },
  {
   "cell_type": "code",
   "execution_count": 66,
   "metadata": {},
   "outputs": [
    {
     "name": "stdout",
     "output_type": "stream",
     "text": [
      "(507993, 13)\n"
     ]
    }
   ],
   "source": [
    "merged = pd.merge(d2_first_icu_stay[['HADM_ID','ICUSTAY_ID','FIRST_VENT_STARTTIME']], notes_df_filtered, on = ['HADM_ID'], how='left')\n",
    "merged = merged[merged.FIRST_VENT_STARTTIME.notnull()]\n",
    "merged.drop_duplicates(subset='ROW_ID',keep='first',inplace=True)\n",
    "print(merged.shape)\n",
    "#merged.head()"
   ]
  },
  {
   "cell_type": "code",
   "execution_count": null,
   "metadata": {},
   "outputs": [],
   "source": [
    "#icu_charttime_diff = pd.to_timedelta(pd.to_datetime(merged_sm.ENDTIME) - pd.to_datetime(merged_sm.CHARTTIME))\n",
    "#merged_sm[\"ICU_CHARTTIME_DIFF\"] = icu_charttime_diff.astype('timedelta64[h]')\n",
    "#merged_sm.head()"
   ]
  },
  {
   "cell_type": "code",
   "execution_count": null,
   "metadata": {},
   "outputs": [],
   "source": [
    "#print(merged_sm.shape)\n",
    "#merged_sm = merged_sm[merged_sm.ICU_CHARTTIME_DIFF >= 0]\n",
    "#print(merged_sm.shape)"
   ]
  },
  {
   "cell_type": "code",
   "execution_count": null,
   "metadata": {},
   "outputs": [],
   "source": [
    "#print(len(merged_sm.ICUSTAY_ID.unique()))"
   ]
  },
  {
   "cell_type": "code",
   "execution_count": null,
   "metadata": {},
   "outputs": [],
   "source": []
  },
  {
   "cell_type": "code",
   "execution_count": 18,
   "metadata": {},
   "outputs": [],
   "source": []
  },
  {
   "cell_type": "code",
   "execution_count": 67,
   "metadata": {},
   "outputs": [],
   "source": []
  },
  {
   "cell_type": "code",
   "execution_count": 68,
   "metadata": {},
   "outputs": [],
   "source": []
  },
  {
   "cell_type": "markdown",
   "metadata": {},
   "source": [
    "## Finding the time difference between ventilation start time and notes chart time. \n",
    "## This will help filter out the notes which were charted after 48 hours of admission to ventilator"
   ]
  },
  {
   "cell_type": "code",
   "execution_count": 71,
   "metadata": {},
   "outputs": [],
   "source": [
    "time_diff = pd.to_timedelta(pd.to_datetime(merged.CHARTTIME) - pd.to_datetime(merged.FIRST_VENT_STARTTIME))\n",
    "merged[\"TIME_DIFF\"] = time_diff.astype('timedelta64[h]')"
   ]
  },
  {
   "cell_type": "code",
   "execution_count": 73,
   "metadata": {},
   "outputs": [
    {
     "name": "stdout",
     "output_type": "stream",
     "text": [
      "(95412, 14)\n"
     ]
    }
   ],
   "source": [
    "trimmed_cohort = merged[(merged.TIME_DIFF <= 48) & (merged.TIME_DIFF >= 0)]\n",
    "print(trimmed_cohort.shape)\n",
    "#trimmed_cohort.head()"
   ]
  },
  {
   "cell_type": "markdown",
   "metadata": {},
   "source": [
    "#### Looking at the number of notes from each category"
   ]
  },
  {
   "cell_type": "code",
   "execution_count": 75,
   "metadata": {},
   "outputs": [
    {
     "data": {
      "text/plain": [
       "Nursing/other       37464\n",
       "Radiology           27558\n",
       "Nursing             14828\n",
       "Physician            8968\n",
       "Respiratory          4402\n",
       "Nutrition            1026\n",
       "General               704\n",
       "Social Work           263\n",
       "Rehab Services        123\n",
       "Case Management        46\n",
       "Consult                21\n",
       "Pharmacy                9\n",
       "Name: CATEGORY, dtype: int64"
      ]
     },
     "execution_count": 75,
     "metadata": {},
     "output_type": "execute_result"
    }
   ],
   "source": [
    "trimmed_cohort.CATEGORY.value_counts()"
   ]
  },
  {
   "cell_type": "markdown",
   "metadata": {},
   "source": [
    "#### Looking at the number of unique Admission IDs"
   ]
  },
  {
   "cell_type": "code",
   "execution_count": 76,
   "metadata": {},
   "outputs": [
    {
     "data": {
      "text/plain": [
       "7131"
      ]
     },
     "execution_count": 76,
     "metadata": {},
     "output_type": "execute_result"
    }
   ],
   "source": [
    "len(trimmed_cohort.HADM_ID.unique())"
   ]
  },
  {
   "cell_type": "markdown",
   "metadata": {},
   "source": [
    "#### Looking at the number of unique patient IDs"
   ]
  },
  {
   "cell_type": "markdown",
   "metadata": {},
   "source": [
    "len(trimmed_cohort.SUBJECT_ID.unique())"
   ]
  },
  {
   "cell_type": "markdown",
   "metadata": {},
   "source": [
    "#### Looking at the unique ICU Stay IDs"
   ]
  },
  {
   "cell_type": "code",
   "execution_count": 82,
   "metadata": {},
   "outputs": [
    {
     "data": {
      "text/plain": [
       "7131"
      ]
     },
     "execution_count": 82,
     "metadata": {},
     "output_type": "execute_result"
    }
   ],
   "source": [
    "len(trimmed_cohort.ICUSTAY_ID.unique())"
   ]
  },
  {
   "cell_type": "code",
   "execution_count": 83,
   "metadata": {},
   "outputs": [],
   "source": [
    "#trimmed_cohort.to_csv(\"../data/d2_48hrs_Oct19.csv\",index=False)"
   ]
  },
  {
   "cell_type": "markdown",
   "metadata": {},
   "source": [
    "### Using ICUSTAY_ID as unit of analysis"
   ]
  },
  {
   "cell_type": "code",
   "execution_count": 78,
   "metadata": {},
   "outputs": [
    {
     "name": "stdout",
     "output_type": "stream",
     "text": [
      "(7131, 14)\n"
     ]
    }
   ],
   "source": [
    "trimmed_icustay_cohort = trimmed_cohort.drop_duplicates(subset=\"ICUSTAY_ID\")\n",
    "print(trimmed_icustay_cohort.shape)"
   ]
  },
  {
   "cell_type": "markdown",
   "metadata": {},
   "source": [
    "#### Number of unique Admission IDs, Subject IDs and number of notes in each category"
   ]
  },
  {
   "cell_type": "code",
   "execution_count": 79,
   "metadata": {},
   "outputs": [
    {
     "data": {
      "text/plain": [
       "7131"
      ]
     },
     "execution_count": 79,
     "metadata": {},
     "output_type": "execute_result"
    }
   ],
   "source": [
    "len(trimmed_icustay_cohort.HADM_ID.unique())"
   ]
  },
  {
   "cell_type": "code",
   "execution_count": 80,
   "metadata": {},
   "outputs": [
    {
     "data": {
      "text/plain": [
       "7131"
      ]
     },
     "execution_count": 80,
     "metadata": {},
     "output_type": "execute_result"
    }
   ],
   "source": [
    "len(trimmed_icustay_cohort.SUBJECT_ID.unique())"
   ]
  },
  {
   "cell_type": "code",
   "execution_count": 81,
   "metadata": {},
   "outputs": [
    {
     "data": {
      "text/plain": [
       "Radiology           5317\n",
       "Nursing/other        668\n",
       "Nursing              557\n",
       "Physician            291\n",
       "Respiratory          229\n",
       "General               27\n",
       "Nutrition             24\n",
       "Social Work           12\n",
       "Rehab Services         5\n",
       "Case Management        1\n",
       "Name: CATEGORY, dtype: int64"
      ]
     },
     "execution_count": 81,
     "metadata": {},
     "output_type": "execute_result"
    }
   ],
   "source": [
    "trimmed_icustay_cohort.CATEGORY.value_counts()"
   ]
  }
 ],
 "metadata": {
  "kernelspec": {
   "display_name": "Python 3",
   "language": "python",
   "name": "python3"
  },
  "language_info": {
   "codemirror_mode": {
    "name": "ipython",
    "version": 3
   },
   "file_extension": ".py",
   "mimetype": "text/x-python",
   "name": "python",
   "nbconvert_exporter": "python",
   "pygments_lexer": "ipython3",
   "version": "3.5.3"
  }
 },
 "nbformat": 4,
 "nbformat_minor": 2
}
