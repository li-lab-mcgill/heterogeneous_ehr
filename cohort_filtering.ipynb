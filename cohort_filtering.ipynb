{
 "cells": [
  {
   "cell_type": "code",
   "execution_count": 69,
   "metadata": {},
   "outputs": [],
   "source": [
    "import pandas as pd\n",
    "import numpy as np\n",
    "import argparse"
   ]
  },
  {
   "cell_type": "markdown",
   "metadata": {},
   "source": [
    "## Reading in the data files"
   ]
  },
  {
   "cell_type": "code",
   "execution_count": null,
   "metadata": {},
   "outputs": [],
   "source": [
    "cohort = pd.read_csv(\"../data/entire_mechvent_cohort_starttimes15Oct19.csv\")\n",
    "notes_file = \"../data/NOTEEVENTS.csv\"\n",
    "notes_df = pd.read_csv(notes_file)\n",
    "\n",
    "d2_file = \"../data/d2_mechvent_cohort08Oct19.csv\"\n",
    "d2 = pd.read_csv(d2_file)\n",
    "\n",
    "categories = [\"Physician \",\"Nursing\", \"Nursing/other\", \"Respiratory \"]"
   ]
  },
  {
   "cell_type": "code",
   "execution_count": 71,
   "metadata": {},
   "outputs": [
    {
     "name": "stderr",
     "output_type": "stream",
     "text": [
      "usage: ipykernel_launcher.py [-h] [--cohort_file COHORT_FILE]\n",
      "                             [--notes_file NOTES_FILE] [--save_path SAVE_PATH]\n",
      "                             [--categories CATEGORIES] [--verbosity VERBOSITY]\n",
      "ipykernel_launcher.py: error: unrecognized arguments: -f /home/2019/pnair6/.local/share/jupyter/runtime/kernel-ed4ea206-e17f-4a63-8387-37b3f8cb68b2.json\n"
     ]
    },
    {
     "ename": "SystemExit",
     "evalue": "2",
     "output_type": "error",
     "traceback": [
      "An exception has occurred, use %tb to see the full traceback.\n",
      "\u001b[0;31mSystemExit\u001b[0m\u001b[0;31m:\u001b[0m 2\n"
     ]
    },
    {
     "name": "stderr",
     "output_type": "stream",
     "text": [
      "/home/mcb/li_lab/pnair6/venv/mcb36/lib/python3.6/site-packages/IPython/core/interactiveshell.py:3334: UserWarning: To exit: use 'exit', 'quit', or Ctrl-D.\n",
      "  warn(\"To exit: use 'exit', 'quit', or Ctrl-D.\", stacklevel=1)\n"
     ]
    }
   ],
   "source": [
    "'''\n",
    "parser = argparse.ArgumentParser()\n",
    "parser.add_argument(\"--cohort_file\", help=\"path to the cohort information\")\n",
    "parser.add_argument(\"--notes_file\", help=\"path to the notes file (NOTEVENTS)\")\n",
    "parser.add_argument(\"--save_path\", help=\"path to save file including filename\")\n",
    "parser.add_argument(\"--categories\", help=\"list of note categories to be included. Eg, ['physician', 'nursing']\")\n",
    "parser.add_argument(\"--verbosity\", help=\"set to 1 (default) for verbose descriptions of code, else set to 0\", default=1)\n",
    "args = parser.parse_args()\n",
    "'''"
   ]
  },
  {
   "cell_type": "code",
   "execution_count": 3,
   "metadata": {},
   "outputs": [
    {
     "name": "stderr",
     "output_type": "stream",
     "text": [
      "/home/mcb/li_lab/pnair6/venv/mcb36/lib/python3.6/site-packages/IPython/core/interactiveshell.py:3058: DtypeWarning: Columns (4,5) have mixed types. Specify dtype option on import or set low_memory=False.\n",
      "  interactivity=interactivity, compiler=compiler, result=result)\n"
     ]
    }
   ],
   "source": [
    "'''\n",
    "cohort = pd.read_csv(args.cohort_file)\n",
    "notes_df = pd.read_csv(args.notes_file)\n",
    "output_path = args.save_path\n",
    "categories = args.categories\n",
    "verbosity = args.verbosity\n",
    "'''"
   ]
  },
  {
   "cell_type": "code",
   "execution_count": 72,
   "metadata": {},
   "outputs": [],
   "source": [
    "# function that calculates the difference between the start of mechanical ventilation and the chart time of notes\n",
    "# Input : Data table which is a merge between the selected cohort and the notes\n",
    "# Output: List of time difference between the charttime and start of mechanical ventilation\n",
    "\n",
    "def get_time_diff(merged):\n",
    "    from datetime import datetime, timedelta\n",
    "    from tqdm import tqdm_notebook as tqdm\n",
    "    \n",
    "    FMT = '%Y-%m-%d %H:%M:%S'\n",
    "    t_from_vent_list = []\n",
    "\n",
    "    for ind,rows in tqdm(merged.iterrows(), total= merged.shape[0]):\n",
    "\n",
    "        # take difference\n",
    "        t_from_vent = datetime.strptime(rows.CHARTTIME, FMT)- datetime.strptime(rows.FIRST_VENT_STARTTIME, FMT)\n",
    "\n",
    "        # convert to hr and add to list\n",
    "        t_from_vent_list.append(t_from_vent.total_seconds()/timedelta (hours=1).total_seconds())\n",
    "        \n",
    "    return t_from_vent_list"
   ]
  },
  {
   "cell_type": "code",
   "execution_count": 73,
   "metadata": {},
   "outputs": [],
   "source": [
    "# This function carries out the preprocessing of the data. It uses a pipeline as follows:\n",
    "#        -- Consider only the first ICU stay of patients\n",
    "#        -- Remove all rows from the notes table with invalid CHARTTIME and HADM_ID\n",
    "#        -- Merge the cohort table with the notes table on the HADM_ID\n",
    "#        -- Find the difference between chart time of noted and start of mechanical ventilation\n",
    "#        -- Extract notes within the first 48 hours of mechanical ventilation\n",
    "#        -- From this, take only those notes within the required categories\n",
    "\n",
    "# Input: cohort table, notes table, list of categories, verbosity value\n",
    "# Output: the pre-processed dataframe following the above pipeline\n",
    "\n",
    "def pre_process(cohort, notes, categories, verbosity=1):\n",
    "    \n",
    "    if verbosity:\n",
    "        print(\"Initial size of cohort: \" + str(cohort.shape) + \"\\n\")\n",
    "        print(\"Initial size of notes table: \" + str(notes.shape) + \"\\n\")\n",
    "        print(\"\\n...............\\n\")\n",
    "        print(\"Obtaining records corresponding to first ICU stay only\\n\")\n",
    "        print(\"Removing rows with invalid admission IDs and null chart time of notes\")\n",
    "        print(\"Merging cohort with notes\\n\")\n",
    "        \n",
    "    # getting patient records of first icu stay only \n",
    "    first_icu_stay = cohort[cohort.FIRST_ICU_STAY == 't']\n",
    "    \n",
    "    # remove rows without CHARTTIME and HADM_ID values\n",
    "    notes_df_filtered = notes[notes.CHARTTIME.notnull() & notes.HADM_ID.notnull()]\n",
    "    \n",
    "    \n",
    "    # merging cohort with notes\n",
    "    merged = pd.merge(notes_df_filtered, first_icu_stay[['HADM_ID','ICUSTAY_ID','FIRST_VENT_STARTTIME']], on = ['HADM_ID'], how='left')\n",
    "    merged = merged[merged.FIRST_VENT_STARTTIME.notnull()]\n",
    "    merged.drop_duplicates(subset='ROW_ID',keep='first',inplace=True)\n",
    "    if verbosity:\n",
    "        print(\"Size of merged table: \" + str(merged.shape))\n",
    "        print(\"Number of unique admissions \" + str(len(merged.HADM_ID.unique())) + \"\\n\")\n",
    "        print(\"\\n.................\\n\")\n",
    "    \n",
    "    # calculate the difference between chart time of notes and start of mechanical ventilation\n",
    "    print(\"Calculating the difference between chart time of notes and start of mechanical ventilation \\n\")\n",
    "    t_from_vent_list = get_time_diff(merged)\n",
    "    merged['TIME_FROM_VENT'] = t_from_vent_list\n",
    "    if verbosity:\n",
    "        print(merged.columns)\n",
    "    \n",
    "    # getting notes from only first 48 hours\n",
    "    merged_48hrs = merged[(merged.TIME_FROM_VENT <= 48) & (merged.TIME_FROM_VENT >= 0)]\n",
    "    if verbosity:\n",
    "        print(\"Take notes only from first 48 hours of mechanical ventilation \\n\")\n",
    "        print(\"Number of unique admissions \" + str(len(merged_48hrs.HADM_ID.unique())) + \"\\n\")\n",
    "    \n",
    "    # retaining only notes of required categories\n",
    "    res_notes = merged_48hrs[merged_48hrs.CATEGORY.isin(categories)]\n",
    "    if verbosity:\n",
    "        print(\"Retain notes of only required categories \" + str(categories) + \"\\n\")\n",
    "        print(\"Final cohort size: \" + str(res_notes.shape) +\"\\n\")\n",
    "        print(\"Final number of unique admissions \"+ str(len(res_notes.HADM_ID.unique())) +\"\\n\")\n",
    "    \n",
    "    return res_notes"
   ]
  },
  {
   "cell_type": "code",
   "execution_count": 68,
   "metadata": {},
   "outputs": [
    {
     "name": "stdout",
     "output_type": "stream",
     "text": [
      "Initial size of cohort: (20124, 47)\n",
      "\n",
      "Initial size of notes table: (2083180, 11)\n",
      "\n",
      "\n",
      "...............\n",
      "\n",
      "Obtaining records corresponding to first ICU stay only\n",
      "\n",
      "Removing rows with invalid admission IDs and null chart time of notes\n",
      "Merging cohort with notes\n",
      "\n",
      "Size of merged table: (597494, 13)\n",
      "Number of unique admissions 8586\n",
      "\n",
      "\n",
      ".................\n",
      "\n",
      "Calculating the mechanical ventilation duration \n",
      "\n"
     ]
    },
    {
     "data": {
      "application/vnd.jupyter.widget-view+json": {
       "model_id": "9ad52f5c4a964840a380a0bed15899dd",
       "version_major": 2,
       "version_minor": 0
      },
      "text/plain": [
       "HBox(children=(IntProgress(value=0, max=597494), HTML(value='')))"
      ]
     },
     "metadata": {},
     "output_type": "display_data"
    },
    {
     "name": "stdout",
     "output_type": "stream",
     "text": [
      "\n",
      "Index(['ROW_ID', 'SUBJECT_ID', 'HADM_ID', 'CHARTDATE', 'CHARTTIME',\n",
      "       'STORETIME', 'CATEGORY', 'DESCRIPTION', 'CGID', 'ISERROR', 'TEXT',\n",
      "       'ICUSTAY_ID', 'FIRST_VENT_STARTTIME', 'TIME_FROM_VENT'],\n",
      "      dtype='object')\n",
      "Take notes only from first 48 hours of mechanical ventilation \n",
      "\n",
      "Number of unique admissions 8507\n",
      "\n",
      "Retain notes of only required categories ['Physician ', 'Nursing', 'Nursing/other', 'Respiratory ']\n",
      "\n",
      "Final cohort size: (78695, 14)\n",
      "\n",
      "Final number of unique admissions 6831\n",
      "\n"
     ]
    }
   ],
   "source": [
    "d2_notes = pre_process(d2, notes_df, categories)"
   ]
  },
  {
   "cell_type": "code",
   "execution_count": 57,
   "metadata": {},
   "outputs": [],
   "source": [
    "d2_notes.to_csv(\"../data/d2_cohort_phy_nurse_resp_Nov1.csv\", index=False)"
   ]
  },
  {
   "cell_type": "code",
   "execution_count": null,
   "metadata": {},
   "outputs": [],
   "source": [
    "whole_cohort_notes_preprocessed = pre_process(cohort, notes_df, categories)\n",
    "whole_cohort_notes_preprocessed.to_csv(\"../data/all_cohort_notes_phy_nurse_resp_Nov1.csv\",index=False)"
   ]
  },
  {
   "cell_type": "code",
   "execution_count": null,
   "metadata": {},
   "outputs": [],
   "source": [
    "'''\n",
    "preprocessed_notes = pre_process(cohort, notes_df, categories, verbosity)\n",
    "\n",
    "preprocessed_notes.to_csv(output_path, index=False)\n",
    "'''"
   ]
  }
 ],
 "metadata": {
  "kernelspec": {
   "display_name": "Python 3",
   "language": "python",
   "name": "python3"
  },
  "language_info": {
   "codemirror_mode": {
    "name": "ipython",
    "version": 3
   },
   "file_extension": ".py",
   "mimetype": "text/x-python",
   "name": "python",
   "nbconvert_exporter": "python",
   "pygments_lexer": "ipython3",
   "version": "3.6.8"
  }
 },
 "nbformat": 4,
 "nbformat_minor": 2
}
