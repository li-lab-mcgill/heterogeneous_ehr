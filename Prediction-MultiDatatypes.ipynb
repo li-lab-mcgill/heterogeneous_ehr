{
 "cells": [
  {
   "cell_type": "markdown",
   "metadata": {},
   "source": [
    "# Using notes' topic mixtures as features to develop models for predicting length of MV"
   ]
  },
  {
   "cell_type": "code",
   "execution_count": 11,
   "metadata": {},
   "outputs": [],
   "source": [
    "import pandas as pd\n",
    "import numpy as np\n",
    "import matplotlib.pyplot as plt"
   ]
  },
  {
   "cell_type": "markdown",
   "metadata": {},
   "source": [
    "## Read data"
   ]
  },
  {
   "cell_type": "code",
   "execution_count": 2,
   "metadata": {},
   "outputs": [],
   "source": [
    "train_mixture_filename = r'/home/mcb/li_lab/zwen8/data/mimic/multi_datatypes_res_15_thre_d2/infer/train.csv'\n",
    "train_duration_filename = r'/home/mcb/li_lab/zwen8/data/mimic/multi_datatypes_res_15_thre_d2/train_bi_vent.txt'\n",
    "# valid_mixture_filename = r'/home/mcb/li_lab/zwen8/data/mimic/multi_datatypes_res_other_15_thre_d2/infer/validation.csv'\n",
    "# valid_duration_filename = r'/home/mcb/li_lab/zwen8/data/mimic/multi_datatypes_res_other_15_thre_d2/validation_vent.txt'\n",
    "test_mixture_filename = r'/home/mcb/li_lab/zwen8/data/mimic/multi_datatypes_res_15_thre_d2/infer/test.csv'\n",
    "test_duration_filename = r'/home/mcb/li_lab/zwen8/data/mimic/multi_datatypes_res_15_thre_d2/test_bi_vent.txt'"
   ]
  },
  {
   "cell_type": "code",
   "execution_count": 3,
   "metadata": {},
   "outputs": [],
   "source": [
    "train_mixtures = pd.read_csv(train_mixture_filename, header=None)\n",
    "bi_train_duration = pd.read_csv(train_duration_filename, header=None, sep=' ')\n",
    "bi_train_duration = bi_train_duration[1].astype(int)\n",
    "# valid_mixtures = pd.read_csv(valid_mixture_filename, header=None)\n",
    "# valid_duration = pd.read_csv(valid_duration_filename, header=None, sep=' ')\n",
    "# valid_duration = valid_duration[1].astype(np.float64)\n",
    "test_mixtures = pd.read_csv(test_mixture_filename, header=None)\n",
    "bi_test_duration = pd.read_csv(test_duration_filename, header=None, sep=' ')\n",
    "bi_test_duration = bi_test_duration[1].astype(int)"
   ]
  },
  {
   "cell_type": "code",
   "execution_count": 174,
   "metadata": {},
   "outputs": [
    {
     "data": {
      "text/plain": [
       "(1545, 50)"
      ]
     },
     "execution_count": 174,
     "metadata": {},
     "output_type": "execute_result"
    }
   ],
   "source": [
    "train_mixtures.shape"
   ]
  },
  {
   "cell_type": "code",
   "execution_count": 175,
   "metadata": {},
   "outputs": [
    {
     "data": {
      "text/plain": [
       "(1545,)"
      ]
     },
     "execution_count": 175,
     "metadata": {},
     "output_type": "execute_result"
    }
   ],
   "source": [
    "bi_train_duration.shape"
   ]
  },
  {
   "cell_type": "code",
   "execution_count": 151,
   "metadata": {},
   "outputs": [
    {
     "data": {
      "text/html": [
       "<div>\n",
       "<style scoped>\n",
       "    .dataframe tbody tr th:only-of-type {\n",
       "        vertical-align: middle;\n",
       "    }\n",
       "\n",
       "    .dataframe tbody tr th {\n",
       "        vertical-align: top;\n",
       "    }\n",
       "\n",
       "    .dataframe thead th {\n",
       "        text-align: right;\n",
       "    }\n",
       "</style>\n",
       "<table border=\"1\" class=\"dataframe\">\n",
       "  <thead>\n",
       "    <tr style=\"text-align: right;\">\n",
       "      <th></th>\n",
       "      <th>0</th>\n",
       "      <th>1</th>\n",
       "      <th>2</th>\n",
       "      <th>3</th>\n",
       "      <th>4</th>\n",
       "      <th>5</th>\n",
       "      <th>6</th>\n",
       "      <th>7</th>\n",
       "      <th>8</th>\n",
       "      <th>9</th>\n",
       "      <th>...</th>\n",
       "      <th>40</th>\n",
       "      <th>41</th>\n",
       "      <th>42</th>\n",
       "      <th>43</th>\n",
       "      <th>44</th>\n",
       "      <th>45</th>\n",
       "      <th>46</th>\n",
       "      <th>47</th>\n",
       "      <th>48</th>\n",
       "      <th>49</th>\n",
       "    </tr>\n",
       "  </thead>\n",
       "  <tbody>\n",
       "    <tr>\n",
       "      <td>0</td>\n",
       "      <td>6.169393</td>\n",
       "      <td>0.880430</td>\n",
       "      <td>0.598690</td>\n",
       "      <td>0.362789</td>\n",
       "      <td>0.416184</td>\n",
       "      <td>0.187921</td>\n",
       "      <td>0.665955</td>\n",
       "      <td>0.261223</td>\n",
       "      <td>6.708218</td>\n",
       "      <td>1.185520</td>\n",
       "      <td>...</td>\n",
       "      <td>0.224770</td>\n",
       "      <td>1.037896</td>\n",
       "      <td>0.316181</td>\n",
       "      <td>2.222237</td>\n",
       "      <td>2.559309</td>\n",
       "      <td>1.638421</td>\n",
       "      <td>2.698149</td>\n",
       "      <td>4.288230</td>\n",
       "      <td>0.307073</td>\n",
       "      <td>6.179341</td>\n",
       "    </tr>\n",
       "    <tr>\n",
       "      <td>1</td>\n",
       "      <td>1.250451</td>\n",
       "      <td>0.096186</td>\n",
       "      <td>3.431060</td>\n",
       "      <td>0.144998</td>\n",
       "      <td>8.455335</td>\n",
       "      <td>10.792283</td>\n",
       "      <td>3.112868</td>\n",
       "      <td>0.177797</td>\n",
       "      <td>6.234458</td>\n",
       "      <td>0.419704</td>\n",
       "      <td>...</td>\n",
       "      <td>83.139414</td>\n",
       "      <td>0.117779</td>\n",
       "      <td>0.226234</td>\n",
       "      <td>0.141875</td>\n",
       "      <td>0.205148</td>\n",
       "      <td>0.583311</td>\n",
       "      <td>3.067343</td>\n",
       "      <td>0.462541</td>\n",
       "      <td>12.394314</td>\n",
       "      <td>0.822867</td>\n",
       "    </tr>\n",
       "    <tr>\n",
       "      <td>2</td>\n",
       "      <td>11.855064</td>\n",
       "      <td>4.588003</td>\n",
       "      <td>150.448018</td>\n",
       "      <td>5.280188</td>\n",
       "      <td>2.262990</td>\n",
       "      <td>1.327328</td>\n",
       "      <td>3.911447</td>\n",
       "      <td>3.677770</td>\n",
       "      <td>25.427030</td>\n",
       "      <td>72.048828</td>\n",
       "      <td>...</td>\n",
       "      <td>3.126892</td>\n",
       "      <td>1.174563</td>\n",
       "      <td>0.841430</td>\n",
       "      <td>84.501553</td>\n",
       "      <td>2.419894</td>\n",
       "      <td>0.414802</td>\n",
       "      <td>1.340032</td>\n",
       "      <td>1.794121</td>\n",
       "      <td>1.088389</td>\n",
       "      <td>4.146183</td>\n",
       "    </tr>\n",
       "    <tr>\n",
       "      <td>3</td>\n",
       "      <td>29.423590</td>\n",
       "      <td>52.436662</td>\n",
       "      <td>29.355699</td>\n",
       "      <td>262.250371</td>\n",
       "      <td>2.700544</td>\n",
       "      <td>0.549543</td>\n",
       "      <td>490.783981</td>\n",
       "      <td>0.261389</td>\n",
       "      <td>0.473957</td>\n",
       "      <td>8.493560</td>\n",
       "      <td>...</td>\n",
       "      <td>0.241255</td>\n",
       "      <td>1.967094</td>\n",
       "      <td>0.095113</td>\n",
       "      <td>6.334435</td>\n",
       "      <td>3.305798</td>\n",
       "      <td>0.178678</td>\n",
       "      <td>1.427316</td>\n",
       "      <td>1.488076</td>\n",
       "      <td>0.158686</td>\n",
       "      <td>69.100347</td>\n",
       "    </tr>\n",
       "    <tr>\n",
       "      <td>4</td>\n",
       "      <td>9.046872</td>\n",
       "      <td>0.479707</td>\n",
       "      <td>2.254286</td>\n",
       "      <td>187.756879</td>\n",
       "      <td>786.144968</td>\n",
       "      <td>0.252679</td>\n",
       "      <td>0.578828</td>\n",
       "      <td>0.975533</td>\n",
       "      <td>367.764578</td>\n",
       "      <td>1.304707</td>\n",
       "      <td>...</td>\n",
       "      <td>0.140483</td>\n",
       "      <td>2.318918</td>\n",
       "      <td>0.239055</td>\n",
       "      <td>1.616026</td>\n",
       "      <td>0.721336</td>\n",
       "      <td>0.532097</td>\n",
       "      <td>0.405967</td>\n",
       "      <td>6.404681</td>\n",
       "      <td>0.125853</td>\n",
       "      <td>86.830035</td>\n",
       "    </tr>\n",
       "  </tbody>\n",
       "</table>\n",
       "<p>5 rows × 50 columns</p>\n",
       "</div>"
      ],
      "text/plain": [
       "          0          1           2           3           4          5   \\\n",
       "0   6.169393   0.880430    0.598690    0.362789    0.416184   0.187921   \n",
       "1   1.250451   0.096186    3.431060    0.144998    8.455335  10.792283   \n",
       "2  11.855064   4.588003  150.448018    5.280188    2.262990   1.327328   \n",
       "3  29.423590  52.436662   29.355699  262.250371    2.700544   0.549543   \n",
       "4   9.046872   0.479707    2.254286  187.756879  786.144968   0.252679   \n",
       "\n",
       "           6         7           8          9   ...         40        41  \\\n",
       "0    0.665955  0.261223    6.708218   1.185520  ...   0.224770  1.037896   \n",
       "1    3.112868  0.177797    6.234458   0.419704  ...  83.139414  0.117779   \n",
       "2    3.911447  3.677770   25.427030  72.048828  ...   3.126892  1.174563   \n",
       "3  490.783981  0.261389    0.473957   8.493560  ...   0.241255  1.967094   \n",
       "4    0.578828  0.975533  367.764578   1.304707  ...   0.140483  2.318918   \n",
       "\n",
       "         42         43        44        45        46        47         48  \\\n",
       "0  0.316181   2.222237  2.559309  1.638421  2.698149  4.288230   0.307073   \n",
       "1  0.226234   0.141875  0.205148  0.583311  3.067343  0.462541  12.394314   \n",
       "2  0.841430  84.501553  2.419894  0.414802  1.340032  1.794121   1.088389   \n",
       "3  0.095113   6.334435  3.305798  0.178678  1.427316  1.488076   0.158686   \n",
       "4  0.239055   1.616026  0.721336  0.532097  0.405967  6.404681   0.125853   \n",
       "\n",
       "          49  \n",
       "0   6.179341  \n",
       "1   0.822867  \n",
       "2   4.146183  \n",
       "3  69.100347  \n",
       "4  86.830035  \n",
       "\n",
       "[5 rows x 50 columns]"
      ]
     },
     "execution_count": 151,
     "metadata": {},
     "output_type": "execute_result"
    }
   ],
   "source": [
    "train_mixtures.head()"
   ]
  },
  {
   "cell_type": "code",
   "execution_count": 155,
   "metadata": {},
   "outputs": [],
   "source": [
    "normed_train_mixtures = pd.DataFrame(normalize(train_mixtures.iloc[:,2:51], norm='l1', axis=1))\n",
    "normed_test_mixtures = pd.DataFrame(normalize(test_mixtures.iloc[:,2:51], norm='l1', axis=1))"
   ]
  },
  {
   "cell_type": "markdown",
   "metadata": {},
   "source": [
    "## Convert to binarized duration"
   ]
  },
  {
   "cell_type": "code",
   "execution_count": 94,
   "metadata": {},
   "outputs": [],
   "source": [
    "bi_train_duration = (train_duration > 7 * 24).astype(int)\n",
    "bi_valid_duration = (valid_duration > 7 * 24).astype(int)\n",
    "bi_test_duration = (test_duration > 7 * 24).astype(int)"
   ]
  },
  {
   "cell_type": "markdown",
   "metadata": {},
   "source": [
    "## Logistic regression"
   ]
  },
  {
   "cell_type": "code",
   "execution_count": 44,
   "metadata": {},
   "outputs": [],
   "source": [
    "from sklearn.linear_model import LogisticRegression\n",
    "from sklearn.metrics import roc_auc_score, classification_report, roc_curve, average_precision_score, precision_recall_curve, accuracy_score"
   ]
  },
  {
   "cell_type": "code",
   "execution_count": 5,
   "metadata": {},
   "outputs": [],
   "source": [
    "lr = LogisticRegression(solver='liblinear', class_weight='balanced', max_iter=200)"
   ]
  },
  {
   "cell_type": "code",
   "execution_count": 6,
   "metadata": {},
   "outputs": [
    {
     "data": {
      "text/plain": [
       "LogisticRegression(C=1.0, class_weight='balanced', dual=False,\n",
       "                   fit_intercept=True, intercept_scaling=1, l1_ratio=None,\n",
       "                   max_iter=200, multi_class='warn', n_jobs=None, penalty='l2',\n",
       "                   random_state=None, solver='liblinear', tol=0.0001, verbose=0,\n",
       "                   warm_start=False)"
      ]
     },
     "execution_count": 6,
     "metadata": {},
     "output_type": "execute_result"
    }
   ],
   "source": [
    "lr.fit(train_mixtures, bi_train_duration)"
   ]
  },
  {
   "cell_type": "code",
   "execution_count": 7,
   "metadata": {},
   "outputs": [],
   "source": [
    "test_predictions_lr = lr.predict(test_mixtures)"
   ]
  },
  {
   "cell_type": "code",
   "execution_count": 8,
   "metadata": {},
   "outputs": [
    {
     "name": "stdout",
     "output_type": "stream",
     "text": [
      "0.5344561688311689\n",
      "              precision    recall  f1-score   support\n",
      "\n",
      "           0       0.71      0.72      0.72        89\n",
      "           1       0.61      0.60      0.60        65\n",
      "\n",
      "    accuracy                           0.67       154\n",
      "   macro avg       0.66      0.66      0.66       154\n",
      "weighted avg       0.67      0.67      0.67       154\n",
      "\n"
     ]
    }
   ],
   "source": [
    "print(average_precision_score(bi_test_duration, test_predictions_lr))\n",
    "print(classification_report(bi_test_duration, test_predictions_lr))"
   ]
  },
  {
   "cell_type": "code",
   "execution_count": 9,
   "metadata": {},
   "outputs": [],
   "source": [
    "test_proba_lr = lr.predict_proba(test_mixtures)[:, 1]\n",
    "lr_precision, lr_recall, _ = precision_recall_curve(bi_test_duration, test_proba_lr, pos_label=1)"
   ]
  },
  {
   "cell_type": "code",
   "execution_count": 12,
   "metadata": {},
   "outputs": [
    {
     "data": {
      "image/png": "[encoded data removed]",
      "text/plain": [
       "<Figure size 576x576 with 1 Axes>"
      ]
     },
     "metadata": {
      "needs_background": "light"
     },
     "output_type": "display_data"
    }
   ],
   "source": [
    "plt.figure(figsize=(8, 8))\n",
    "plt.plot(lr_recall, lr_precision)\n",
    "plt.xlabel('recall')\n",
    "plt.ylabel('precision')\n",
    "plt.grid()"
   ]
  },
  {
   "cell_type": "markdown",
   "metadata": {},
   "source": [
    "## Naive Bayes"
   ]
  },
  {
   "cell_type": "code",
   "execution_count": 23,
   "metadata": {},
   "outputs": [],
   "source": [
    "from sklearn.naive_bayes import GaussianNB"
   ]
  },
  {
   "cell_type": "code",
   "execution_count": 24,
   "metadata": {},
   "outputs": [],
   "source": [
    "GNB = GaussianNB()"
   ]
  },
  {
   "cell_type": "code",
   "execution_count": 25,
   "metadata": {},
   "outputs": [
    {
     "data": {
      "text/plain": [
       "GaussianNB(priors=None, var_smoothing=1e-09)"
      ]
     },
     "execution_count": 25,
     "metadata": {},
     "output_type": "execute_result"
    }
   ],
   "source": [
    "GNB.fit(train_mixtures, bi_train_duration)"
   ]
  },
  {
   "cell_type": "code",
   "execution_count": 26,
   "metadata": {},
   "outputs": [],
   "source": [
    "test_predictions_GNB = GNB.predict(test_mixtures)"
   ]
  },
  {
   "cell_type": "code",
   "execution_count": 27,
   "metadata": {},
   "outputs": [
    {
     "name": "stdout",
     "output_type": "stream",
     "text": [
      "0.45545224006762464\n",
      "              precision    recall  f1-score   support\n",
      "\n",
      "           0       0.65      0.46      0.54        89\n",
      "           1       0.47      0.66      0.55        65\n",
      "\n",
      "    accuracy                           0.55       154\n",
      "   macro avg       0.56      0.56      0.55       154\n",
      "weighted avg       0.58      0.55      0.54       154\n",
      "\n"
     ]
    }
   ],
   "source": [
    "print(average_precision_score(bi_test_duration, test_predictions_GNB))\n",
    "print(classification_report(bi_test_duration, test_predictions_GNB))"
   ]
  },
  {
   "cell_type": "markdown",
   "metadata": {},
   "source": [
    "## SVM"
   ]
  },
  {
   "cell_type": "markdown",
   "metadata": {},
   "source": [
    "### Linear SVM"
   ]
  },
  {
   "cell_type": "code",
   "execution_count": 28,
   "metadata": {},
   "outputs": [],
   "source": [
    "from sklearn.svm import LinearSVC"
   ]
  },
  {
   "cell_type": "code",
   "execution_count": 29,
   "metadata": {},
   "outputs": [],
   "source": [
    "lsvm = LinearSVC()"
   ]
  },
  {
   "cell_type": "code",
   "execution_count": 30,
   "metadata": {},
   "outputs": [
    {
     "name": "stderr",
     "output_type": "stream",
     "text": [
      "/home/mcb/li_lab/zwen8/miniconda3/lib/python3.7/site-packages/sklearn/svm/base.py:929: ConvergenceWarning: Liblinear failed to converge, increase the number of iterations.\n",
      "  \"the number of iterations.\", ConvergenceWarning)\n"
     ]
    },
    {
     "data": {
      "text/plain": [
       "LinearSVC(C=1.0, class_weight=None, dual=True, fit_intercept=True,\n",
       "          intercept_scaling=1, loss='squared_hinge', max_iter=1000,\n",
       "          multi_class='ovr', penalty='l2', random_state=None, tol=0.0001,\n",
       "          verbose=0)"
      ]
     },
     "execution_count": 30,
     "metadata": {},
     "output_type": "execute_result"
    }
   ],
   "source": [
    "lsvm.fit(train_mixtures, bi_train_duration)"
   ]
  },
  {
   "cell_type": "code",
   "execution_count": 31,
   "metadata": {},
   "outputs": [],
   "source": [
    "test_predictions_lsvm = lsvm.predict(test_mixtures)"
   ]
  },
  {
   "cell_type": "code",
   "execution_count": 33,
   "metadata": {},
   "outputs": [
    {
     "name": "stdout",
     "output_type": "stream",
     "text": [
      "0.4116853734500793\n",
      "              precision    recall  f1-score   support\n",
      "\n",
      "           0       0.56      0.54      0.55        89\n",
      "           1       0.40      0.42      0.41        65\n",
      "\n",
      "    accuracy                           0.49       154\n",
      "   macro avg       0.48      0.48      0.48       154\n",
      "weighted avg       0.49      0.49      0.49       154\n",
      "\n"
     ]
    }
   ],
   "source": [
    "print(average_precision_score(bi_test_duration, test_predictions_lsvm))\n",
    "print(classification_report(bi_test_duration, test_predictions_lsvm))"
   ]
  },
  {
   "cell_type": "markdown",
   "metadata": {},
   "source": [
    "### Non-linear SVM"
   ]
  },
  {
   "cell_type": "code",
   "execution_count": 34,
   "metadata": {},
   "outputs": [],
   "source": [
    "from sklearn.svm import SVC"
   ]
  },
  {
   "cell_type": "code",
   "execution_count": 35,
   "metadata": {},
   "outputs": [],
   "source": [
    "svm = SVC()"
   ]
  },
  {
   "cell_type": "code",
   "execution_count": 36,
   "metadata": {},
   "outputs": [
    {
     "name": "stderr",
     "output_type": "stream",
     "text": [
      "/home/mcb/li_lab/zwen8/miniconda3/lib/python3.7/site-packages/sklearn/svm/base.py:193: FutureWarning: The default value of gamma will change from 'auto' to 'scale' in version 0.22 to account better for unscaled features. Set gamma explicitly to 'auto' or 'scale' to avoid this warning.\n",
      "  \"avoid this warning.\", FutureWarning)\n"
     ]
    },
    {
     "data": {
      "text/plain": [
       "SVC(C=1.0, cache_size=200, class_weight=None, coef0=0.0,\n",
       "    decision_function_shape='ovr', degree=3, gamma='auto_deprecated',\n",
       "    kernel='rbf', max_iter=-1, probability=False, random_state=None,\n",
       "    shrinking=True, tol=0.001, verbose=False)"
      ]
     },
     "execution_count": 36,
     "metadata": {},
     "output_type": "execute_result"
    }
   ],
   "source": [
    "svm.fit(train_mixtures, bi_train_duration)"
   ]
  },
  {
   "cell_type": "code",
   "execution_count": 38,
   "metadata": {},
   "outputs": [],
   "source": [
    "test_predictions_svm = svm.predict(test_mixtures)"
   ]
  },
  {
   "cell_type": "code",
   "execution_count": 40,
   "metadata": {},
   "outputs": [
    {
     "name": "stdout",
     "output_type": "stream",
     "text": [
      "0.5020979020979022\n",
      "              precision    recall  f1-score   support\n",
      "\n",
      "           0       0.61      1.00      0.76        89\n",
      "           1       1.00      0.14      0.24        65\n",
      "\n",
      "    accuracy                           0.64       154\n",
      "   macro avg       0.81      0.57      0.50       154\n",
      "weighted avg       0.78      0.64      0.54       154\n",
      "\n"
     ]
    }
   ],
   "source": [
    "print(average_precision_score(bi_test_duration, test_predictions_svm))\n",
    "print(classification_report(bi_test_duration, test_predictions_svm))"
   ]
  },
  {
   "cell_type": "markdown",
   "metadata": {},
   "source": [
    "## Grid Search LR\n",
    "Logistic regression seems to be the best classifier. See how good it can be."
   ]
  },
  {
   "cell_type": "code",
   "execution_count": 41,
   "metadata": {},
   "outputs": [],
   "source": [
    "from sklearn.model_selection import GridSearchCV"
   ]
  },
  {
   "cell_type": "code",
   "execution_count": 42,
   "metadata": {},
   "outputs": [],
   "source": [
    "estimator = LogisticRegression(solver='liblinear', class_weight='balanced')"
   ]
  },
  {
   "cell_type": "code",
   "execution_count": 58,
   "metadata": {},
   "outputs": [],
   "source": [
    "hyperparams = {\n",
    "    'C': np.arange(0.6, 1.0, step=0.01),\n",
    "    'max_iter': [100, 200, 300]\n",
    "              }"
   ]
  },
  {
   "cell_type": "code",
   "execution_count": 59,
   "metadata": {},
   "outputs": [],
   "source": [
    "searcher = GridSearchCV(estimator=estimator, n_jobs=12, param_grid=hyperparams, scoring='average_precision', cv=5)"
   ]
  },
  {
   "cell_type": "code",
   "execution_count": 60,
   "metadata": {},
   "outputs": [
    {
     "data": {
      "text/plain": [
       "GridSearchCV(cv=5, error_score='raise-deprecating',\n",
       "             estimator=LogisticRegression(C=1.0, class_weight='balanced',\n",
       "                                          dual=False, fit_intercept=True,\n",
       "                                          intercept_scaling=1, l1_ratio=None,\n",
       "                                          max_iter=100, multi_class='warn',\n",
       "                                          n_jobs=None, penalty='l2',\n",
       "                                          random_state=None, solver='liblinear',\n",
       "                                          tol=0.0001, verbose=0,\n",
       "                                          warm_start=False),\n",
       "             iid='warn', n_jobs=12,\n",
       "             param_grid={'C': array([0.6 , 0.61, 0.62, 0.63, 0.64, 0.65, 0.66, 0.67, 0.68, 0.69, 0.7 ,\n",
       "       0.71, 0.72, 0.73, 0.74, 0.75, 0.76, 0.77, 0.78, 0.79, 0.8 , 0.81,\n",
       "       0.82, 0.83, 0.84, 0.85, 0.86, 0.87, 0.88, 0.89, 0.9 , 0.91, 0.92,\n",
       "       0.93, 0.94, 0.95, 0.96, 0.97, 0.98, 0.99]),\n",
       "                         'max_iter': [100, 200, 300]},\n",
       "             pre_dispatch='2*n_jobs', refit=True, return_train_score=False,\n",
       "             scoring='average_precision', verbose=0)"
      ]
     },
     "execution_count": 60,
     "metadata": {},
     "output_type": "execute_result"
    }
   ],
   "source": [
    "searcher.fit(train_mixtures, bi_train_duration)"
   ]
  },
  {
   "cell_type": "code",
   "execution_count": 61,
   "metadata": {},
   "outputs": [
    {
     "name": "stdout",
     "output_type": "stream",
     "text": [
      "{'C': 0.8800000000000002, 'max_iter': 100}\n"
     ]
    }
   ],
   "source": [
    "print(searcher.best_params_)"
   ]
  },
  {
   "cell_type": "code",
   "execution_count": 62,
   "metadata": {},
   "outputs": [
    {
     "name": "stdout",
     "output_type": "stream",
     "text": [
      "0.5081135923225946\n"
     ]
    }
   ],
   "source": [
    "print(searcher.best_score_)"
   ]
  },
  {
   "cell_type": "code",
   "execution_count": 63,
   "metadata": {},
   "outputs": [],
   "source": [
    "test_predictions_lrbest = searcher.best_estimator_.predict(test_mixtures)"
   ]
  },
  {
   "cell_type": "code",
   "execution_count": 64,
   "metadata": {},
   "outputs": [
    {
     "name": "stdout",
     "output_type": "stream",
     "text": [
      "0.5344561688311689\n",
      "              precision    recall  f1-score   support\n",
      "\n",
      "           0       0.71      0.72      0.72        89\n",
      "           1       0.61      0.60      0.60        65\n",
      "\n",
      "    accuracy                           0.67       154\n",
      "   macro avg       0.66      0.66      0.66       154\n",
      "weighted avg       0.67      0.67      0.67       154\n",
      "\n"
     ]
    }
   ],
   "source": [
    "print(average_precision_score(bi_test_duration, test_predictions_lrbest))\n",
    "print(classification_report(bi_test_duration, test_predictions_lrbest))"
   ]
  },
  {
   "cell_type": "code",
   "execution_count": 65,
   "metadata": {},
   "outputs": [],
   "source": [
    "test_proba_lrbest = searcher.best_estimator_.predict_proba(test_mixtures)[:, 1]\n",
    "precision, recall, _ = precision_recall_curve(bi_test_duration, test_proba_lrbest, pos_label=1)"
   ]
  },
  {
   "cell_type": "code",
   "execution_count": 33,
   "metadata": {},
   "outputs": [],
   "source": [
    "import matplotlib.pyplot as plt"
   ]
  },
  {
   "cell_type": "code",
   "execution_count": 69,
   "metadata": {},
   "outputs": [
    {
     "data": {
      "image/png": "[encoded data removed]",
      "image/svg+xml": [
       "<?xml version=\"1.0\" encoding=\"utf-8\" standalone=\"no\"?>\n",
       "<!DOCTYPE svg PUBLIC \"-//W3C//DTD SVG 1.1//EN\"\n",
       "  \"http://www.w3.org/Graphics/SVG/1.1/DTD/svg11.dtd\">\n",
       "<!-- Created with matplotlib (https://matplotlib.org/) -->\n",
       "<svg height=\"479.63625pt\" version=\"1.1\" viewBox=\"0 0 497.38125 479.63625\" width=\"497.38125pt\" xmlns=\"http://www.w3.org/2000/svg\" xmlns:xlink=\"http://www.w3.org/1999/xlink\">\n",
       " <defs>\n",
       "  <style type=\"text/css\">\n",
       "*{stroke-linecap:butt;stroke-linejoin:round;}\n",
       "  </style>\n",
       " </defs>\n",
       " <g id=\"figure_1\">\n",
       "  <g id=\"patch_1\">\n",
       "   <path d=\"M 0 479.63625 \n",
       "L 497.38125 479.63625 \n",
       "L 497.38125 0 \n",
       "L 0 0 \n",
       "z\n",
       "\" style=\"fill:none;\"/>\n",
       "  </g>\n",
       "  <g id=\"axes_1\">\n",
       "   <g id=\"patch_2\">\n",
       "    <path d=\"M 43.78125 442.08 \n",
       "L 490.18125 442.08 \n",
       "L 490.18125 7.2 \n",
       "L 43.78125 7.2 \n",
       "z\n",
       "\" style=\"fill:#ffffff;\"/>\n",
       "   </g>\n",
       "   <g id=\"matplotlib.axis_1\">\n",
       "    <g id=\"xtick_1\">\n",
       "     <g id=\"line2d_1\">\n",
       "      <path clip-path=\"url(#pc43667f937)\" d=\"M 84.077281 442.08 \n",
       "L 84.077281 7.2 \n",
       "\" style=\"fill:none;stroke:#b0b0b0;stroke-linecap:square;stroke-width:0.8;\"/>\n",
       "     </g>\n",
       "     <g id=\"line2d_2\">\n",
       "      <defs>\n",
       "       <path d=\"M 0 0 \n",
       "L 0 3.5 \n",
       "\" id=\"m8025097275\" style=\"stroke:#000000;stroke-width:0.8;\"/>\n",
       "      </defs>\n",
       "      <g>\n",
       "       <use style=\"stroke:#000000;stroke-width:0.8;\" x=\"84.077281\" xlink:href=\"#m8025097275\" y=\"442.08\"/>\n",
       "      </g>\n",
       "     </g>\n",
       "     <g id=\"text_1\">\n",
       "      <!-- 0.5 -->\n",
       "      <defs>\n",
       "       <path d=\"M 31.78125 66.40625 \n",
       "Q 24.171875 66.40625 20.328125 58.90625 \n",
       "Q 16.5 51.421875 16.5 36.375 \n",
       "Q 16.5 21.390625 20.328125 13.890625 \n",
       "Q 24.171875 6.390625 31.78125 6.390625 \n",
       "Q 39.453125 6.390625 43.28125 13.890625 \n",
       "Q 47.125 21.390625 47.125 36.375 \n",
       "Q 47.125 51.421875 43.28125 58.90625 \n",
       "Q 39.453125 66.40625 31.78125 66.40625 \n",
       "z\n",
       "M 31.78125 74.21875 \n",
       "Q 44.046875 74.21875 50.515625 64.515625 \n",
       "Q 56.984375 54.828125 56.984375 36.375 \n",
       "Q 56.984375 17.96875 50.515625 8.265625 \n",
       "Q 44.046875 -1.421875 31.78125 -1.421875 \n",
       "Q 19.53125 -1.421875 13.0625 8.265625 \n",
       "Q 6.59375 17.96875 6.59375 36.375 \n",
       "Q 6.59375 54.828125 13.0625 64.515625 \n",
       "Q 19.53125 74.21875 31.78125 74.21875 \n",
       "z\n",
       "\" id=\"DejaVuSans-48\"/>\n",
       "       <path d=\"M 10.6875 12.40625 \n",
       "L 21 12.40625 \n",
       "L 21 0 \n",
       "L 10.6875 0 \n",
       "z\n",
       "\" id=\"DejaVuSans-46\"/>\n",
       "       <path d=\"M 10.796875 72.90625 \n",
       "L 49.515625 72.90625 \n",
       "L 49.515625 64.59375 \n",
       "L 19.828125 64.59375 \n",
       "L 19.828125 46.734375 \n",
       "Q 21.96875 47.46875 24.109375 47.828125 \n",
       "Q 26.265625 48.1875 28.421875 48.1875 \n",
       "Q 40.625 48.1875 47.75 41.5 \n",
       "Q 54.890625 34.8125 54.890625 23.390625 \n",
       "Q 54.890625 11.625 47.5625 5.09375 \n",
       "Q 40.234375 -1.421875 26.90625 -1.421875 \n",
       "Q 22.3125 -1.421875 17.546875 -0.640625 \n",
       "Q 12.796875 0.140625 7.71875 1.703125 \n",
       "L 7.71875 11.625 \n",
       "Q 12.109375 9.234375 16.796875 8.0625 \n",
       "Q 21.484375 6.890625 26.703125 6.890625 \n",
       "Q 35.15625 6.890625 40.078125 11.328125 \n",
       "Q 45.015625 15.765625 45.015625 23.390625 \n",
       "Q 45.015625 31 40.078125 35.4375 \n",
       "Q 35.15625 39.890625 26.703125 39.890625 \n",
       "Q 22.75 39.890625 18.8125 39.015625 \n",
       "Q 14.890625 38.140625 10.796875 36.28125 \n",
       "z\n",
       "\" id=\"DejaVuSans-53\"/>\n",
       "      </defs>\n",
       "      <g transform=\"translate(76.125718 456.678437)scale(0.1 -0.1)\">\n",
       "       <use xlink:href=\"#DejaVuSans-48\"/>\n",
       "       <use x=\"63.623047\" xlink:href=\"#DejaVuSans-46\"/>\n",
       "       <use x=\"95.410156\" xlink:href=\"#DejaVuSans-53\"/>\n",
       "      </g>\n",
       "     </g>\n",
       "    </g>\n",
       "    <g id=\"xtick_2\">\n",
       "     <g id=\"line2d_3\">\n",
       "      <path clip-path=\"url(#pc43667f937)\" d=\"M 161.239893 442.08 \n",
       "L 161.239893 7.2 \n",
       "\" style=\"fill:none;stroke:#b0b0b0;stroke-linecap:square;stroke-width:0.8;\"/>\n",
       "     </g>\n",
       "     <g id=\"line2d_4\">\n",
       "      <g>\n",
       "       <use style=\"stroke:#000000;stroke-width:0.8;\" x=\"161.239893\" xlink:href=\"#m8025097275\" y=\"442.08\"/>\n",
       "      </g>\n",
       "     </g>\n",
       "     <g id=\"text_2\">\n",
       "      <!-- 0.6 -->\n",
       "      <defs>\n",
       "       <path d=\"M 33.015625 40.375 \n",
       "Q 26.375 40.375 22.484375 35.828125 \n",
       "Q 18.609375 31.296875 18.609375 23.390625 \n",
       "Q 18.609375 15.53125 22.484375 10.953125 \n",
       "Q 26.375 6.390625 33.015625 6.390625 \n",
       "Q 39.65625 6.390625 43.53125 10.953125 \n",
       "Q 47.40625 15.53125 47.40625 23.390625 \n",
       "Q 47.40625 31.296875 43.53125 35.828125 \n",
       "Q 39.65625 40.375 33.015625 40.375 \n",
       "z\n",
       "M 52.59375 71.296875 \n",
       "L 52.59375 62.3125 \n",
       "Q 48.875 64.0625 45.09375 64.984375 \n",
       "Q 41.3125 65.921875 37.59375 65.921875 \n",
       "Q 27.828125 65.921875 22.671875 59.328125 \n",
       "Q 17.53125 52.734375 16.796875 39.40625 \n",
       "Q 19.671875 43.65625 24.015625 45.921875 \n",
       "Q 28.375 48.1875 33.59375 48.1875 \n",
       "Q 44.578125 48.1875 50.953125 41.515625 \n",
       "Q 57.328125 34.859375 57.328125 23.390625 \n",
       "Q 57.328125 12.15625 50.6875 5.359375 \n",
       "Q 44.046875 -1.421875 33.015625 -1.421875 \n",
       "Q 20.359375 -1.421875 13.671875 8.265625 \n",
       "Q 6.984375 17.96875 6.984375 36.375 \n",
       "Q 6.984375 53.65625 15.1875 63.9375 \n",
       "Q 23.390625 74.21875 37.203125 74.21875 \n",
       "Q 40.921875 74.21875 44.703125 73.484375 \n",
       "Q 48.484375 72.75 52.59375 71.296875 \n",
       "z\n",
       "\" id=\"DejaVuSans-54\"/>\n",
       "      </defs>\n",
       "      <g transform=\"translate(153.28833 456.678437)scale(0.1 -0.1)\">\n",
       "       <use xlink:href=\"#DejaVuSans-48\"/>\n",
       "       <use x=\"63.623047\" xlink:href=\"#DejaVuSans-46\"/>\n",
       "       <use x=\"95.410156\" xlink:href=\"#DejaVuSans-54\"/>\n",
       "      </g>\n",
       "     </g>\n",
       "    </g>\n",
       "    <g id=\"xtick_3\">\n",
       "     <g id=\"line2d_5\">\n",
       "      <path clip-path=\"url(#pc43667f937)\" d=\"M 238.402505 442.08 \n",
       "L 238.402505 7.2 \n",
       "\" style=\"fill:none;stroke:#b0b0b0;stroke-linecap:square;stroke-width:0.8;\"/>\n",
       "     </g>\n",
       "     <g id=\"line2d_6\">\n",
       "      <g>\n",
       "       <use style=\"stroke:#000000;stroke-width:0.8;\" x=\"238.402505\" xlink:href=\"#m8025097275\" y=\"442.08\"/>\n",
       "      </g>\n",
       "     </g>\n",
       "     <g id=\"text_3\">\n",
       "      <!-- 0.7 -->\n",
       "      <defs>\n",
       "       <path d=\"M 8.203125 72.90625 \n",
       "L 55.078125 72.90625 \n",
       "L 55.078125 68.703125 \n",
       "L 28.609375 0 \n",
       "L 18.3125 0 \n",
       "L 43.21875 64.59375 \n",
       "L 8.203125 64.59375 \n",
       "z\n",
       "\" id=\"DejaVuSans-55\"/>\n",
       "      </defs>\n",
       "      <g transform=\"translate(230.450942 456.678437)scale(0.1 -0.1)\">\n",
       "       <use xlink:href=\"#DejaVuSans-48\"/>\n",
       "       <use x=\"63.623047\" xlink:href=\"#DejaVuSans-46\"/>\n",
       "       <use x=\"95.410156\" xlink:href=\"#DejaVuSans-55\"/>\n",
       "      </g>\n",
       "     </g>\n",
       "    </g>\n",
       "    <g id=\"xtick_4\">\n",
       "     <g id=\"line2d_7\">\n",
       "      <path clip-path=\"url(#pc43667f937)\" d=\"M 315.565117 442.08 \n",
       "L 315.565117 7.2 \n",
       "\" style=\"fill:none;stroke:#b0b0b0;stroke-linecap:square;stroke-width:0.8;\"/>\n",
       "     </g>\n",
       "     <g id=\"line2d_8\">\n",
       "      <g>\n",
       "       <use style=\"stroke:#000000;stroke-width:0.8;\" x=\"315.565117\" xlink:href=\"#m8025097275\" y=\"442.08\"/>\n",
       "      </g>\n",
       "     </g>\n",
       "     <g id=\"text_4\">\n",
       "      <!-- 0.8 -->\n",
       "      <defs>\n",
       "       <path d=\"M 31.78125 34.625 \n",
       "Q 24.75 34.625 20.71875 30.859375 \n",
       "Q 16.703125 27.09375 16.703125 20.515625 \n",
       "Q 16.703125 13.921875 20.71875 10.15625 \n",
       "Q 24.75 6.390625 31.78125 6.390625 \n",
       "Q 38.8125 6.390625 42.859375 10.171875 \n",
       "Q 46.921875 13.96875 46.921875 20.515625 \n",
       "Q 46.921875 27.09375 42.890625 30.859375 \n",
       "Q 38.875 34.625 31.78125 34.625 \n",
       "z\n",
       "M 21.921875 38.8125 \n",
       "Q 15.578125 40.375 12.03125 44.71875 \n",
       "Q 8.5 49.078125 8.5 55.328125 \n",
       "Q 8.5 64.0625 14.71875 69.140625 \n",
       "Q 20.953125 74.21875 31.78125 74.21875 \n",
       "Q 42.671875 74.21875 48.875 69.140625 \n",
       "Q 55.078125 64.0625 55.078125 55.328125 \n",
       "Q 55.078125 49.078125 51.53125 44.71875 \n",
       "Q 48 40.375 41.703125 38.8125 \n",
       "Q 48.828125 37.15625 52.796875 32.3125 \n",
       "Q 56.78125 27.484375 56.78125 20.515625 \n",
       "Q 56.78125 9.90625 50.3125 4.234375 \n",
       "Q 43.84375 -1.421875 31.78125 -1.421875 \n",
       "Q 19.734375 -1.421875 13.25 4.234375 \n",
       "Q 6.78125 9.90625 6.78125 20.515625 \n",
       "Q 6.78125 27.484375 10.78125 32.3125 \n",
       "Q 14.796875 37.15625 21.921875 38.8125 \n",
       "z\n",
       "M 18.3125 54.390625 \n",
       "Q 18.3125 48.734375 21.84375 45.5625 \n",
       "Q 25.390625 42.390625 31.78125 42.390625 \n",
       "Q 38.140625 42.390625 41.71875 45.5625 \n",
       "Q 45.3125 48.734375 45.3125 54.390625 \n",
       "Q 45.3125 60.0625 41.71875 63.234375 \n",
       "Q 38.140625 66.40625 31.78125 66.40625 \n",
       "Q 25.390625 66.40625 21.84375 63.234375 \n",
       "Q 18.3125 60.0625 18.3125 54.390625 \n",
       "z\n",
       "\" id=\"DejaVuSans-56\"/>\n",
       "      </defs>\n",
       "      <g transform=\"translate(307.613554 456.678437)scale(0.1 -0.1)\">\n",
       "       <use xlink:href=\"#DejaVuSans-48\"/>\n",
       "       <use x=\"63.623047\" xlink:href=\"#DejaVuSans-46\"/>\n",
       "       <use x=\"95.410156\" xlink:href=\"#DejaVuSans-56\"/>\n",
       "      </g>\n",
       "     </g>\n",
       "    </g>\n",
       "    <g id=\"xtick_5\">\n",
       "     <g id=\"line2d_9\">\n",
       "      <path clip-path=\"url(#pc43667f937)\" d=\"M 392.727729 442.08 \n",
       "L 392.727729 7.2 \n",
       "\" style=\"fill:none;stroke:#b0b0b0;stroke-linecap:square;stroke-width:0.8;\"/>\n",
       "     </g>\n",
       "     <g id=\"line2d_10\">\n",
       "      <g>\n",
       "       <use style=\"stroke:#000000;stroke-width:0.8;\" x=\"392.727729\" xlink:href=\"#m8025097275\" y=\"442.08\"/>\n",
       "      </g>\n",
       "     </g>\n",
       "     <g id=\"text_5\">\n",
       "      <!-- 0.9 -->\n",
       "      <defs>\n",
       "       <path d=\"M 10.984375 1.515625 \n",
       "L 10.984375 10.5 \n",
       "Q 14.703125 8.734375 18.5 7.8125 \n",
       "Q 22.3125 6.890625 25.984375 6.890625 \n",
       "Q 35.75 6.890625 40.890625 13.453125 \n",
       "Q 46.046875 20.015625 46.78125 33.40625 \n",
       "Q 43.953125 29.203125 39.59375 26.953125 \n",
       "Q 35.25 24.703125 29.984375 24.703125 \n",
       "Q 19.046875 24.703125 12.671875 31.3125 \n",
       "Q 6.296875 37.9375 6.296875 49.421875 \n",
       "Q 6.296875 60.640625 12.9375 67.421875 \n",
       "Q 19.578125 74.21875 30.609375 74.21875 \n",
       "Q 43.265625 74.21875 49.921875 64.515625 \n",
       "Q 56.59375 54.828125 56.59375 36.375 \n",
       "Q 56.59375 19.140625 48.40625 8.859375 \n",
       "Q 40.234375 -1.421875 26.421875 -1.421875 \n",
       "Q 22.703125 -1.421875 18.890625 -0.6875 \n",
       "Q 15.09375 0.046875 10.984375 1.515625 \n",
       "z\n",
       "M 30.609375 32.421875 \n",
       "Q 37.25 32.421875 41.125 36.953125 \n",
       "Q 45.015625 41.5 45.015625 49.421875 \n",
       "Q 45.015625 57.28125 41.125 61.84375 \n",
       "Q 37.25 66.40625 30.609375 66.40625 \n",
       "Q 23.96875 66.40625 20.09375 61.84375 \n",
       "Q 16.21875 57.28125 16.21875 49.421875 \n",
       "Q 16.21875 41.5 20.09375 36.953125 \n",
       "Q 23.96875 32.421875 30.609375 32.421875 \n",
       "z\n",
       "\" id=\"DejaVuSans-57\"/>\n",
       "      </defs>\n",
       "      <g transform=\"translate(384.776166 456.678437)scale(0.1 -0.1)\">\n",
       "       <use xlink:href=\"#DejaVuSans-48\"/>\n",
       "       <use x=\"63.623047\" xlink:href=\"#DejaVuSans-46\"/>\n",
       "       <use x=\"95.410156\" xlink:href=\"#DejaVuSans-57\"/>\n",
       "      </g>\n",
       "     </g>\n",
       "    </g>\n",
       "    <g id=\"xtick_6\">\n",
       "     <g id=\"line2d_11\">\n",
       "      <path clip-path=\"url(#pc43667f937)\" d=\"M 469.890341 442.08 \n",
       "L 469.890341 7.2 \n",
       "\" style=\"fill:none;stroke:#b0b0b0;stroke-linecap:square;stroke-width:0.8;\"/>\n",
       "     </g>\n",
       "     <g id=\"line2d_12\">\n",
       "      <g>\n",
       "       <use style=\"stroke:#000000;stroke-width:0.8;\" x=\"469.890341\" xlink:href=\"#m8025097275\" y=\"442.08\"/>\n",
       "      </g>\n",
       "     </g>\n",
       "     <g id=\"text_6\">\n",
       "      <!-- 1.0 -->\n",
       "      <defs>\n",
       "       <path d=\"M 12.40625 8.296875 \n",
       "L 28.515625 8.296875 \n",
       "L 28.515625 63.921875 \n",
       "L 10.984375 60.40625 \n",
       "L 10.984375 69.390625 \n",
       "L 28.421875 72.90625 \n",
       "L 38.28125 72.90625 \n",
       "L 38.28125 8.296875 \n",
       "L 54.390625 8.296875 \n",
       "L 54.390625 0 \n",
       "L 12.40625 0 \n",
       "z\n",
       "\" id=\"DejaVuSans-49\"/>\n",
       "      </defs>\n",
       "      <g transform=\"translate(461.938778 456.678437)scale(0.1 -0.1)\">\n",
       "       <use xlink:href=\"#DejaVuSans-49\"/>\n",
       "       <use x=\"63.623047\" xlink:href=\"#DejaVuSans-46\"/>\n",
       "       <use x=\"95.410156\" xlink:href=\"#DejaVuSans-48\"/>\n",
       "      </g>\n",
       "     </g>\n",
       "    </g>\n",
       "    <g id=\"text_7\">\n",
       "     <!-- true positive rate -->\n",
       "     <defs>\n",
       "      <path d=\"M 18.3125 70.21875 \n",
       "L 18.3125 54.6875 \n",
       "L 36.8125 54.6875 \n",
       "L 36.8125 47.703125 \n",
       "L 18.3125 47.703125 \n",
       "L 18.3125 18.015625 \n",
       "Q 18.3125 11.328125 20.140625 9.421875 \n",
       "Q 21.96875 7.515625 27.59375 7.515625 \n",
       "L 36.8125 7.515625 \n",
       "L 36.8125 0 \n",
       "L 27.59375 0 \n",
       "Q 17.1875 0 13.234375 3.875 \n",
       "Q 9.28125 7.765625 9.28125 18.015625 \n",
       "L 9.28125 47.703125 \n",
       "L 2.6875 47.703125 \n",
       "L 2.6875 54.6875 \n",
       "L 9.28125 54.6875 \n",
       "L 9.28125 70.21875 \n",
       "z\n",
       "\" id=\"DejaVuSans-116\"/>\n",
       "      <path d=\"M 41.109375 46.296875 \n",
       "Q 39.59375 47.171875 37.8125 47.578125 \n",
       "Q 36.03125 48 33.890625 48 \n",
       "Q 26.265625 48 22.1875 43.046875 \n",
       "Q 18.109375 38.09375 18.109375 28.8125 \n",
       "L 18.109375 0 \n",
       "L 9.078125 0 \n",
       "L 9.078125 54.6875 \n",
       "L 18.109375 54.6875 \n",
       "L 18.109375 46.1875 \n",
       "Q 20.953125 51.171875 25.484375 53.578125 \n",
       "Q 30.03125 56 36.53125 56 \n",
       "Q 37.453125 56 38.578125 55.875 \n",
       "Q 39.703125 55.765625 41.0625 55.515625 \n",
       "z\n",
       "\" id=\"DejaVuSans-114\"/>\n",
       "      <path d=\"M 8.5 21.578125 \n",
       "L 8.5 54.6875 \n",
       "L 17.484375 54.6875 \n",
       "L 17.484375 21.921875 \n",
       "Q 17.484375 14.15625 20.5 10.265625 \n",
       "Q 23.53125 6.390625 29.59375 6.390625 \n",
       "Q 36.859375 6.390625 41.078125 11.03125 \n",
       "Q 45.3125 15.671875 45.3125 23.6875 \n",
       "L 45.3125 54.6875 \n",
       "L 54.296875 54.6875 \n",
       "L 54.296875 0 \n",
       "L 45.3125 0 \n",
       "L 45.3125 8.40625 \n",
       "Q 42.046875 3.421875 37.71875 1 \n",
       "Q 33.40625 -1.421875 27.6875 -1.421875 \n",
       "Q 18.265625 -1.421875 13.375 4.4375 \n",
       "Q 8.5 10.296875 8.5 21.578125 \n",
       "z\n",
       "M 31.109375 56 \n",
       "z\n",
       "\" id=\"DejaVuSans-117\"/>\n",
       "      <path d=\"M 56.203125 29.59375 \n",
       "L 56.203125 25.203125 \n",
       "L 14.890625 25.203125 \n",
       "Q 15.484375 15.921875 20.484375 11.0625 \n",
       "Q 25.484375 6.203125 34.421875 6.203125 \n",
       "Q 39.59375 6.203125 44.453125 7.46875 \n",
       "Q 49.3125 8.734375 54.109375 11.28125 \n",
       "L 54.109375 2.78125 \n",
       "Q 49.265625 0.734375 44.1875 -0.34375 \n",
       "Q 39.109375 -1.421875 33.890625 -1.421875 \n",
       "Q 20.796875 -1.421875 13.15625 6.1875 \n",
       "Q 5.515625 13.8125 5.515625 26.8125 \n",
       "Q 5.515625 40.234375 12.765625 48.109375 \n",
       "Q 20.015625 56 32.328125 56 \n",
       "Q 43.359375 56 49.78125 48.890625 \n",
       "Q 56.203125 41.796875 56.203125 29.59375 \n",
       "z\n",
       "M 47.21875 32.234375 \n",
       "Q 47.125 39.59375 43.09375 43.984375 \n",
       "Q 39.0625 48.390625 32.421875 48.390625 \n",
       "Q 24.90625 48.390625 20.390625 44.140625 \n",
       "Q 15.875 39.890625 15.1875 32.171875 \n",
       "z\n",
       "\" id=\"DejaVuSans-101\"/>\n",
       "      <path id=\"DejaVuSans-32\"/>\n",
       "      <path d=\"M 18.109375 8.203125 \n",
       "L 18.109375 -20.796875 \n",
       "L 9.078125 -20.796875 \n",
       "L 9.078125 54.6875 \n",
       "L 18.109375 54.6875 \n",
       "L 18.109375 46.390625 \n",
       "Q 20.953125 51.265625 25.265625 53.625 \n",
       "Q 29.59375 56 35.59375 56 \n",
       "Q 45.5625 56 51.78125 48.09375 \n",
       "Q 58.015625 40.1875 58.015625 27.296875 \n",
       "Q 58.015625 14.40625 51.78125 6.484375 \n",
       "Q 45.5625 -1.421875 35.59375 -1.421875 \n",
       "Q 29.59375 -1.421875 25.265625 0.953125 \n",
       "Q 20.953125 3.328125 18.109375 8.203125 \n",
       "z\n",
       "M 48.6875 27.296875 \n",
       "Q 48.6875 37.203125 44.609375 42.84375 \n",
       "Q 40.53125 48.484375 33.40625 48.484375 \n",
       "Q 26.265625 48.484375 22.1875 42.84375 \n",
       "Q 18.109375 37.203125 18.109375 27.296875 \n",
       "Q 18.109375 17.390625 22.1875 11.75 \n",
       "Q 26.265625 6.109375 33.40625 6.109375 \n",
       "Q 40.53125 6.109375 44.609375 11.75 \n",
       "Q 48.6875 17.390625 48.6875 27.296875 \n",
       "z\n",
       "\" id=\"DejaVuSans-112\"/>\n",
       "      <path d=\"M 30.609375 48.390625 \n",
       "Q 23.390625 48.390625 19.1875 42.75 \n",
       "Q 14.984375 37.109375 14.984375 27.296875 \n",
       "Q 14.984375 17.484375 19.15625 11.84375 \n",
       "Q 23.34375 6.203125 30.609375 6.203125 \n",
       "Q 37.796875 6.203125 41.984375 11.859375 \n",
       "Q 46.1875 17.53125 46.1875 27.296875 \n",
       "Q 46.1875 37.015625 41.984375 42.703125 \n",
       "Q 37.796875 48.390625 30.609375 48.390625 \n",
       "z\n",
       "M 30.609375 56 \n",
       "Q 42.328125 56 49.015625 48.375 \n",
       "Q 55.71875 40.765625 55.71875 27.296875 \n",
       "Q 55.71875 13.875 49.015625 6.21875 \n",
       "Q 42.328125 -1.421875 30.609375 -1.421875 \n",
       "Q 18.84375 -1.421875 12.171875 6.21875 \n",
       "Q 5.515625 13.875 5.515625 27.296875 \n",
       "Q 5.515625 40.765625 12.171875 48.375 \n",
       "Q 18.84375 56 30.609375 56 \n",
       "z\n",
       "\" id=\"DejaVuSans-111\"/>\n",
       "      <path d=\"M 44.28125 53.078125 \n",
       "L 44.28125 44.578125 \n",
       "Q 40.484375 46.53125 36.375 47.5 \n",
       "Q 32.28125 48.484375 27.875 48.484375 \n",
       "Q 21.1875 48.484375 17.84375 46.4375 \n",
       "Q 14.5 44.390625 14.5 40.28125 \n",
       "Q 14.5 37.15625 16.890625 35.375 \n",
       "Q 19.28125 33.59375 26.515625 31.984375 \n",
       "L 29.59375 31.296875 \n",
       "Q 39.15625 29.25 43.1875 25.515625 \n",
       "Q 47.21875 21.78125 47.21875 15.09375 \n",
       "Q 47.21875 7.46875 41.1875 3.015625 \n",
       "Q 35.15625 -1.421875 24.609375 -1.421875 \n",
       "Q 20.21875 -1.421875 15.453125 -0.5625 \n",
       "Q 10.6875 0.296875 5.421875 2 \n",
       "L 5.421875 11.28125 \n",
       "Q 10.40625 8.6875 15.234375 7.390625 \n",
       "Q 20.0625 6.109375 24.8125 6.109375 \n",
       "Q 31.15625 6.109375 34.5625 8.28125 \n",
       "Q 37.984375 10.453125 37.984375 14.40625 \n",
       "Q 37.984375 18.0625 35.515625 20.015625 \n",
       "Q 33.0625 21.96875 24.703125 23.78125 \n",
       "L 21.578125 24.515625 \n",
       "Q 13.234375 26.265625 9.515625 29.90625 \n",
       "Q 5.8125 33.546875 5.8125 39.890625 \n",
       "Q 5.8125 47.609375 11.28125 51.796875 \n",
       "Q 16.75 56 26.8125 56 \n",
       "Q 31.78125 56 36.171875 55.265625 \n",
       "Q 40.578125 54.546875 44.28125 53.078125 \n",
       "z\n",
       "\" id=\"DejaVuSans-115\"/>\n",
       "      <path d=\"M 9.421875 54.6875 \n",
       "L 18.40625 54.6875 \n",
       "L 18.40625 0 \n",
       "L 9.421875 0 \n",
       "z\n",
       "M 9.421875 75.984375 \n",
       "L 18.40625 75.984375 \n",
       "L 18.40625 64.59375 \n",
       "L 9.421875 64.59375 \n",
       "z\n",
       "\" id=\"DejaVuSans-105\"/>\n",
       "      <path d=\"M 2.984375 54.6875 \n",
       "L 12.5 54.6875 \n",
       "L 29.59375 8.796875 \n",
       "L 46.6875 54.6875 \n",
       "L 56.203125 54.6875 \n",
       "L 35.6875 0 \n",
       "L 23.484375 0 \n",
       "z\n",
       "\" id=\"DejaVuSans-118\"/>\n",
       "      <path d=\"M 34.28125 27.484375 \n",
       "Q 23.390625 27.484375 19.1875 25 \n",
       "Q 14.984375 22.515625 14.984375 16.5 \n",
       "Q 14.984375 11.71875 18.140625 8.90625 \n",
       "Q 21.296875 6.109375 26.703125 6.109375 \n",
       "Q 34.1875 6.109375 38.703125 11.40625 \n",
       "Q 43.21875 16.703125 43.21875 25.484375 \n",
       "L 43.21875 27.484375 \n",
       "z\n",
       "M 52.203125 31.203125 \n",
       "L 52.203125 0 \n",
       "L 43.21875 0 \n",
       "L 43.21875 8.296875 \n",
       "Q 40.140625 3.328125 35.546875 0.953125 \n",
       "Q 30.953125 -1.421875 24.3125 -1.421875 \n",
       "Q 15.921875 -1.421875 10.953125 3.296875 \n",
       "Q 6 8.015625 6 15.921875 \n",
       "Q 6 25.140625 12.171875 29.828125 \n",
       "Q 18.359375 34.515625 30.609375 34.515625 \n",
       "L 43.21875 34.515625 \n",
       "L 43.21875 35.40625 \n",
       "Q 43.21875 41.609375 39.140625 45 \n",
       "Q 35.0625 48.390625 27.6875 48.390625 \n",
       "Q 23 48.390625 18.546875 47.265625 \n",
       "Q 14.109375 46.140625 10.015625 43.890625 \n",
       "L 10.015625 52.203125 \n",
       "Q 14.9375 54.109375 19.578125 55.046875 \n",
       "Q 24.21875 56 28.609375 56 \n",
       "Q 40.484375 56 46.34375 49.84375 \n",
       "Q 52.203125 43.703125 52.203125 31.203125 \n",
       "z\n",
       "\" id=\"DejaVuSans-97\"/>\n",
       "     </defs>\n",
       "     <g transform=\"translate(223.773438 470.356562)scale(0.1 -0.1)\">\n",
       "      <use xlink:href=\"#DejaVuSans-116\"/>\n",
       "      <use x=\"39.208984\" xlink:href=\"#DejaVuSans-114\"/>\n",
       "      <use x=\"80.322266\" xlink:href=\"#DejaVuSans-117\"/>\n",
       "      <use x=\"143.701172\" xlink:href=\"#DejaVuSans-101\"/>\n",
       "      <use x=\"205.224609\" xlink:href=\"#DejaVuSans-32\"/>\n",
       "      <use x=\"237.011719\" xlink:href=\"#DejaVuSans-112\"/>\n",
       "      <use x=\"300.488281\" xlink:href=\"#DejaVuSans-111\"/>\n",
       "      <use x=\"361.669922\" xlink:href=\"#DejaVuSans-115\"/>\n",
       "      <use x=\"413.769531\" xlink:href=\"#DejaVuSans-105\"/>\n",
       "      <use x=\"441.552734\" xlink:href=\"#DejaVuSans-116\"/>\n",
       "      <use x=\"480.761719\" xlink:href=\"#DejaVuSans-105\"/>\n",
       "      <use x=\"508.544922\" xlink:href=\"#DejaVuSans-118\"/>\n",
       "      <use x=\"567.724609\" xlink:href=\"#DejaVuSans-101\"/>\n",
       "      <use x=\"629.248047\" xlink:href=\"#DejaVuSans-32\"/>\n",
       "      <use x=\"661.035156\" xlink:href=\"#DejaVuSans-114\"/>\n",
       "      <use x=\"702.148438\" xlink:href=\"#DejaVuSans-97\"/>\n",
       "      <use x=\"763.427734\" xlink:href=\"#DejaVuSans-116\"/>\n",
       "      <use x=\"802.636719\" xlink:href=\"#DejaVuSans-101\"/>\n",
       "     </g>\n",
       "    </g>\n",
       "   </g>\n",
       "   <g id=\"matplotlib.axis_2\">\n",
       "    <g id=\"ytick_1\">\n",
       "     <g id=\"line2d_13\">\n",
       "      <path clip-path=\"url(#pc43667f937)\" d=\"M 43.78125 422.312727 \n",
       "L 490.18125 422.312727 \n",
       "\" style=\"fill:none;stroke:#b0b0b0;stroke-linecap:square;stroke-width:0.8;\"/>\n",
       "     </g>\n",
       "     <g id=\"line2d_14\">\n",
       "      <defs>\n",
       "       <path d=\"M 0 0 \n",
       "L -3.5 0 \n",
       "\" id=\"m40f5cfedf0\" style=\"stroke:#000000;stroke-width:0.8;\"/>\n",
       "      </defs>\n",
       "      <g>\n",
       "       <use style=\"stroke:#000000;stroke-width:0.8;\" x=\"43.78125\" xlink:href=\"#m40f5cfedf0\" y=\"422.312727\"/>\n",
       "      </g>\n",
       "     </g>\n",
       "     <g id=\"text_8\">\n",
       "      <!-- 0.0 -->\n",
       "      <g transform=\"translate(20.878125 426.111946)scale(0.1 -0.1)\">\n",
       "       <use xlink:href=\"#DejaVuSans-48\"/>\n",
       "       <use x=\"63.623047\" xlink:href=\"#DejaVuSans-46\"/>\n",
       "       <use x=\"95.410156\" xlink:href=\"#DejaVuSans-48\"/>\n",
       "      </g>\n",
       "     </g>\n",
       "    </g>\n",
       "    <g id=\"ytick_2\">\n",
       "     <g id=\"line2d_15\">\n",
       "      <path clip-path=\"url(#pc43667f937)\" d=\"M 43.78125 343.243636 \n",
       "L 490.18125 343.243636 \n",
       "\" style=\"fill:none;stroke:#b0b0b0;stroke-linecap:square;stroke-width:0.8;\"/>\n",
       "     </g>\n",
       "     <g id=\"line2d_16\">\n",
       "      <g>\n",
       "       <use style=\"stroke:#000000;stroke-width:0.8;\" x=\"43.78125\" xlink:href=\"#m40f5cfedf0\" y=\"343.243636\"/>\n",
       "      </g>\n",
       "     </g>\n",
       "     <g id=\"text_9\">\n",
       "      <!-- 0.2 -->\n",
       "      <defs>\n",
       "       <path d=\"M 19.1875 8.296875 \n",
       "L 53.609375 8.296875 \n",
       "L 53.609375 0 \n",
       "L 7.328125 0 \n",
       "L 7.328125 8.296875 \n",
       "Q 12.9375 14.109375 22.625 23.890625 \n",
       "Q 32.328125 33.6875 34.8125 36.53125 \n",
       "Q 39.546875 41.84375 41.421875 45.53125 \n",
       "Q 43.3125 49.21875 43.3125 52.78125 \n",
       "Q 43.3125 58.59375 39.234375 62.25 \n",
       "Q 35.15625 65.921875 28.609375 65.921875 \n",
       "Q 23.96875 65.921875 18.8125 64.3125 \n",
       "Q 13.671875 62.703125 7.8125 59.421875 \n",
       "L 7.8125 69.390625 \n",
       "Q 13.765625 71.78125 18.9375 73 \n",
       "Q 24.125 74.21875 28.421875 74.21875 \n",
       "Q 39.75 74.21875 46.484375 68.546875 \n",
       "Q 53.21875 62.890625 53.21875 53.421875 \n",
       "Q 53.21875 48.921875 51.53125 44.890625 \n",
       "Q 49.859375 40.875 45.40625 35.40625 \n",
       "Q 44.1875 33.984375 37.640625 27.21875 \n",
       "Q 31.109375 20.453125 19.1875 8.296875 \n",
       "z\n",
       "\" id=\"DejaVuSans-50\"/>\n",
       "      </defs>\n",
       "      <g transform=\"translate(20.878125 347.042855)scale(0.1 -0.1)\">\n",
       "       <use xlink:href=\"#DejaVuSans-48\"/>\n",
       "       <use x=\"63.623047\" xlink:href=\"#DejaVuSans-46\"/>\n",
       "       <use x=\"95.410156\" xlink:href=\"#DejaVuSans-50\"/>\n",
       "      </g>\n",
       "     </g>\n",
       "    </g>\n",
       "    <g id=\"ytick_3\">\n",
       "     <g id=\"line2d_17\">\n",
       "      <path clip-path=\"url(#pc43667f937)\" d=\"M 43.78125 264.174545 \n",
       "L 490.18125 264.174545 \n",
       "\" style=\"fill:none;stroke:#b0b0b0;stroke-linecap:square;stroke-width:0.8;\"/>\n",
       "     </g>\n",
       "     <g id=\"line2d_18\">\n",
       "      <g>\n",
       "       <use style=\"stroke:#000000;stroke-width:0.8;\" x=\"43.78125\" xlink:href=\"#m40f5cfedf0\" y=\"264.174545\"/>\n",
       "      </g>\n",
       "     </g>\n",
       "     <g id=\"text_10\">\n",
       "      <!-- 0.4 -->\n",
       "      <defs>\n",
       "       <path d=\"M 37.796875 64.3125 \n",
       "L 12.890625 25.390625 \n",
       "L 37.796875 25.390625 \n",
       "z\n",
       "M 35.203125 72.90625 \n",
       "L 47.609375 72.90625 \n",
       "L 47.609375 25.390625 \n",
       "L 58.015625 25.390625 \n",
       "L 58.015625 17.1875 \n",
       "L 47.609375 17.1875 \n",
       "L 47.609375 0 \n",
       "L 37.796875 0 \n",
       "L 37.796875 17.1875 \n",
       "L 4.890625 17.1875 \n",
       "L 4.890625 26.703125 \n",
       "z\n",
       "\" id=\"DejaVuSans-52\"/>\n",
       "      </defs>\n",
       "      <g transform=\"translate(20.878125 267.973764)scale(0.1 -0.1)\">\n",
       "       <use xlink:href=\"#DejaVuSans-48\"/>\n",
       "       <use x=\"63.623047\" xlink:href=\"#DejaVuSans-46\"/>\n",
       "       <use x=\"95.410156\" xlink:href=\"#DejaVuSans-52\"/>\n",
       "      </g>\n",
       "     </g>\n",
       "    </g>\n",
       "    <g id=\"ytick_4\">\n",
       "     <g id=\"line2d_19\">\n",
       "      <path clip-path=\"url(#pc43667f937)\" d=\"M 43.78125 185.105455 \n",
       "L 490.18125 185.105455 \n",
       "\" style=\"fill:none;stroke:#b0b0b0;stroke-linecap:square;stroke-width:0.8;\"/>\n",
       "     </g>\n",
       "     <g id=\"line2d_20\">\n",
       "      <g>\n",
       "       <use style=\"stroke:#000000;stroke-width:0.8;\" x=\"43.78125\" xlink:href=\"#m40f5cfedf0\" y=\"185.105455\"/>\n",
       "      </g>\n",
       "     </g>\n",
       "     <g id=\"text_11\">\n",
       "      <!-- 0.6 -->\n",
       "      <g transform=\"translate(20.878125 188.904673)scale(0.1 -0.1)\">\n",
       "       <use xlink:href=\"#DejaVuSans-48\"/>\n",
       "       <use x=\"63.623047\" xlink:href=\"#DejaVuSans-46\"/>\n",
       "       <use x=\"95.410156\" xlink:href=\"#DejaVuSans-54\"/>\n",
       "      </g>\n",
       "     </g>\n",
       "    </g>\n",
       "    <g id=\"ytick_5\">\n",
       "     <g id=\"line2d_21\">\n",
       "      <path clip-path=\"url(#pc43667f937)\" d=\"M 43.78125 106.036364 \n",
       "L 490.18125 106.036364 \n",
       "\" style=\"fill:none;stroke:#b0b0b0;stroke-linecap:square;stroke-width:0.8;\"/>\n",
       "     </g>\n",
       "     <g id=\"line2d_22\">\n",
       "      <g>\n",
       "       <use style=\"stroke:#000000;stroke-width:0.8;\" x=\"43.78125\" xlink:href=\"#m40f5cfedf0\" y=\"106.036364\"/>\n",
       "      </g>\n",
       "     </g>\n",
       "     <g id=\"text_12\">\n",
       "      <!-- 0.8 -->\n",
       "      <g transform=\"translate(20.878125 109.835582)scale(0.1 -0.1)\">\n",
       "       <use xlink:href=\"#DejaVuSans-48\"/>\n",
       "       <use x=\"63.623047\" xlink:href=\"#DejaVuSans-46\"/>\n",
       "       <use x=\"95.410156\" xlink:href=\"#DejaVuSans-56\"/>\n",
       "      </g>\n",
       "     </g>\n",
       "    </g>\n",
       "    <g id=\"ytick_6\">\n",
       "     <g id=\"line2d_23\">\n",
       "      <path clip-path=\"url(#pc43667f937)\" d=\"M 43.78125 26.967273 \n",
       "L 490.18125 26.967273 \n",
       "\" style=\"fill:none;stroke:#b0b0b0;stroke-linecap:square;stroke-width:0.8;\"/>\n",
       "     </g>\n",
       "     <g id=\"line2d_24\">\n",
       "      <g>\n",
       "       <use style=\"stroke:#000000;stroke-width:0.8;\" x=\"43.78125\" xlink:href=\"#m40f5cfedf0\" y=\"26.967273\"/>\n",
       "      </g>\n",
       "     </g>\n",
       "     <g id=\"text_13\">\n",
       "      <!-- 1.0 -->\n",
       "      <g transform=\"translate(20.878125 30.766491)scale(0.1 -0.1)\">\n",
       "       <use xlink:href=\"#DejaVuSans-49\"/>\n",
       "       <use x=\"63.623047\" xlink:href=\"#DejaVuSans-46\"/>\n",
       "       <use x=\"95.410156\" xlink:href=\"#DejaVuSans-48\"/>\n",
       "      </g>\n",
       "     </g>\n",
       "    </g>\n",
       "    <g id=\"text_14\">\n",
       "     <!-- false positive rate -->\n",
       "     <defs>\n",
       "      <path d=\"M 37.109375 75.984375 \n",
       "L 37.109375 68.5 \n",
       "L 28.515625 68.5 \n",
       "Q 23.6875 68.5 21.796875 66.546875 \n",
       "Q 19.921875 64.59375 19.921875 59.515625 \n",
       "L 19.921875 54.6875 \n",
       "L 34.71875 54.6875 \n",
       "L 34.71875 47.703125 \n",
       "L 19.921875 47.703125 \n",
       "L 19.921875 0 \n",
       "L 10.890625 0 \n",
       "L 10.890625 47.703125 \n",
       "L 2.296875 47.703125 \n",
       "L 2.296875 54.6875 \n",
       "L 10.890625 54.6875 \n",
       "L 10.890625 58.5 \n",
       "Q 10.890625 67.625 15.140625 71.796875 \n",
       "Q 19.390625 75.984375 28.609375 75.984375 \n",
       "z\n",
       "\" id=\"DejaVuSans-102\"/>\n",
       "      <path d=\"M 9.421875 75.984375 \n",
       "L 18.40625 75.984375 \n",
       "L 18.40625 0 \n",
       "L 9.421875 0 \n",
       "z\n",
       "\" id=\"DejaVuSans-108\"/>\n",
       "     </defs>\n",
       "     <g transform=\"translate(14.798438 269.481406)rotate(-90)scale(0.1 -0.1)\">\n",
       "      <use xlink:href=\"#DejaVuSans-102\"/>\n",
       "      <use x=\"35.205078\" xlink:href=\"#DejaVuSans-97\"/>\n",
       "      <use x=\"96.484375\" xlink:href=\"#DejaVuSans-108\"/>\n",
       "      <use x=\"124.267578\" xlink:href=\"#DejaVuSans-115\"/>\n",
       "      <use x=\"176.367188\" xlink:href=\"#DejaVuSans-101\"/>\n",
       "      <use x=\"237.890625\" xlink:href=\"#DejaVuSans-32\"/>\n",
       "      <use x=\"269.677734\" xlink:href=\"#DejaVuSans-112\"/>\n",
       "      <use x=\"333.154297\" xlink:href=\"#DejaVuSans-111\"/>\n",
       "      <use x=\"394.335938\" xlink:href=\"#DejaVuSans-115\"/>\n",
       "      <use x=\"446.435547\" xlink:href=\"#DejaVuSans-105\"/>\n",
       "      <use x=\"474.21875\" xlink:href=\"#DejaVuSans-116\"/>\n",
       "      <use x=\"513.427734\" xlink:href=\"#DejaVuSans-105\"/>\n",
       "      <use x=\"541.210938\" xlink:href=\"#DejaVuSans-118\"/>\n",
       "      <use x=\"600.390625\" xlink:href=\"#DejaVuSans-101\"/>\n",
       "      <use x=\"661.914062\" xlink:href=\"#DejaVuSans-32\"/>\n",
       "      <use x=\"693.701172\" xlink:href=\"#DejaVuSans-114\"/>\n",
       "      <use x=\"734.814453\" xlink:href=\"#DejaVuSans-97\"/>\n",
       "      <use x=\"796.09375\" xlink:href=\"#DejaVuSans-116\"/>\n",
       "      <use x=\"835.302734\" xlink:href=\"#DejaVuSans-101\"/>\n",
       "     </g>\n",
       "    </g>\n",
       "   </g>\n",
       "   <g id=\"line2d_25\">\n",
       "    <path clip-path=\"url(#pc43667f937)\" d=\"M 67.056116 26.967273 \n",
       "L 64.072159 33.04951 \n",
       "L 81.086482 33.04951 \n",
       "L 78.048952 39.131748 \n",
       "L 81.039383 39.131748 \n",
       "L 77.953264 45.213986 \n",
       "L 80.990776 45.213986 \n",
       "L 77.854489 51.296224 \n",
       "L 84.077281 51.296224 \n",
       "L 80.888743 57.378462 \n",
       "L 87.319407 57.378462 \n",
       "L 84.077281 63.460699 \n",
       "L 90.72923 63.460699 \n",
       "L 87.432177 69.542937 \n",
       "L 90.845931 69.542937 \n",
       "L 87.491556 75.625175 \n",
       "L 90.9668 75.625175 \n",
       "L 84.077281 87.78965 \n",
       "L 80.537711 93.871888 \n",
       "L 91.356772 93.871888 \n",
       "L 87.751691 99.954126 \n",
       "L 95.314554 99.954126 \n",
       "L 91.642243 106.036364 \n",
       "L 103.562789 106.036364 \n",
       "L 99.824753 112.118601 \n",
       "L 103.964552 112.118601 \n",
       "L 100.152825 118.200839 \n",
       "L 104.383231 118.200839 \n",
       "L 100.494858 124.283077 \n",
       "L 109.239002 124.283077 \n",
       "L 105.275801 130.365315 \n",
       "L 134.00603 130.365315 \n",
       "L 130.007407 136.447552 \n",
       "L 135.209132 136.447552 \n",
       "L 131.127654 142.52979 \n",
       "L 147.565506 142.52979 \n",
       "L 139.193432 154.694266 \n",
       "L 130.374848 166.858741 \n",
       "L 125.786801 172.940979 \n",
       "L 131.643274 172.940979 \n",
       "L 126.945399 179.023217 \n",
       "L 152.161938 179.023217 \n",
       "L 147.419723 185.105455 \n",
       "L 168.473888 185.105455 \n",
       "L 163.689499 191.187692 \n",
       "L 171.196359 191.187692 \n",
       "L 166.299736 197.26993 \n",
       "L 161.239893 203.352168 \n",
       "L 156.008529 209.434406 \n",
       "L 163.900672 209.434406 \n",
       "L 158.532433 215.516643 \n",
       "L 166.751508 215.516643 \n",
       "L 161.239893 221.598881 \n",
       "L 155.524144 227.681119 \n",
       "L 149.592706 233.763357 \n",
       "L 158.2721 233.763357 \n",
       "L 152.161938 239.845594 \n",
       "L 161.239893 239.845594 \n",
       "L 154.940904 245.927832 \n",
       "L 148.379457 252.01007 \n",
       "L 157.956377 252.01007 \n",
       "L 151.175204 258.092308 \n",
       "L 144.092646 264.174545 \n",
       "L 175.937533 264.174545 \n",
       "L 168.767952 270.256783 \n",
       "L 180.530546 270.256783 \n",
       "L 173.111064 276.339021 \n",
       "L 165.301083 282.421259 \n",
       "L 177.923701 282.421259 \n",
       "L 169.813516 288.503497 \n",
       "L 161.239893 294.585734 \n",
       "L 152.161938 300.667972 \n",
       "L 142.533805 306.75021 \n",
       "L 186.960763 306.75021 \n",
       "L 177.204571 312.832448 \n",
       "L 194.309584 312.832448 \n",
       "L 184.102889 318.914685 \n",
       "L 173.111064 324.996923 \n",
       "L 212.681634 324.996923 \n",
       "L 201.498647 331.079161 \n",
       "L 224.372939 331.079161 \n",
       "L 212.681634 337.161399 \n",
       "L 199.821199 343.243636 \n",
       "L 185.607033 349.325874 \n",
       "L 169.813516 355.408112 \n",
       "L 228.757178 355.408112 \n",
       "L 212.681634 361.49035 \n",
       "L 249.425735 361.49035 \n",
       "L 232.466919 367.572587 \n",
       "L 212.681634 373.654825 \n",
       "L 189.299024 379.737063 \n",
       "L 298.41787 379.737063 \n",
       "L 276.983811 385.819301 \n",
       "L 249.425735 391.901538 \n",
       "L 212.681634 397.983776 \n",
       "L 161.239893 404.066014 \n",
       "L 469.890341 404.066014 \n",
       "L 469.890341 422.312727 \n",
       "L 469.890341 422.312727 \n",
       "\" style=\"fill:none;stroke:#1f77b4;stroke-linecap:square;stroke-width:1.5;\"/>\n",
       "   </g>\n",
       "   <g id=\"patch_3\">\n",
       "    <path d=\"M 43.78125 442.08 \n",
       "L 43.78125 7.2 \n",
       "\" style=\"fill:none;stroke:#000000;stroke-linecap:square;stroke-linejoin:miter;stroke-width:0.8;\"/>\n",
       "   </g>\n",
       "   <g id=\"patch_4\">\n",
       "    <path d=\"M 490.18125 442.08 \n",
       "L 490.18125 7.2 \n",
       "\" style=\"fill:none;stroke:#000000;stroke-linecap:square;stroke-linejoin:miter;stroke-width:0.8;\"/>\n",
       "   </g>\n",
       "   <g id=\"patch_5\">\n",
       "    <path d=\"M 43.78125 442.08 \n",
       "L 490.18125 442.08 \n",
       "\" style=\"fill:none;stroke:#000000;stroke-linecap:square;stroke-linejoin:miter;stroke-width:0.8;\"/>\n",
       "   </g>\n",
       "   <g id=\"patch_6\">\n",
       "    <path d=\"M 43.78125 7.2 \n",
       "L 490.18125 7.2 \n",
       "\" style=\"fill:none;stroke:#000000;stroke-linecap:square;stroke-linejoin:miter;stroke-width:0.8;\"/>\n",
       "   </g>\n",
       "  </g>\n",
       " </g>\n",
       " <defs>\n",
       "  <clipPath id=\"pc43667f937\">\n",
       "   <rect height=\"434.88\" width=\"446.4\" x=\"43.78125\" y=\"7.2\"/>\n",
       "  </clipPath>\n",
       " </defs>\n",
       "</svg>\n"
      ],
      "text/plain": [
       "<Figure size 576x576 with 1 Axes>"
      ]
     },
     "metadata": {
      "needs_background": "light"
     },
     "output_type": "display_data"
    }
   ],
   "source": [
    "plt.figure(figsize=(8, 8))\n",
    "plt.plot(precision, recall)\n",
    "plt.xlabel('true positive rate')\n",
    "plt.ylabel('false positive rate')\n",
    "plt.grid()"
   ]
  },
  {
   "cell_type": "markdown",
   "metadata": {},
   "source": [
    "## Try AdaBoost"
   ]
  },
  {
   "cell_type": "code",
   "execution_count": 1,
   "metadata": {},
   "outputs": [],
   "source": [
    "from sklearn.ensemble import AdaBoostClassifier"
   ]
  },
  {
   "cell_type": "code",
   "execution_count": 6,
   "metadata": {},
   "outputs": [],
   "source": [
    "ada = AdaBoostClassifier(base_estimator=LogisticRegression(solver='liblinear', C=1.5, max_iter=100, class_weight='balanced'), random_state=1)"
   ]
  },
  {
   "cell_type": "code",
   "execution_count": 7,
   "metadata": {},
   "outputs": [
    {
     "data": {
      "text/plain": [
       "AdaBoostClassifier(algorithm='SAMME.R',\n",
       "                   base_estimator=LogisticRegression(C=1.5,\n",
       "                                                     class_weight='balanced',\n",
       "                                                     dual=False,\n",
       "                                                     fit_intercept=True,\n",
       "                                                     intercept_scaling=1,\n",
       "                                                     l1_ratio=None,\n",
       "                                                     max_iter=100,\n",
       "                                                     multi_class='warn',\n",
       "                                                     n_jobs=None, penalty='l2',\n",
       "                                                     random_state=None,\n",
       "                                                     solver='liblinear',\n",
       "                                                     tol=0.0001, verbose=0,\n",
       "                                                     warm_start=False),\n",
       "                   learning_rate=1.0, n_estimators=50, random_state=1)"
      ]
     },
     "execution_count": 7,
     "metadata": {},
     "output_type": "execute_result"
    }
   ],
   "source": [
    "ada.fit(train_mixtures, bi_train_duration)"
   ]
  },
  {
   "cell_type": "code",
   "execution_count": 9,
   "metadata": {},
   "outputs": [],
   "source": [
    "test_predictions_ada = ada.predict(test_mixtures)"
   ]
  },
  {
   "cell_type": "code",
   "execution_count": 28,
   "metadata": {},
   "outputs": [
    {
     "name": "stdout",
     "output_type": "stream",
     "text": [
      "0.5215204150688022\n",
      "              precision    recall  f1-score   support\n",
      "\n",
      "           0       0.70      0.72      0.71        89\n",
      "           1       0.60      0.57      0.58        65\n",
      "\n",
      "    accuracy                           0.66       154\n",
      "   macro avg       0.65      0.64      0.64       154\n",
      "weighted avg       0.65      0.66      0.65       154\n",
      "\n"
     ]
    }
   ],
   "source": [
    "print(average_precision_score(bi_test_duration, test_predictions_ada))\n",
    "print(classification_report(bi_test_duration, test_predictions_ada))"
   ]
  },
  {
   "cell_type": "markdown",
   "metadata": {},
   "source": [
    "## Try MLP (non-linear classifier)"
   ]
  },
  {
   "cell_type": "code",
   "execution_count": 13,
   "metadata": {},
   "outputs": [],
   "source": [
    "from sklearn.neural_network import MLPClassifier"
   ]
  },
  {
   "cell_type": "code",
   "execution_count": 14,
   "metadata": {},
   "outputs": [],
   "source": [
    "mlp = MLPClassifier(hidden_layer_sizes=(40, 30),\n",
    "                   activation='relu',\n",
    "#                    solver='lbfgs',\n",
    "                   early_stopping=False,\n",
    "                   max_iter=300,\n",
    "                   random_state=1,\n",
    "                   n_iter_no_change=20,\n",
    "                   verbose=False)"
   ]
  },
  {
   "cell_type": "code",
   "execution_count": 17,
   "metadata": {},
   "outputs": [
    {
     "data": {
      "text/plain": [
       "MLPClassifier(activation='relu', alpha=0.0001, batch_size='auto', beta_1=0.9,\n",
       "              beta_2=0.999, early_stopping=False, epsilon=1e-08,\n",
       "              hidden_layer_sizes=(40, 30), learning_rate='constant',\n",
       "              learning_rate_init=0.001, max_iter=300, momentum=0.9,\n",
       "              n_iter_no_change=20, nesterovs_momentum=True, power_t=0.5,\n",
       "              random_state=1, shuffle=True, solver='adam', tol=0.0001,\n",
       "              validation_fraction=0.1, verbose=False, warm_start=False)"
      ]
     },
     "execution_count": 17,
     "metadata": {},
     "output_type": "execute_result"
    }
   ],
   "source": [
    "mlp.fit(train_mixtures, bi_train_duration)"
   ]
  },
  {
   "cell_type": "code",
   "execution_count": 18,
   "metadata": {},
   "outputs": [
    {
     "data": {
      "text/plain": [
       "213"
      ]
     },
     "execution_count": 18,
     "metadata": {},
     "output_type": "execute_result"
    }
   ],
   "source": [
    "mlp.n_iter_"
   ]
  },
  {
   "cell_type": "code",
   "execution_count": 19,
   "metadata": {},
   "outputs": [],
   "source": [
    "test_predictions_mlp = mlp.predict(test_mixtures)"
   ]
  },
  {
   "cell_type": "code",
   "execution_count": 20,
   "metadata": {},
   "outputs": [
    {
     "name": "stdout",
     "output_type": "stream",
     "text": [
      "0.9293030046876202\n",
      "              precision    recall  f1-score   support\n",
      "\n",
      "           0       0.97      0.97      0.97        89\n",
      "           1       0.95      0.95      0.95        65\n",
      "\n",
      "    accuracy                           0.96       154\n",
      "   macro avg       0.96      0.96      0.96       154\n",
      "weighted avg       0.96      0.96      0.96       154\n",
      "\n"
     ]
    }
   ],
   "source": [
    "print(average_precision_score(bi_test_duration, test_predictions_mlp))\n",
    "print(classification_report(bi_test_duration, test_predictions_mlp))"
   ]
  },
  {
   "cell_type": "code",
   "execution_count": 78,
   "metadata": {},
   "outputs": [],
   "source": [
    "test_proba_mlp = mlp.predict_proba(test_mixtures)[:, 1]\n",
    "mlp_precision, mlp_recall, _ = precision_recall_curve(bi_test_duration, test_proba_mlp, pos_label=1)"
   ]
  },
  {
   "cell_type": "code",
   "execution_count": 79,
   "metadata": {},
   "outputs": [
    {
     "data": {
      "image/png": "[encoded data removed]",
      "text/plain": [
       "<Figure size 576x576 with 1 Axes>"
      ]
     },
     "metadata": {
      "needs_background": "light"
     },
     "output_type": "display_data"
    }
   ],
   "source": [
    "plt.figure(figsize=(8, 8))\n",
    "plt.plot(mlp_recall, mlp_precision)\n",
    "# plt.fill_between(mlp_recall, mlp_precision)\n",
    "plt.xlabel('recall')\n",
    "plt.ylabel('precision')\n",
    "plt.grid()"
   ]
  },
  {
   "cell_type": "markdown",
   "metadata": {},
   "source": [
    "## Cross validation"
   ]
  },
  {
   "cell_type": "code",
   "execution_count": 23,
   "metadata": {},
   "outputs": [],
   "source": [
    "import os\n",
    "from sklearn.preprocessing import normalize"
   ]
  },
  {
   "cell_type": "code",
   "execution_count": 21,
   "metadata": {},
   "outputs": [],
   "source": [
    "data_path = r'/home/mcb/li_lab/zwen8/data/mimic/multi_datatypes_res_15_thre_d2_cv'"
   ]
  },
  {
   "cell_type": "code",
   "execution_count": 24,
   "metadata": {},
   "outputs": [],
   "source": [
    "fold_dfs = [pd.read_csv(os.path.join(data_path, 'infer', 'f' + str(idx) + '.csv'), header=None) for idx in range(1, 6)]"
   ]
  },
  {
   "cell_type": "code",
   "execution_count": 137,
   "metadata": {},
   "outputs": [],
   "source": [
    "fold_dfs = [pd.DataFrame(normalize(fold_df.iloc[:,2:51], norm='l1', axis=1)) for fold_df in fold_dfs]"
   ]
  },
  {
   "cell_type": "code",
   "execution_count": 25,
   "metadata": {},
   "outputs": [
    {
     "data": {
      "text/html": [
       "<div>\n",
       "<style scoped>\n",
       "    .dataframe tbody tr th:only-of-type {\n",
       "        vertical-align: middle;\n",
       "    }\n",
       "\n",
       "    .dataframe tbody tr th {\n",
       "        vertical-align: top;\n",
       "    }\n",
       "\n",
       "    .dataframe thead th {\n",
       "        text-align: right;\n",
       "    }\n",
       "</style>\n",
       "<table border=\"1\" class=\"dataframe\">\n",
       "  <thead>\n",
       "    <tr style=\"text-align: right;\">\n",
       "      <th></th>\n",
       "      <th>0</th>\n",
       "      <th>1</th>\n",
       "      <th>2</th>\n",
       "      <th>3</th>\n",
       "      <th>4</th>\n",
       "      <th>5</th>\n",
       "      <th>6</th>\n",
       "      <th>7</th>\n",
       "      <th>8</th>\n",
       "      <th>9</th>\n",
       "      <th>...</th>\n",
       "      <th>40</th>\n",
       "      <th>41</th>\n",
       "      <th>42</th>\n",
       "      <th>43</th>\n",
       "      <th>44</th>\n",
       "      <th>45</th>\n",
       "      <th>46</th>\n",
       "      <th>47</th>\n",
       "      <th>48</th>\n",
       "      <th>49</th>\n",
       "    </tr>\n",
       "  </thead>\n",
       "  <tbody>\n",
       "    <tr>\n",
       "      <td>0</td>\n",
       "      <td>0.343478</td>\n",
       "      <td>2.383665</td>\n",
       "      <td>19.617464</td>\n",
       "      <td>2.550106</td>\n",
       "      <td>18.707967</td>\n",
       "      <td>77.299036</td>\n",
       "      <td>7.250984</td>\n",
       "      <td>36.368839</td>\n",
       "      <td>95.102842</td>\n",
       "      <td>332.668875</td>\n",
       "      <td>...</td>\n",
       "      <td>35.627812</td>\n",
       "      <td>2.331003</td>\n",
       "      <td>116.002313</td>\n",
       "      <td>56.723720</td>\n",
       "      <td>22.207594</td>\n",
       "      <td>25.918857</td>\n",
       "      <td>2.737948</td>\n",
       "      <td>305.919869</td>\n",
       "      <td>2.377683</td>\n",
       "      <td>18.944839</td>\n",
       "    </tr>\n",
       "    <tr>\n",
       "      <td>1</td>\n",
       "      <td>1.098619</td>\n",
       "      <td>0.590667</td>\n",
       "      <td>0.110441</td>\n",
       "      <td>1.018457</td>\n",
       "      <td>0.296803</td>\n",
       "      <td>0.316389</td>\n",
       "      <td>0.098031</td>\n",
       "      <td>0.696035</td>\n",
       "      <td>0.297607</td>\n",
       "      <td>0.377688</td>\n",
       "      <td>...</td>\n",
       "      <td>0.179764</td>\n",
       "      <td>28.915424</td>\n",
       "      <td>0.171989</td>\n",
       "      <td>0.718628</td>\n",
       "      <td>0.446589</td>\n",
       "      <td>0.764154</td>\n",
       "      <td>0.264989</td>\n",
       "      <td>0.417507</td>\n",
       "      <td>3.763927</td>\n",
       "      <td>0.317037</td>\n",
       "    </tr>\n",
       "    <tr>\n",
       "      <td>2</td>\n",
       "      <td>0.507173</td>\n",
       "      <td>32.324126</td>\n",
       "      <td>46.024242</td>\n",
       "      <td>4.583138</td>\n",
       "      <td>15.371187</td>\n",
       "      <td>20.643420</td>\n",
       "      <td>0.535632</td>\n",
       "      <td>364.999715</td>\n",
       "      <td>68.862911</td>\n",
       "      <td>43.689045</td>\n",
       "      <td>...</td>\n",
       "      <td>9.172962</td>\n",
       "      <td>0.419403</td>\n",
       "      <td>10.560775</td>\n",
       "      <td>65.837704</td>\n",
       "      <td>2.259125</td>\n",
       "      <td>42.783504</td>\n",
       "      <td>0.554554</td>\n",
       "      <td>11.783273</td>\n",
       "      <td>1.528829</td>\n",
       "      <td>49.117016</td>\n",
       "    </tr>\n",
       "    <tr>\n",
       "      <td>3</td>\n",
       "      <td>48.527377</td>\n",
       "      <td>1.283278</td>\n",
       "      <td>13.043862</td>\n",
       "      <td>1.041184</td>\n",
       "      <td>22.762191</td>\n",
       "      <td>1.198572</td>\n",
       "      <td>1.902370</td>\n",
       "      <td>4.589757</td>\n",
       "      <td>4.704269</td>\n",
       "      <td>4.792256</td>\n",
       "      <td>...</td>\n",
       "      <td>266.653403</td>\n",
       "      <td>0.818530</td>\n",
       "      <td>4.033464</td>\n",
       "      <td>238.413254</td>\n",
       "      <td>82.735814</td>\n",
       "      <td>1.256148</td>\n",
       "      <td>0.127385</td>\n",
       "      <td>11.764205</td>\n",
       "      <td>35.959983</td>\n",
       "      <td>214.736138</td>\n",
       "    </tr>\n",
       "    <tr>\n",
       "      <td>4</td>\n",
       "      <td>31.727704</td>\n",
       "      <td>157.518246</td>\n",
       "      <td>13.760755</td>\n",
       "      <td>15.476575</td>\n",
       "      <td>5.799357</td>\n",
       "      <td>3.933396</td>\n",
       "      <td>23.611588</td>\n",
       "      <td>3.323347</td>\n",
       "      <td>39.945223</td>\n",
       "      <td>17.453823</td>\n",
       "      <td>...</td>\n",
       "      <td>1.028413</td>\n",
       "      <td>7.208988</td>\n",
       "      <td>12.249694</td>\n",
       "      <td>1.473975</td>\n",
       "      <td>25.580835</td>\n",
       "      <td>303.726253</td>\n",
       "      <td>123.407849</td>\n",
       "      <td>6.214962</td>\n",
       "      <td>8.526866</td>\n",
       "      <td>10.041671</td>\n",
       "    </tr>\n",
       "  </tbody>\n",
       "</table>\n",
       "<p>5 rows × 50 columns</p>\n",
       "</div>"
      ],
      "text/plain": [
       "          0           1          2          3          4          5   \\\n",
       "0   0.343478    2.383665  19.617464   2.550106  18.707967  77.299036   \n",
       "1   1.098619    0.590667   0.110441   1.018457   0.296803   0.316389   \n",
       "2   0.507173   32.324126  46.024242   4.583138  15.371187  20.643420   \n",
       "3  48.527377    1.283278  13.043862   1.041184  22.762191   1.198572   \n",
       "4  31.727704  157.518246  13.760755  15.476575   5.799357   3.933396   \n",
       "\n",
       "          6           7          8           9   ...          40         41  \\\n",
       "0   7.250984   36.368839  95.102842  332.668875  ...   35.627812   2.331003   \n",
       "1   0.098031    0.696035   0.297607    0.377688  ...    0.179764  28.915424   \n",
       "2   0.535632  364.999715  68.862911   43.689045  ...    9.172962   0.419403   \n",
       "3   1.902370    4.589757   4.704269    4.792256  ...  266.653403   0.818530   \n",
       "4  23.611588    3.323347  39.945223   17.453823  ...    1.028413   7.208988   \n",
       "\n",
       "           42          43         44          45          46          47  \\\n",
       "0  116.002313   56.723720  22.207594   25.918857    2.737948  305.919869   \n",
       "1    0.171989    0.718628   0.446589    0.764154    0.264989    0.417507   \n",
       "2   10.560775   65.837704   2.259125   42.783504    0.554554   11.783273   \n",
       "3    4.033464  238.413254  82.735814    1.256148    0.127385   11.764205   \n",
       "4   12.249694    1.473975  25.580835  303.726253  123.407849    6.214962   \n",
       "\n",
       "          48          49  \n",
       "0   2.377683   18.944839  \n",
       "1   3.763927    0.317037  \n",
       "2   1.528829   49.117016  \n",
       "3  35.959983  214.736138  \n",
       "4   8.526866   10.041671  \n",
       "\n",
       "[5 rows x 50 columns]"
      ]
     },
     "execution_count": 25,
     "metadata": {},
     "output_type": "execute_result"
    }
   ],
   "source": [
    "fold_dfs[0].head()"
   ]
  },
  {
   "cell_type": "code",
   "execution_count": 26,
   "metadata": {},
   "outputs": [],
   "source": [
    "bi_durations = [pd.read_csv(os.path.join(data_path, 'f' + str(idx) + '_bi_vent.txt') , header=None, sep=' ') for idx in range(1, 6)] \n",
    "bi_durations = [bi_duration[1].astype(int) for bi_duration in bi_durations]"
   ]
  },
  {
   "cell_type": "code",
   "execution_count": 27,
   "metadata": {},
   "outputs": [
    {
     "data": {
      "text/plain": [
       "0      0\n",
       "1      1\n",
       "2      0\n",
       "3      1\n",
       "4      1\n",
       "      ..\n",
       "273    0\n",
       "274    1\n",
       "275    1\n",
       "276    0\n",
       "277    0\n",
       "Name: 1, Length: 278, dtype: int64"
      ]
     },
     "execution_count": 27,
     "metadata": {},
     "output_type": "execute_result"
    }
   ],
   "source": [
    "bi_durations[0]"
   ]
  },
  {
   "cell_type": "code",
   "execution_count": 47,
   "metadata": {},
   "outputs": [
    {
     "name": "stdout",
     "output_type": "stream",
     "text": [
      "auprc: 0.4203055673927757\n",
      "acc: 0.5431654676258992\n",
      "auprc: 0.4661673429878378\n",
      "acc: 0.5539568345323741\n",
      "auprc: 0.39290957570879087\n",
      "acc: 0.5503597122302158\n",
      "auprc: 0.44337744090441933\n",
      "acc: 0.5971223021582733\n",
      "auprc: 0.4752819302386573\n",
      "acc: 0.5663082437275986\n",
      "mean auprc: 0.43960837144649617\n",
      "mean acc: 0.5621825120548722\n"
     ]
    }
   ],
   "source": [
    "auprc = []\n",
    "acc = []\n",
    "for idx in range(5):\n",
    "    cv_test_mixture = fold_dfs[idx].copy()\n",
    "    bi_test_duration = bi_durations[idx].copy()\n",
    "    train_fold_dfs = fold_dfs.copy()\n",
    "    del train_fold_dfs[idx]\n",
    "    cv_train_mixtures = pd.concat(train_fold_dfs)\n",
    "    bi_train_durations = bi_durations.copy()\n",
    "    del bi_train_durations[idx]\n",
    "    bi_train_durations = pd.concat(bi_train_durations)\n",
    "\n",
    "    mlp = MLPClassifier(hidden_layer_sizes=(40, 30),\n",
    "                   activation='relu',\n",
    "#                    solver='lbfgs',\n",
    "                   early_stopping=False,\n",
    "                   max_iter=800,\n",
    "#                    random_state=1,\n",
    "                   n_iter_no_change=40,\n",
    "                   verbose=False)\n",
    "    mlp.fit(cv_train_mixtures, bi_train_durations)\n",
    "    test_predictions_mlp = mlp.predict(cv_test_mixture)\n",
    "    auprc.append(average_precision_score(bi_test_duration, test_predictions_mlp))\n",
    "    acc.append(accuracy_score(bi_test_duration, test_predictions_mlp))\n",
    "    print('auprc:', auprc[-1])\n",
    "    print('acc:', acc[-1])\n",
    "    \n",
    "print('mean auprc:', np.mean(auprc))\n",
    "print('mean acc:', np.mean(acc))"
   ]
  },
  {
   "cell_type": "markdown",
   "metadata": {},
   "source": [
    "### grid serach MLP"
   ]
  },
  {
   "cell_type": "code",
   "execution_count": 48,
   "metadata": {},
   "outputs": [],
   "source": [
    "from sklearn.model_selection import GridSearchCV"
   ]
  },
  {
   "cell_type": "code",
   "execution_count": 49,
   "metadata": {},
   "outputs": [],
   "source": [
    "estimator = MLPClassifier(activation='relu',\n",
    "                   random_state=1,\n",
    "                   n_iter_no_change=40,\n",
    "                   verbose=False)"
   ]
  },
  {
   "cell_type": "code",
   "execution_count": 56,
   "metadata": {},
   "outputs": [],
   "source": [
    "gs_mixtures = pd.concat(fold_dfs, ignore_index=True)"
   ]
  },
  {
   "cell_type": "code",
   "execution_count": 58,
   "metadata": {},
   "outputs": [
    {
     "data": {
      "text/plain": [
       "(1391, 50)"
      ]
     },
     "execution_count": 58,
     "metadata": {},
     "output_type": "execute_result"
    }
   ],
   "source": [
    "gs_mixtures.shape"
   ]
  },
  {
   "cell_type": "code",
   "execution_count": 61,
   "metadata": {},
   "outputs": [],
   "source": [
    "gs_bi_durations = pd.concat(bi_durations, ignore_index=True)"
   ]
  },
  {
   "cell_type": "code",
   "execution_count": 63,
   "metadata": {},
   "outputs": [
    {
     "data": {
      "text/plain": [
       "(1391,)"
      ]
     },
     "execution_count": 63,
     "metadata": {},
     "output_type": "execute_result"
    }
   ],
   "source": [
    "gs_bi_durations.shape"
   ]
  },
  {
   "cell_type": "code",
   "execution_count": 64,
   "metadata": {},
   "outputs": [],
   "source": [
    "hyperparams = {'hidden_layer_sizes': [(l1, 20) for l1 in [40, 30]],\n",
    "              'early_stopping': [True, False],\n",
    "              'max_iter': [int(num) for num in range(300, 1000, 100)]}"
   ]
  },
  {
   "cell_type": "code",
   "execution_count": 65,
   "metadata": {},
   "outputs": [],
   "source": [
    "searcher = GridSearchCV(estimator=estimator,\n",
    "                       param_grid=hyperparams,\n",
    "                       scoring='average_precision',\n",
    "                       n_jobs=14,\n",
    "                       cv=5)"
   ]
  },
  {
   "cell_type": "code",
   "execution_count": null,
   "metadata": {},
   "outputs": [],
   "source": [
    "searcher.fit(gs_mixtures, gs_bi_durations)"
   ]
  },
  {
   "cell_type": "code",
   "execution_count": 69,
   "metadata": {},
   "outputs": [
    {
     "data": {
      "text/plain": [
       "{'early_stopping': False, 'hidden_layer_sizes': (30, 20), 'max_iter': 600}"
      ]
     },
     "execution_count": 69,
     "metadata": {},
     "output_type": "execute_result"
    }
   ],
   "source": [
    "searcher.best_params_"
   ]
  },
  {
   "cell_type": "code",
   "execution_count": 70,
   "metadata": {},
   "outputs": [
    {
     "data": {
      "text/plain": [
       "0.47827543499956165"
      ]
     },
     "execution_count": 70,
     "metadata": {},
     "output_type": "execute_result"
    }
   ],
   "source": [
    "searcher.best_score_"
   ]
  }
 ],
 "metadata": {
  "file_extension": ".py",
  "kernelspec": {
   "display_name": "Python 3",
   "language": "python",
   "name": "python3"
  },
  "language_info": {
   "codemirror_mode": {
    "name": "ipython",
    "version": 3
   },
   "file_extension": ".py",
   "mimetype": "text/x-python",
   "name": "python",
   "nbconvert_exporter": "python",
   "pygments_lexer": "ipython3",
   "version": "3.7.3"
  },
  "mimetype": "text/x-python",
  "name": "python",
  "npconvert_exporter": "python",
  "pygments_lexer": "ipython3",
  "version": 3
 },
 "nbformat": 4,
 "nbformat_minor": 4
}
