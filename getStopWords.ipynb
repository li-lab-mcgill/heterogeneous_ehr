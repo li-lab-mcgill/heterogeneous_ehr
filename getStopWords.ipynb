{
 "cells": [
  {
   "cell_type": "code",
   "execution_count": 99,
   "metadata": {},
   "outputs": [],
   "source": [
    "import pandas as pd\n",
    "import numpy as np\n",
    "import pickle as pkl\n",
    "from nltk.corpus import stopwords\n",
    "import string\n",
    "from sklearn.feature_extraction.text import CountVectorizer\n",
    "import matplotlib.pyplot as plt"
   ]
  },
  {
   "cell_type": "code",
   "execution_count": 53,
   "metadata": {},
   "outputs": [],
   "source": [
    "import collections, re"
   ]
  },
  {
   "cell_type": "code",
   "execution_count": 3,
   "metadata": {},
   "outputs": [
    {
     "name": "stdout",
     "output_type": "stream",
     "text": [
      "(152753, 15)\n"
     ]
    },
    {
     "data": {
      "text/html": [
       "<div>\n",
       "<style scoped>\n",
       "    .dataframe tbody tr th:only-of-type {\n",
       "        vertical-align: middle;\n",
       "    }\n",
       "\n",
       "    .dataframe tbody tr th {\n",
       "        vertical-align: top;\n",
       "    }\n",
       "\n",
       "    .dataframe thead th {\n",
       "        text-align: right;\n",
       "    }\n",
       "</style>\n",
       "<table border=\"1\" class=\"dataframe\">\n",
       "  <thead>\n",
       "    <tr style=\"text-align: right;\">\n",
       "      <th></th>\n",
       "      <th>ROW_ID</th>\n",
       "      <th>SUBJECT_ID</th>\n",
       "      <th>HADM_ID</th>\n",
       "      <th>CHARTDATE</th>\n",
       "      <th>CHARTTIME</th>\n",
       "      <th>STORETIME</th>\n",
       "      <th>CATEGORY</th>\n",
       "      <th>DESCRIPTION</th>\n",
       "      <th>CGID</th>\n",
       "      <th>ISERROR</th>\n",
       "      <th>TEXT</th>\n",
       "      <th>ICUSTAY_ID</th>\n",
       "      <th>FIRST_VENT_STARTTIME</th>\n",
       "      <th>TIME_DIFF</th>\n",
       "      <th>TIME_FROM_VENT</th>\n",
       "    </tr>\n",
       "  </thead>\n",
       "  <tbody>\n",
       "    <tr>\n",
       "      <td>0</td>\n",
       "      <td>316480</td>\n",
       "      <td>31916</td>\n",
       "      <td>146431.0</td>\n",
       "      <td>2112-02-23</td>\n",
       "      <td>2112-02-23 03:51:00</td>\n",
       "      <td>2112-02-23 04:03:01</td>\n",
       "      <td>Nursing</td>\n",
       "      <td>Nursing Progress Note</td>\n",
       "      <td>14419.0</td>\n",
       "      <td>NaN</td>\n",
       "      <td>Respiratory failure, acute (not ARDS/[**Doctor...</td>\n",
       "      <td>255563.0</td>\n",
       "      <td>2112-02-22 04:05:00</td>\n",
       "      <td>23.0</td>\n",
       "      <td>23.766667</td>\n",
       "    </tr>\n",
       "    <tr>\n",
       "      <td>1</td>\n",
       "      <td>317750</td>\n",
       "      <td>27866</td>\n",
       "      <td>109679.0</td>\n",
       "      <td>2143-04-09</td>\n",
       "      <td>2143-04-09 03:22:00</td>\n",
       "      <td>2143-04-09 03:22:26</td>\n",
       "      <td>Nursing</td>\n",
       "      <td>Nursing Progress Note</td>\n",
       "      <td>21297.0</td>\n",
       "      <td>NaN</td>\n",
       "      <td>Ms. [**Known lastname 1170**] is an 83 yo F w/...</td>\n",
       "      <td>272695.0</td>\n",
       "      <td>2143-04-09 00:00:00</td>\n",
       "      <td>3.0</td>\n",
       "      <td>3.366667</td>\n",
       "    </tr>\n",
       "    <tr>\n",
       "      <td>2</td>\n",
       "      <td>317751</td>\n",
       "      <td>27866</td>\n",
       "      <td>109679.0</td>\n",
       "      <td>2143-04-09</td>\n",
       "      <td>2143-04-09 03:22:00</td>\n",
       "      <td>2143-04-09 03:27:59</td>\n",
       "      <td>Nursing</td>\n",
       "      <td>Nursing Progress Note</td>\n",
       "      <td>21297.0</td>\n",
       "      <td>NaN</td>\n",
       "      <td>Ms. [**Known lastname 1170**] is an 83 yo F w/...</td>\n",
       "      <td>272695.0</td>\n",
       "      <td>2143-04-09 00:00:00</td>\n",
       "      <td>3.0</td>\n",
       "      <td>3.366667</td>\n",
       "    </tr>\n",
       "    <tr>\n",
       "      <td>3</td>\n",
       "      <td>318002</td>\n",
       "      <td>29487</td>\n",
       "      <td>116532.0</td>\n",
       "      <td>2163-01-20</td>\n",
       "      <td>2163-01-20 05:12:00</td>\n",
       "      <td>2163-01-20 05:12:30</td>\n",
       "      <td>Nursing</td>\n",
       "      <td>Nursing Progress Note</td>\n",
       "      <td>21336.0</td>\n",
       "      <td>NaN</td>\n",
       "      <td>No significant events overnight\\n   Renal fail...</td>\n",
       "      <td>245788.0</td>\n",
       "      <td>2163-01-18 15:00:00</td>\n",
       "      <td>38.0</td>\n",
       "      <td>38.200000</td>\n",
       "    </tr>\n",
       "    <tr>\n",
       "      <td>4</td>\n",
       "      <td>318003</td>\n",
       "      <td>29487</td>\n",
       "      <td>116532.0</td>\n",
       "      <td>2163-01-20</td>\n",
       "      <td>2163-01-20 05:12:00</td>\n",
       "      <td>2163-01-20 05:12:52</td>\n",
       "      <td>Nursing</td>\n",
       "      <td>Nursing Progress Note</td>\n",
       "      <td>21336.0</td>\n",
       "      <td>NaN</td>\n",
       "      <td>No significant events overnight\\n   Renal fail...</td>\n",
       "      <td>245788.0</td>\n",
       "      <td>2163-01-18 15:00:00</td>\n",
       "      <td>38.0</td>\n",
       "      <td>38.200000</td>\n",
       "    </tr>\n",
       "  </tbody>\n",
       "</table>\n",
       "</div>"
      ],
      "text/plain": [
       "   ROW_ID  SUBJECT_ID   HADM_ID   CHARTDATE            CHARTTIME  \\\n",
       "0  316480       31916  146431.0  2112-02-23  2112-02-23 03:51:00   \n",
       "1  317750       27866  109679.0  2143-04-09  2143-04-09 03:22:00   \n",
       "2  317751       27866  109679.0  2143-04-09  2143-04-09 03:22:00   \n",
       "3  318002       29487  116532.0  2163-01-20  2163-01-20 05:12:00   \n",
       "4  318003       29487  116532.0  2163-01-20  2163-01-20 05:12:00   \n",
       "\n",
       "             STORETIME CATEGORY            DESCRIPTION     CGID  ISERROR  \\\n",
       "0  2112-02-23 04:03:01  Nursing  Nursing Progress Note  14419.0      NaN   \n",
       "1  2143-04-09 03:22:26  Nursing  Nursing Progress Note  21297.0      NaN   \n",
       "2  2143-04-09 03:27:59  Nursing  Nursing Progress Note  21297.0      NaN   \n",
       "3  2163-01-20 05:12:30  Nursing  Nursing Progress Note  21336.0      NaN   \n",
       "4  2163-01-20 05:12:52  Nursing  Nursing Progress Note  21336.0      NaN   \n",
       "\n",
       "                                                TEXT  ICUSTAY_ID  \\\n",
       "0  Respiratory failure, acute (not ARDS/[**Doctor...    255563.0   \n",
       "1  Ms. [**Known lastname 1170**] is an 83 yo F w/...    272695.0   \n",
       "2  Ms. [**Known lastname 1170**] is an 83 yo F w/...    272695.0   \n",
       "3  No significant events overnight\\n   Renal fail...    245788.0   \n",
       "4  No significant events overnight\\n   Renal fail...    245788.0   \n",
       "\n",
       "  FIRST_VENT_STARTTIME  TIME_DIFF  TIME_FROM_VENT  \n",
       "0  2112-02-22 04:05:00       23.0       23.766667  \n",
       "1  2143-04-09 00:00:00        3.0        3.366667  \n",
       "2  2143-04-09 00:00:00        3.0        3.366667  \n",
       "3  2163-01-18 15:00:00       38.0       38.200000  \n",
       "4  2163-01-18 15:00:00       38.0       38.200000  "
      ]
     },
     "execution_count": 3,
     "metadata": {},
     "output_type": "execute_result"
    }
   ],
   "source": [
    "data = pd.read_csv(\"../data/all_cohort_notes_Oct17.csv\")\n",
    "print(data.shape)\n",
    "#data.head()"
   ]
  },
  {
   "cell_type": "code",
   "execution_count": 4,
   "metadata": {},
   "outputs": [],
   "source": [
    "#merge notes of same HADM_ID\n",
    "#merged_data = data.dropna()[['SUBJECT_ID', \"HADM_ID\"]].drop_duplicates()\n",
    "#merged_data[\"ALLTEXT\"] = merged_data.HADM_ID.apply(lambda hadm_id: \"\\n\".join(data[data.HADM_ID == hadm_id].TEXT))"
   ]
  },
  {
   "cell_type": "code",
   "execution_count": 275,
   "metadata": {},
   "outputs": [],
   "source": [
    "#merged_data.head()"
   ]
  },
  {
   "cell_type": "code",
   "execution_count": 276,
   "metadata": {},
   "outputs": [],
   "source": [
    "#merged_data.shape"
   ]
  },
  {
   "cell_type": "code",
   "execution_count": 13,
   "metadata": {},
   "outputs": [
    {
     "data": {
      "text/plain": [
       "33054"
      ]
     },
     "execution_count": 13,
     "metadata": {},
     "output_type": "execute_result"
    }
   ],
   "source": [
    "len(np.unique(data[['SUBJECT_ID','HADM_ID']].values))"
   ]
  },
  {
   "cell_type": "code",
   "execution_count": 24,
   "metadata": {},
   "outputs": [
    {
     "name": "stderr",
     "output_type": "stream",
     "text": [
      "/home/mcb/li_lab/pnair6/venv/mcb36/lib/python3.6/site-packages/ipykernel_launcher.py:2: SettingWithCopyWarning: \n",
      "A value is trying to be set on a copy of a slice from a DataFrame.\n",
      "Try using .loc[row_indexer,col_indexer] = value instead\n",
      "\n",
      "See the caveats in the documentation: http://pandas.pydata.org/pandas-docs/stable/user_guide/indexing.html#returning-a-view-versus-a-copy\n",
      "  \n"
     ]
    }
   ],
   "source": [
    "data_new = data.drop_duplicates(subset=['HADM_ID','SUBJECT_ID'])\n",
    "data_new[\"ALLTEXT\"] = data_new.HADM_ID.apply(lambda hadm_id: \"\\n\".join(data[data.HADM_ID == hadm_id].TEXT))"
   ]
  },
  {
   "cell_type": "code",
   "execution_count": 25,
   "metadata": {},
   "outputs": [
    {
     "data": {
      "text/plain": [
       "(17400, 16)"
      ]
     },
     "execution_count": 25,
     "metadata": {},
     "output_type": "execute_result"
    }
   ],
   "source": [
    "data_new.shape"
   ]
  },
  {
   "cell_type": "code",
   "execution_count": 277,
   "metadata": {},
   "outputs": [],
   "source": [
    "#data_new.head()"
   ]
  },
  {
   "cell_type": "code",
   "execution_count": 27,
   "metadata": {},
   "outputs": [],
   "source": [
    "data_new = data_new[['SUBJECT_ID','HADM_ID','ALLTEXT']]"
   ]
  },
  {
   "cell_type": "code",
   "execution_count": 31,
   "metadata": {},
   "outputs": [],
   "source": [
    "def process(text):\n",
    "    # convert to lower case\n",
    "    lower = text.lower()\n",
    "    # remove punc\n",
    "    no_punc = lower.translate(str.maketrans(\"\", \"\", string.punctuation))\n",
    "    # remove white space\n",
    "    no_white = \" \".join(no_punc.split())\n",
    "    # remove numbers\n",
    "    no_num = no_white.translate(str.maketrans(\"\", \"\", string.digits))\n",
    "    # remove stopwords\n",
    "    sw = set(stopwords.words('english'))\n",
    "    no_sw = \" \".join([word for word in no_num.split() if word not in sw])\n",
    "    return no_sw"
   ]
  },
  {
   "cell_type": "code",
   "execution_count": 32,
   "metadata": {},
   "outputs": [],
   "source": [
    "# preprocess notes\n",
    "data_new[\"PRO_TEXT\"] = data_new.ALLTEXT.apply(lambda text: process(text))"
   ]
  },
  {
   "cell_type": "code",
   "execution_count": 278,
   "metadata": {},
   "outputs": [],
   "source": [
    "#data_new.head()"
   ]
  },
  {
   "cell_type": "code",
   "execution_count": 42,
   "metadata": {},
   "outputs": [
    {
     "data": {
      "text/plain": [
       "17400"
      ]
     },
     "execution_count": 42,
     "metadata": {},
     "output_type": "execute_result"
    }
   ],
   "source": [
    "len(data_new.HADM_ID.unique())"
   ]
  },
  {
   "cell_type": "code",
   "execution_count": 43,
   "metadata": {},
   "outputs": [],
   "source": [
    "data_small = data_new[[\"HADM_ID\",\"PRO_TEXT\"]]"
   ]
  },
  {
   "cell_type": "code",
   "execution_count": 47,
   "metadata": {},
   "outputs": [],
   "source": [
    "vectorizer = CountVectorizer(min_df=5)\n",
    "_ = vectorizer.fit_transform(data_small['PRO_TEXT'])\n",
    "word_index = {word: idx for idx, word in enumerate(vectorizer.get_feature_names())}"
   ]
  },
  {
   "cell_type": "code",
   "execution_count": 225,
   "metadata": {},
   "outputs": [],
   "source": [
    "word_counts = np.zeros(len(word_index),dtype=int)"
   ]
  },
  {
   "cell_type": "code",
   "execution_count": 279,
   "metadata": {},
   "outputs": [
    {
     "data": {
      "text/plain": [
       "30763"
      ]
     },
     "execution_count": 279,
     "metadata": {},
     "output_type": "execute_result"
    }
   ],
   "source": [
    "# Number of words in the corpus\n",
    "len(word_index)"
   ]
  },
  {
   "cell_type": "code",
   "execution_count": 85,
   "metadata": {},
   "outputs": [],
   "source": [
    "bagsofwords = [collections.Counter(re.findall(r'\\w+', txt))\n",
    "            for txt in data_small.PRO_TEXT]"
   ]
  },
  {
   "cell_type": "code",
   "execution_count": 229,
   "metadata": {},
   "outputs": [],
   "source": [
    "ind = 0\n",
    "for counter in bagsofwords:\n",
    "    words = counter.keys()\n",
    "    for w in words:\n",
    "        if w in word_index:\n",
    "            word_counts[word_index[w]] += 1"
   ]
  },
  {
   "cell_type": "code",
   "execution_count": 208,
   "metadata": {},
   "outputs": [],
   "source": [
    "word_ids = word_index.values()"
   ]
  },
  {
   "cell_type": "code",
   "execution_count": 231,
   "metadata": {},
   "outputs": [],
   "source": [
    "patient_fractions = [i/17400 for i in word_counts]"
   ]
  },
  {
   "cell_type": "code",
   "execution_count": 232,
   "metadata": {},
   "outputs": [],
   "source": [
    "pat_fr = sorted(patient_fractions)"
   ]
  },
  {
   "cell_type": "code",
   "execution_count": 213,
   "metadata": {},
   "outputs": [],
   "source": [
    "def get_index(ind):\n",
    "    return patient_fractions[ind]"
   ]
  },
  {
   "cell_type": "code",
   "execution_count": 235,
   "metadata": {},
   "outputs": [],
   "source": [
    "sorted_word_ids = sorted(word_ids,key= get_index)"
   ]
  },
  {
   "cell_type": "code",
   "execution_count": 237,
   "metadata": {},
   "outputs": [],
   "source": [
    "new_axis = [x for _,x in sorted(zip(pat_fr,word_ids))]"
   ]
  },
  {
   "cell_type": "code",
   "execution_count": 240,
   "metadata": {},
   "outputs": [],
   "source": [
    "m = np.diff(pat_fr)/np.diff(new_axis)"
   ]
  },
  {
   "cell_type": "code",
   "execution_count": 242,
   "metadata": {},
   "outputs": [],
   "source": [
    "idx = np.nonzero(np.diff(m))[0]"
   ]
  },
  {
   "cell_type": "code",
   "execution_count": 281,
   "metadata": {},
   "outputs": [
    {
     "data": {
      "text/plain": [
       "0.10551724137931034"
      ]
     },
     "execution_count": 281,
     "metadata": {},
     "output_type": "execute_result"
    }
   ],
   "source": [
    "# arbitrarily chosen to exclude words occuring in more than 10% of the documents\n",
    "limit = idx[2100]\n",
    "pat_fr[limit]"
   ]
  },
  {
   "cell_type": "code",
   "execution_count": 285,
   "metadata": {},
   "outputs": [
    {
     "data": {
      "text/plain": [
       "Text(0.5, 0, 'Word ID')"
      ]
     },
     "execution_count": 285,
     "metadata": {},
     "output_type": "execute_result"
    },
    {
     "data": {
      "image/png": "[encoded data removed]",
      "text/plain": [
       "<Figure size 432x288 with 1 Axes>"
      ]
     },
     "metadata": {
      "needs_background": "light"
     },
     "output_type": "display_data"
    }
   ],
   "source": [
    "plt.plot(new_axis, pat_fr,[pat_fr[limit]]*len(new_axis))\n",
    "plt.ylabel(\"Patient fractions\")\n",
    "plt.xlabel(\"Word ID\")"
   ]
  },
  {
   "cell_type": "code",
   "execution_count": 266,
   "metadata": {},
   "outputs": [],
   "source": [
    "sw_new = sorted_word_ids[limit:]"
   ]
  },
  {
   "cell_type": "code",
   "execution_count": 183,
   "metadata": {},
   "outputs": [],
   "source": [
    "# inverting the word:id dictionary\n",
    "inv_word_ind = {v: k for k, v in word_index.items()}"
   ]
  },
  {
   "cell_type": "code",
   "execution_count": 268,
   "metadata": {},
   "outputs": [],
   "source": [
    "modified_sw = []\n",
    "for sw_ind in sw_new:\n",
    "    modified_sw.append(inv_word_ind[sw_ind])"
   ]
  },
  {
   "cell_type": "code",
   "execution_count": 269,
   "metadata": {},
   "outputs": [
    {
     "data": {
      "text/plain": [
       "1074"
      ]
     },
     "execution_count": 269,
     "metadata": {},
     "output_type": "execute_result"
    }
   ],
   "source": [
    "# number of new stopwords added\n",
    "len(modified_sw)"
   ]
  },
  {
   "cell_type": "code",
   "execution_count": 274,
   "metadata": {},
   "outputs": [],
   "source": [
    "# saving the new stopwords as a pickle file\n",
    "#with open('more_stopwords.pickle', 'wb') as handle:\n",
    "#    pkl.dump(modified_sw, handle, protocol=pkl.HIGHEST_PROTOCOL)"
   ]
  },
  {
   "cell_type": "code",
   "execution_count": null,
   "metadata": {},
   "outputs": [],
   "source": []
  }
 ],
 "metadata": {
  "kernelspec": {
   "display_name": "Python 3",
   "language": "python",
   "name": "python3"
  },
  "language_info": {
   "codemirror_mode": {
    "name": "ipython",
    "version": 3
   },
   "file_extension": ".py",
   "mimetype": "text/x-python",
   "name": "python",
   "nbconvert_exporter": "python",
   "pygments_lexer": "ipython3",
   "version": "3.6.8"
  }
 },
 "nbformat": 4,
 "nbformat_minor": 2
}
